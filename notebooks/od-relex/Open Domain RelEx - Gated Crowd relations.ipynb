{
 "cells": [
  {
   "cell_type": "code",
   "execution_count": 3,
   "metadata": {
    "collapsed": false
   },
   "outputs": [],
   "source": [
    "import pandas as pd\n",
    "import pdb\n",
    "\n",
    "import sys\n",
    "stdout = sys.stdout\n",
    "sys.path.append('../../')\n",
    "\n",
    "from defaultconfig import Configuration\n",
    "\n",
    "def pre_process_od(od_foldername, config):\n",
    "    from controllers.inputController import processFile\n",
    "    pre_processed_results = processFile(\n",
    "        root=\".\", directory=od_foldername, filename=\"\",\n",
    "        config=config\n",
    "    )\n",
    "    return pre_processed_results\n",
    "\n",
    "print \"PROCESSING AMT\"\n",
    "\n",
    "class ODRelExAMT(Configuration):\n",
    "    inputColumns = [\"Input.sent_id\", \"Input.relation\", \"Input.term1\", \"Input.b1\", \"Input.e1\",\n",
    "                    \"Input.term2\", \"Input.b2\", \"Input.e2\", \"Input.sentence\"]\n",
    "    outputColumns = [\"Answer.Q1\"]\n",
    "    \n",
    "    open_ended_task = False\n",
    "    annotation_vector = [\"per:place_of_birth\", \"per:place_of_death\", \"per:places_of_residence\", \"none\"]\n",
    "    other_rels = [\"per:title\", \"per:founded_org\", \"per:children\", \"per:cause_of_death\",\n",
    "                  \"per:top_member_employee_of_org\", \"per:employee_or_member_of\", \"per:spouse\",\n",
    "                  \"org:alternate_names\", \"org:subsidiaries\", \"per:schools_attended\",\n",
    "                  \"org:place_of_headquarters\", \"per:charges\", \"per:origin\", \"per:age\", \"per:alternate_names\"]\n",
    "    \n",
    "    def processJudgments(self, judgments):\n",
    "        for col in self.outputColumns:\n",
    "            judgments[col] = judgments[col].apply(lambda x: str(x).replace('|',','))\n",
    "            judgments[col] = judgments[col].apply(lambda x: str(x).lower())\n",
    "            judgments[col] = judgments[col].apply(lambda x: \",\".join(list(set(x.split(\",\")) - set(self.other_rels))))\n",
    "            judgments[col] = judgments[col].apply(lambda x: str(x) or \"none\")\n",
    "        return judgments\n",
    "\n",
    "configAMT = ODRelExAMT()\n",
    "pre_processed_results_amt = pre_process_od(\n",
    "    od_foldername=\"/home/anca/Documents/Open-Domain-Relation-Extraction/data/crowdsourcing/stanford_crowdsourcing/input/\",\n",
    "    config=configAMT\n",
    ")\n",
    "\n",
    "class ODRelExCF(Configuration):\n",
    "    inputColumns = [\"sent_id\", \"relation\", \"term1\", \"b1\", \"e1\", \"term2\", \"b2\", \"e2\", \"sentence\"]\n",
    "    outputColumns = [\"rellist\"]\n",
    "    \n",
    "    open_ended_task = False\n",
    "    annotation_vector = [\"per:place_of_birth\", \"per:place_of_death\", \"per:places_of_residence\", \"none\"]\n",
    "    other_rels = [\"per:title\", \"per:founded_org\", \"per:children\", \"per:cause_of_death\",\n",
    "                  \"per:top_member_employee_of_org\", \"per:employee_or_member_of\", \"per:spouse\",\n",
    "                  \"org:alternate_names\", \"org:subsidiaries\", \"per:schools_attended\",\n",
    "                  \"org:place_of_headquarters\", \"per:charges\", \"per:origin\", \"per:age\", \"per:alternate_names\"]\n",
    "    \n",
    "    def processJudgments(self, judgments):\n",
    "        for col in self.outputColumns:\n",
    "            judgments[col] = judgments[col].apply(lambda x: str(x).replace('\\n',','))\n",
    "            judgments[col] = judgments[col].apply(lambda x: str(x).lower())\n",
    "            judgments[col] = judgments[col].apply(lambda x: \",\".join(list(set(x.split(\",\")) - set(self.other_rels))))\n",
    "            judgments[col] = judgments[col].apply(lambda x: str(x) or \"none\")\n",
    "        return judgments\n",
    "        return judgments\n",
    "\n",
    "print \"PROCESSING CF\"\n",
    "\n",
    "configCF=ODRelExCF()\n",
    "pre_processed_results_cf = pre_process_od(\n",
    "    od_foldername=\"/home/anca/Documents/Open-Domain-Relation-Extraction/data/crowdsourcing/input/\",\n",
    "    config=configCF\n",
    ")\n"
   ]
  },
  {
   "cell_type": "code",
   "execution_count": 4,
   "metadata": {
    "collapsed": false
   },
   "outputs": [
    {
     "data": {
      "text/html": [
       "<div>\n",
       "<table border=\"1\" class=\"dataframe\">\n",
       "  <thead>\n",
       "    <tr style=\"text-align: right;\">\n",
       "      <th></th>\n",
       "      <th>output.rellist</th>\n",
       "    </tr>\n",
       "  </thead>\n",
       "  <tbody>\n",
       "    <tr>\n",
       "      <th>none</th>\n",
       "      <td>61532</td>\n",
       "    </tr>\n",
       "    <tr>\n",
       "      <th>per:place_of_birth</th>\n",
       "      <td>61532</td>\n",
       "    </tr>\n",
       "    <tr>\n",
       "      <th>per:place_of_death</th>\n",
       "      <td>61532</td>\n",
       "    </tr>\n",
       "    <tr>\n",
       "      <th>per:places_of_residence</th>\n",
       "      <td>61532</td>\n",
       "    </tr>\n",
       "  </tbody>\n",
       "</table>\n",
       "</div>"
      ],
      "text/plain": [
       "                         output.rellist\n",
       "none                              61532\n",
       "per:place_of_birth                61532\n",
       "per:place_of_death                61532\n",
       "per:places_of_residence           61532"
      ]
     },
     "execution_count": 4,
     "metadata": {},
     "output_type": "execute_result"
    }
   ],
   "source": [
    "pre_processed_results_amt[\"units\"] = pre_processed_results_amt[\"units\"].rename(index=str, columns={\n",
    "    \"output.Q1\": \"output.rellist\",\n",
    "    \"output.Q1.annotations\": \"output.rellist.annotations\",\n",
    "    \"output.Q1.unique_annotations\": \"output.rellist.unique_annotations\",\n",
    "    \"output.Q1.cos_clarity\" : \"output.rellist.cos_clarity\"\n",
    "})\n",
    "\n",
    "pre_processed_results_amt[\"judgments\"] = pre_processed_results_amt[\"judgments\"].rename(index=str, columns={\n",
    "    \"output.Q1\": \"output.rellist\",\n",
    "    \"output.Q1.agreement\": \"output.rellist.agreement\",\n",
    "    \"output.Q1.count\": \"output.rellist.count\"\n",
    "})\n",
    "\n",
    "pre_processed_results_amt[\"annotations\"] = pre_processed_results_amt[\"annotations\"].rename(index=str, columns={\n",
    "    \"output.Q1\": \"output.rellist\"\n",
    "})\n",
    "\n",
    "pre_processed_results_amt[\"workers\"] = pre_processed_results_amt[\"workers\"].rename(index=str, columns={\n",
    "    \"output.Q1.count\": \"output.rellist.count\"\n",
    "})\n",
    "\n",
    "pre_processed_results_cf[\"units\"].index = pre_processed_results_cf[\"units\"].index.map(str)\n",
    "pre_processed_results_cf[\"judgments\"].index = pre_processed_results_cf[\"judgments\"].index.map(str)\n",
    "pre_processed_results_cf[\"workers\"].index = pre_processed_results_cf[\"workers\"].index.map(str)\n",
    "pre_processed_results_cf[\"judgments\"][\"worker\"] = pre_processed_results_cf[\"judgments\"][\"worker\"].astype(str)\n",
    "pre_processed_results_cf[\"judgments\"][\"unit\"] = pre_processed_results_cf[\"judgments\"][\"unit\"].astype(str)\n",
    "\n",
    "units = pd.concat([pre_processed_results_amt[\"units\"], pre_processed_results_cf[\"units\"]])\n",
    "workers = pd.concat([pre_processed_results_amt[\"workers\"], pre_processed_results_cf[\"workers\"]])\n",
    "annotations = pre_processed_results_amt[\"annotations\"] + pre_processed_results_cf[\"annotations\"]\n",
    "jobs = pd.concat([pre_processed_results_amt[\"jobs\"], pre_processed_results_cf[\"jobs\"]])\n",
    "judgments = pd.concat([pre_processed_results_amt[\"judgments\"], pre_processed_results_cf[\"judgments\"]])\n",
    "\n",
    "pre_processed_results = dict({\n",
    "    \"units\": units,\n",
    "    \"workers\": workers,\n",
    "    \"annotations\": annotations,\n",
    "    \"jobs\": jobs,\n",
    "    \"judgments\": judgments\n",
    "})\n",
    "\n",
    "pre_processed_results[\"annotations\"]"
   ]
  },
  {
   "cell_type": "code",
   "execution_count": 6,
   "metadata": {
    "collapsed": false
   },
   "outputs": [],
   "source": [
    "sys.stdout = stdout\n",
    "\n",
    "# run the metrics\n",
    "from models import Metrics\n",
    "processed_results = Metrics.run(pre_processed_results, configCF)"
   ]
  },
  {
   "cell_type": "code",
   "execution_count": 7,
   "metadata": {
    "collapsed": false
   },
   "outputs": [
    {
     "data": {
      "text/plain": [
       "<matplotlib.text.Text at 0x7f408aa88490>"
      ]
     },
     "execution_count": 7,
     "metadata": {},
     "output_type": "execute_result"
    },
    {
     "data": {
      "image/png": "[encoded data removed]",
      "text/plain": [
       "<matplotlib.figure.Figure at 0x7f408aa64c90>"
      ]
     },
     "metadata": {},
     "output_type": "display_data"
    }
   ],
   "source": [
    "import matplotlib.pyplot as plt\n",
    "%matplotlib inline\n",
    "\n",
    "plt.hist(processed_results[\"units\"][\"uqs\"])\n",
    "plt.xlabel(\"SQS\")\n",
    "plt.ylabel(\"Sentences\")"
   ]
  },
  {
   "cell_type": "code",
   "execution_count": 8,
   "metadata": {
    "collapsed": false
   },
   "outputs": [
    {
     "data": {
      "text/plain": [
       "<matplotlib.text.Text at 0x7f4085f2d7d0>"
      ]
     },
     "execution_count": 8,
     "metadata": {},
     "output_type": "execute_result"
    },
    {
     "data": {
      "image/png": "[encoded data removed]",
      "text/plain": [
       "<matplotlib.figure.Figure at 0x7f408adc6d90>"
      ]
     },
     "metadata": {},
     "output_type": "display_data"
    }
   ],
   "source": [
    "plt.hist(processed_results[\"workers\"][\"wqs\"])\n",
    "plt.xlabel(\"WQS\")\n",
    "plt.ylabel(\"Workers\")"
   ]
  },
  {
   "cell_type": "code",
   "execution_count": 9,
   "metadata": {
    "collapsed": false
   },
   "outputs": [
    {
     "data": {
      "text/plain": [
       "<matplotlib.text.Text at 0x7f4088e38bd0>"
      ]
     },
     "execution_count": 9,
     "metadata": {},
     "output_type": "execute_result"
    },
    {
     "data": {
      "image/png": "[encoded data removed]",
      "text/plain": [
       "<matplotlib.figure.Figure at 0x7f408f475050>"
      ]
     },
     "metadata": {},
     "output_type": "display_data"
    }
   ],
   "source": [
    "plt.hist(processed_results[\"annotations\"][\"aqs\"])\n",
    "plt.xlabel(\"RQS\")\n",
    "plt.ylabel(\"Relations\")"
   ]
  },
  {
   "cell_type": "code",
   "execution_count": 10,
   "metadata": {
    "collapsed": false
   },
   "outputs": [
    {
     "data": {
      "text/plain": [
       "none                       0.916784\n",
       "per:place_of_birth         0.703495\n",
       "per:place_of_death         0.594965\n",
       "per:places_of_residence    0.403487\n",
       "Name: aqs, dtype: float64"
      ]
     },
     "execution_count": 10,
     "metadata": {},
     "output_type": "execute_result"
    }
   ],
   "source": [
    "processed_results[\"annotations\"][\"aqs\"]"
   ]
  },
  {
   "cell_type": "code",
   "execution_count": 11,
   "metadata": {
    "collapsed": false
   },
   "outputs": [],
   "source": [
    "import operator\n",
    "\n",
    "dlist = []\n",
    "max_frame = []\n",
    "max_fss = []\n",
    "for idx in processed_results[\"units\"].index:\n",
    "    if idx != \"unit_annotation_score\":\n",
    "        aux_dict = { k:v for k, v in processed_results[\"units\"][\"unit_annotation_score\"][idx].iteritems() if v }\n",
    "        dlist.append(aux_dict)\n",
    "        max_frame.append(max(aux_dict.iteritems(), key=operator.itemgetter(1))[0])\n",
    "        max_fss.append(max(aux_dict.values()))\n",
    "\n",
    "processed_results[\"units\"][\"SRS\"] = pd.Series(dlist, index=processed_results[\"units\"].index)\n",
    "processed_results[\"units\"][\"max_rel\"] = pd.Series(max_frame, index=processed_results[\"units\"].index)\n",
    "processed_results[\"units\"][\"max_srs\"] = pd.Series(max_fss, index=processed_results[\"units\"].index)\n",
    "\n",
    "processed_results[\"units\"].to_csv(\"od_relex_sentences_gc.csv\")\n",
    "processed_results[\"workers\"].to_csv(\"od_relex_workers_gc.csv\")"
   ]
  },
  {
   "cell_type": "code",
   "execution_count": 12,
   "metadata": {
    "collapsed": false
   },
   "outputs": [],
   "source": [
    "relations = list(processed_results[\"annotations\"].index)\n",
    "for rel in relations:\n",
    "    processed_results[\"units\"][rel] = 0.0\n",
    "\n",
    "#processed_results[\"units\"][\"SRS\"][\"301KG0KX9CXSYWVXYIGKVMSJFHVH2F\"][\"none\"]\n",
    "\n",
    "for idx in processed_results[\"units\"].index:\n",
    "    for rel in relations:\n",
    "        if rel in processed_results[\"units\"][\"SRS\"][idx].keys():\n",
    "            processed_results[\"units\"].at[idx, rel] = max(0.0, processed_results[\"units\"][\"SRS\"][idx][rel])"
   ]
  },
  {
   "cell_type": "code",
   "execution_count": 13,
   "metadata": {
    "collapsed": false
   },
   "outputs": [],
   "source": [
    "processed_results[\"units\"].to_csv(\"od_relex_sentences_gc.csv\")\n",
    "processed_results[\"workers\"].to_csv(\"od_relex_workers_gc.csv\")"
   ]
  },
  {
   "cell_type": "code",
   "execution_count": 14,
   "metadata": {
    "collapsed": false
   },
   "outputs": [],
   "source": [
    "relations = list(pre_processed_results[\"annotations\"].index)\n",
    "for rel in relations:\n",
    "    pre_processed_results[\"judgments\"][rel] = 0.0\n",
    "for idx in pre_processed_results[\"judgments\"].index:\n",
    "    for rel in relations:\n",
    "        if rel in pre_processed_results[\"judgments\"][\"output.rellist\"][idx].keys():\n",
    "            pre_processed_results[\"judgments\"].at[idx, rel] = max(\n",
    "                0.0, pre_processed_results[\"judgments\"][\"output.rellist\"][idx][rel])"
   ]
  },
  {
   "cell_type": "code",
   "execution_count": 15,
   "metadata": {
    "collapsed": false
   },
   "outputs": [],
   "source": [
    "pre_processed_results[\"judgments\"].to_csv(\"worker_judgments_gc.csv\")"
   ]
  },
  {
   "cell_type": "code",
   "execution_count": null,
   "metadata": {
    "collapsed": true
   },
   "outputs": [],
   "source": []
  }
 ],
 "metadata": {
  "anaconda-cloud": {},
  "kernelspec": {
   "display_name": "Python [default]",
   "language": "python",
   "name": "python2"
  },
  "language_info": {
   "codemirror_mode": {
    "name": "ipython",
    "version": 2
   },
   "file_extension": ".py",
   "mimetype": "text/x-python",
   "name": "python",
   "nbconvert_exporter": "python",
   "pygments_lexer": "ipython2",
   "version": "2.7.13"
  }
 },
 "nbformat": 4,
 "nbformat_minor": 2
}
