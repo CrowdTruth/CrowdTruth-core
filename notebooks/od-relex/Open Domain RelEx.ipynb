{
 "cells": [
  {
   "cell_type": "code",
   "execution_count": 1,
   "metadata": {
    "collapsed": false
   },
   "outputs": [
    {
     "name": "stdout",
     "output_type": "stream",
     "text": [
      "PROCESSING AMT\n"
     ]
    }
   ],
   "source": [
    "import pandas as pd\n",
    "\n",
    "import sys\n",
    "stdout = sys.stdout\n",
    "sys.path.append('../../')\n",
    "\n",
    "from defaultconfig import Configuration\n",
    "\n",
    "def pre_process_od(od_foldername, config):\n",
    "    from controllers.inputController import processFile\n",
    "    pre_processed_results = processFile(\n",
    "        root=\".\", directory=od_foldername, filename=\"\",\n",
    "        config=config\n",
    "    )\n",
    "    return pre_processed_results\n",
    "\n",
    "print \"PROCESSING AMT\"\n",
    "\n",
    "class ODRelExAMT(Configuration):\n",
    "    inputColumns = [\"Input.sent_id\", \"Input.relation\", \"Input.term1\", \"Input.b1\", \"Input.e1\",\n",
    "                    \"Input.term2\", \"Input.b2\", \"Input.e2\", \"Input.sentence\"]\n",
    "    outputColumns = [\"Answer.Q1\"]\n",
    "    \n",
    "    open_ended_task = False\n",
    "    annotation_vector = [\"per:title\", \"per:founded_org\", \"per:place_of_birth\", \"per:children\", \"per:cause_of_death\",\n",
    "                         \"per:top_member_employee_of_org\", \"per:employee_or_member_of\", \"per:spouse\",\n",
    "                         \"org:alternate_names\", \"org:subsidiaries\", \"per:place_of_death\", \"per:schools_attended\",\n",
    "                         \"org:place_of_headquarters\", \"per:charges\", \"per:origin\", \"per:places_of_residence\", \"none\"]\n",
    "    \n",
    "    def processJudgments(self, judgments):\n",
    "        for col in self.outputColumns:\n",
    "            judgments[col] = judgments[col].apply(lambda x: str(x).replace('|',','))\n",
    "            \n",
    "            judgments[col] = judgments[col].apply(lambda x: str(x).replace('per:age,',''))\n",
    "            judgments[col] = judgments[col].apply(lambda x: str(x).replace(',per:age',''))\n",
    "            judgments[col] = judgments[col].apply(lambda x: str(x).replace('per:age','none'))\n",
    "            \n",
    "            judgments[col] = judgments[col].apply(lambda x: str(x).replace('per:alternate_names','org:alternate_names'))\n",
    "            judgments[col] = judgments[col].apply(lambda x: ','.join(sorted(str(x).split(','))))\n",
    "            judgments[col] = judgments[col].apply(lambda x: str(x).replace(\n",
    "                'org:alternate_names,org:alternate_names','org:alternate_names'))\n",
    "        return judgments\n",
    "\n",
    "configAMT = ODRelExAMT()\n",
    "pre_processed_results_amt = pre_process_od(\n",
    "    od_foldername=\"/home/anca/Documents/Open-Domain-Relation-Extraction/data/crowdsourcing/stanford_crowdsourcing/input/\",\n",
    "    config=configAMT\n",
    ")\n",
    "\n",
    "class ODRelExCF(Configuration):\n",
    "    inputColumns = [\"sent_id\", \"relation\", \"term1\", \"b1\", \"e1\", \"term2\", \"b2\", \"e2\", \"sentence\"]\n",
    "    outputColumns = [\"rellist\"]\n",
    "    \n",
    "    open_ended_task = False\n",
    "    annotation_vector = [\"per:title\", \"per:founded_org\", \"per:place_of_birth\", \"per:children\", \"per:cause_of_death\",\n",
    "                         \"per:top_member_employee_of_org\", \"per:employee_or_member_of\", \"per:spouse\",\n",
    "                         \"org:alternate_names\", \"org:subsidiaries\", \"per:place_of_death\", \"per:schools_attended\",\n",
    "                         \"org:place_of_headquarters\", \"per:charges\", \"per:origin\", \"per:places_of_residence\", \"none\"]\n",
    "    \n",
    "    def processJudgments(self, judgments):\n",
    "        for col in self.outputColumns:\n",
    "            judgments[col] = judgments[col].apply(lambda x: str(x).replace('\\n',','))\n",
    "            \n",
    "            judgments[col] = judgments[col].apply(lambda x: str(x).lower())\n",
    "            \n",
    "            judgments[col] = judgments[col].apply(lambda x: str(x).replace('per:age,',''))\n",
    "            judgments[col] = judgments[col].apply(lambda x: str(x).replace(',per:age',''))\n",
    "            judgments[col] = judgments[col].apply(lambda x: str(x).replace('per:age','none'))\n",
    "            \n",
    "            judgments[col] = judgments[col].apply(lambda x: str(x).replace('per:alternate_names','org:alternate_names'))\n",
    "            judgments[col] = judgments[col].apply(lambda x: ','.join(sorted(str(x).split(','))))\n",
    "            judgments[col] = judgments[col].apply(lambda x: str(x).replace(\n",
    "                'org:alternate_names,org:alternate_names','org:alternate_names'))\n",
    "        return judgments\n",
    "\n",
    "print \"PROCESSING CF\"\n",
    "\n",
    "configCF=ODRelExCF()\n",
    "pre_processed_results_cf = pre_process_od(\n",
    "    od_foldername=\"/home/anca/Documents/Open-Domain-Relation-Extraction/data/crowdsourcing/input/\",\n",
    "    config=configCF\n",
    ")\n"
   ]
  },
  {
   "cell_type": "code",
   "execution_count": 2,
   "metadata": {
    "collapsed": false
   },
   "outputs": [],
   "source": [
    "pre_processed_results_amt[\"units\"] = pre_processed_results_amt[\"units\"].rename(index=str, columns={\n",
    "    \"output.Q1\": \"output.rellist\",\n",
    "    \"output.Q1.annotations\": \"output.rellist.annotations\",\n",
    "    \"output.Q1.unique_annotations\": \"output.rellist.unique_annotations\",\n",
    "    \"output.Q1.cos_clarity\" : \"output.rellist.cos_clarity\"\n",
    "})\n",
    "\n",
    "pre_processed_results_amt[\"judgments\"] = pre_processed_results_amt[\"judgments\"].rename(index=str, columns={\n",
    "    \"output.Q1\": \"output.rellist\",\n",
    "    \"output.Q1.agreement\": \"output.rellist.agreement\",\n",
    "    \"output.Q1.count\": \"output.rellist.count\"\n",
    "})\n",
    "\n",
    "pre_processed_results_amt[\"annotations\"] = pre_processed_results_amt[\"annotations\"].rename(index=str, columns={\n",
    "    \"output.Q1\": \"output.rellist\"\n",
    "})\n",
    "\n",
    "pre_processed_results_amt[\"workers\"] = pre_processed_results_amt[\"workers\"].rename(index=str, columns={\n",
    "    \"output.Q1.count\": \"output.rellist.count\"\n",
    "})\n",
    "\n",
    "pre_processed_results_cf[\"units\"].index = pre_processed_results_cf[\"units\"].index.map(str)\n",
    "pre_processed_results_cf[\"judgments\"].index = pre_processed_results_cf[\"judgments\"].index.map(str)\n",
    "pre_processed_results_cf[\"workers\"].index = pre_processed_results_cf[\"workers\"].index.map(str)\n",
    "pre_processed_results_cf[\"judgments\"][\"worker\"] = pre_processed_results_cf[\"judgments\"][\"worker\"].astype(str)\n",
    "pre_processed_results_cf[\"judgments\"][\"unit\"] = pre_processed_results_cf[\"judgments\"][\"unit\"].astype(str)\n",
    "\n",
    "units = pd.concat([pre_processed_results_amt[\"units\"], pre_processed_results_cf[\"units\"]])\n",
    "workers = pd.concat([pre_processed_results_amt[\"workers\"], pre_processed_results_cf[\"workers\"]])\n",
    "annotations = pre_processed_results_amt[\"annotations\"] + pre_processed_results_cf[\"annotations\"]\n",
    "jobs = pd.concat([pre_processed_results_amt[\"jobs\"], pre_processed_results_cf[\"jobs\"]])\n",
    "judgments = pd.concat([pre_processed_results_amt[\"judgments\"], pre_processed_results_cf[\"judgments\"]])\n",
    "\n",
    "pre_processed_results = dict({\n",
    "    \"units\": units,\n",
    "    \"workers\": workers,\n",
    "    \"annotations\": annotations,\n",
    "    \"jobs\": jobs,\n",
    "    \"judgments\": judgments\n",
    "})\n"
   ]
  },
  {
   "cell_type": "code",
   "execution_count": 4,
   "metadata": {
    "collapsed": false
   },
   "outputs": [
    {
     "name": "stdout",
     "output_type": "stream",
     "text": [
      "1 iterations; max d= 1.00216416667 ; wqs d= 0.613248716862; sqs d= 0.428699724624; rqs d= 0.454229636105\n",
      "2 iterations; max d= 0.284401429292 ; wqs d= 0.093198454378; sqs d= 0.0450805681496; rqs d= 0.0806154396221\n",
      "3 iterations; max d= 0.0559432273385 ; wqs d= 0.00711373352171; sqs d= 0.0043301591321; rqs d= 0.00590574783251\n",
      "4 iterations; max d= 0.0244957551643 ; wqs d= 0.00210560326463; sqs d= 0.00200857374129; rqs d= 0.00239435117267\n",
      "5 iterations; max d= 0.00764923099911 ; wqs d= 0.000497116072032; sqs d= 0.000237576666572; rqs d= 0.000275916857651\n",
      "6 iterations; max d= 0.00287188534121 ; wqs d= 0.000142349977763; sqs d= 0.000138981866007; rqs d= 0.000166096750383\n",
      "7 iterations; max d= 0.00104435820471 ; wqs d= 4.96274926707e-05; sqs d= 1.7914098048e-05; rqs d= 1.90194381754e-05\n",
      "8 iterations; max d= 0.000392768317559 ; wqs d= 1.37573350277e-05; sqs d= 1.31668371921e-05; rqs d= 1.54616792401e-05\n"
     ]
    }
   ],
   "source": [
    "sys.stdout = stdout\n",
    "\n",
    "# run the metrics\n",
    "from models import Metrics\n",
    "processed_results = Metrics.run(pre_processed_results, configCF)"
   ]
  },
  {
   "cell_type": "code",
   "execution_count": 5,
   "metadata": {
    "collapsed": false
   },
   "outputs": [
    {
     "data": {
      "text/plain": [
       "<matplotlib.text.Text at 0x7f7e618a4610>"
      ]
     },
     "execution_count": 5,
     "metadata": {},
     "output_type": "execute_result"
    },
    {
     "data": {
      "image/png": "[encoded data removed]",
      "text/plain": [
       "<matplotlib.figure.Figure at 0x7f7e618ceed0>"
      ]
     },
     "metadata": {},
     "output_type": "display_data"
    }
   ],
   "source": [
    "import matplotlib.pyplot as plt\n",
    "%matplotlib inline\n",
    "\n",
    "plt.hist(processed_results[\"units\"][\"uqs\"])\n",
    "plt.xlabel(\"SQS\")\n",
    "plt.ylabel(\"Sentences\")"
   ]
  },
  {
   "cell_type": "code",
   "execution_count": 6,
   "metadata": {
    "collapsed": false
   },
   "outputs": [
    {
     "data": {
      "text/plain": [
       "<matplotlib.text.Text at 0x7f7e65f662d0>"
      ]
     },
     "execution_count": 6,
     "metadata": {},
     "output_type": "execute_result"
    },
    {
     "data": {
      "image/png": "[encoded data removed]",
      "text/plain": [
       "<matplotlib.figure.Figure at 0x7f7e618ec690>"
      ]
     },
     "metadata": {},
     "output_type": "display_data"
    }
   ],
   "source": [
    "plt.hist(processed_results[\"workers\"][\"wqs\"])\n",
    "plt.xlabel(\"WQS\")\n",
    "plt.ylabel(\"Workers\")"
   ]
  },
  {
   "cell_type": "code",
   "execution_count": 7,
   "metadata": {
    "collapsed": false
   },
   "outputs": [
    {
     "data": {
      "text/plain": [
       "<matplotlib.text.Text at 0x7f7e617497d0>"
      ]
     },
     "execution_count": 7,
     "metadata": {},
     "output_type": "execute_result"
    },
    {
     "data": {
      "image/png": "[encoded data removed]",
      "text/plain": [
       "<matplotlib.figure.Figure at 0x7f7ea3dcc250>"
      ]
     },
     "metadata": {},
     "output_type": "display_data"
    }
   ],
   "source": [
    "plt.hist(processed_results[\"annotations\"][\"aqs\"])\n",
    "plt.xlabel(\"RQS\")\n",
    "plt.ylabel(\"Relations\")"
   ]
  },
  {
   "cell_type": "code",
   "execution_count": 8,
   "metadata": {
    "collapsed": false
   },
   "outputs": [
    {
     "data": {
      "text/plain": [
       "none                              0.643031\n",
       "org:alternate_names               0.751094\n",
       "org:place_of_headquarters         0.523691\n",
       "org:subsidiaries                  0.563459\n",
       "per:cause_of_death                0.640269\n",
       "per:charges                       0.754365\n",
       "per:children                      0.826457\n",
       "per:employee_or_member_of         0.433373\n",
       "per:founded_org                   0.602700\n",
       "per:origin                        0.320860\n",
       "per:place_of_birth                0.736764\n",
       "per:place_of_death                0.633270\n",
       "per:places_of_residence           0.441318\n",
       "per:schools_attended              0.593955\n",
       "per:spouse                        0.812720\n",
       "per:title                         0.600670\n",
       "per:top_member_employee_of_org    0.716420\n",
       "Name: aqs, dtype: float64"
      ]
     },
     "execution_count": 8,
     "metadata": {},
     "output_type": "execute_result"
    }
   ],
   "source": [
    "processed_results[\"annotations\"][\"aqs\"]"
   ]
  },
  {
   "cell_type": "code",
   "execution_count": 9,
   "metadata": {
    "collapsed": false
   },
   "outputs": [],
   "source": [
    "import operator\n",
    "\n",
    "dlist = []\n",
    "max_frame = []\n",
    "max_fss = []\n",
    "for idx in processed_results[\"units\"].index:\n",
    "    if idx != \"unit_annotation_score\":\n",
    "        aux_dict = { k:v for k, v in processed_results[\"units\"][\"unit_annotation_score\"][idx].iteritems() if v }\n",
    "        dlist.append(aux_dict)\n",
    "        max_frame.append(max(aux_dict.iteritems(), key=operator.itemgetter(1))[0])\n",
    "        max_fss.append(max(aux_dict.values()))\n",
    "\n",
    "processed_results[\"units\"][\"SRS\"] = pd.Series(dlist, index=processed_results[\"units\"].index)\n",
    "processed_results[\"units\"][\"max_rel\"] = pd.Series(max_frame, index=processed_results[\"units\"].index)\n",
    "processed_results[\"units\"][\"max_srs\"] = pd.Series(max_fss, index=processed_results[\"units\"].index)\n",
    "\n",
    "processed_results[\"units\"].to_csv(\"od_relex_sentences.csv\")\n",
    "processed_results[\"workers\"].to_csv(\"od_relex_workers.csv\")"
   ]
  },
  {
   "cell_type": "code",
   "execution_count": 27,
   "metadata": {
    "collapsed": false
   },
   "outputs": [],
   "source": [
    "relations = list(processed_results[\"annotations\"].index)\n",
    "for rel in relations:\n",
    "    processed_results[\"units\"][rel] = 0.0\n",
    "\n",
    "#processed_results[\"units\"][\"SRS\"][\"301KG0KX9CXSYWVXYIGKVMSJFHVH2F\"][\"none\"]\n",
    "\n",
    "for idx in processed_results[\"units\"].index:\n",
    "    for rel in relations:\n",
    "        if rel in processed_results[\"units\"][\"SRS\"][idx].keys():\n",
    "            processed_results[\"units\"].at[idx, rel] = max(0.0, processed_results[\"units\"][\"SRS\"][idx][rel])"
   ]
  },
  {
   "cell_type": "code",
   "execution_count": 28,
   "metadata": {
    "collapsed": false
   },
   "outputs": [],
   "source": [
    "processed_results[\"units\"].to_csv(\"od_relex_sentences.csv\")\n",
    "processed_results[\"workers\"].to_csv(\"od_relex_workers.csv\")"
   ]
  },
  {
   "cell_type": "code",
   "execution_count": 10,
   "metadata": {
    "collapsed": false
   },
   "outputs": [],
   "source": [
    "relations = list(pre_processed_results[\"annotations\"].index)\n",
    "for rel in relations:\n",
    "    pre_processed_results[\"judgments\"][rel] = 0.0\n",
    "for idx in pre_processed_results[\"judgments\"].index:\n",
    "    for rel in relations:\n",
    "        if rel in pre_processed_results[\"judgments\"][\"output.rellist\"][idx].keys():\n",
    "            pre_processed_results[\"judgments\"].at[idx, rel] = max(\n",
    "                0.0, pre_processed_results[\"judgments\"][\"output.rellist\"][idx][rel])"
   ]
  },
  {
   "cell_type": "code",
   "execution_count": 12,
   "metadata": {
    "collapsed": false
   },
   "outputs": [],
   "source": [
    "pre_processed_results[\"judgments\"].to_csv(\"worker_judgments.csv\")"
   ]
  },
  {
   "cell_type": "code",
   "execution_count": null,
   "metadata": {
    "collapsed": true
   },
   "outputs": [],
   "source": []
  }
 ],
 "metadata": {
  "anaconda-cloud": {},
  "kernelspec": {
   "display_name": "Python [default]",
   "language": "python",
   "name": "python2"
  },
  "language_info": {
   "codemirror_mode": {
    "name": "ipython",
    "version": 2
   },
   "file_extension": ".py",
   "mimetype": "text/x-python",
   "name": "python",
   "nbconvert_exporter": "python",
   "pygments_lexer": "ipython2",
   "version": "2.7.13"
  }
 },
 "nbformat": 4,
 "nbformat_minor": 2
}
