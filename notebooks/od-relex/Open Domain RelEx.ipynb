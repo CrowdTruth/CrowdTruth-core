{
 "cells": [
  {
   "cell_type": "code",
<<<<<<< HEAD
   "execution_count": 2,
   "metadata": {
    "collapsed": false
   },
=======
   "execution_count": 1,
   "metadata": {},
>>>>>>> daf9d112bab22dfe93ccaaf08ccc9f95ffcdc36e
   "outputs": [
    {
     "name": "stderr",
     "output_type": "stream",
     "text": [
      "INFO:root:PROCESSING FOLDER: /home/anca/Documents/Open-Domain-Relation-Extraction/data/crowdsourcing/input/15workers\n",
      "INFO:root:FILE LIST: { f941805.csv, f943228.csv, f907521.csv, f946464.csv, f943353.csv, f941258.csv, f941323.csv, f906823.csv, f943928.csv, f945838.csv, f942281.csv, f945011.csv, f910303.csv, f911545.csv, f945017.csv, f888997.csv, f941325.csv, f946212.csv, f941328.csv, f945844.csv, f912135.csv, f946467.csv, f942283.csv, f910810.csv, f943929.csv, f945019.csv, f941788.csv, f941064.csv, f943358.csv, f941331.csv, f941327.csv, f943927.csv, f880592.csv, f945014.csv, f945843.csv, f941804.csv, f946466.csv, f941326.csv, f942276.csv, f943926.csv, f943354.csv, f945841.csv, f945012.csv, f945842.csv, f943356.csv, f945018.csv, f946465.csv, f908235.csv, f941330.csv, f904852.csv }\n"
     ]
    },
    {
     "name": "stdout",
     "output_type": "stream",
     "text": [
      "PROCESSING CF\n"
     ]
    },
    {
     "name": "stderr",
     "output_type": "stream",
     "text": [
      "INFO:root:PROCESSING FOLDER: /home/anca/Documents/Open-Domain-Relation-Extraction/data/crowdsourcing/stanford_crowdsourcing/input/15workers\n",
      "INFO:root:FILE LIST: { Batch_2976625_batch_results.csv, Batch_3019169_batch_results.csv, Batch_2963437_batch_results.csv, Batch_2964698_batch_results.csv, Batch_3023899_batch_results.csv, Batch_2964007_batch_results.csv, Batch_3001545_batch_results.csv, Batch_2966785_batch_results.csv, Batch_3022312_batch_results.csv, Batch_3025556_batch_results.csv, Batch_2985342_batch_results.csv, Batch_2947651_batch_results.csv, Batch_3025055_batch_results.csv, Batch_2959943_batch_results.csv, Batch_2963456_batch_results.csv, Batch_2975474_batch_results.csv, Batch_2987062_batch_results.csv, Batch_2983764_batch_results.csv }\n"
     ]
    },
    {
     "name": "stdout",
     "output_type": "stream",
     "text": [
      "PROCESSING AMT\n"
     ]
    }
   ],
   "source": [
    "import pandas as pd\n",
    "import logging\n",
    "logger = logging.getLogger()\n",
    "logger.setLevel(logging.INFO)\n",
    "\n",
    "import sys\n",
    "# stdout = sys.stdout\n",
    "sys.path.append('../../')\n",
    "\n",
    "from defaultconfig import Configuration\n",
    "\n",
    "def pre_process_od(od_foldername, config):\n",
    "    from controllers.inputController import processFile\n",
    "    pre_processed_results = processFile(\n",
    "        root=\"\", directory=od_foldername, filename=\"\",\n",
    "        config=config\n",
    "    )\n",
    "    return pre_processed_results\n",
    "\n",
    "class ODRelExCF(Configuration):\n",
    "    inputColumns = [\"sent_id\", \"relation\", \"term1\", \"b1\", \"e1\", \"term2\", \"b2\", \"e2\", \"sentence\"]\n",
    "    outputColumns = [\"rellist\"]\n",
    "    \n",
    "    open_ended_task = False\n",
    "    annotation_vector = [\"per:title\", \"per:founded_org\", \"per:place_of_birth\", \"per:children\", \"per:cause_of_death\",\n",
    "                         \"per:top_member_employee_of_org\", \"per:employee_or_member_of\", \"per:spouse\",\n",
    "                         \"org:alternate_names\", \"org:subsidiaries\", \"per:place_of_death\", \"per:schools_attended\",\n",
    "                         \"org:place_of_headquarters\", \"per:charges\", \"per:origin\", \"per:places_of_residence\", \"none\"]\n",
    "    \n",
    "    def processJudgments(self, judgments):\n",
    "        for col in self.outputColumns:\n",
    "            judgments[col] = judgments[col].apply(lambda x: str(x).replace('\\n',','))\n",
    "            \n",
    "            judgments[col] = judgments[col].apply(lambda x: str(x).lower())\n",
    "            \n",
    "            judgments[col] = judgments[col].apply(lambda x: str(x).replace('per:age,',''))\n",
    "            judgments[col] = judgments[col].apply(lambda x: str(x).replace(',per:age',''))\n",
    "            judgments[col] = judgments[col].apply(lambda x: str(x).replace('per:age','none'))\n",
    "            \n",
    "            judgments[col] = judgments[col].apply(lambda x: str(x).replace('per:alternate_names','org:alternate_names'))\n",
    "            judgments[col] = judgments[col].apply(lambda x: ','.join(sorted(str(x).split(','))))\n",
    "            judgments[col] = judgments[col].apply(lambda x: str(x).replace(\n",
    "                'org:alternate_names,org:alternate_names','org:alternate_names'))\n",
    "        return judgments\n",
    "\n",
    "print \"PROCESSING CF\"\n",
    "\n",
    "configCF=ODRelExCF()\n",
    "pre_processed_results_cf = pre_process_od(\n",
    "    od_foldername=\"/home/anca/Documents/Open-Domain-Relation-Extraction/data/crowdsourcing/input/15workers\",\n",
    "    config=configCF\n",
    ")\n",
    "\n",
    "print \"PROCESSING AMT\"\n",
    "\n",
    "class ODRelExAMT(Configuration):\n",
    "    inputColumns = [\"Input.sent_id\", \"Input.relation\", \"Input.term1\", \"Input.b1\", \"Input.e1\",\n",
    "                    \"Input.term2\", \"Input.b2\", \"Input.e2\", \"Input.sentence\"]\n",
    "    outputColumns = [\"Answer.Q1\"]\n",
    "    \n",
    "    open_ended_task = False\n",
    "    annotation_vector = [\"per:title\", \"per:founded_org\", \"per:place_of_birth\", \"per:children\", \"per:cause_of_death\",\n",
    "                         \"per:top_member_employee_of_org\", \"per:employee_or_member_of\", \"per:spouse\",\n",
    "                         \"org:alternate_names\", \"org:subsidiaries\", \"per:place_of_death\", \"per:schools_attended\",\n",
    "                         \"org:place_of_headquarters\", \"per:charges\", \"per:origin\", \"per:places_of_residence\", \"none\"]\n",
    "    \n",
    "    def processJudgments(self, judgments):\n",
    "        for col in self.outputColumns:\n",
    "            judgments[col] = judgments[col].apply(lambda x: str(x).replace('|',','))\n",
    "            \n",
    "            judgments[col] = judgments[col].apply(lambda x: str(x).replace('per:age,',''))\n",
    "            judgments[col] = judgments[col].apply(lambda x: str(x).replace(',per:age',''))\n",
    "            judgments[col] = judgments[col].apply(lambda x: str(x).replace('per:age','none'))\n",
    "            \n",
    "            judgments[col] = judgments[col].apply(lambda x: str(x).replace('per:alternate_names','org:alternate_names'))\n",
    "            judgments[col] = judgments[col].apply(lambda x: ','.join(sorted(str(x).split(','))))\n",
    "            judgments[col] = judgments[col].apply(lambda x: str(x).replace(\n",
    "                'org:alternate_names,org:alternate_names','org:alternate_names'))\n",
    "        return judgments\n",
    "\n",
    "configAMT = ODRelExAMT()\n",
    "pre_processed_results_amt = pre_process_od(\n",
    "    od_foldername=\"/home/anca/Documents/Open-Domain-Relation-Extraction/data/crowdsourcing/stanford_crowdsourcing/input/15workers\",\n",
    "    config=configAMT\n",
    ")\n"
   ]
  },
  {
   "cell_type": "code",
<<<<<<< HEAD
   "execution_count": 3,
   "metadata": {
    "collapsed": false
   },
=======
   "execution_count": 2,
   "metadata": {},
>>>>>>> daf9d112bab22dfe93ccaaf08ccc9f95ffcdc36e
   "outputs": [],
   "source": [
    "pre_processed_results_amt[\"units\"] = pre_processed_results_amt[\"units\"].rename(index=str, columns={\n",
    "    \"output.Q1\": \"output.rellist\",\n",
    "    \"output.Q1.annotations\": \"output.rellist.annotations\",\n",
    "    \"output.Q1.unique_annotations\": \"output.rellist.unique_annotations\",\n",
    "    \"output.Q1.cos_clarity\" : \"output.rellist.cos_clarity\"\n",
    "})\n",
    "\n",
    "pre_processed_results_amt[\"judgments\"] = pre_processed_results_amt[\"judgments\"].rename(index=str, columns={\n",
    "    \"output.Q1\": \"output.rellist\",\n",
    "    \"output.Q1.agreement\": \"output.rellist.agreement\",\n",
    "    \"output.Q1.count\": \"output.rellist.count\"\n",
    "})\n",
    "\n",
    "pre_processed_results_amt[\"annotations\"] = pre_processed_results_amt[\"annotations\"].rename(index=str, columns={\n",
    "    \"output.Q1\": \"output.rellist\"\n",
    "})\n",
    "\n",
    "pre_processed_results_amt[\"workers\"] = pre_processed_results_amt[\"workers\"].rename(index=str, columns={\n",
    "    \"output.Q1.count\": \"output.rellist.count\"\n",
    "})\n",
    "\n",
    "pre_processed_results_cf[\"units\"].index = pre_processed_results_cf[\"units\"].index.map(str)\n",
    "pre_processed_results_cf[\"judgments\"].index = pre_processed_results_cf[\"judgments\"].index.map(str)\n",
    "pre_processed_results_cf[\"workers\"].index = pre_processed_results_cf[\"workers\"].index.map(str)\n",
    "pre_processed_results_cf[\"judgments\"][\"worker\"] = pre_processed_results_cf[\"judgments\"][\"worker\"].astype(str)\n",
    "pre_processed_results_cf[\"judgments\"][\"unit\"] = pre_processed_results_cf[\"judgments\"][\"unit\"].astype(str)\n",
    "\n",
    "units = pd.concat([pre_processed_results_amt[\"units\"], pre_processed_results_cf[\"units\"]])\n",
    "workers = pd.concat([pre_processed_results_amt[\"workers\"], pre_processed_results_cf[\"workers\"]])\n",
    "annotations = pre_processed_results_amt[\"annotations\"] + pre_processed_results_cf[\"annotations\"]\n",
    "# jobs = pd.concat([pre_processed_results_amt[\"jobs\"], pre_processed_results_cf[\"jobs\"]])\n",
    "judgments = pd.concat([pre_processed_results_amt[\"judgments\"], pre_processed_results_cf[\"judgments\"]])\n",
    "\n",
    "pre_processed_results = dict({\n",
    "    \"units\": units,\n",
    "    \"workers\": workers,\n",
    "    \"annotations\": annotations,\n",
    "    # \"jobs\": jobs,\n",
    "    \"judgments\": judgments\n",
    "})\n"
   ]
  },
  {
   "cell_type": "code",
   "execution_count": 4,
   "metadata": {},
   "outputs": [
    {
     "name": "stderr",
     "output_type": "stream",
     "text": [
      "INFO:root:1 iterations; max d= 1.0 ; wqs d= 0.613260490034; sqs d= 0.428699724624; rqs d= 0.454229636105\n",
      "INFO:root:2 iterations; max d= 0.2843894617 ; wqs d= 0.0931935388513; sqs d= 0.0450696313532; rqs d= 0.0805931396293\n",
      "INFO:root:3 iterations; max d= 0.0558669195108 ; wqs d= 0.00711389946456; sqs d= 0.00432960490143; rqs d= 0.00590090569391\n",
      "INFO:root:4 iterations; max d= 0.0244560041774 ; wqs d= 0.00210492408394; sqs d= 0.00200816330481; rqs d= 0.00239344479483\n",
      "INFO:root:5 iterations; max d= 0.00763339672037 ; wqs d= 0.000496804800133; sqs d= 0.000237500644788; rqs d= 0.00027578647156\n",
      "INFO:root:6 iterations; max d= 0.00287123978875 ; wqs d= 0.000142212069438; sqs d= 0.000138912169732; rqs d= 0.000165989713718\n",
      "INFO:root:7 iterations; max d= 0.00104230581003 ; wqs d= 4.95863746066e-05; sqs d= 1.79026561351e-05; rqs d= 1.90164795477e-05\n",
      "INFO:root:8 iterations; max d= 0.00039263257423 ; wqs d= 1.37407766038e-05; sqs d= 1.31584703801e-05; rqs d= 1.54511915658e-05\n"
     ]
    }
   ],
   "source": [
    "# sys.stdout = stdout\n",
    "\n",
    "# run the metrics\n",
    "from models import Metrics\n",
    "processed_results = Metrics.run(pre_processed_results, configCF)"
   ]
  },
  {
   "cell_type": "code",
<<<<<<< HEAD
   "execution_count": 4,
   "metadata": {
    "collapsed": false
   },
=======
   "execution_count": 5,
   "metadata": {},
>>>>>>> daf9d112bab22dfe93ccaaf08ccc9f95ffcdc36e
   "outputs": [
    {
     "data": {
      "text/plain": [
       "<matplotlib.text.Text at 0x7f1cfdc18990>"
      ]
     },
     "execution_count": 4,
     "metadata": {},
     "output_type": "execute_result"
    },
    {
     "data": {
      "image/png": "iVBORw0KGgoAAAANSUhEUgAAAYgAAAEKCAYAAAAIO8L1AAAABHNCSVQICAgIfAhkiAAAAAlwSFlz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\nzgAAAABJRU5ErkJggg==\n",
      "text/plain": [
       "<matplotlib.figure.Figure at 0x7f1cfe47d390>"
      ]
     },
     "metadata": {},
     "output_type": "display_data"
    }
   ],
   "source": [
    "import matplotlib.pyplot as plt\n",
    "%matplotlib inline\n",
    "\n",
    "plt.hist(processed_results[\"units\"][\"uqs\"])\n",
    "plt.xlabel(\"SQS\")\n",
    "plt.ylabel(\"Sentences\")"
   ]
  },
  {
   "cell_type": "code",
<<<<<<< HEAD
   "execution_count": 5,
   "metadata": {
    "collapsed": false
   },
=======
   "execution_count": 6,
   "metadata": {},
>>>>>>> daf9d112bab22dfe93ccaaf08ccc9f95ffcdc36e
   "outputs": [
    {
     "data": {
      "text/plain": [
       "<matplotlib.text.Text at 0x7f1cfcb8f050>"
      ]
     },
     "execution_count": 5,
     "metadata": {},
     "output_type": "execute_result"
    },
    {
     "data": {
      "image/png": "iVBORw0KGgoAAAANSUhEUgAAAYgAAAEKCAYAAAAIO8L1AAAABHNCSVQICAgIfAhkiAAAAAlwSFlz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\n",
      "text/plain": [
       "<matplotlib.figure.Figure at 0x7f1cfe6cb810>"
      ]
     },
     "metadata": {},
     "output_type": "display_data"
    }
   ],
   "source": [
    "plt.hist(processed_results[\"workers\"][\"wqs\"])\n",
    "plt.xlabel(\"WQS\")\n",
    "plt.ylabel(\"Workers\")"
   ]
  },
  {
   "cell_type": "code",
<<<<<<< HEAD
   "execution_count": 2,
   "metadata": {
    "collapsed": false
   },
=======
   "execution_count": 7,
   "metadata": {},
>>>>>>> daf9d112bab22dfe93ccaaf08ccc9f95ffcdc36e
   "outputs": [
    {
     "ename": "NameError",
     "evalue": "name 'processed_results' is not defined",
     "output_type": "error",
     "traceback": [
      "\u001b[0;31m---------------------------------------------------------------------------\u001b[0m",
      "\u001b[0;31mNameError\u001b[0m                                 Traceback (most recent call last)",
      "\u001b[0;32m<ipython-input-2-b3c3b8542ad7>\u001b[0m in \u001b[0;36m<module>\u001b[0;34m()\u001b[0m\n\u001b[0;32m----> 1\u001b[0;31m \u001b[0mplt\u001b[0m\u001b[0;34m.\u001b[0m\u001b[0mhist\u001b[0m\u001b[0;34m(\u001b[0m\u001b[0mprocessed_results\u001b[0m\u001b[0;34m[\u001b[0m\u001b[0;34m\"annotations\"\u001b[0m\u001b[0;34m]\u001b[0m\u001b[0;34m[\u001b[0m\u001b[0;34m\"aqs\"\u001b[0m\u001b[0;34m]\u001b[0m\u001b[0;34m)\u001b[0m\u001b[0;34m\u001b[0m\u001b[0m\n\u001b[0m\u001b[1;32m      2\u001b[0m \u001b[0mplt\u001b[0m\u001b[0;34m.\u001b[0m\u001b[0mxlabel\u001b[0m\u001b[0;34m(\u001b[0m\u001b[0;34m\"RQS\"\u001b[0m\u001b[0;34m)\u001b[0m\u001b[0;34m\u001b[0m\u001b[0m\n\u001b[1;32m      3\u001b[0m \u001b[0mplt\u001b[0m\u001b[0;34m.\u001b[0m\u001b[0mylabel\u001b[0m\u001b[0;34m(\u001b[0m\u001b[0;34m\"Relations\"\u001b[0m\u001b[0;34m)\u001b[0m\u001b[0;34m\u001b[0m\u001b[0m\n",
      "\u001b[0;31mNameError\u001b[0m: name 'processed_results' is not defined"
     ]
    }
   ],
   "source": [
    "plt.hist(processed_results[\"annotations\"][\"aqs\"])\n",
    "plt.xlabel(\"RQS\")\n",
    "plt.ylabel(\"Relations\")"
   ]
  },
  {
   "cell_type": "code",
   "execution_count": 8,
   "metadata": {},
   "outputs": [
    {
     "data": {
      "text/plain": [
       "none                              0.643031\n",
       "org:alternate_names               0.751094\n",
       "org:place_of_headquarters         0.523691\n",
       "org:subsidiaries                  0.563459\n",
       "per:cause_of_death                0.640269\n",
       "per:charges                       0.754365\n",
       "per:children                      0.826457\n",
       "per:employee_or_member_of         0.433373\n",
       "per:founded_org                   0.602700\n",
       "per:origin                        0.320860\n",
       "per:place_of_birth                0.736764\n",
       "per:place_of_death                0.633270\n",
       "per:places_of_residence           0.441318\n",
       "per:schools_attended              0.593955\n",
       "per:spouse                        0.812720\n",
       "per:title                         0.600670\n",
       "per:top_member_employee_of_org    0.716420\n",
       "Name: aqs, dtype: float64"
      ]
     },
     "execution_count": 8,
     "metadata": {},
     "output_type": "execute_result"
    }
   ],
   "source": [
    "processed_results[\"annotations\"][\"aqs\"]"
   ]
  },
  {
   "cell_type": "code",
<<<<<<< HEAD
   "execution_count": 5,
   "metadata": {
    "collapsed": false
   },
=======
   "execution_count": 9,
   "metadata": {},
>>>>>>> daf9d112bab22dfe93ccaaf08ccc9f95ffcdc36e
   "outputs": [],
   "source": [
    "import operator\n",
    "\n",
    "dlist = []\n",
    "max_frame = []\n",
    "max_fss = []\n",
    "for idx in processed_results[\"units\"].index:\n",
    "    if idx != \"unit_annotation_score\":\n",
    "        aux_dict = { k:v for k, v in processed_results[\"units\"][\"unit_annotation_score\"][idx].iteritems() if v }\n",
    "        dlist.append(aux_dict)\n",
    "        max_frame.append(max(aux_dict.iteritems(), key=operator.itemgetter(1))[0])\n",
    "        max_fss.append(max(aux_dict.values()))\n",
    "\n",
    "processed_results[\"units\"][\"SRS\"] = pd.Series(dlist, index=processed_results[\"units\"].index)\n",
    "processed_results[\"units\"][\"max_rel\"] = pd.Series(max_frame, index=processed_results[\"units\"].index)\n",
    "processed_results[\"units\"][\"max_srs\"] = pd.Series(max_fss, index=processed_results[\"units\"].index)\n",
    "\n",
    "processed_results[\"units\"].to_csv(\"od_relex_sentences.csv\")\n",
    "processed_results[\"workers\"].to_csv(\"od_relex_workers.csv\")"
   ]
  },
  {
   "cell_type": "code",
<<<<<<< HEAD
   "execution_count": 6,
   "metadata": {
    "collapsed": false
   },
=======
   "execution_count": 27,
   "metadata": {},
>>>>>>> daf9d112bab22dfe93ccaaf08ccc9f95ffcdc36e
   "outputs": [],
   "source": [
    "relations = list(processed_results[\"annotations\"].index)\n",
    "for rel in relations:\n",
    "    processed_results[\"units\"][rel] = 0.0\n",
    "\n",
    "#processed_results[\"units\"][\"SRS\"][\"301KG0KX9CXSYWVXYIGKVMSJFHVH2F\"][\"none\"]\n",
    "\n",
    "for idx in processed_results[\"units\"].index:\n",
    "    for rel in relations:\n",
    "        if rel in processed_results[\"units\"][\"SRS\"][idx].keys():\n",
    "            processed_results[\"units\"].at[idx, rel] = max(0.0, processed_results[\"units\"][\"SRS\"][idx][rel])"
   ]
  },
  {
   "cell_type": "code",
<<<<<<< HEAD
   "execution_count": 7,
   "metadata": {
    "collapsed": false
   },
=======
   "execution_count": 28,
   "metadata": {},
>>>>>>> daf9d112bab22dfe93ccaaf08ccc9f95ffcdc36e
   "outputs": [],
   "source": [
    "processed_results[\"units\"].to_csv(\"od_relex_sentences.csv\")\n",
    "processed_results[\"workers\"].to_csv(\"od_relex_workers.csv\")"
   ]
  },
  {
   "cell_type": "code",
<<<<<<< HEAD
   "execution_count": 8,
   "metadata": {
    "collapsed": false
   },
=======
   "execution_count": 10,
   "metadata": {},
>>>>>>> daf9d112bab22dfe93ccaaf08ccc9f95ffcdc36e
   "outputs": [],
   "source": [
    "relations = list(pre_processed_results[\"annotations\"].index)\n",
    "for rel in relations:\n",
    "    pre_processed_results[\"judgments\"][rel] = 0.0\n",
    "for idx in pre_processed_results[\"judgments\"].index:\n",
    "    for rel in relations:\n",
    "        if rel in pre_processed_results[\"judgments\"][\"output.rellist\"][idx].keys():\n",
    "            pre_processed_results[\"judgments\"].at[idx, rel] = max(\n",
    "                0.0, pre_processed_results[\"judgments\"][\"output.rellist\"][idx][rel])"
   ]
  },
  {
   "cell_type": "code",
<<<<<<< HEAD
   "execution_count": 9,
   "metadata": {
    "collapsed": false
   },
=======
   "execution_count": 12,
   "metadata": {},
>>>>>>> daf9d112bab22dfe93ccaaf08ccc9f95ffcdc36e
   "outputs": [],
   "source": [
    "pre_processed_results[\"judgments\"].to_csv(\"worker_judgments.csv\")"
   ]
  },
  {
   "cell_type": "code",
   "execution_count": null,
   "metadata": {
    "collapsed": true
   },
   "outputs": [],
   "source": []
  }
 ],
 "metadata": {
  "anaconda-cloud": {},
  "kernelspec": {
   "display_name": "Python 2",
   "language": "python",
   "name": "python2"
  },
  "language_info": {
   "codemirror_mode": {
    "name": "ipython",
    "version": 2
   },
   "file_extension": ".py",
   "mimetype": "text/x-python",
   "name": "python",
   "nbconvert_exporter": "python",
   "pygments_lexer": "ipython2",
   "version": "2.7.13"
  }
 },
 "nbformat": 4,
 "nbformat_minor": 2
}
