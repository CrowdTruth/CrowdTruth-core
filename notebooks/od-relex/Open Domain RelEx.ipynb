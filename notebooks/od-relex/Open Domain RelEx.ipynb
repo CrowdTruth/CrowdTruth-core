{
 "cells": [
  {
   "cell_type": "code",
   "execution_count": 1,
   "metadata": {
    "collapsed": false
   },
   "outputs": [],
   "source": [
    "import pandas as pd\n",
    "\n",
    "od_foldername = \"/home/anca/Documents/Open-Domain-Relation-Extraction/data/crowdsourcing/stanford_crowdsourcing/input/\"\n",
    "\n",
    "import sys\n",
    "stdout = sys.stdout\n",
    "\n",
    "sys.path.append('../../')\n",
    "\n",
    "from defaultconfig import Configuration\n",
    "\n",
    "class ODRelExConfig(Configuration):\n",
    "    inputColumns = [\"Input.sent_id\", \"Input.relation\", \"Input.confidence\", \"Input.term1\", \"Input.b1\", \"Input.e1\",\n",
    "                    \"Input.term2\", \"Input.b2\", \"Input.e2\", \"Input.sentence\"]\n",
    "    outputColumns = [\"Answer.Q1\"]\n",
    "    open_ended_task = False\n",
    "    annotation_vector = [\"per:title\", \"per:founded_org\", \"per:place_of_birth\", \"per:children\", \"per:cause_of_death\",\n",
    "                         \"per:top_member_employee_of_org\", \"per:employee_or_member_of\", \"per:spouse\",\n",
    "                         \"org:alternate_names\", \"org:subsidiaries\", \"per:place_of_death\", \"per:schools_attended\",\n",
    "                         \"org:place_of_headquarters\", \"per:charges\", \"per:origin\", \"per:places_of_residence\", \"none\"]\n",
    "    \n",
    "    def processJudgments(self, judgments):\n",
    "        # change default separator to whitespace to make it work with our file\n",
    "        for col in self.outputColumns:\n",
    "            judgments[col] = judgments[col].apply(lambda x: str(x).replace('|',','))\n",
    "            \n",
    "            judgments[col] = judgments[col].apply(lambda x: str(x).replace('per:age,',''))\n",
    "            judgments[col] = judgments[col].apply(lambda x: str(x).replace(',per:age',''))\n",
    "            judgments[col] = judgments[col].apply(lambda x: str(x).replace('per:age','none'))\n",
    "            \n",
    "            judgments[col] = judgments[col].apply(lambda x: str(x).replace('per:alternate_names','org:alternate_names'))\n",
    "            judgments[col] = judgments[col].apply(lambda x: ','.join(sorted(str(x).split(','))))\n",
    "            judgments[col] = judgments[col].apply(lambda x: str(x).replace(\n",
    "                'org:alternate_names,org:alternate_names','org:alternate_names'))\n",
    "        return judgments\n",
    "\n",
    "config = ODRelExConfig()\n",
    "\n",
    "from controllers.inputController import processFile\n",
    "pre_processed_results = processFile(\n",
    "    root=\".\", directory=od_foldername, filename=\"\",\n",
    "    config=config\n",
    ")"
   ]
  },
  {
   "cell_type": "code",
   "execution_count": 2,
   "metadata": {
    "collapsed": false
   },
   "outputs": [],
   "source": [
    "sys.stdout = stdout\n",
    "\n",
    "# run the metrics\n",
    "from models import Metrics\n",
    "processed_results = Metrics.run(pre_processed_results, config)"
   ]
  },
  {
   "cell_type": "code",
   "execution_count": 3,
   "metadata": {
    "collapsed": false
   },
   "outputs": [
    {
     "data": {
      "text/plain": [
       "<matplotlib.text.Text at 0x7f9ad1608790>"
      ]
     },
     "execution_count": 3,
     "metadata": {},
     "output_type": "execute_result"
    },
    {
     "data": {
      "image/png": "[encoded data removed]",
      "text/plain": [
       "<matplotlib.figure.Figure at 0x7f9ad15734d0>"
      ]
     },
     "metadata": {},
     "output_type": "display_data"
    }
   ],
   "source": [
    "import matplotlib.pyplot as plt\n",
    "%matplotlib inline\n",
    "\n",
    "plt.hist(processed_results[\"units\"][\"uqs\"])\n",
    "plt.xlabel(\"SQS\")\n",
    "plt.ylabel(\"Sentences\")"
   ]
  },
  {
   "cell_type": "code",
   "execution_count": 4,
   "metadata": {
    "collapsed": false
   },
   "outputs": [
    {
     "data": {
      "text/plain": [
       "<matplotlib.text.Text at 0x7f9ad0bc69d0>"
      ]
     },
     "execution_count": 4,
     "metadata": {},
     "output_type": "execute_result"
    },
    {
     "data": {
      "image/png": "[encoded data removed]",
      "text/plain": [
       "<matplotlib.figure.Figure at 0x7f9ad1765750>"
      ]
     },
     "metadata": {},
     "output_type": "display_data"
    }
   ],
   "source": [
    "plt.hist(processed_results[\"workers\"][\"wqs\"])\n",
    "plt.xlabel(\"WQS\")\n",
    "plt.ylabel(\"Workers\")"
   ]
  },
  {
   "cell_type": "code",
   "execution_count": 5,
   "metadata": {
    "collapsed": false
   },
   "outputs": [
    {
     "data": {
      "text/plain": [
       "<matplotlib.text.Text at 0x7f9ad0e5a6d0>"
      ]
     },
     "execution_count": 5,
     "metadata": {},
     "output_type": "execute_result"
    },
    {
     "data": {
      "image/png": "[encoded data removed]",
      "text/plain": [
       "<matplotlib.figure.Figure at 0x7f9ad0d95550>"
      ]
     },
     "metadata": {},
     "output_type": "display_data"
    }
   ],
   "source": [
    "plt.hist(processed_results[\"annotations\"][\"aqs\"])\n",
    "plt.xlabel(\"RQS\")\n",
    "plt.ylabel(\"Relations\")"
   ]
  },
  {
   "cell_type": "code",
   "execution_count": 6,
   "metadata": {
    "collapsed": false
   },
   "outputs": [
    {
     "data": {
      "text/plain": [
       "none                              0.464663\n",
       "org:alternate_names               0.577163\n",
       "org:place_of_headquarters         0.805961\n",
       "org:subsidiaries                  0.756364\n",
       "per:cause_of_death                0.007481\n",
       "per:charges                       0.015686\n",
       "per:children                      0.001097\n",
       "per:employee_or_member_of         0.605772\n",
       "per:founded_org                   0.798146\n",
       "per:origin                        0.444798\n",
       "per:place_of_birth                0.663091\n",
       "per:place_of_death                0.881756\n",
       "per:places_of_residence           0.525680\n",
       "per:schools_attended              0.142410\n",
       "per:spouse                        0.874605\n",
       "per:title                         0.495591\n",
       "per:top_member_employee_of_org    0.685326\n",
       "Name: aqs, dtype: float64"
      ]
     },
     "execution_count": 6,
     "metadata": {},
     "output_type": "execute_result"
    }
   ],
   "source": [
    "processed_results[\"annotations\"][\"aqs\"]"
   ]
  },
  {
   "cell_type": "code",
   "execution_count": 7,
   "metadata": {
    "collapsed": false
   },
   "outputs": [],
   "source": [
    "import operator\n",
    "\n",
    "dlist = []\n",
    "max_frame = []\n",
    "max_fss = []\n",
    "for idx in processed_results[\"units\"].index:\n",
    "    if idx != \"unit_annotation_score\":\n",
    "        aux_dict = { k:v for k, v in processed_results[\"units\"][\"unit_annotation_score\"][idx].iteritems() if v }\n",
    "        dlist.append(aux_dict)\n",
    "        max_frame.append(max(aux_dict.iteritems(), key=operator.itemgetter(1))[0])\n",
    "        max_fss.append(max(aux_dict.values()))\n",
    "\n",
    "processed_results[\"units\"][\"SRS\"] = pd.Series(dlist, index=processed_results[\"units\"].index)\n",
    "processed_results[\"units\"][\"max_rel\"] = pd.Series(max_frame, index=processed_results[\"units\"].index)\n",
    "processed_results[\"units\"][\"max_srs\"] = pd.Series(max_fss, index=processed_results[\"units\"].index)\n",
    "\n",
    "processed_results[\"units\"].to_csv(\"amt_od_relex_sentences.csv\")\n",
    "processed_results[\"workers\"].to_csv(\"amt_od_relex_workers.csv\")"
   ]
  },
  {
   "cell_type": "code",
   "execution_count": 8,
   "metadata": {
    "collapsed": false
   },
   "outputs": [],
   "source": [
    "relations = list(processed_results[\"annotations\"].index)\n",
    "for rel in relations:\n",
    "    processed_results[\"units\"][rel] = 0\n",
    "\n",
    "for idx in processed_results[\"units\"].index:\n",
    "    for rel in relations:\n",
    "        if rel in processed_results[\"units\"][\"SRS\"][idx].keys():\n",
    "            processed_results[\"units\"].at[idx, rel] = processed_results[\"units\"][\"SRS\"][rel][idx]"
   ]
  },
  {
   "cell_type": "code",
   "execution_count": 14,
   "metadata": {
    "collapsed": false
   },
   "outputs": [
    {
     "ename": "KeyError",
     "evalue": "'input.b1'",
     "output_type": "error",
     "traceback": [
      "\u001b[0;31m---------------------------------------------------------------------------\u001b[0m",
      "\u001b[0;31mKeyError\u001b[0m                                  Traceback (most recent call last)",
      "\u001b[0;32m<ipython-input-14-68e08707b5cf>\u001b[0m in \u001b[0;36m<module>\u001b[0;34m()\u001b[0m\n\u001b[0;32m----> 1\u001b[0;31m \u001b[0mprocessed_results\u001b[0m\u001b[0;34m[\u001b[0m\u001b[0;34m\"units\"\u001b[0m\u001b[0;34m]\u001b[0m\u001b[0;34m.\u001b[0m\u001b[0mat\u001b[0m\u001b[0;34m[\u001b[0m\u001b[0;34m\"input.b1\"\u001b[0m\u001b[0;34m,\u001b[0m \u001b[0midx\u001b[0m\u001b[0;34m]\u001b[0m\u001b[0;34m\u001b[0m\u001b[0m\n\u001b[0m",
      "\u001b[0;32m/home/anca/anaconda3/lib/python2.7/site-packages/pandas/core/indexing.pyc\u001b[0m in \u001b[0;36m__getitem__\u001b[0;34m(self, key)\u001b[0m\n\u001b[1;32m   1663\u001b[0m \u001b[0;34m\u001b[0m\u001b[0m\n\u001b[1;32m   1664\u001b[0m         \u001b[0mkey\u001b[0m \u001b[0;34m=\u001b[0m \u001b[0mself\u001b[0m\u001b[0;34m.\u001b[0m\u001b[0m_convert_key\u001b[0m\u001b[0;34m(\u001b[0m\u001b[0mkey\u001b[0m\u001b[0;34m)\u001b[0m\u001b[0;34m\u001b[0m\u001b[0m\n\u001b[0;32m-> 1665\u001b[0;31m         \u001b[0;32mreturn\u001b[0m \u001b[0mself\u001b[0m\u001b[0;34m.\u001b[0m\u001b[0mobj\u001b[0m\u001b[0;34m.\u001b[0m\u001b[0mget_value\u001b[0m\u001b[0;34m(\u001b[0m\u001b[0;34m*\u001b[0m\u001b[0mkey\u001b[0m\u001b[0;34m,\u001b[0m \u001b[0mtakeable\u001b[0m\u001b[0;34m=\u001b[0m\u001b[0mself\u001b[0m\u001b[0;34m.\u001b[0m\u001b[0m_takeable\u001b[0m\u001b[0;34m)\u001b[0m\u001b[0;34m\u001b[0m\u001b[0m\n\u001b[0m\u001b[1;32m   1666\u001b[0m \u001b[0;34m\u001b[0m\u001b[0m\n\u001b[1;32m   1667\u001b[0m     \u001b[0;32mdef\u001b[0m \u001b[0m__setitem__\u001b[0m\u001b[0;34m(\u001b[0m\u001b[0mself\u001b[0m\u001b[0;34m,\u001b[0m \u001b[0mkey\u001b[0m\u001b[0;34m,\u001b[0m \u001b[0mvalue\u001b[0m\u001b[0;34m)\u001b[0m\u001b[0;34m:\u001b[0m\u001b[0;34m\u001b[0m\u001b[0m\n",
      "\u001b[0;32m/home/anca/anaconda3/lib/python2.7/site-packages/pandas/core/frame.pyc\u001b[0m in \u001b[0;36mget_value\u001b[0;34m(self, index, col, takeable)\u001b[0m\n\u001b[1;32m   1898\u001b[0m         \u001b[0mseries\u001b[0m \u001b[0;34m=\u001b[0m \u001b[0mself\u001b[0m\u001b[0;34m.\u001b[0m\u001b[0m_get_item_cache\u001b[0m\u001b[0;34m(\u001b[0m\u001b[0mcol\u001b[0m\u001b[0;34m)\u001b[0m\u001b[0;34m\u001b[0m\u001b[0m\n\u001b[1;32m   1899\u001b[0m         \u001b[0mengine\u001b[0m \u001b[0;34m=\u001b[0m \u001b[0mself\u001b[0m\u001b[0;34m.\u001b[0m\u001b[0mindex\u001b[0m\u001b[0;34m.\u001b[0m\u001b[0m_engine\u001b[0m\u001b[0;34m\u001b[0m\u001b[0m\n\u001b[0;32m-> 1900\u001b[0;31m         \u001b[0;32mreturn\u001b[0m \u001b[0mengine\u001b[0m\u001b[0;34m.\u001b[0m\u001b[0mget_value\u001b[0m\u001b[0;34m(\u001b[0m\u001b[0mseries\u001b[0m\u001b[0;34m.\u001b[0m\u001b[0mget_values\u001b[0m\u001b[0;34m(\u001b[0m\u001b[0;34m)\u001b[0m\u001b[0;34m,\u001b[0m \u001b[0mindex\u001b[0m\u001b[0;34m)\u001b[0m\u001b[0;34m\u001b[0m\u001b[0m\n\u001b[0m\u001b[1;32m   1901\u001b[0m \u001b[0;34m\u001b[0m\u001b[0m\n\u001b[1;32m   1902\u001b[0m     \u001b[0;32mdef\u001b[0m \u001b[0mset_value\u001b[0m\u001b[0;34m(\u001b[0m\u001b[0mself\u001b[0m\u001b[0;34m,\u001b[0m \u001b[0mindex\u001b[0m\u001b[0;34m,\u001b[0m \u001b[0mcol\u001b[0m\u001b[0;34m,\u001b[0m \u001b[0mvalue\u001b[0m\u001b[0;34m,\u001b[0m \u001b[0mtakeable\u001b[0m\u001b[0;34m=\u001b[0m\u001b[0mFalse\u001b[0m\u001b[0;34m)\u001b[0m\u001b[0;34m:\u001b[0m\u001b[0;34m\u001b[0m\u001b[0m\n",
      "\u001b[0;32mpandas/index.pyx\u001b[0m in \u001b[0;36mpandas.index.IndexEngine.get_value (pandas/index.c:3557)\u001b[0;34m()\u001b[0m\n",
      "\u001b[0;32mpandas/index.pyx\u001b[0m in \u001b[0;36mpandas.index.IndexEngine.get_value (pandas/index.c:3240)\u001b[0;34m()\u001b[0m\n",
      "\u001b[0;32mpandas/index.pyx\u001b[0m in \u001b[0;36mpandas.index.IndexEngine.get_loc (pandas/index.c:4279)\u001b[0;34m()\u001b[0m\n",
      "\u001b[0;32mpandas/src/hashtable_class_helper.pxi\u001b[0m in \u001b[0;36mpandas.hashtable.PyObjectHashTable.get_item (pandas/hashtable.c:13742)\u001b[0;34m()\u001b[0m\n",
      "\u001b[0;32mpandas/src/hashtable_class_helper.pxi\u001b[0m in \u001b[0;36mpandas.hashtable.PyObjectHashTable.get_item (pandas/hashtable.c:13696)\u001b[0;34m()\u001b[0m\n",
      "\u001b[0;31mKeyError\u001b[0m: 'input.b1'"
     ]
    }
   ],
   "source": [
    "processed_results[\"units\"].at[\"input.b1\", idx]"
   ]
  },
  {
   "cell_type": "code",
   "execution_count": null,
   "metadata": {
    "collapsed": true
   },
   "outputs": [],
   "source": []
  },
  {
   "cell_type": "code",
   "execution_count": null,
   "metadata": {
    "collapsed": true
   },
   "outputs": [],
   "source": []
  }
 ],
 "metadata": {
  "anaconda-cloud": {},
  "kernelspec": {
   "display_name": "Python [default]",
   "language": "python",
   "name": "python2"
  },
  "language_info": {
   "codemirror_mode": {
    "name": "ipython",
    "version": 2
   },
   "file_extension": ".py",
   "mimetype": "text/x-python",
   "name": "python",
   "nbconvert_exporter": "python",
   "pygments_lexer": "ipython2",
   "version": "2.7.13"
  }
 },
 "nbformat": 4,
 "nbformat_minor": 2
}
