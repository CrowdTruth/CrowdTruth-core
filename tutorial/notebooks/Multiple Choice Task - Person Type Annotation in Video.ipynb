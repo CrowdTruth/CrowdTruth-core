{
 "cells": [
  {
   "cell_type": "markdown",
   "metadata": {},
   "source": [
    "# CrowdTruth for Multiple Choice Tasks: Person Type Annotation in Video\n",
    "\n",
    "In this tutorial, we will apply CrowdTruth metrics to a **multiple choice** crowdsourcing task for **Person Type Annotation** from **video fragments**. The workers were asked to watch a video of about 3-5 seconds and then pick from a multiple choice list which are the types of person that appear in the video fragment. The task was executed on [FigureEight](https://www.figure-eight.com/). For more crowdsourcing annotation task examples, click [here](https://raw.githubusercontent.com/CrowdTruth-core/tutorial/getting_started.md).\n",
    "\n",
    "To replicate this experiment, the code used to design and implement this crowdsourcing annotation template is available here: [template](https://raw.githubusercontent.com/CrowdTruth/CrowdTruth-core/master/tutorial/templates/People-Video-Multiple-Choice/template.html), [css](https://raw.githubusercontent.com/CrowdTruth/CrowdTruth-core/master/tutorial/templates/People-Video-Multiple-Choice/template.css), [javascript](https://raw.githubusercontent.com/CrowdTruth/CrowdTruth-core/master/tutorial/templates/People-Video-Multiple-Choice/template.js). \n",
    "\n",
    "This is a screenshot of the task as it appeared to workers:\n",
    "![Task Template](../img/person-video-multiple-choice.png)\""
   ]
  },
  {
   "cell_type": "markdown",
   "metadata": {},
   "source": [
    "A sample dataset for this task is available in [this file](https://raw.githubusercontent.com/CrowdTruth/CrowdTruth-core/master/tutorial/data/person-video-multiple-choice.csv), containing raw output from the crowd on FigureEight. Download the file and place it in a folder named `data` that has the same root as this notebook. Now you can check your data:"
   ]
  },
  {
   "cell_type": "code",
   "execution_count": 1,
   "metadata": {},
   "outputs": [
    {
     "data": {
      "text/html": [
       "<div>\n",
       "<style scoped>\n",
       "    .dataframe tbody tr th:only-of-type {\n",
       "        vertical-align: middle;\n",
       "    }\n",
       "\n",
       "    .dataframe tbody tr th {\n",
       "        vertical-align: top;\n",
       "    }\n",
       "\n",
       "    .dataframe thead th {\n",
       "        text-align: right;\n",
       "    }\n",
       "</style>\n",
       "<table border=\"1\" class=\"dataframe\">\n",
       "  <thead>\n",
       "    <tr style=\"text-align: right;\">\n",
       "      <th></th>\n",
       "      <th>_unit_id</th>\n",
       "      <th>_created_at</th>\n",
       "      <th>_id</th>\n",
       "      <th>_started_at</th>\n",
       "      <th>_tainted</th>\n",
       "      <th>_channel</th>\n",
       "      <th>_trust</th>\n",
       "      <th>_worker_id</th>\n",
       "      <th>_country</th>\n",
       "      <th>_region</th>\n",
       "      <th>...</th>\n",
       "      <th>description</th>\n",
       "      <th>descriptiontags</th>\n",
       "      <th>hiddeninput_gold</th>\n",
       "      <th>imagelocation</th>\n",
       "      <th>imagetags</th>\n",
       "      <th>keyframeid_gold</th>\n",
       "      <th>selected_answer_gold</th>\n",
       "      <th>subtitles</th>\n",
       "      <th>subtitletags</th>\n",
       "      <th>videolocation</th>\n",
       "    </tr>\n",
       "  </thead>\n",
       "  <tbody>\n",
       "    <tr>\n",
       "      <th>0</th>\n",
       "      <td>1856509899</td>\n",
       "      <td>8/20/2018 18:40:05</td>\n",
       "      <td>3990340198</td>\n",
       "      <td>8/20/2018 18:39:51</td>\n",
       "      <td>False</td>\n",
       "      <td>clixsense</td>\n",
       "      <td>1.0</td>\n",
       "      <td>40712302</td>\n",
       "      <td>GBR</td>\n",
       "      <td>J8</td>\n",
       "      <td>...</td>\n",
       "      <td>NaN</td>\n",
       "      <td>NaN</td>\n",
       "      <td>NaN</td>\n",
       "      <td>https://joran.org/ct/entity.admin.unit.2649/85...</td>\n",
       "      <td>industry__c0_###_grinder__c1_###_production__c...</td>\n",
       "      <td>NaN</td>\n",
       "      <td>NaN</td>\n",
       "      <td>Italian astronaut samantha cristoforetti uploa...</td>\n",
       "      <td>Italian__0_###_astronaut__1_###_samantha__2_##...</td>\n",
       "      <td>https://joran.org/ct/entity.admin.unit.2649/85...</td>\n",
       "    </tr>\n",
       "    <tr>\n",
       "      <th>1</th>\n",
       "      <td>1856509899</td>\n",
       "      <td>8/20/2018 19:07:38</td>\n",
       "      <td>3990381441</td>\n",
       "      <td>8/20/2018 19:07:29</td>\n",
       "      <td>False</td>\n",
       "      <td>clixsense</td>\n",
       "      <td>1.0</td>\n",
       "      <td>40925305</td>\n",
       "      <td>CAN</td>\n",
       "      <td>QC</td>\n",
       "      <td>...</td>\n",
       "      <td>NaN</td>\n",
       "      <td>NaN</td>\n",
       "      <td>NaN</td>\n",
       "      <td>https://joran.org/ct/entity.admin.unit.2649/85...</td>\n",
       "      <td>industry__c0_###_grinder__c1_###_production__c...</td>\n",
       "      <td>NaN</td>\n",
       "      <td>NaN</td>\n",
       "      <td>Italian astronaut samantha cristoforetti uploa...</td>\n",
       "      <td>Italian__0_###_astronaut__1_###_samantha__2_##...</td>\n",
       "      <td>https://joran.org/ct/entity.admin.unit.2649/85...</td>\n",
       "    </tr>\n",
       "    <tr>\n",
       "      <th>2</th>\n",
       "      <td>1856509899</td>\n",
       "      <td>8/20/2018 19:19:02</td>\n",
       "      <td>3990407780</td>\n",
       "      <td>8/20/2018 19:18:52</td>\n",
       "      <td>False</td>\n",
       "      <td>imerit_india</td>\n",
       "      <td>1.0</td>\n",
       "      <td>44399792</td>\n",
       "      <td>USA</td>\n",
       "      <td>LA</td>\n",
       "      <td>...</td>\n",
       "      <td>NaN</td>\n",
       "      <td>NaN</td>\n",
       "      <td>NaN</td>\n",
       "      <td>https://joran.org/ct/entity.admin.unit.2649/85...</td>\n",
       "      <td>industry__c0_###_grinder__c1_###_production__c...</td>\n",
       "      <td>NaN</td>\n",
       "      <td>NaN</td>\n",
       "      <td>Italian astronaut samantha cristoforetti uploa...</td>\n",
       "      <td>Italian__0_###_astronaut__1_###_samantha__2_##...</td>\n",
       "      <td>https://joran.org/ct/entity.admin.unit.2649/85...</td>\n",
       "    </tr>\n",
       "    <tr>\n",
       "      <th>3</th>\n",
       "      <td>1856509899</td>\n",
       "      <td>8/20/2018 19:20:32</td>\n",
       "      <td>3990410322</td>\n",
       "      <td>8/20/2018 19:20:14</td>\n",
       "      <td>False</td>\n",
       "      <td>elite</td>\n",
       "      <td>1.0</td>\n",
       "      <td>44185847</td>\n",
       "      <td>USA</td>\n",
       "      <td>FL</td>\n",
       "      <td>...</td>\n",
       "      <td>NaN</td>\n",
       "      <td>NaN</td>\n",
       "      <td>NaN</td>\n",
       "      <td>https://joran.org/ct/entity.admin.unit.2649/85...</td>\n",
       "      <td>industry__c0_###_grinder__c1_###_production__c...</td>\n",
       "      <td>NaN</td>\n",
       "      <td>NaN</td>\n",
       "      <td>Italian astronaut samantha cristoforetti uploa...</td>\n",
       "      <td>Italian__0_###_astronaut__1_###_samantha__2_##...</td>\n",
       "      <td>https://joran.org/ct/entity.admin.unit.2649/85...</td>\n",
       "    </tr>\n",
       "    <tr>\n",
       "      <th>4</th>\n",
       "      <td>1856509899</td>\n",
       "      <td>8/20/2018 19:27:03</td>\n",
       "      <td>3990420566</td>\n",
       "      <td>8/20/2018 19:26:19</td>\n",
       "      <td>False</td>\n",
       "      <td>imerit_india</td>\n",
       "      <td>1.0</td>\n",
       "      <td>42395899</td>\n",
       "      <td>USA</td>\n",
       "      <td>LA</td>\n",
       "      <td>...</td>\n",
       "      <td>NaN</td>\n",
       "      <td>NaN</td>\n",
       "      <td>NaN</td>\n",
       "      <td>https://joran.org/ct/entity.admin.unit.2649/85...</td>\n",
       "      <td>industry__c0_###_grinder__c1_###_production__c...</td>\n",
       "      <td>NaN</td>\n",
       "      <td>NaN</td>\n",
       "      <td>Italian astronaut samantha cristoforetti uploa...</td>\n",
       "      <td>Italian__0_###_astronaut__1_###_samantha__2_##...</td>\n",
       "      <td>https://joran.org/ct/entity.admin.unit.2649/85...</td>\n",
       "    </tr>\n",
       "  </tbody>\n",
       "</table>\n",
       "<p>5 rows × 26 columns</p>\n",
       "</div>"
      ],
      "text/plain": [
       "     _unit_id         _created_at         _id         _started_at  _tainted  \\\n",
       "0  1856509899  8/20/2018 18:40:05  3990340198  8/20/2018 18:39:51     False   \n",
       "1  1856509899  8/20/2018 19:07:38  3990381441  8/20/2018 19:07:29     False   \n",
       "2  1856509899  8/20/2018 19:19:02  3990407780  8/20/2018 19:18:52     False   \n",
       "3  1856509899  8/20/2018 19:20:32  3990410322  8/20/2018 19:20:14     False   \n",
       "4  1856509899  8/20/2018 19:27:03  3990420566  8/20/2018 19:26:19     False   \n",
       "\n",
       "       _channel  _trust  _worker_id _country _region  ... description  \\\n",
       "0     clixsense     1.0    40712302      GBR      J8  ...         NaN   \n",
       "1     clixsense     1.0    40925305      CAN      QC  ...         NaN   \n",
       "2  imerit_india     1.0    44399792      USA      LA  ...         NaN   \n",
       "3         elite     1.0    44185847      USA      FL  ...         NaN   \n",
       "4  imerit_india     1.0    42395899      USA      LA  ...         NaN   \n",
       "\n",
       "  descriptiontags  hiddeninput_gold  \\\n",
       "0             NaN               NaN   \n",
       "1             NaN               NaN   \n",
       "2             NaN               NaN   \n",
       "3             NaN               NaN   \n",
       "4             NaN               NaN   \n",
       "\n",
       "                                       imagelocation  \\\n",
       "0  https://joran.org/ct/entity.admin.unit.2649/85...   \n",
       "1  https://joran.org/ct/entity.admin.unit.2649/85...   \n",
       "2  https://joran.org/ct/entity.admin.unit.2649/85...   \n",
       "3  https://joran.org/ct/entity.admin.unit.2649/85...   \n",
       "4  https://joran.org/ct/entity.admin.unit.2649/85...   \n",
       "\n",
       "                                           imagetags keyframeid_gold  \\\n",
       "0  industry__c0_###_grinder__c1_###_production__c...             NaN   \n",
       "1  industry__c0_###_grinder__c1_###_production__c...             NaN   \n",
       "2  industry__c0_###_grinder__c1_###_production__c...             NaN   \n",
       "3  industry__c0_###_grinder__c1_###_production__c...             NaN   \n",
       "4  industry__c0_###_grinder__c1_###_production__c...             NaN   \n",
       "\n",
       "   selected_answer_gold                                          subtitles  \\\n",
       "0                   NaN  Italian astronaut samantha cristoforetti uploa...   \n",
       "1                   NaN  Italian astronaut samantha cristoforetti uploa...   \n",
       "2                   NaN  Italian astronaut samantha cristoforetti uploa...   \n",
       "3                   NaN  Italian astronaut samantha cristoforetti uploa...   \n",
       "4                   NaN  Italian astronaut samantha cristoforetti uploa...   \n",
       "\n",
       "                                        subtitletags  \\\n",
       "0  Italian__0_###_astronaut__1_###_samantha__2_##...   \n",
       "1  Italian__0_###_astronaut__1_###_samantha__2_##...   \n",
       "2  Italian__0_###_astronaut__1_###_samantha__2_##...   \n",
       "3  Italian__0_###_astronaut__1_###_samantha__2_##...   \n",
       "4  Italian__0_###_astronaut__1_###_samantha__2_##...   \n",
       "\n",
       "                                       videolocation  \n",
       "0  https://joran.org/ct/entity.admin.unit.2649/85...  \n",
       "1  https://joran.org/ct/entity.admin.unit.2649/85...  \n",
       "2  https://joran.org/ct/entity.admin.unit.2649/85...  \n",
       "3  https://joran.org/ct/entity.admin.unit.2649/85...  \n",
       "4  https://joran.org/ct/entity.admin.unit.2649/85...  \n",
       "\n",
       "[5 rows x 26 columns]"
      ]
     },
     "execution_count": 1,
     "metadata": {},
     "output_type": "execute_result"
    }
   ],
   "source": [
    "import pandas as pd\n",
    "\n",
    "test_data = pd.read_csv(\"../data/person-video-multiple-choice.csv\")\n",
    "test_data.head()"
   ]
  },
  {
   "cell_type": "markdown",
   "metadata": {},
   "source": [
    "## Declaring a pre-processing configuration\n",
    "\n",
    "The pre-processing configuration defines how to interpret the raw crowdsourcing input. To do this, we need to define a configuration class. First, we import the default CrowdTruth configuration class:"
   ]
  },
  {
   "cell_type": "code",
   "execution_count": 2,
   "metadata": {},
   "outputs": [],
   "source": [
    "import crowdtruth\n",
    "from crowdtruth.configuration import DefaultConfig"
   ]
  },
  {
   "cell_type": "markdown",
   "metadata": {},
   "source": [
    "Our test class inherits the default configuration `DefaultConfig`, while also declaring some additional attributes that are specific to the Person Type Annotation in Video task:\n",
    "\n",
    "* **`inputColumns`:** list of input columns from the .csv file with the input data\n",
    "* **`outputColumns`:** list of output columns from the .csv file with the answers from the workers\n",
    "* **`annotation_separator`:** string that separates between the crowd annotations in `outputColumns`\n",
    "* **`open_ended_task`:** boolean variable defining whether the task is open-ended (i.e. the possible crowd annotations are not known beforehand, like in the case of free text input); in the task that we are processing, workers pick the answers from a pre-defined list, therefore the task is not open ended, and this variable is set to `False`\n",
    "* **`annotation_vector`:** list of possible crowd answers, mandatory to declare when `open_ended_task` is `False`; for our task, this is the list of relations\n",
    "* **`processJudgments`:** method that defines processing of the raw crowd data; for this task, we process the crowd answers to correspond to the values in `annotation_vector`\n",
    "\n",
    "The complete configuration class is declared below:"
   ]
  },
  {
   "cell_type": "code",
   "execution_count": 3,
   "metadata": {},
   "outputs": [],
   "source": [
    "class TestConfig(DefaultConfig):\n",
    "    inputColumns = [\"videolocation\", \"subtitles\", \"imagetags\", \"subtitletags\"]\n",
    "    outputColumns = [\"selected_answer\"]\n",
    "    \n",
    "    # processing of a closed task\n",
    "    open_ended_task = False\n",
    "    annotation_vector = [\"archeologist\", \"architect\", \"artist\", \"astronaut\", \"athlete\", \"businessperson\",\"celebrity\", \n",
    "                         \"chef\", \"criminal\", \"engineer\", \"farmer\", \"fictionalcharacter\", \"journalist\", \"judge\", \n",
    "                         \"lawyer\", \"militaryperson\", \"model\", \"monarch\", \"philosopher\", \"politician\", \"presenter\", \n",
    "                         \"producer\", \"psychologist\", \"scientist\", \"sportsmanager\", \"writer\", \"none\", \"other\"]\n",
    "    \n",
    "    def processJudgments(self, judgments):\n",
    "        # pre-process output to match the values in annotation_vector\n",
    "        for col in self.outputColumns:\n",
    "            # transform to lowercase\n",
    "            judgments[col] = judgments[col].apply(lambda x: str(x).lower())\n",
    "            # remove square brackets from annotations\n",
    "            judgments[col] = judgments[col].apply(lambda x: str(x).replace('[',''))\n",
    "            judgments[col] = judgments[col].apply(lambda x: str(x).replace(']',''))\n",
    "            # remove the quotes around the annotations\n",
    "            judgments[col] = judgments[col].apply(lambda x: str(x).replace('\"',''))\n",
    "        return judgments"
   ]
  },
  {
   "cell_type": "markdown",
   "metadata": {},
   "source": [
    "## Pre-processing the input data\n",
    "\n",
    "After declaring the configuration of our input file, we are ready to pre-process the crowd data:"
   ]
  },
  {
   "cell_type": "code",
   "execution_count": 4,
   "metadata": {},
   "outputs": [
    {
     "data": {
      "text/html": [
       "<div>\n",
       "<style scoped>\n",
       "    .dataframe tbody tr th:only-of-type {\n",
       "        vertical-align: middle;\n",
       "    }\n",
       "\n",
       "    .dataframe tbody tr th {\n",
       "        vertical-align: top;\n",
       "    }\n",
       "\n",
       "    .dataframe thead th {\n",
       "        text-align: right;\n",
       "    }\n",
       "</style>\n",
       "<table border=\"1\" class=\"dataframe\">\n",
       "  <thead>\n",
       "    <tr style=\"text-align: right;\">\n",
       "      <th></th>\n",
       "      <th>output.selected_answer</th>\n",
       "      <th>output.selected_answer.count</th>\n",
       "      <th>output.selected_answer.unique</th>\n",
       "      <th>unit</th>\n",
       "      <th>worker</th>\n",
       "      <th>started</th>\n",
       "      <th>submitted</th>\n",
       "      <th>duration</th>\n",
       "      <th>job</th>\n",
       "    </tr>\n",
       "    <tr>\n",
       "      <th>judgment</th>\n",
       "      <th></th>\n",
       "      <th></th>\n",
       "      <th></th>\n",
       "      <th></th>\n",
       "      <th></th>\n",
       "      <th></th>\n",
       "      <th></th>\n",
       "      <th></th>\n",
       "      <th></th>\n",
       "    </tr>\n",
       "  </thead>\n",
       "  <tbody>\n",
       "    <tr>\n",
       "      <th>3990340198</th>\n",
       "      <td>{'astronaut': 1, 'archeologist': 0, 'architect...</td>\n",
       "      <td>1</td>\n",
       "      <td>28</td>\n",
       "      <td>1856509899</td>\n",
       "      <td>40712302</td>\n",
       "      <td>2018-08-20 18:39:51</td>\n",
       "      <td>2018-08-20 18:40:05</td>\n",
       "      <td>14</td>\n",
       "      <td>../data/person-video-multiple-choice</td>\n",
       "    </tr>\n",
       "    <tr>\n",
       "      <th>3990381441</th>\n",
       "      <td>{'astronaut': 1, 'scientist': 1, 'archeologist...</td>\n",
       "      <td>2</td>\n",
       "      <td>28</td>\n",
       "      <td>1856509899</td>\n",
       "      <td>40925305</td>\n",
       "      <td>2018-08-20 19:07:29</td>\n",
       "      <td>2018-08-20 19:07:38</td>\n",
       "      <td>9</td>\n",
       "      <td>../data/person-video-multiple-choice</td>\n",
       "    </tr>\n",
       "    <tr>\n",
       "      <th>3990407780</th>\n",
       "      <td>{'astronaut': 1, 'archeologist': 0, 'architect...</td>\n",
       "      <td>1</td>\n",
       "      <td>28</td>\n",
       "      <td>1856509899</td>\n",
       "      <td>44399792</td>\n",
       "      <td>2018-08-20 19:18:52</td>\n",
       "      <td>2018-08-20 19:19:02</td>\n",
       "      <td>10</td>\n",
       "      <td>../data/person-video-multiple-choice</td>\n",
       "    </tr>\n",
       "    <tr>\n",
       "      <th>3990410322</th>\n",
       "      <td>{'astronaut': 1, 'archeologist': 0, 'architect...</td>\n",
       "      <td>1</td>\n",
       "      <td>28</td>\n",
       "      <td>1856509899</td>\n",
       "      <td>44185847</td>\n",
       "      <td>2018-08-20 19:20:14</td>\n",
       "      <td>2018-08-20 19:20:32</td>\n",
       "      <td>18</td>\n",
       "      <td>../data/person-video-multiple-choice</td>\n",
       "    </tr>\n",
       "    <tr>\n",
       "      <th>3990420566</th>\n",
       "      <td>{'astronaut': 1, 'archeologist': 0, 'architect...</td>\n",
       "      <td>1</td>\n",
       "      <td>28</td>\n",
       "      <td>1856509899</td>\n",
       "      <td>42395899</td>\n",
       "      <td>2018-08-20 19:26:19</td>\n",
       "      <td>2018-08-20 19:27:03</td>\n",
       "      <td>44</td>\n",
       "      <td>../data/person-video-multiple-choice</td>\n",
       "    </tr>\n",
       "  </tbody>\n",
       "</table>\n",
       "</div>"
      ],
      "text/plain": [
       "                                       output.selected_answer  \\\n",
       "judgment                                                        \n",
       "3990340198  {'astronaut': 1, 'archeologist': 0, 'architect...   \n",
       "3990381441  {'astronaut': 1, 'scientist': 1, 'archeologist...   \n",
       "3990407780  {'astronaut': 1, 'archeologist': 0, 'architect...   \n",
       "3990410322  {'astronaut': 1, 'archeologist': 0, 'architect...   \n",
       "3990420566  {'astronaut': 1, 'archeologist': 0, 'architect...   \n",
       "\n",
       "            output.selected_answer.count  output.selected_answer.unique  \\\n",
       "judgment                                                                  \n",
       "3990340198                             1                             28   \n",
       "3990381441                             2                             28   \n",
       "3990407780                             1                             28   \n",
       "3990410322                             1                             28   \n",
       "3990420566                             1                             28   \n",
       "\n",
       "                  unit    worker             started           submitted  \\\n",
       "judgment                                                                   \n",
       "3990340198  1856509899  40712302 2018-08-20 18:39:51 2018-08-20 18:40:05   \n",
       "3990381441  1856509899  40925305 2018-08-20 19:07:29 2018-08-20 19:07:38   \n",
       "3990407780  1856509899  44399792 2018-08-20 19:18:52 2018-08-20 19:19:02   \n",
       "3990410322  1856509899  44185847 2018-08-20 19:20:14 2018-08-20 19:20:32   \n",
       "3990420566  1856509899  42395899 2018-08-20 19:26:19 2018-08-20 19:27:03   \n",
       "\n",
       "            duration                                   job  \n",
       "judgment                                                    \n",
       "3990340198        14  ../data/person-video-multiple-choice  \n",
       "3990381441         9  ../data/person-video-multiple-choice  \n",
       "3990407780        10  ../data/person-video-multiple-choice  \n",
       "3990410322        18  ../data/person-video-multiple-choice  \n",
       "3990420566        44  ../data/person-video-multiple-choice  "
      ]
     },
     "execution_count": 4,
     "metadata": {},
     "output_type": "execute_result"
    }
   ],
   "source": [
    "data, config = crowdtruth.load(\n",
    "    file = \"../data/person-video-multiple-choice.csv\",\n",
    "    config = TestConfig()\n",
    ")\n",
    "\n",
    "data['judgments'].head()"
   ]
  },
  {
   "cell_type": "markdown",
   "metadata": {},
   "source": [
    "## Computing the CrowdTruth metrics\n",
    "\n",
    "The pre-processed data can then be used to calculate the CrowdTruth metrics:"
   ]
  },
  {
   "cell_type": "code",
   "execution_count": 5,
   "metadata": {},
   "outputs": [],
   "source": [
    "results = crowdtruth.run(data, config)"
   ]
  },
  {
   "cell_type": "markdown",
   "metadata": {},
   "source": [
    "`results` is a dict object that contains the quality metrics for video fragments, annotations and crowd workers.\n",
    "\n",
    "The **video fragments metrics** are stored in `results[\"units\"]`:"
   ]
  },
  {
   "cell_type": "code",
   "execution_count": 6,
   "metadata": {},
   "outputs": [
    {
     "data": {
      "text/html": [
       "<div>\n",
       "<style scoped>\n",
       "    .dataframe tbody tr th:only-of-type {\n",
       "        vertical-align: middle;\n",
       "    }\n",
       "\n",
       "    .dataframe tbody tr th {\n",
       "        vertical-align: top;\n",
       "    }\n",
       "\n",
       "    .dataframe thead th {\n",
       "        text-align: right;\n",
       "    }\n",
       "</style>\n",
       "<table border=\"1\" class=\"dataframe\">\n",
       "  <thead>\n",
       "    <tr style=\"text-align: right;\">\n",
       "      <th></th>\n",
       "      <th>duration</th>\n",
       "      <th>input.imagetags</th>\n",
       "      <th>input.subtitles</th>\n",
       "      <th>input.subtitletags</th>\n",
       "      <th>input.videolocation</th>\n",
       "      <th>job</th>\n",
       "      <th>output.selected_answer</th>\n",
       "      <th>output.selected_answer.annotations</th>\n",
       "      <th>output.selected_answer.unique_annotations</th>\n",
       "      <th>worker</th>\n",
       "      <th>uqs</th>\n",
       "      <th>unit_annotation_score</th>\n",
       "      <th>uqs_initial</th>\n",
       "      <th>unit_annotation_score_initial</th>\n",
       "    </tr>\n",
       "    <tr>\n",
       "      <th>unit</th>\n",
       "      <th></th>\n",
       "      <th></th>\n",
       "      <th></th>\n",
       "      <th></th>\n",
       "      <th></th>\n",
       "      <th></th>\n",
       "      <th></th>\n",
       "      <th></th>\n",
       "      <th></th>\n",
       "      <th></th>\n",
       "      <th></th>\n",
       "      <th></th>\n",
       "      <th></th>\n",
       "      <th></th>\n",
       "    </tr>\n",
       "  </thead>\n",
       "  <tbody>\n",
       "    <tr>\n",
       "      <th>1856509899</th>\n",
       "      <td>24.95</td>\n",
       "      <td>industry__c0_###_grinder__c1_###_production__c...</td>\n",
       "      <td>Italian astronaut samantha cristoforetti uploa...</td>\n",
       "      <td>Italian__0_###_astronaut__1_###_samantha__2_##...</td>\n",
       "      <td>https://joran.org/ct/entity.admin.unit.2649/85...</td>\n",
       "      <td>../data/person-video-multiple-choice</td>\n",
       "      <td>{'astronaut': 20, 'scientist': 3, 'other': 1, ...</td>\n",
       "      <td>25</td>\n",
       "      <td>4</td>\n",
       "      <td>20</td>\n",
       "      <td>0.919461</td>\n",
       "      <td>{'astronaut': 1.0, 'scientist': 0.169109758893...</td>\n",
       "      <td>0.865963</td>\n",
       "      <td>{'astronaut': 1.0, 'scientist': 0.15, 'other':...</td>\n",
       "    </tr>\n",
       "    <tr>\n",
       "      <th>1856509900</th>\n",
       "      <td>30.00</td>\n",
       "      <td>man__c0_###_soccer__c1_###_portrait__c2_###_pe...</td>\n",
       "      <td>this phenomena is it's massive the</td>\n",
       "      <td>phenomena__0_###_massive__1_###_</td>\n",
       "      <td>https://joran.org/ct/entity.admin.unit.2649/85...</td>\n",
       "      <td>../data/person-video-multiple-choice</td>\n",
       "      <td>{'celebrity': 2, 'journalist': 2, 'presenter':...</td>\n",
       "      <td>29</td>\n",
       "      <td>11</td>\n",
       "      <td>20</td>\n",
       "      <td>0.290902</td>\n",
       "      <td>{'celebrity': 0.007285683902434039, 'journalis...</td>\n",
       "      <td>0.239176</td>\n",
       "      <td>{'celebrity': 0.1, 'journalist': 0.1, 'present...</td>\n",
       "    </tr>\n",
       "    <tr>\n",
       "      <th>1856509901</th>\n",
       "      <td>32.15</td>\n",
       "      <td>people__c0_###_man__c1_###_adult__c2_###_portr...</td>\n",
       "      <td>around could the lights be coming from</td>\n",
       "      <td>lights__0_###_coming__1_###_</td>\n",
       "      <td>https://joran.org/ct/entity.admin.unit.2649/85...</td>\n",
       "      <td>../data/person-video-multiple-choice</td>\n",
       "      <td>{'artist': 1, 'celebrity': 1, 'producer': 1, '...</td>\n",
       "      <td>25</td>\n",
       "      <td>9</td>\n",
       "      <td>20</td>\n",
       "      <td>0.295147</td>\n",
       "      <td>{'artist': 0.006139167492493724, 'celebrity': ...</td>\n",
       "      <td>0.216495</td>\n",
       "      <td>{'artist': 0.05, 'celebrity': 0.05, 'producer'...</td>\n",
       "    </tr>\n",
       "    <tr>\n",
       "      <th>1856509902</th>\n",
       "      <td>46.20</td>\n",
       "      <td>water__c0_###_no person__c1_###_ocean__c2_###_...</td>\n",
       "      <td>when investigators map the coordinates onto lo...</td>\n",
       "      <td>investigators__0_###_map__1_###_coordinates__2...</td>\n",
       "      <td>https://joran.org/ct/entity.admin.unit.2649/85...</td>\n",
       "      <td>../data/person-video-multiple-choice</td>\n",
       "      <td>{'scientist': 5, 'none': 11, 'presenter': 2, '...</td>\n",
       "      <td>24</td>\n",
       "      <td>8</td>\n",
       "      <td>20</td>\n",
       "      <td>0.552869</td>\n",
       "      <td>{'scientist': 0.15804046047341153, 'none': 0.7...</td>\n",
       "      <td>0.334078</td>\n",
       "      <td>{'scientist': 0.25, 'none': 0.55, 'presenter':...</td>\n",
       "    </tr>\n",
       "    <tr>\n",
       "      <th>1856509903</th>\n",
       "      <td>35.85</td>\n",
       "      <td>sky__c0_###_no person__c1_###_power__c2_###_el...</td>\n",
       "      <td>the bright lights are part of a</td>\n",
       "      <td>bright lights__0_###_</td>\n",
       "      <td>https://joran.org/ct/entity.admin.unit.2649/85...</td>\n",
       "      <td>../data/person-video-multiple-choice</td>\n",
       "      <td>{'none': 15, 'other': 2, 'fictionalcharacter':...</td>\n",
       "      <td>21</td>\n",
       "      <td>6</td>\n",
       "      <td>20</td>\n",
       "      <td>0.963842</td>\n",
       "      <td>{'none': 0.9830831242894289, 'other': 0.008259...</td>\n",
       "      <td>0.557895</td>\n",
       "      <td>{'none': 0.75, 'other': 0.1, 'fictionalcharact...</td>\n",
       "    </tr>\n",
       "  </tbody>\n",
       "</table>\n",
       "</div>"
      ],
      "text/plain": [
       "            duration                                    input.imagetags  \\\n",
       "unit                                                                      \n",
       "1856509899     24.95  industry__c0_###_grinder__c1_###_production__c...   \n",
       "1856509900     30.00  man__c0_###_soccer__c1_###_portrait__c2_###_pe...   \n",
       "1856509901     32.15  people__c0_###_man__c1_###_adult__c2_###_portr...   \n",
       "1856509902     46.20  water__c0_###_no person__c1_###_ocean__c2_###_...   \n",
       "1856509903     35.85  sky__c0_###_no person__c1_###_power__c2_###_el...   \n",
       "\n",
       "                                              input.subtitles  \\\n",
       "unit                                                            \n",
       "1856509899  Italian astronaut samantha cristoforetti uploa...   \n",
       "1856509900                 this phenomena is it's massive the   \n",
       "1856509901             around could the lights be coming from   \n",
       "1856509902  when investigators map the coordinates onto lo...   \n",
       "1856509903                    the bright lights are part of a   \n",
       "\n",
       "                                           input.subtitletags  \\\n",
       "unit                                                            \n",
       "1856509899  Italian__0_###_astronaut__1_###_samantha__2_##...   \n",
       "1856509900                   phenomena__0_###_massive__1_###_   \n",
       "1856509901                       lights__0_###_coming__1_###_   \n",
       "1856509902  investigators__0_###_map__1_###_coordinates__2...   \n",
       "1856509903                              bright lights__0_###_   \n",
       "\n",
       "                                          input.videolocation  \\\n",
       "unit                                                            \n",
       "1856509899  https://joran.org/ct/entity.admin.unit.2649/85...   \n",
       "1856509900  https://joran.org/ct/entity.admin.unit.2649/85...   \n",
       "1856509901  https://joran.org/ct/entity.admin.unit.2649/85...   \n",
       "1856509902  https://joran.org/ct/entity.admin.unit.2649/85...   \n",
       "1856509903  https://joran.org/ct/entity.admin.unit.2649/85...   \n",
       "\n",
       "                                             job  \\\n",
       "unit                                               \n",
       "1856509899  ../data/person-video-multiple-choice   \n",
       "1856509900  ../data/person-video-multiple-choice   \n",
       "1856509901  ../data/person-video-multiple-choice   \n",
       "1856509902  ../data/person-video-multiple-choice   \n",
       "1856509903  ../data/person-video-multiple-choice   \n",
       "\n",
       "                                       output.selected_answer  \\\n",
       "unit                                                            \n",
       "1856509899  {'astronaut': 20, 'scientist': 3, 'other': 1, ...   \n",
       "1856509900  {'celebrity': 2, 'journalist': 2, 'presenter':...   \n",
       "1856509901  {'artist': 1, 'celebrity': 1, 'producer': 1, '...   \n",
       "1856509902  {'scientist': 5, 'none': 11, 'presenter': 2, '...   \n",
       "1856509903  {'none': 15, 'other': 2, 'fictionalcharacter':...   \n",
       "\n",
       "            output.selected_answer.annotations  \\\n",
       "unit                                             \n",
       "1856509899                                  25   \n",
       "1856509900                                  29   \n",
       "1856509901                                  25   \n",
       "1856509902                                  24   \n",
       "1856509903                                  21   \n",
       "\n",
       "            output.selected_answer.unique_annotations  worker       uqs  \\\n",
       "unit                                                                      \n",
       "1856509899                                          4      20  0.919461   \n",
       "1856509900                                         11      20  0.290902   \n",
       "1856509901                                          9      20  0.295147   \n",
       "1856509902                                          8      20  0.552869   \n",
       "1856509903                                          6      20  0.963842   \n",
       "\n",
       "                                        unit_annotation_score  uqs_initial  \\\n",
       "unit                                                                         \n",
       "1856509899  {'astronaut': 1.0, 'scientist': 0.169109758893...     0.865963   \n",
       "1856509900  {'celebrity': 0.007285683902434039, 'journalis...     0.239176   \n",
       "1856509901  {'artist': 0.006139167492493724, 'celebrity': ...     0.216495   \n",
       "1856509902  {'scientist': 0.15804046047341153, 'none': 0.7...     0.334078   \n",
       "1856509903  {'none': 0.9830831242894289, 'other': 0.008259...     0.557895   \n",
       "\n",
       "                                unit_annotation_score_initial  \n",
       "unit                                                           \n",
       "1856509899  {'astronaut': 1.0, 'scientist': 0.15, 'other':...  \n",
       "1856509900  {'celebrity': 0.1, 'journalist': 0.1, 'present...  \n",
       "1856509901  {'artist': 0.05, 'celebrity': 0.05, 'producer'...  \n",
       "1856509902  {'scientist': 0.25, 'none': 0.55, 'presenter':...  \n",
       "1856509903  {'none': 0.75, 'other': 0.1, 'fictionalcharact...  "
      ]
     },
     "execution_count": 6,
     "metadata": {},
     "output_type": "execute_result"
    }
   ],
   "source": [
    "results[\"units\"].head()"
   ]
  },
  {
   "cell_type": "markdown",
   "metadata": {},
   "source": [
    "The `uqs` column in `results[\"units\"]` contains the **video fragment quality scores**, capturing the overall workers agreement over each video fragment. Here we plot its histogram:"
   ]
  },
  {
   "cell_type": "markdown",
   "metadata": {},
   "source": [
    "## Video Fragment Quality Score"
   ]
  },
  {
   "cell_type": "code",
   "execution_count": 7,
   "metadata": {},
   "outputs": [
    {
     "data": {
      "text/plain": [
       "Text(0, 0.5, 'Video Fragments')"
      ]
     },
     "execution_count": 7,
     "metadata": {},
     "output_type": "execute_result"
    },
    {
     "data": {
      "image/png": "[encoded data removed]",
      "text/plain": [
       "<Figure size 432x288 with 1 Axes>"
      ]
     },
     "metadata": {
      "needs_background": "light"
     },
     "output_type": "display_data"
    }
   ],
   "source": [
    "import matplotlib.pyplot as plt\n",
    "%matplotlib inline\n",
    "\n",
    "plt.hist(results[\"units\"][\"uqs\"])\n",
    "plt.xlabel(\"Video Fragment Quality Score\")\n",
    "plt.ylabel(\"Video Fragments\")"
   ]
  },
  {
   "cell_type": "markdown",
   "metadata": {},
   "source": [
    "The `unit_annotation_score` column in `results[\"units\"]` contains the **video fragment-annotation scores**, capturing the likelihood that an annotation is expressed in a video fragment. For each video fragment, we store a dictionary mapping each annotation to its video fragment-annotation score."
   ]
  },
  {
   "cell_type": "code",
   "execution_count": 8,
   "metadata": {},
   "outputs": [
    {
     "data": {
      "text/plain": [
       "unit\n",
       "1856509899    {'astronaut': 1.0, 'scientist': 0.169109758893...\n",
       "1856509900    {'celebrity': 0.007285683902434039, 'journalis...\n",
       "1856509901    {'artist': 0.006139167492493724, 'celebrity': ...\n",
       "1856509902    {'scientist': 0.15804046047341153, 'none': 0.7...\n",
       "1856509903    {'none': 0.9830831242894289, 'other': 0.008259...\n",
       "Name: unit_annotation_score, dtype: object"
      ]
     },
     "execution_count": 8,
     "metadata": {},
     "output_type": "execute_result"
    }
   ],
   "source": [
    "results[\"units\"][\"unit_annotation_score\"].head()"
   ]
  },
  {
   "cell_type": "markdown",
   "metadata": {},
   "source": [
    "### Ambiguous video fragments"
   ]
  },
  {
   "cell_type": "code",
   "execution_count": 9,
   "metadata": {},
   "outputs": [
    {
     "data": {
      "text/html": [
       "<div>\n",
       "<style scoped>\n",
       "    .dataframe tbody tr th:only-of-type {\n",
       "        vertical-align: middle;\n",
       "    }\n",
       "\n",
       "    .dataframe tbody tr th {\n",
       "        vertical-align: top;\n",
       "    }\n",
       "\n",
       "    .dataframe thead th {\n",
       "        text-align: right;\n",
       "    }\n",
       "</style>\n",
       "<table border=\"1\" class=\"dataframe\">\n",
       "  <thead>\n",
       "    <tr style=\"text-align: right;\">\n",
       "      <th></th>\n",
       "      <th>input.videolocation</th>\n",
       "      <th>uqs</th>\n",
       "      <th>unit_annotation_score</th>\n",
       "    </tr>\n",
       "    <tr>\n",
       "      <th>unit</th>\n",
       "      <th></th>\n",
       "      <th></th>\n",
       "      <th></th>\n",
       "    </tr>\n",
       "  </thead>\n",
       "  <tbody>\n",
       "    <tr>\n",
       "      <th>1856509905</th>\n",
       "      <td>https://joran.org/ct/entity.admin.unit.2649/85...</td>\n",
       "      <td>0.146278</td>\n",
       "      <td>{'other': 0.28844109454744976, 'presenter': 0....</td>\n",
       "    </tr>\n",
       "    <tr>\n",
       "      <th>1856509931</th>\n",
       "      <td>https://joran.org/ct/entity.admin.unit.2833/90...</td>\n",
       "      <td>0.194667</td>\n",
       "      <td>{'engineer': 0.15692508334014804, 'journalist'...</td>\n",
       "    </tr>\n",
       "    <tr>\n",
       "      <th>1856509938</th>\n",
       "      <td>https://joran.org/ct/entity.admin.unit.2833/90...</td>\n",
       "      <td>0.207788</td>\n",
       "      <td>{'businessperson': 0.06949004651596365, 'prese...</td>\n",
       "    </tr>\n",
       "    <tr>\n",
       "      <th>1856509921</th>\n",
       "      <td>https://joran.org/ct/entity.admin.unit.2848/88...</td>\n",
       "      <td>0.220392</td>\n",
       "      <td>{'monarch': 0.42098378954483356, 'other': 0.27...</td>\n",
       "    </tr>\n",
       "    <tr>\n",
       "      <th>1856509944</th>\n",
       "      <td>https://joran.org/ct/entity.admin.unit.2784/11...</td>\n",
       "      <td>0.242865</td>\n",
       "      <td>{'politician': 0.006580944290157723, 'none': 0...</td>\n",
       "    </tr>\n",
       "  </tbody>\n",
       "</table>\n",
       "</div>"
      ],
      "text/plain": [
       "                                          input.videolocation       uqs  \\\n",
       "unit                                                                      \n",
       "1856509905  https://joran.org/ct/entity.admin.unit.2649/85...  0.146278   \n",
       "1856509931  https://joran.org/ct/entity.admin.unit.2833/90...  0.194667   \n",
       "1856509938  https://joran.org/ct/entity.admin.unit.2833/90...  0.207788   \n",
       "1856509921  https://joran.org/ct/entity.admin.unit.2848/88...  0.220392   \n",
       "1856509944  https://joran.org/ct/entity.admin.unit.2784/11...  0.242865   \n",
       "\n",
       "                                        unit_annotation_score  \n",
       "unit                                                           \n",
       "1856509905  {'other': 0.28844109454744976, 'presenter': 0....  \n",
       "1856509931  {'engineer': 0.15692508334014804, 'journalist'...  \n",
       "1856509938  {'businessperson': 0.06949004651596365, 'prese...  \n",
       "1856509921  {'monarch': 0.42098378954483356, 'other': 0.27...  \n",
       "1856509944  {'politician': 0.006580944290157723, 'none': 0...  "
      ]
     },
     "execution_count": 9,
     "metadata": {},
     "output_type": "execute_result"
    }
   ],
   "source": [
    "results[\"units\"].sort_values(by=[\"uqs\"])[[\"input.videolocation\", \"uqs\", \"unit_annotation_score\"]].head()"
   ]
  },
  {
   "cell_type": "code",
   "execution_count": 10,
   "metadata": {},
   "outputs": [
    {
     "data": {
      "text/plain": [
       "input.videolocation      https://joran.org/ct/entity.admin.unit.2649/85...\n",
       "uqs                                                               0.146278\n",
       "unit_annotation_score    {'other': 0.28844109454744976, 'presenter': 0....\n",
       "Name: 1856509905, dtype: object"
      ]
     },
     "execution_count": 10,
     "metadata": {},
     "output_type": "execute_result"
    }
   ],
   "source": [
    "results[\"units\"].sort_values(by=[\"uqs\"])[[\"input.videolocation\", \"uqs\", \"unit_annotation_score\"]].iloc[0]"
   ]
  },
  {
   "cell_type": "code",
   "execution_count": 11,
   "metadata": {},
   "outputs": [
    {
     "data": {
      "text/html": [
       "<video width='320' height='240' controls><source src=https://joran.org/ct/entity.admin.unit.2649/8576.mp4 type='video/mp4'></video>"
      ],
      "text/plain": [
       "<IPython.core.display.HTML object>"
      ]
     },
     "execution_count": 11,
     "metadata": {},
     "output_type": "execute_result"
    }
   ],
   "source": [
    "from IPython.display import HTML\n",
    "vid_url = list(results[\"units\"].sort_values(by=[\"uqs\"])[[\"input.videolocation\"]].iloc[0])\n",
    "HTML(\"<video width='320' height='240' controls><source src=\" + vid_url[0] + \" type='video/mp4'></video>\")"
   ]
  },
  {
   "cell_type": "code",
   "execution_count": 12,
   "metadata": {},
   "outputs": [
    {
     "name": "stdout",
     "output_type": "stream",
     "text": [
      "other ; 0.28844109454744976\n",
      "presenter ; 0.144930232611664\n",
      "scientist ; 0.22919915879815284\n",
      "journalist ; 0.14534325083723273\n",
      "artist ; 0.005696670688424697\n",
      "businessperson ; 0.10163406871362905\n",
      "politician ; 0.03781678033568675\n",
      "none ; 0.21943896131257373\n",
      "lawyer ; 0.020785177196552786\n",
      "philosopher ; 0.0056418079486984535\n",
      "architect ; 3.3953714172294374e-05\n",
      "astronaut ; 3.3953714172294374e-05\n",
      "athlete ; 3.3953714172294374e-05\n"
     ]
    }
   ],
   "source": [
    "for k, v in results[\"units\"].sort_values(by=[\"uqs\"])[[\"unit_annotation_score\"]].iloc[0][\"unit_annotation_score\"].items():\n",
    "    if v > 0:\n",
    "        print(str(k) + \" ; \" + str(v))"
   ]
  },
  {
   "cell_type": "markdown",
   "metadata": {},
   "source": [
    "### Unambiguous video fragments"
   ]
  },
  {
   "cell_type": "code",
   "execution_count": 13,
   "metadata": {},
   "outputs": [
    {
     "data": {
      "text/html": [
       "<div>\n",
       "<style scoped>\n",
       "    .dataframe tbody tr th:only-of-type {\n",
       "        vertical-align: middle;\n",
       "    }\n",
       "\n",
       "    .dataframe tbody tr th {\n",
       "        vertical-align: top;\n",
       "    }\n",
       "\n",
       "    .dataframe thead th {\n",
       "        text-align: right;\n",
       "    }\n",
       "</style>\n",
       "<table border=\"1\" class=\"dataframe\">\n",
       "  <thead>\n",
       "    <tr style=\"text-align: right;\">\n",
       "      <th></th>\n",
       "      <th>input.videolocation</th>\n",
       "      <th>uqs</th>\n",
       "      <th>unit_annotation_score</th>\n",
       "    </tr>\n",
       "    <tr>\n",
       "      <th>unit</th>\n",
       "      <th></th>\n",
       "      <th></th>\n",
       "      <th></th>\n",
       "    </tr>\n",
       "  </thead>\n",
       "  <tbody>\n",
       "    <tr>\n",
       "      <th>1856509933</th>\n",
       "      <td>https://joran.org/ct/entity.admin.unit.2833/90...</td>\n",
       "      <td>0.998529</td>\n",
       "      <td>{'none': 0.9993036353660087, 'militaryperson':...</td>\n",
       "    </tr>\n",
       "    <tr>\n",
       "      <th>1856509930</th>\n",
       "      <td>https://joran.org/ct/entity.admin.unit.2833/90...</td>\n",
       "      <td>0.998529</td>\n",
       "      <td>{'none': 0.9993036353660087, 'model': 0.000696...</td>\n",
       "    </tr>\n",
       "    <tr>\n",
       "      <th>1856509908</th>\n",
       "      <td>https://joran.org/ct/entity.admin.unit.2649/85...</td>\n",
       "      <td>0.998529</td>\n",
       "      <td>{'none': 0.9993036353660087, 'philosopher': 0....</td>\n",
       "    </tr>\n",
       "    <tr>\n",
       "      <th>1856509909</th>\n",
       "      <td>https://joran.org/ct/entity.admin.unit.2643/86...</td>\n",
       "      <td>0.998512</td>\n",
       "      <td>{'none': 0.9992954829530591, 'fictionalcharact...</td>\n",
       "    </tr>\n",
       "    <tr>\n",
       "      <th>1856509937</th>\n",
       "      <td>https://joran.org/ct/entity.admin.unit.2833/90...</td>\n",
       "      <td>0.998456</td>\n",
       "      <td>{'none': 0.9992692794931864, 'journalist': 0.0...</td>\n",
       "    </tr>\n",
       "  </tbody>\n",
       "</table>\n",
       "</div>"
      ],
      "text/plain": [
       "                                          input.videolocation       uqs  \\\n",
       "unit                                                                      \n",
       "1856509933  https://joran.org/ct/entity.admin.unit.2833/90...  0.998529   \n",
       "1856509930  https://joran.org/ct/entity.admin.unit.2833/90...  0.998529   \n",
       "1856509908  https://joran.org/ct/entity.admin.unit.2649/85...  0.998529   \n",
       "1856509909  https://joran.org/ct/entity.admin.unit.2643/86...  0.998512   \n",
       "1856509937  https://joran.org/ct/entity.admin.unit.2833/90...  0.998456   \n",
       "\n",
       "                                        unit_annotation_score  \n",
       "unit                                                           \n",
       "1856509933  {'none': 0.9993036353660087, 'militaryperson':...  \n",
       "1856509930  {'none': 0.9993036353660087, 'model': 0.000696...  \n",
       "1856509908  {'none': 0.9993036353660087, 'philosopher': 0....  \n",
       "1856509909  {'none': 0.9992954829530591, 'fictionalcharact...  \n",
       "1856509937  {'none': 0.9992692794931864, 'journalist': 0.0...  "
      ]
     },
     "execution_count": 13,
     "metadata": {},
     "output_type": "execute_result"
    }
   ],
   "source": [
    "results[\"units\"].sort_values(by=[\"uqs\"], ascending=False)[[\"input.videolocation\", \"uqs\", \"unit_annotation_score\"]].head()"
   ]
  },
  {
   "cell_type": "code",
   "execution_count": 14,
   "metadata": {},
   "outputs": [
    {
     "data": {
      "text/plain": [
       "input.videolocation      https://joran.org/ct/entity.admin.unit.2833/90...\n",
       "uqs                                                               0.998529\n",
       "unit_annotation_score    {'none': 0.9993036353660087, 'militaryperson':...\n",
       "Name: 1856509933, dtype: object"
      ]
     },
     "execution_count": 14,
     "metadata": {},
     "output_type": "execute_result"
    }
   ],
   "source": [
    "results[\"units\"].sort_values(by=[\"uqs\"], ascending=False)[[\"input.videolocation\", \"uqs\", \"unit_annotation_score\"]].iloc[0]"
   ]
  },
  {
   "cell_type": "code",
   "execution_count": 15,
   "metadata": {},
   "outputs": [
    {
     "data": {
      "text/html": [
       "<video width='320' height='240' controls><source src=https://joran.org/ct/entity.admin.unit.2833/9012.mp4 type='video/mp4'></video>"
      ],
      "text/plain": [
       "<IPython.core.display.HTML object>"
      ]
     },
     "execution_count": 15,
     "metadata": {},
     "output_type": "execute_result"
    }
   ],
   "source": [
    "vid_url = list(results[\"units\"].sort_values(by=[\"uqs\"], ascending=False)[[\"input.videolocation\"]].iloc[0])\n",
    "HTML(\"<video width='320' height='240' controls><source src=\" + vid_url[0] + \" type='video/mp4'></video>\")"
   ]
  },
  {
   "cell_type": "code",
   "execution_count": 16,
   "metadata": {},
   "outputs": [
    {
     "name": "stdout",
     "output_type": "stream",
     "text": [
      "none ; 0.9993036353660087\n",
      "militaryperson ; 0.0006963646339910918\n"
     ]
    }
   ],
   "source": [
    "for k, v in results[\"units\"].sort_values(by=[\"uqs\"], ascending=False)[[\"unit_annotation_score\"]].iloc[0][\"unit_annotation_score\"].items():\n",
    "    if v > 0:\n",
    "        print(str(k) + \" ; \" + str(v))"
   ]
  },
  {
   "cell_type": "markdown",
   "metadata": {},
   "source": [
    "## Worker Quality Scores"
   ]
  },
  {
   "cell_type": "markdown",
   "metadata": {},
   "source": [
    "The **worker metrics** are stored in `results[\"workers\"]`:"
   ]
  },
  {
   "cell_type": "code",
   "execution_count": 17,
   "metadata": {},
   "outputs": [
    {
     "data": {
      "text/html": [
       "<div>\n",
       "<style scoped>\n",
       "    .dataframe tbody tr th:only-of-type {\n",
       "        vertical-align: middle;\n",
       "    }\n",
       "\n",
       "    .dataframe tbody tr th {\n",
       "        vertical-align: top;\n",
       "    }\n",
       "\n",
       "    .dataframe thead th {\n",
       "        text-align: right;\n",
       "    }\n",
       "</style>\n",
       "<table border=\"1\" class=\"dataframe\">\n",
       "  <thead>\n",
       "    <tr style=\"text-align: right;\">\n",
       "      <th></th>\n",
       "      <th>unit</th>\n",
       "      <th>judgment</th>\n",
       "      <th>job</th>\n",
       "      <th>duration</th>\n",
       "      <th>wqs</th>\n",
       "      <th>wwa</th>\n",
       "      <th>wsa</th>\n",
       "      <th>wqs_initial</th>\n",
       "      <th>wwa_initial</th>\n",
       "      <th>wsa_initial</th>\n",
       "    </tr>\n",
       "    <tr>\n",
       "      <th>worker</th>\n",
       "      <th></th>\n",
       "      <th></th>\n",
       "      <th></th>\n",
       "      <th></th>\n",
       "      <th></th>\n",
       "      <th></th>\n",
       "      <th></th>\n",
       "      <th></th>\n",
       "      <th></th>\n",
       "      <th></th>\n",
       "    </tr>\n",
       "  </thead>\n",
       "  <tbody>\n",
       "    <tr>\n",
       "      <th>3587109</th>\n",
       "      <td>25</td>\n",
       "      <td>25</td>\n",
       "      <td>1</td>\n",
       "      <td>12.840000</td>\n",
       "      <td>0.470469</td>\n",
       "      <td>0.603399</td>\n",
       "      <td>0.779698</td>\n",
       "      <td>0.215188</td>\n",
       "      <td>0.371369</td>\n",
       "      <td>0.579445</td>\n",
       "    </tr>\n",
       "    <tr>\n",
       "      <th>4316379</th>\n",
       "      <td>25</td>\n",
       "      <td>25</td>\n",
       "      <td>1</td>\n",
       "      <td>24.040000</td>\n",
       "      <td>0.511478</td>\n",
       "      <td>0.668219</td>\n",
       "      <td>0.765435</td>\n",
       "      <td>0.280311</td>\n",
       "      <td>0.436881</td>\n",
       "      <td>0.641618</td>\n",
       "    </tr>\n",
       "    <tr>\n",
       "      <th>6330997</th>\n",
       "      <td>7</td>\n",
       "      <td>7</td>\n",
       "      <td>1</td>\n",
       "      <td>38.714286</td>\n",
       "      <td>0.468025</td>\n",
       "      <td>0.615484</td>\n",
       "      <td>0.760417</td>\n",
       "      <td>0.320348</td>\n",
       "      <td>0.457103</td>\n",
       "      <td>0.700822</td>\n",
       "    </tr>\n",
       "    <tr>\n",
       "      <th>6339764</th>\n",
       "      <td>10</td>\n",
       "      <td>10</td>\n",
       "      <td>1</td>\n",
       "      <td>80.500000</td>\n",
       "      <td>0.019778</td>\n",
       "      <td>0.122949</td>\n",
       "      <td>0.160866</td>\n",
       "      <td>0.028307</td>\n",
       "      <td>0.122603</td>\n",
       "      <td>0.230880</td>\n",
       "    </tr>\n",
       "    <tr>\n",
       "      <th>6367365</th>\n",
       "      <td>25</td>\n",
       "      <td>25</td>\n",
       "      <td>1</td>\n",
       "      <td>29.280000</td>\n",
       "      <td>0.172523</td>\n",
       "      <td>0.385336</td>\n",
       "      <td>0.447722</td>\n",
       "      <td>0.122195</td>\n",
       "      <td>0.275177</td>\n",
       "      <td>0.444062</td>\n",
       "    </tr>\n",
       "  </tbody>\n",
       "</table>\n",
       "</div>"
      ],
      "text/plain": [
       "         unit  judgment  job   duration       wqs       wwa       wsa  \\\n",
       "worker                                                                  \n",
       "3587109    25        25    1  12.840000  0.470469  0.603399  0.779698   \n",
       "4316379    25        25    1  24.040000  0.511478  0.668219  0.765435   \n",
       "6330997     7         7    1  38.714286  0.468025  0.615484  0.760417   \n",
       "6339764    10        10    1  80.500000  0.019778  0.122949  0.160866   \n",
       "6367365    25        25    1  29.280000  0.172523  0.385336  0.447722   \n",
       "\n",
       "         wqs_initial  wwa_initial  wsa_initial  \n",
       "worker                                          \n",
       "3587109     0.215188     0.371369     0.579445  \n",
       "4316379     0.280311     0.436881     0.641618  \n",
       "6330997     0.320348     0.457103     0.700822  \n",
       "6339764     0.028307     0.122603     0.230880  \n",
       "6367365     0.122195     0.275177     0.444062  "
      ]
     },
     "execution_count": 17,
     "metadata": {},
     "output_type": "execute_result"
    }
   ],
   "source": [
    "results[\"workers\"].head()"
   ]
  },
  {
   "cell_type": "markdown",
   "metadata": {},
   "source": [
    "The `wqs` columns in `results[\"workers\"]` contains the **worker quality scores**, capturing the overall agreement between one worker and all the other workers."
   ]
  },
  {
   "cell_type": "code",
   "execution_count": 18,
   "metadata": {},
   "outputs": [
    {
     "data": {
      "text/plain": [
       "Text(0, 0.5, 'Workers')"
      ]
     },
     "execution_count": 18,
     "metadata": {},
     "output_type": "execute_result"
    },
    {
     "data": {
      "image/png": "[encoded data removed]",
      "text/plain": [
       "<Figure size 432x288 with 1 Axes>"
      ]
     },
     "metadata": {
      "needs_background": "light"
     },
     "output_type": "display_data"
    }
   ],
   "source": [
    "plt.hist(results[\"workers\"][\"wqs\"])\n",
    "plt.xlabel(\"Worker Quality Score\")\n",
    "plt.ylabel(\"Workers\")"
   ]
  },
  {
   "cell_type": "markdown",
   "metadata": {},
   "source": [
    "### Low quality workers"
   ]
  },
  {
   "cell_type": "code",
   "execution_count": 19,
   "metadata": {},
   "outputs": [
    {
     "data": {
      "text/html": [
       "<div>\n",
       "<style scoped>\n",
       "    .dataframe tbody tr th:only-of-type {\n",
       "        vertical-align: middle;\n",
       "    }\n",
       "\n",
       "    .dataframe tbody tr th {\n",
       "        vertical-align: top;\n",
       "    }\n",
       "\n",
       "    .dataframe thead th {\n",
       "        text-align: right;\n",
       "    }\n",
       "</style>\n",
       "<table border=\"1\" class=\"dataframe\">\n",
       "  <thead>\n",
       "    <tr style=\"text-align: right;\">\n",
       "      <th></th>\n",
       "      <th>unit</th>\n",
       "      <th>judgment</th>\n",
       "      <th>job</th>\n",
       "      <th>duration</th>\n",
       "      <th>wqs</th>\n",
       "      <th>wwa</th>\n",
       "      <th>wsa</th>\n",
       "      <th>wqs_initial</th>\n",
       "      <th>wwa_initial</th>\n",
       "      <th>wsa_initial</th>\n",
       "    </tr>\n",
       "    <tr>\n",
       "      <th>worker</th>\n",
       "      <th></th>\n",
       "      <th></th>\n",
       "      <th></th>\n",
       "      <th></th>\n",
       "      <th></th>\n",
       "      <th></th>\n",
       "      <th></th>\n",
       "      <th></th>\n",
       "      <th></th>\n",
       "      <th></th>\n",
       "    </tr>\n",
       "  </thead>\n",
       "  <tbody>\n",
       "    <tr>\n",
       "      <th>44656777</th>\n",
       "      <td>1</td>\n",
       "      <td>1</td>\n",
       "      <td>1</td>\n",
       "      <td>16.0</td>\n",
       "      <td>0.000267</td>\n",
       "      <td>0.014584</td>\n",
       "      <td>0.018305</td>\n",
       "      <td>0.015075</td>\n",
       "      <td>0.073468</td>\n",
       "      <td>0.205196</td>\n",
       "    </tr>\n",
       "    <tr>\n",
       "      <th>44606916</th>\n",
       "      <td>5</td>\n",
       "      <td>5</td>\n",
       "      <td>1</td>\n",
       "      <td>70.6</td>\n",
       "      <td>0.000573</td>\n",
       "      <td>0.022518</td>\n",
       "      <td>0.025460</td>\n",
       "      <td>0.006691</td>\n",
       "      <td>0.057175</td>\n",
       "      <td>0.117028</td>\n",
       "    </tr>\n",
       "    <tr>\n",
       "      <th>31508822</th>\n",
       "      <td>3</td>\n",
       "      <td>3</td>\n",
       "      <td>1</td>\n",
       "      <td>573.0</td>\n",
       "      <td>0.001310</td>\n",
       "      <td>0.038485</td>\n",
       "      <td>0.034045</td>\n",
       "      <td>0.021185</td>\n",
       "      <td>0.102832</td>\n",
       "      <td>0.206015</td>\n",
       "    </tr>\n",
       "    <tr>\n",
       "      <th>15965551</th>\n",
       "      <td>25</td>\n",
       "      <td>25</td>\n",
       "      <td>1</td>\n",
       "      <td>30.0</td>\n",
       "      <td>0.008752</td>\n",
       "      <td>0.088362</td>\n",
       "      <td>0.099049</td>\n",
       "      <td>0.010984</td>\n",
       "      <td>0.091147</td>\n",
       "      <td>0.120512</td>\n",
       "    </tr>\n",
       "    <tr>\n",
       "      <th>6339764</th>\n",
       "      <td>10</td>\n",
       "      <td>10</td>\n",
       "      <td>1</td>\n",
       "      <td>80.5</td>\n",
       "      <td>0.019778</td>\n",
       "      <td>0.122949</td>\n",
       "      <td>0.160866</td>\n",
       "      <td>0.028307</td>\n",
       "      <td>0.122603</td>\n",
       "      <td>0.230880</td>\n",
       "    </tr>\n",
       "  </tbody>\n",
       "</table>\n",
       "</div>"
      ],
      "text/plain": [
       "          unit  judgment  job  duration       wqs       wwa       wsa  \\\n",
       "worker                                                                  \n",
       "44656777     1         1    1      16.0  0.000267  0.014584  0.018305   \n",
       "44606916     5         5    1      70.6  0.000573  0.022518  0.025460   \n",
       "31508822     3         3    1     573.0  0.001310  0.038485  0.034045   \n",
       "15965551    25        25    1      30.0  0.008752  0.088362  0.099049   \n",
       "6339764     10        10    1      80.5  0.019778  0.122949  0.160866   \n",
       "\n",
       "          wqs_initial  wwa_initial  wsa_initial  \n",
       "worker                                           \n",
       "44656777     0.015075     0.073468     0.205196  \n",
       "44606916     0.006691     0.057175     0.117028  \n",
       "31508822     0.021185     0.102832     0.206015  \n",
       "15965551     0.010984     0.091147     0.120512  \n",
       "6339764      0.028307     0.122603     0.230880  "
      ]
     },
     "execution_count": 19,
     "metadata": {},
     "output_type": "execute_result"
    }
   ],
   "source": [
    "results[\"workers\"].sort_values(by=[\"wqs\"]).head()"
   ]
  },
  {
   "cell_type": "code",
   "execution_count": 20,
   "metadata": {},
   "outputs": [
    {
     "name": "stdout",
     "output_type": "stream",
     "text": [
      "judgment\n",
      "3993903470    1856509900\n",
      "3993909654    1856509903\n",
      "3993905693    1856509920\n",
      "3993909079    1856509923\n",
      "3993914676    1856509946\n",
      "Name: unit, dtype: int64\n"
     ]
    }
   ],
   "source": [
    "work_id = results[\"workers\"].sort_values(by=[\"wqs\"]).index[1]\n",
    "work_units = results[\"judgments\"][results[\"judgments\"][\"worker\"] == work_id][\"unit\"]\n",
    "print(work_units)"
   ]
  },
  {
   "cell_type": "code",
   "execution_count": 21,
   "metadata": {},
   "outputs": [
    {
     "data": {
      "text/html": [
       "<video width='320' height='240' controls><source src=https://joran.org/ct/entity.admin.unit.2649/8561.mp4 type='video/mp4'></video>"
      ],
      "text/plain": [
       "<IPython.core.display.HTML object>"
      ]
     },
     "execution_count": 21,
     "metadata": {},
     "output_type": "execute_result"
    }
   ],
   "source": [
    "vid_url = results[\"units\"][\"input.videolocation\"][work_units.iloc[0]]\n",
    "HTML(\"<video width='320' height='240' controls><source src=\" + str(vid_url) + \" type='video/mp4'></video>\")"
   ]
  },
  {
   "cell_type": "code",
   "execution_count": 22,
   "metadata": {},
   "outputs": [
    {
     "name": "stdout",
     "output_type": "stream",
     "text": [
      "JUDGMENTS OF LOW QUALITY WORKER 44606916 FOR VIDEO 1856509900:\n",
      "celebrity : 1\n",
      "\n",
      "ALL JUDGMENTS FOR VIDEO 1856509900\n",
      "other : 9\n",
      "scientist : 6\n",
      "none : 3\n",
      "celebrity : 2\n",
      "journalist : 2\n",
      "presenter : 2\n",
      "archeologist : 1\n",
      "fictionalcharacter : 1\n",
      "producer : 1\n",
      "psychologist : 1\n",
      "writer : 1\n"
     ]
    }
   ],
   "source": [
    "import operator\n",
    "\n",
    "work_judg = results[\"judgments\"][results[\"judgments\"][\"unit\"] == work_units.iloc[0]]\n",
    "\n",
    "print(\"JUDGMENTS OF LOW QUALITY WORKER %d FOR VIDEO %d:\" % (work_id, work_units.iloc[0]))\n",
    "for k, v in work_judg[work_judg[\"worker\"] == work_id][\"output.selected_answer\"].iloc[0].items():\n",
    "    if v > 0:\n",
    "        print(str(k) + \" : \" + str(v))\n",
    "\n",
    "print(\"\\nALL JUDGMENTS FOR VIDEO %d\" % work_units.iloc[0])\n",
    "sorted_judg = sorted(\n",
    "    results[\"units\"][\"output.selected_answer\"][work_units.iloc[0]].items(),\n",
    "    key=operator.itemgetter(1),\n",
    "    reverse=True)\n",
    "\n",
    "for k, v in sorted_judg:\n",
    "    if v > 0:\n",
    "        print(str(k) + \" : \" + str(v))"
   ]
  },
  {
   "cell_type": "code",
   "execution_count": 23,
   "metadata": {},
   "outputs": [
    {
     "data": {
      "text/html": [
       "<video width='320' height='240' controls><source src=https://joran.org/ct/entity.admin.unit.2649/8570.mp4 type='video/mp4'></video>"
      ],
      "text/plain": [
       "<IPython.core.display.HTML object>"
      ]
     },
     "execution_count": 23,
     "metadata": {},
     "output_type": "execute_result"
    }
   ],
   "source": [
    "vid_url = results[\"units\"][\"input.videolocation\"][work_units.iloc[1]]\n",
    "HTML(\"<video width='320' height='240' controls><source src=\" + str(vid_url) + \" type='video/mp4'></video>\")"
   ]
  },
  {
   "cell_type": "code",
   "execution_count": 24,
   "metadata": {},
   "outputs": [
    {
     "name": "stdout",
     "output_type": "stream",
     "text": [
      "JUDGMENTS OF LOW QUALITY WORKER 44606916 FOR VIDEO 1856509903:\n",
      "archeologist : 1\n",
      "\n",
      "ALL JUDGMENTS FOR VIDEO 1856509900\n",
      "none : 15\n",
      "other : 2\n",
      "fictionalcharacter : 1\n",
      "writer : 1\n",
      "archeologist : 1\n",
      "scientist : 1\n"
     ]
    }
   ],
   "source": [
    "work_judg = results[\"judgments\"][results[\"judgments\"][\"unit\"] == work_units.iloc[1]]\n",
    "\n",
    "print(\"JUDGMENTS OF LOW QUALITY WORKER %d FOR VIDEO %d:\" % (work_id, work_units.iloc[1]))\n",
    "for k, v in work_judg[work_judg[\"worker\"] == work_id][\"output.selected_answer\"].iloc[0].items():\n",
    "    if v > 0:\n",
    "        print(str(k) + \" : \" + str(v))\n",
    "\n",
    "print(\"\\nALL JUDGMENTS FOR VIDEO %d\" % work_units.iloc[0])\n",
    "sorted_judg = sorted(\n",
    "    results[\"units\"][\"output.selected_answer\"][work_units.iloc[1]].items(),\n",
    "    key=operator.itemgetter(1),\n",
    "    reverse=True)\n",
    "\n",
    "for k, v in sorted_judg:\n",
    "    if v > 0:\n",
    "        print(str(k) + \" : \" + str(v))"
   ]
  },
  {
   "cell_type": "markdown",
   "metadata": {},
   "source": [
    "### High quality workers"
   ]
  },
  {
   "cell_type": "code",
   "execution_count": 25,
   "metadata": {},
   "outputs": [
    {
     "data": {
      "text/html": [
       "<div>\n",
       "<style scoped>\n",
       "    .dataframe tbody tr th:only-of-type {\n",
       "        vertical-align: middle;\n",
       "    }\n",
       "\n",
       "    .dataframe tbody tr th {\n",
       "        vertical-align: top;\n",
       "    }\n",
       "\n",
       "    .dataframe thead th {\n",
       "        text-align: right;\n",
       "    }\n",
       "</style>\n",
       "<table border=\"1\" class=\"dataframe\">\n",
       "  <thead>\n",
       "    <tr style=\"text-align: right;\">\n",
       "      <th></th>\n",
       "      <th>unit</th>\n",
       "      <th>judgment</th>\n",
       "      <th>job</th>\n",
       "      <th>duration</th>\n",
       "      <th>wqs</th>\n",
       "      <th>wwa</th>\n",
       "      <th>wsa</th>\n",
       "      <th>wqs_initial</th>\n",
       "      <th>wwa_initial</th>\n",
       "      <th>wsa_initial</th>\n",
       "    </tr>\n",
       "    <tr>\n",
       "      <th>worker</th>\n",
       "      <th></th>\n",
       "      <th></th>\n",
       "      <th></th>\n",
       "      <th></th>\n",
       "      <th></th>\n",
       "      <th></th>\n",
       "      <th></th>\n",
       "      <th></th>\n",
       "      <th></th>\n",
       "      <th></th>\n",
       "    </tr>\n",
       "  </thead>\n",
       "  <tbody>\n",
       "    <tr>\n",
       "      <th>6432269</th>\n",
       "      <td>25</td>\n",
       "      <td>25</td>\n",
       "      <td>1</td>\n",
       "      <td>23.36</td>\n",
       "      <td>0.789141</td>\n",
       "      <td>0.836564</td>\n",
       "      <td>0.943312</td>\n",
       "      <td>0.579480</td>\n",
       "      <td>0.671050</td>\n",
       "      <td>0.863542</td>\n",
       "    </tr>\n",
       "    <tr>\n",
       "      <th>15176395</th>\n",
       "      <td>25</td>\n",
       "      <td>25</td>\n",
       "      <td>1</td>\n",
       "      <td>17.24</td>\n",
       "      <td>0.784259</td>\n",
       "      <td>0.832825</td>\n",
       "      <td>0.941685</td>\n",
       "      <td>0.571864</td>\n",
       "      <td>0.664663</td>\n",
       "      <td>0.860381</td>\n",
       "    </tr>\n",
       "    <tr>\n",
       "      <th>39021485</th>\n",
       "      <td>25</td>\n",
       "      <td>25</td>\n",
       "      <td>1</td>\n",
       "      <td>17.24</td>\n",
       "      <td>0.781853</td>\n",
       "      <td>0.831344</td>\n",
       "      <td>0.940468</td>\n",
       "      <td>0.573010</td>\n",
       "      <td>0.666604</td>\n",
       "      <td>0.859595</td>\n",
       "    </tr>\n",
       "    <tr>\n",
       "      <th>40712302</th>\n",
       "      <td>25</td>\n",
       "      <td>25</td>\n",
       "      <td>1</td>\n",
       "      <td>16.56</td>\n",
       "      <td>0.755567</td>\n",
       "      <td>0.816770</td>\n",
       "      <td>0.925067</td>\n",
       "      <td>0.537336</td>\n",
       "      <td>0.640505</td>\n",
       "      <td>0.838926</td>\n",
       "    </tr>\n",
       "    <tr>\n",
       "      <th>43620110</th>\n",
       "      <td>2</td>\n",
       "      <td>2</td>\n",
       "      <td>1</td>\n",
       "      <td>194.50</td>\n",
       "      <td>0.752887</td>\n",
       "      <td>0.772451</td>\n",
       "      <td>0.974672</td>\n",
       "      <td>0.637002</td>\n",
       "      <td>0.674885</td>\n",
       "      <td>0.943867</td>\n",
       "    </tr>\n",
       "  </tbody>\n",
       "</table>\n",
       "</div>"
      ],
      "text/plain": [
       "          unit  judgment  job  duration       wqs       wwa       wsa  \\\n",
       "worker                                                                  \n",
       "6432269     25        25    1     23.36  0.789141  0.836564  0.943312   \n",
       "15176395    25        25    1     17.24  0.784259  0.832825  0.941685   \n",
       "39021485    25        25    1     17.24  0.781853  0.831344  0.940468   \n",
       "40712302    25        25    1     16.56  0.755567  0.816770  0.925067   \n",
       "43620110     2         2    1    194.50  0.752887  0.772451  0.974672   \n",
       "\n",
       "          wqs_initial  wwa_initial  wsa_initial  \n",
       "worker                                           \n",
       "6432269      0.579480     0.671050     0.863542  \n",
       "15176395     0.571864     0.664663     0.860381  \n",
       "39021485     0.573010     0.666604     0.859595  \n",
       "40712302     0.537336     0.640505     0.838926  \n",
       "43620110     0.637002     0.674885     0.943867  "
      ]
     },
     "execution_count": 25,
     "metadata": {},
     "output_type": "execute_result"
    }
   ],
   "source": [
    "results[\"workers\"].sort_values(by=[\"wqs\"], ascending=False).head()"
   ]
  },
  {
   "cell_type": "code",
   "execution_count": 26,
   "metadata": {},
   "outputs": [
    {
     "name": "stdout",
     "output_type": "stream",
     "text": [
      "judgment\n",
      "3989754636    1856509904\n",
      "3989763323    1856509908\n",
      "3989755418    1856509909\n",
      "3989760062    1856509910\n",
      "3989762709    1856509911\n",
      "3989750391    1856509913\n",
      "3989766454    1856509914\n",
      "3989759575    1856509919\n",
      "3989752369    1856509921\n",
      "3989760984    1856509922\n",
      "3989765981    1856509925\n",
      "3989765396    1856509926\n",
      "3989753242    1856509927\n",
      "3989767204    1856509930\n",
      "3989755065    1856509932\n",
      "3989762027    1856509933\n",
      "3989751101    1856509934\n",
      "3989758587    1856509936\n",
      "3989752713    1856509937\n",
      "3989761591    1856509940\n",
      "3989756262    1856509941\n",
      "3989767751    1856509942\n",
      "3989764209    1856509943\n",
      "3989756802    1856509948\n",
      "3989757669    1856509949\n",
      "Name: unit, dtype: int64\n"
     ]
    }
   ],
   "source": [
    "work_id = results[\"workers\"].sort_values(by=[\"wqs\"], ascending=False).index[1]\n",
    "work_units = results[\"judgments\"][results[\"judgments\"][\"worker\"] == work_id][\"unit\"]\n",
    "print(work_units)"
   ]
  },
  {
   "cell_type": "code",
   "execution_count": 27,
   "metadata": {},
   "outputs": [
    {
     "data": {
      "text/html": [
       "<video width='320' height='240' controls><source src=https://joran.org/ct/entity.admin.unit.2649/8574.mp4 type='video/mp4'></video>"
      ],
      "text/plain": [
       "<IPython.core.display.HTML object>"
      ]
     },
     "execution_count": 27,
     "metadata": {},
     "output_type": "execute_result"
    }
   ],
   "source": [
    "vid_url = results[\"units\"][\"input.videolocation\"][work_units.iloc[0]]\n",
    "HTML(\"<video width='320' height='240' controls><source src=\" + str(vid_url) + \" type='video/mp4'></video>\")"
   ]
  },
  {
   "cell_type": "code",
   "execution_count": 28,
   "metadata": {},
   "outputs": [
    {
     "name": "stdout",
     "output_type": "stream",
     "text": [
      "JUDGMENTS OF HIGH QUALITY WORKER 15176395 FOR VIDEO 1856509904:\n",
      "journalist : 1\n",
      "presenter : 1\n",
      "scientist : 1\n",
      "\n",
      "ALL JUDGMENTS FOR VIDEO 1856509904\n",
      "scientist : 10\n",
      "other : 6\n",
      "presenter : 3\n",
      "farmer : 2\n",
      "businessperson : 2\n",
      "journalist : 1\n"
     ]
    }
   ],
   "source": [
    "work_judg = results[\"judgments\"][results[\"judgments\"][\"unit\"] == work_units.iloc[0]]\n",
    "\n",
    "print(\"JUDGMENTS OF HIGH QUALITY WORKER %d FOR VIDEO %d:\" % (work_id, work_units.iloc[0]))\n",
    "for k, v in work_judg[work_judg[\"worker\"] == work_id][\"output.selected_answer\"].iloc[0].items():\n",
    "    if v > 0:\n",
    "        print(str(k) + \" : \" + str(v))\n",
    "\n",
    "print(\"\\nALL JUDGMENTS FOR VIDEO %d\" % work_units.iloc[0])\n",
    "sorted_judg = sorted(\n",
    "    results[\"units\"][\"output.selected_answer\"][work_units.iloc[0]].items(),\n",
    "    key=operator.itemgetter(1),\n",
    "    reverse=True)\n",
    "\n",
    "for k, v in sorted_judg:\n",
    "    if v > 0:\n",
    "        print(str(k) + \" : \" + str(v))"
   ]
  },
  {
   "cell_type": "code",
   "execution_count": 29,
   "metadata": {},
   "outputs": [
    {
     "data": {
      "text/html": [
       "<video width='320' height='240' controls><source src=https://joran.org/ct/entity.admin.unit.2649/8583.mp4 type='video/mp4'></video>"
      ],
      "text/plain": [
       "<IPython.core.display.HTML object>"
      ]
     },
     "execution_count": 29,
     "metadata": {},
     "output_type": "execute_result"
    }
   ],
   "source": [
    "vid_url = results[\"units\"][\"input.videolocation\"][work_units.iloc[1]]\n",
    "HTML(\"<video width='320' height='240' controls><source src=\" + str(vid_url) + \" type='video/mp4'></video>\")"
   ]
  },
  {
   "cell_type": "code",
   "execution_count": 30,
   "metadata": {},
   "outputs": [
    {
     "name": "stdout",
     "output_type": "stream",
     "text": [
      "JUDGMENTS OF HIGH QUALITY WORKER 15176395 FOR VIDEO 1856509908:\n",
      "none : 1\n",
      "\n",
      "ALL JUDGMENTS FOR VIDEO 1856509908\n",
      "none : 19\n",
      "philosopher : 1\n"
     ]
    }
   ],
   "source": [
    "work_judg = results[\"judgments\"][results[\"judgments\"][\"unit\"] == work_units.iloc[1]]\n",
    "\n",
    "print(\"JUDGMENTS OF HIGH QUALITY WORKER %d FOR VIDEO %d:\" % (work_id, work_units.iloc[1]))\n",
    "for k, v in work_judg[work_judg[\"worker\"] == work_id][\"output.selected_answer\"].iloc[0].items():\n",
    "    if v > 0:\n",
    "        print(str(k) + \" : \" + str(v))\n",
    "\n",
    "print(\"\\nALL JUDGMENTS FOR VIDEO %d\" % work_units.iloc[1])\n",
    "sorted_judg = sorted(\n",
    "    results[\"units\"][\"output.selected_answer\"][work_units.iloc[1]].items(),\n",
    "    key=operator.itemgetter(1),\n",
    "    reverse=True)\n",
    "\n",
    "for k, v in sorted_judg:\n",
    "    if v > 0:\n",
    "        print(str(k) + \" : \" + str(v))"
   ]
  },
  {
   "cell_type": "markdown",
   "metadata": {},
   "source": [
    "## Annotation Quality Scores"
   ]
  },
  {
   "cell_type": "markdown",
   "metadata": {},
   "source": [
    "The **annotation metrics** are stored in `results[\"annotations\"]`. The `aqs` column contains the **annotation quality scores**, capturing the overall worker agreement over one annotation."
   ]
  },
  {
   "cell_type": "code",
   "execution_count": 31,
   "metadata": {},
   "outputs": [
    {
     "data": {
      "text/html": [
       "<div>\n",
       "<style scoped>\n",
       "    .dataframe tbody tr th:only-of-type {\n",
       "        vertical-align: middle;\n",
       "    }\n",
       "\n",
       "    .dataframe tbody tr th {\n",
       "        vertical-align: top;\n",
       "    }\n",
       "\n",
       "    .dataframe thead th {\n",
       "        text-align: right;\n",
       "    }\n",
       "</style>\n",
       "<table border=\"1\" class=\"dataframe\">\n",
       "  <thead>\n",
       "    <tr style=\"text-align: right;\">\n",
       "      <th></th>\n",
       "      <th>output.selected_answer</th>\n",
       "      <th>aqs</th>\n",
       "      <th>aqs_initial</th>\n",
       "    </tr>\n",
       "  </thead>\n",
       "  <tbody>\n",
       "    <tr>\n",
       "      <th>archeologist</th>\n",
       "      <td>1000</td>\n",
       "      <td>1.000000e-08</td>\n",
       "      <td>1.000000e-08</td>\n",
       "    </tr>\n",
       "    <tr>\n",
       "      <th>architect</th>\n",
       "      <td>1000</td>\n",
       "      <td>1.000000e-08</td>\n",
       "      <td>1.000000e-08</td>\n",
       "    </tr>\n",
       "    <tr>\n",
       "      <th>artist</th>\n",
       "      <td>1000</td>\n",
       "      <td>2.512851e-01</td>\n",
       "      <td>2.520942e-01</td>\n",
       "    </tr>\n",
       "    <tr>\n",
       "      <th>astronaut</th>\n",
       "      <td>1000</td>\n",
       "      <td>9.999680e-01</td>\n",
       "      <td>9.523810e-01</td>\n",
       "    </tr>\n",
       "    <tr>\n",
       "      <th>athlete</th>\n",
       "      <td>1000</td>\n",
       "      <td>2.801650e-01</td>\n",
       "      <td>2.788104e-01</td>\n",
       "    </tr>\n",
       "    <tr>\n",
       "      <th>businessperson</th>\n",
       "      <td>1000</td>\n",
       "      <td>6.188727e-02</td>\n",
       "      <td>9.618163e-02</td>\n",
       "    </tr>\n",
       "    <tr>\n",
       "      <th>celebrity</th>\n",
       "      <td>1000</td>\n",
       "      <td>7.459197e-01</td>\n",
       "      <td>6.066316e-01</td>\n",
       "    </tr>\n",
       "    <tr>\n",
       "      <th>chef</th>\n",
       "      <td>1000</td>\n",
       "      <td>1.000000e-08</td>\n",
       "      <td>1.000000e-08</td>\n",
       "    </tr>\n",
       "    <tr>\n",
       "      <th>criminal</th>\n",
       "      <td>1000</td>\n",
       "      <td>1.272384e-01</td>\n",
       "      <td>1.530612e-01</td>\n",
       "    </tr>\n",
       "    <tr>\n",
       "      <th>engineer</th>\n",
       "      <td>1000</td>\n",
       "      <td>3.608684e-02</td>\n",
       "      <td>2.991453e-02</td>\n",
       "    </tr>\n",
       "    <tr>\n",
       "      <th>farmer</th>\n",
       "      <td>1000</td>\n",
       "      <td>1.354398e-03</td>\n",
       "      <td>2.631579e-02</td>\n",
       "    </tr>\n",
       "    <tr>\n",
       "      <th>fictionalcharacter</th>\n",
       "      <td>1000</td>\n",
       "      <td>3.061545e-01</td>\n",
       "      <td>3.023546e-01</td>\n",
       "    </tr>\n",
       "    <tr>\n",
       "      <th>journalist</th>\n",
       "      <td>1000</td>\n",
       "      <td>7.588007e-02</td>\n",
       "      <td>7.522645e-02</td>\n",
       "    </tr>\n",
       "    <tr>\n",
       "      <th>judge</th>\n",
       "      <td>1000</td>\n",
       "      <td>1.000000e-08</td>\n",
       "      <td>1.000000e-08</td>\n",
       "    </tr>\n",
       "    <tr>\n",
       "      <th>lawyer</th>\n",
       "      <td>1000</td>\n",
       "      <td>1.000000e-08</td>\n",
       "      <td>1.000000e-08</td>\n",
       "    </tr>\n",
       "    <tr>\n",
       "      <th>militaryperson</th>\n",
       "      <td>1000</td>\n",
       "      <td>8.461288e-01</td>\n",
       "      <td>6.695402e-01</td>\n",
       "    </tr>\n",
       "    <tr>\n",
       "      <th>model</th>\n",
       "      <td>1000</td>\n",
       "      <td>4.571709e-01</td>\n",
       "      <td>3.812155e-01</td>\n",
       "    </tr>\n",
       "    <tr>\n",
       "      <th>monarch</th>\n",
       "      <td>1000</td>\n",
       "      <td>3.193623e-01</td>\n",
       "      <td>3.198758e-01</td>\n",
       "    </tr>\n",
       "    <tr>\n",
       "      <th>none</th>\n",
       "      <td>1000</td>\n",
       "      <td>8.577160e-01</td>\n",
       "      <td>6.349736e-01</td>\n",
       "    </tr>\n",
       "    <tr>\n",
       "      <th>other</th>\n",
       "      <td>1000</td>\n",
       "      <td>4.495047e-01</td>\n",
       "      <td>3.561484e-01</td>\n",
       "    </tr>\n",
       "    <tr>\n",
       "      <th>philosopher</th>\n",
       "      <td>1000</td>\n",
       "      <td>4.018146e-04</td>\n",
       "      <td>8.620690e-03</td>\n",
       "    </tr>\n",
       "    <tr>\n",
       "      <th>politician</th>\n",
       "      <td>1000</td>\n",
       "      <td>5.617035e-02</td>\n",
       "      <td>5.241090e-02</td>\n",
       "    </tr>\n",
       "    <tr>\n",
       "      <th>presenter</th>\n",
       "      <td>1000</td>\n",
       "      <td>4.295558e-01</td>\n",
       "      <td>3.083161e-01</td>\n",
       "    </tr>\n",
       "    <tr>\n",
       "      <th>producer</th>\n",
       "      <td>1000</td>\n",
       "      <td>6.617933e-04</td>\n",
       "      <td>9.216590e-03</td>\n",
       "    </tr>\n",
       "    <tr>\n",
       "      <th>psychologist</th>\n",
       "      <td>1000</td>\n",
       "      <td>1.000000e-08</td>\n",
       "      <td>1.000000e-08</td>\n",
       "    </tr>\n",
       "    <tr>\n",
       "      <th>scientist</th>\n",
       "      <td>1000</td>\n",
       "      <td>4.074549e-01</td>\n",
       "      <td>3.220470e-01</td>\n",
       "    </tr>\n",
       "    <tr>\n",
       "      <th>sportsmanager</th>\n",
       "      <td>1000</td>\n",
       "      <td>1.000000e-08</td>\n",
       "      <td>1.000000e-08</td>\n",
       "    </tr>\n",
       "    <tr>\n",
       "      <th>writer</th>\n",
       "      <td>1000</td>\n",
       "      <td>5.708571e-02</td>\n",
       "      <td>8.579336e-02</td>\n",
       "    </tr>\n",
       "  </tbody>\n",
       "</table>\n",
       "</div>"
      ],
      "text/plain": [
       "                    output.selected_answer           aqs   aqs_initial\n",
       "archeologist                          1000  1.000000e-08  1.000000e-08\n",
       "architect                             1000  1.000000e-08  1.000000e-08\n",
       "artist                                1000  2.512851e-01  2.520942e-01\n",
       "astronaut                             1000  9.999680e-01  9.523810e-01\n",
       "athlete                               1000  2.801650e-01  2.788104e-01\n",
       "businessperson                        1000  6.188727e-02  9.618163e-02\n",
       "celebrity                             1000  7.459197e-01  6.066316e-01\n",
       "chef                                  1000  1.000000e-08  1.000000e-08\n",
       "criminal                              1000  1.272384e-01  1.530612e-01\n",
       "engineer                              1000  3.608684e-02  2.991453e-02\n",
       "farmer                                1000  1.354398e-03  2.631579e-02\n",
       "fictionalcharacter                    1000  3.061545e-01  3.023546e-01\n",
       "journalist                            1000  7.588007e-02  7.522645e-02\n",
       "judge                                 1000  1.000000e-08  1.000000e-08\n",
       "lawyer                                1000  1.000000e-08  1.000000e-08\n",
       "militaryperson                        1000  8.461288e-01  6.695402e-01\n",
       "model                                 1000  4.571709e-01  3.812155e-01\n",
       "monarch                               1000  3.193623e-01  3.198758e-01\n",
       "none                                  1000  8.577160e-01  6.349736e-01\n",
       "other                                 1000  4.495047e-01  3.561484e-01\n",
       "philosopher                           1000  4.018146e-04  8.620690e-03\n",
       "politician                            1000  5.617035e-02  5.241090e-02\n",
       "presenter                             1000  4.295558e-01  3.083161e-01\n",
       "producer                              1000  6.617933e-04  9.216590e-03\n",
       "psychologist                          1000  1.000000e-08  1.000000e-08\n",
       "scientist                             1000  4.074549e-01  3.220470e-01\n",
       "sportsmanager                         1000  1.000000e-08  1.000000e-08\n",
       "writer                                1000  5.708571e-02  8.579336e-02"
      ]
     },
     "execution_count": 31,
     "metadata": {},
     "output_type": "execute_result"
    }
   ],
   "source": [
    "results[\"annotations\"]"
   ]
  },
  {
   "cell_type": "code",
   "execution_count": 32,
   "metadata": {},
   "outputs": [],
   "source": [
    "rows = []\n",
    "header = [\"unit\", \"videolocation\", \"subtitles\", \"imagetags\", \"subtitletags\", \"uqs\", \"uqs_initial\"]\n",
    "annotation_vector = [\"archeologist\", \"architect\", \"artist\", \"astronaut\", \"athlete\", \"businessperson\",\"celebrity\", \n",
    "                         \"chef\", \"criminal\", \"engineer\", \"farmer\", \"fictionalcharacter\", \"journalist\", \"judge\", \n",
    "                         \"lawyer\", \"militaryperson\", \"model\", \"monarch\", \"philosopher\", \"politician\", \"presenter\", \n",
    "                         \"producer\", \"psychologist\", \"scientist\", \"sportsmanager\", \"writer\", \"none\", \"other\"]\n",
    "header.extend(annotation_vector)\n",
    "annotation_vector_in = [\"archeologist_initial_initial\", \"architect_initial\", \"artist_initial\", \"astronaut_initial\", \n",
    "                        \"athlete_initial\", \"businessperson_initial\",\"celebrity_initial\", \"chef_initial\", \n",
    "                        \"criminal_initial\", \"engineer_initial\", \"farmer_initial\", \"fictionalcharacter_initial\", \n",
    "                        \"journalist_initial\", \"judge_initial\", \"lawyer_initial\", \"militaryperson_initial\", \n",
    "                        \"model_initial\", \"monarch_initial\", \"philosopher_initial\", \"politician_initial\", \n",
    "                        \"presenter_initial\", \"producer_initial\", \"psychologist_initial\", \"scientist_initial\", \n",
    "                        \"sportsmanager_initial\", \"writer_initial\", \"none_initial\", \"other_initial\"]\n",
    "header.extend(annotation_vector_in)\n",
    "units = results[\"units\"].reset_index()\n",
    "for i in range(len(units.index)):\n",
    "    row = [units[\"unit\"].iloc[i], units[\"input.videolocation\"].iloc[i], units[\"input.subtitles\"].iloc[i], \\\n",
    "           units[\"input.imagetags\"].iloc[i], units[\"input.subtitletags\"].iloc[i], units[\"uqs\"].iloc[i], \n",
    "           units[\"uqs_initial\"].iloc[i]]\n",
    "    for item in annotation_vector:\n",
    "        row.append(units[\"unit_annotation_score\"].iloc[i][item])\n",
    "    for item in annotation_vector_in:\n",
    "        row.append(units[\"unit_annotation_score_initial\"].iloc[i][item])\n",
    "    rows.append(row)\n",
    "rows = pd.DataFrame(rows, columns=header)\n",
    "rows.to_csv(\"../data/results/multchoice-people-video-units.csv\", index=False)"
   ]
  },
  {
   "cell_type": "code",
   "execution_count": 33,
   "metadata": {},
   "outputs": [],
   "source": [
    "results[\"workers\"].to_csv(\"../data/results/multchoice-people-video-workers.csv\", index=True)"
   ]
  },
  {
   "cell_type": "code",
   "execution_count": 34,
   "metadata": {},
   "outputs": [],
   "source": [
    "results[\"annotations\"].to_csv(\"../data/results/multchoice-people-video-annotations.csv\", index=True)"
   ]
  }
 ],
 "metadata": {
  "anaconda-cloud": {},
  "kernelspec": {
   "display_name": "Python 3",
   "language": "python",
   "name": "python3"
  },
  "language_info": {
   "codemirror_mode": {
    "name": "ipython",
    "version": 3
   },
   "file_extension": ".py",
   "mimetype": "text/x-python",
   "name": "python",
   "nbconvert_exporter": "python",
   "pygments_lexer": "ipython3",
   "version": "3.6.7"
  }
 },
 "nbformat": 4,
 "nbformat_minor": 2
}
