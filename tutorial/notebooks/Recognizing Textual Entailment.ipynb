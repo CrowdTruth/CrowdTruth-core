{
 "cells": [
  {
   "cell_type": "markdown",
   "metadata": {},
   "source": [
    "# CrowdTruth for Recognizing Textual Entailment Annotation\n",
    "\n",
    "This analysis uses the data gathered in the \"Recognizing Textual Entailment\" crowdsourcing experiment published in *Rion Snow, Brendan O’Connor, Dan Jurafsky, and Andrew Y. Ng: Cheap and fast—but is it good? Evaluating non-expert annotations for natural language tasks. EMNLP 2008, pages 254–263*.\n",
    "\n",
    "**Task Description**: Given *two sentences*, the crowd has to choose whether the second *hypothesis* sentence can be inferred from the first *sentence* (binary choice, true/false). Following, we provide an example from the aforementioned publication:\n",
    "\n",
    "**Text**: “Crude Oil Prices Slump”\n",
    "\n",
    "**Hypothesis**: “Oil prices drop”\n",
    "\n",
    "A screenshot of the task as it appeared to workers can be seen at the following [repository](http://ai.stanford.edu/ ̃rion/annotations/)."
   ]
  },
  {
   "cell_type": "markdown",
   "metadata": {},
   "source": [
    "The dataset for this task was downloaded from the following [repository](http://ai.stanford.edu/ ̃rion/annotations/), which contains the raw output from the crowd on AMT. Currently, you can find the processed input file in the folder named `data`. Besides the raw crowd annotations, the processed file also contains the text and the hypothesis that needs to be tested with the given text, which were given as input to the crowd."
   ]
  },
  {
   "cell_type": "code",
   "execution_count": 1,
   "metadata": {},
   "outputs": [
    {
     "data": {
      "text/html": [
       "<div>\n",
       "<style scoped>\n",
       "    .dataframe tbody tr th:only-of-type {\n",
       "        vertical-align: middle;\n",
       "    }\n",
       "\n",
       "    .dataframe tbody tr th {\n",
       "        vertical-align: top;\n",
       "    }\n",
       "\n",
       "    .dataframe thead th {\n",
       "        text-align: right;\n",
       "    }\n",
       "</style>\n",
       "<table border=\"1\" class=\"dataframe\">\n",
       "  <thead>\n",
       "    <tr style=\"text-align: right;\">\n",
       "      <th></th>\n",
       "      <th>!amt_annotation_ids</th>\n",
       "      <th>!amt_worker_ids</th>\n",
       "      <th>orig_id</th>\n",
       "      <th>response</th>\n",
       "      <th>gold</th>\n",
       "      <th>start</th>\n",
       "      <th>end</th>\n",
       "      <th>hypothesis</th>\n",
       "      <th>task</th>\n",
       "      <th>text</th>\n",
       "    </tr>\n",
       "  </thead>\n",
       "  <tbody>\n",
       "    <tr>\n",
       "      <th>0</th>\n",
       "      <td>QYGZXTXJVZ2ZM9ZE32TZ6JJZWZ5T6YHZY8ZPAGFZ</td>\n",
       "      <td>A2K5ICP43ML4PW</td>\n",
       "      <td>25</td>\n",
       "      <td>0</td>\n",
       "      <td>0</td>\n",
       "      <td>Mon Mar 25 07:39:42 PDT 2019</td>\n",
       "      <td>Mon Mar 25 07:41:05 PDT 2019</td>\n",
       "      <td>Two films won six Oscars.</td>\n",
       "      <td>IR</td>\n",
       "      <td>The film was the evening&amp;apos;s big winner, ba...</td>\n",
       "    </tr>\n",
       "    <tr>\n",
       "      <th>1</th>\n",
       "      <td>QYGZXTXJVZ2ZM9ZE32TZZRBZ6FH45T5ZVNYR6R9Z</td>\n",
       "      <td>A15L6WGIK3VU7N</td>\n",
       "      <td>25</td>\n",
       "      <td>0</td>\n",
       "      <td>0</td>\n",
       "      <td>Mon Mar 25 07:39:42 PDT 2019</td>\n",
       "      <td>Mon Mar 25 07:41:05 PDT 2019</td>\n",
       "      <td>Two films won six Oscars.</td>\n",
       "      <td>IR</td>\n",
       "      <td>The film was the evening&amp;apos;s big winner, ba...</td>\n",
       "    </tr>\n",
       "    <tr>\n",
       "      <th>2</th>\n",
       "      <td>QYGZXTXJVZ2ZM9ZE32TZRKFZ26N8J0KZNDW94WMZ</td>\n",
       "      <td>AHPSMRLKAEJV</td>\n",
       "      <td>25</td>\n",
       "      <td>0</td>\n",
       "      <td>0</td>\n",
       "      <td>Mon Mar 25 07:39:42 PDT 2019</td>\n",
       "      <td>Mon Mar 25 07:41:05 PDT 2019</td>\n",
       "      <td>Two films won six Oscars.</td>\n",
       "      <td>IR</td>\n",
       "      <td>The film was the evening&amp;apos;s big winner, ba...</td>\n",
       "    </tr>\n",
       "    <tr>\n",
       "      <th>3</th>\n",
       "      <td>QYGZXTXJVZ2ZM9ZE32TZWHHZS9YQHWHR4R4VVW0Z</td>\n",
       "      <td>A25QX7IUS1KI5E</td>\n",
       "      <td>25</td>\n",
       "      <td>0</td>\n",
       "      <td>0</td>\n",
       "      <td>Mon Mar 25 07:39:42 PDT 2019</td>\n",
       "      <td>Mon Mar 25 07:41:05 PDT 2019</td>\n",
       "      <td>Two films won six Oscars.</td>\n",
       "      <td>IR</td>\n",
       "      <td>The film was the evening&amp;apos;s big winner, ba...</td>\n",
       "    </tr>\n",
       "    <tr>\n",
       "      <th>4</th>\n",
       "      <td>QYGZXTXJVZ2ZM9ZE32TZ0WPZYAYNMWWZWXYZ6YK0</td>\n",
       "      <td>A2RV3FIO3IAZS</td>\n",
       "      <td>25</td>\n",
       "      <td>0</td>\n",
       "      <td>0</td>\n",
       "      <td>Mon Mar 25 07:39:42 PDT 2019</td>\n",
       "      <td>Mon Mar 25 07:41:05 PDT 2019</td>\n",
       "      <td>Two films won six Oscars.</td>\n",
       "      <td>IR</td>\n",
       "      <td>The film was the evening&amp;apos;s big winner, ba...</td>\n",
       "    </tr>\n",
       "  </tbody>\n",
       "</table>\n",
       "</div>"
      ],
      "text/plain": [
       "                        !amt_annotation_ids !amt_worker_ids  orig_id  \\\n",
       "0  QYGZXTXJVZ2ZM9ZE32TZ6JJZWZ5T6YHZY8ZPAGFZ  A2K5ICP43ML4PW       25   \n",
       "1  QYGZXTXJVZ2ZM9ZE32TZZRBZ6FH45T5ZVNYR6R9Z  A15L6WGIK3VU7N       25   \n",
       "2  QYGZXTXJVZ2ZM9ZE32TZRKFZ26N8J0KZNDW94WMZ    AHPSMRLKAEJV       25   \n",
       "3  QYGZXTXJVZ2ZM9ZE32TZWHHZS9YQHWHR4R4VVW0Z  A25QX7IUS1KI5E       25   \n",
       "4  QYGZXTXJVZ2ZM9ZE32TZ0WPZYAYNMWWZWXYZ6YK0   A2RV3FIO3IAZS       25   \n",
       "\n",
       "   response  gold                         start                           end  \\\n",
       "0         0     0  Mon Mar 25 07:39:42 PDT 2019  Mon Mar 25 07:41:05 PDT 2019   \n",
       "1         0     0  Mon Mar 25 07:39:42 PDT 2019  Mon Mar 25 07:41:05 PDT 2019   \n",
       "2         0     0  Mon Mar 25 07:39:42 PDT 2019  Mon Mar 25 07:41:05 PDT 2019   \n",
       "3         0     0  Mon Mar 25 07:39:42 PDT 2019  Mon Mar 25 07:41:05 PDT 2019   \n",
       "4         0     0  Mon Mar 25 07:39:42 PDT 2019  Mon Mar 25 07:41:05 PDT 2019   \n",
       "\n",
       "                  hypothesis task  \\\n",
       "0  Two films won six Oscars.   IR   \n",
       "1  Two films won six Oscars.   IR   \n",
       "2  Two films won six Oscars.   IR   \n",
       "3  Two films won six Oscars.   IR   \n",
       "4  Two films won six Oscars.   IR   \n",
       "\n",
       "                                                text  \n",
       "0  The film was the evening&apos;s big winner, ba...  \n",
       "1  The film was the evening&apos;s big winner, ba...  \n",
       "2  The film was the evening&apos;s big winner, ba...  \n",
       "3  The film was the evening&apos;s big winner, ba...  \n",
       "4  The film was the evening&apos;s big winner, ba...  "
      ]
     },
     "execution_count": 1,
     "metadata": {},
     "output_type": "execute_result"
    }
   ],
   "source": [
    "import pandas as pd\n",
    "\n",
    "test_data = pd.read_csv(\"../data/rte.standardized.csv\")\n",
    "test_data.head()"
   ]
  },
  {
   "cell_type": "markdown",
   "metadata": {},
   "source": [
    "## Declaring a pre-processing configuration\n",
    "\n",
    "The pre-processing configuration defines how to interpret the raw crowdsourcing input. To do this, we need to define a configuration class. First, we import the default CrowdTruth configuration class:"
   ]
  },
  {
   "cell_type": "code",
   "execution_count": 42,
   "metadata": {
    "collapsed": true
   },
   "outputs": [],
   "source": [
    "import crowdtruth\n",
    "from crowdtruth.configuration import DefaultConfig"
   ]
  },
  {
   "cell_type": "markdown",
   "metadata": {},
   "source": [
    "Our test class inherits the default configuration `DefaultConfig`, while also declaring some additional attributes that are specific to the Recognizing Textual Entailment task:\n",
    "\n",
    "* **`inputColumns`:** list of input columns from the .csv file with the input data\n",
    "* **`outputColumns`:** list of output columns from the .csv file with the answers from the workers\n",
    "* **`customPlatformColumns`:** a list of columns from the .csv file that defines a standard annotation tasks, in the following order - judgment id, unit id, worker id, started time, submitted time. This variable is used for input files that do not come from AMT or FigureEight (formarly known as CrowdFlower).\n",
    "* **`annotation_separator`:** string that separates between the crowd annotations in `outputColumns`\n",
    "* **`open_ended_task`:** boolean variable defining whether the task is open-ended (i.e. the possible crowd annotations are not known beforehand, like in the case of free text input); in the task that we are processing, workers pick the answers from a pre-defined list, therefore the task is not open ended, and this variable is set to `False`\n",
    "* **`annotation_vector`:** list of possible crowd answers, mandatory to declare when `open_ended_task` is `False`; for our task, this is the list of relations\n",
    "* **`processJudgments`:** method that defines processing of the raw crowd data; for this task, we process the crowd answers to correspond to the values in `annotation_vector`\n",
    "\n",
    "The complete configuration class is declared below:"
   ]
  },
  {
   "cell_type": "code",
   "execution_count": 43,
   "metadata": {
    "collapsed": true
   },
   "outputs": [],
   "source": [
    "class TestConfig(DefaultConfig):\n",
    "    inputColumns = [\"gold\", \"task\", \"text\", \"hypothesis\"]\n",
    "    outputColumns = [\"response\"]\n",
    "    customPlatformColumns = [\"!amt_annotation_ids\", \"orig_id\", \"!amt_worker_ids\", \"start\", \"end\"]\n",
    "    \n",
    "    # processing of a closed task\n",
    "    open_ended_task = True\n",
    "    annotation_vector = [\"0\", \"1\"]\n",
    "    \n",
    "    def processJudgments(self, judgments):\n",
    "        # pre-process output to match the values in annotation_vector\n",
    "        for col in self.outputColumns:\n",
    "            # transform to lowercase\n",
    "            judgments[col] = judgments[col].apply(lambda x: str(x).lower())\n",
    "        return judgments"
   ]
  },
  {
   "cell_type": "markdown",
   "metadata": {},
   "source": [
    "## Pre-processing the input data\n",
    "\n",
    "After declaring the configuration of our input file, we are ready to pre-process the crowd data:"
   ]
  },
  {
   "cell_type": "code",
   "execution_count": 44,
   "metadata": {},
   "outputs": [
    {
     "data": {
      "text/html": [
       "<div>\n",
       "<style scoped>\n",
       "    .dataframe tbody tr th:only-of-type {\n",
       "        vertical-align: middle;\n",
       "    }\n",
       "\n",
       "    .dataframe tbody tr th {\n",
       "        vertical-align: top;\n",
       "    }\n",
       "\n",
       "    .dataframe thead th {\n",
       "        text-align: right;\n",
       "    }\n",
       "</style>\n",
       "<table border=\"1\" class=\"dataframe\">\n",
       "  <thead>\n",
       "    <tr style=\"text-align: right;\">\n",
       "      <th></th>\n",
       "      <th>output.response</th>\n",
       "      <th>output.response.count</th>\n",
       "      <th>output.response.unique</th>\n",
       "      <th>started</th>\n",
       "      <th>unit</th>\n",
       "      <th>submitted</th>\n",
       "      <th>worker</th>\n",
       "      <th>duration</th>\n",
       "      <th>job</th>\n",
       "    </tr>\n",
       "    <tr>\n",
       "      <th>judgment</th>\n",
       "      <th></th>\n",
       "      <th></th>\n",
       "      <th></th>\n",
       "      <th></th>\n",
       "      <th></th>\n",
       "      <th></th>\n",
       "      <th></th>\n",
       "      <th></th>\n",
       "      <th></th>\n",
       "    </tr>\n",
       "  </thead>\n",
       "  <tbody>\n",
       "    <tr>\n",
       "      <th>QYGZXTXJVZ2ZM9ZE32TZ6JJZWZ5T6YHZY8ZPAGFZ</th>\n",
       "      <td>{u'0': 1}</td>\n",
       "      <td>1</td>\n",
       "      <td>1</td>\n",
       "      <td>2019-03-25 07:39:42-07:00</td>\n",
       "      <td>25</td>\n",
       "      <td>2019-03-25 07:41:05-07:00</td>\n",
       "      <td>A2K5ICP43ML4PW</td>\n",
       "      <td>83</td>\n",
       "      <td>../data/rte.standardized</td>\n",
       "    </tr>\n",
       "    <tr>\n",
       "      <th>QYGZXTXJVZ2ZM9ZE32TZZRBZ6FH45T5ZVNYR6R9Z</th>\n",
       "      <td>{u'0': 1}</td>\n",
       "      <td>1</td>\n",
       "      <td>1</td>\n",
       "      <td>2019-03-25 07:39:42-07:00</td>\n",
       "      <td>25</td>\n",
       "      <td>2019-03-25 07:41:05-07:00</td>\n",
       "      <td>A15L6WGIK3VU7N</td>\n",
       "      <td>83</td>\n",
       "      <td>../data/rte.standardized</td>\n",
       "    </tr>\n",
       "    <tr>\n",
       "      <th>QYGZXTXJVZ2ZM9ZE32TZRKFZ26N8J0KZNDW94WMZ</th>\n",
       "      <td>{u'0': 1}</td>\n",
       "      <td>1</td>\n",
       "      <td>1</td>\n",
       "      <td>2019-03-25 07:39:42-07:00</td>\n",
       "      <td>25</td>\n",
       "      <td>2019-03-25 07:41:05-07:00</td>\n",
       "      <td>AHPSMRLKAEJV</td>\n",
       "      <td>83</td>\n",
       "      <td>../data/rte.standardized</td>\n",
       "    </tr>\n",
       "    <tr>\n",
       "      <th>QYGZXTXJVZ2ZM9ZE32TZWHHZS9YQHWHR4R4VVW0Z</th>\n",
       "      <td>{u'0': 1}</td>\n",
       "      <td>1</td>\n",
       "      <td>1</td>\n",
       "      <td>2019-03-25 07:39:42-07:00</td>\n",
       "      <td>25</td>\n",
       "      <td>2019-03-25 07:41:05-07:00</td>\n",
       "      <td>A25QX7IUS1KI5E</td>\n",
       "      <td>83</td>\n",
       "      <td>../data/rte.standardized</td>\n",
       "    </tr>\n",
       "    <tr>\n",
       "      <th>QYGZXTXJVZ2ZM9ZE32TZ0WPZYAYNMWWZWXYZ6YK0</th>\n",
       "      <td>{u'0': 1}</td>\n",
       "      <td>1</td>\n",
       "      <td>1</td>\n",
       "      <td>2019-03-25 07:39:42-07:00</td>\n",
       "      <td>25</td>\n",
       "      <td>2019-03-25 07:41:05-07:00</td>\n",
       "      <td>A2RV3FIO3IAZS</td>\n",
       "      <td>83</td>\n",
       "      <td>../data/rte.standardized</td>\n",
       "    </tr>\n",
       "  </tbody>\n",
       "</table>\n",
       "</div>"
      ],
      "text/plain": [
       "                                         output.response  \\\n",
       "judgment                                                   \n",
       "QYGZXTXJVZ2ZM9ZE32TZ6JJZWZ5T6YHZY8ZPAGFZ       {u'0': 1}   \n",
       "QYGZXTXJVZ2ZM9ZE32TZZRBZ6FH45T5ZVNYR6R9Z       {u'0': 1}   \n",
       "QYGZXTXJVZ2ZM9ZE32TZRKFZ26N8J0KZNDW94WMZ       {u'0': 1}   \n",
       "QYGZXTXJVZ2ZM9ZE32TZWHHZS9YQHWHR4R4VVW0Z       {u'0': 1}   \n",
       "QYGZXTXJVZ2ZM9ZE32TZ0WPZYAYNMWWZWXYZ6YK0       {u'0': 1}   \n",
       "\n",
       "                                          output.response.count  \\\n",
       "judgment                                                          \n",
       "QYGZXTXJVZ2ZM9ZE32TZ6JJZWZ5T6YHZY8ZPAGFZ                      1   \n",
       "QYGZXTXJVZ2ZM9ZE32TZZRBZ6FH45T5ZVNYR6R9Z                      1   \n",
       "QYGZXTXJVZ2ZM9ZE32TZRKFZ26N8J0KZNDW94WMZ                      1   \n",
       "QYGZXTXJVZ2ZM9ZE32TZWHHZS9YQHWHR4R4VVW0Z                      1   \n",
       "QYGZXTXJVZ2ZM9ZE32TZ0WPZYAYNMWWZWXYZ6YK0                      1   \n",
       "\n",
       "                                          output.response.unique  \\\n",
       "judgment                                                           \n",
       "QYGZXTXJVZ2ZM9ZE32TZ6JJZWZ5T6YHZY8ZPAGFZ                       1   \n",
       "QYGZXTXJVZ2ZM9ZE32TZZRBZ6FH45T5ZVNYR6R9Z                       1   \n",
       "QYGZXTXJVZ2ZM9ZE32TZRKFZ26N8J0KZNDW94WMZ                       1   \n",
       "QYGZXTXJVZ2ZM9ZE32TZWHHZS9YQHWHR4R4VVW0Z                       1   \n",
       "QYGZXTXJVZ2ZM9ZE32TZ0WPZYAYNMWWZWXYZ6YK0                       1   \n",
       "\n",
       "                                                            started  unit  \\\n",
       "judgment                                                                    \n",
       "QYGZXTXJVZ2ZM9ZE32TZ6JJZWZ5T6YHZY8ZPAGFZ  2019-03-25 07:39:42-07:00    25   \n",
       "QYGZXTXJVZ2ZM9ZE32TZZRBZ6FH45T5ZVNYR6R9Z  2019-03-25 07:39:42-07:00    25   \n",
       "QYGZXTXJVZ2ZM9ZE32TZRKFZ26N8J0KZNDW94WMZ  2019-03-25 07:39:42-07:00    25   \n",
       "QYGZXTXJVZ2ZM9ZE32TZWHHZS9YQHWHR4R4VVW0Z  2019-03-25 07:39:42-07:00    25   \n",
       "QYGZXTXJVZ2ZM9ZE32TZ0WPZYAYNMWWZWXYZ6YK0  2019-03-25 07:39:42-07:00    25   \n",
       "\n",
       "                                                          submitted  \\\n",
       "judgment                                                              \n",
       "QYGZXTXJVZ2ZM9ZE32TZ6JJZWZ5T6YHZY8ZPAGFZ  2019-03-25 07:41:05-07:00   \n",
       "QYGZXTXJVZ2ZM9ZE32TZZRBZ6FH45T5ZVNYR6R9Z  2019-03-25 07:41:05-07:00   \n",
       "QYGZXTXJVZ2ZM9ZE32TZRKFZ26N8J0KZNDW94WMZ  2019-03-25 07:41:05-07:00   \n",
       "QYGZXTXJVZ2ZM9ZE32TZWHHZS9YQHWHR4R4VVW0Z  2019-03-25 07:41:05-07:00   \n",
       "QYGZXTXJVZ2ZM9ZE32TZ0WPZYAYNMWWZWXYZ6YK0  2019-03-25 07:41:05-07:00   \n",
       "\n",
       "                                                  worker  duration  \\\n",
       "judgment                                                             \n",
       "QYGZXTXJVZ2ZM9ZE32TZ6JJZWZ5T6YHZY8ZPAGFZ  A2K5ICP43ML4PW        83   \n",
       "QYGZXTXJVZ2ZM9ZE32TZZRBZ6FH45T5ZVNYR6R9Z  A15L6WGIK3VU7N        83   \n",
       "QYGZXTXJVZ2ZM9ZE32TZRKFZ26N8J0KZNDW94WMZ    AHPSMRLKAEJV        83   \n",
       "QYGZXTXJVZ2ZM9ZE32TZWHHZS9YQHWHR4R4VVW0Z  A25QX7IUS1KI5E        83   \n",
       "QYGZXTXJVZ2ZM9ZE32TZ0WPZYAYNMWWZWXYZ6YK0   A2RV3FIO3IAZS        83   \n",
       "\n",
       "                                                               job  \n",
       "judgment                                                            \n",
       "QYGZXTXJVZ2ZM9ZE32TZ6JJZWZ5T6YHZY8ZPAGFZ  ../data/rte.standardized  \n",
       "QYGZXTXJVZ2ZM9ZE32TZZRBZ6FH45T5ZVNYR6R9Z  ../data/rte.standardized  \n",
       "QYGZXTXJVZ2ZM9ZE32TZRKFZ26N8J0KZNDW94WMZ  ../data/rte.standardized  \n",
       "QYGZXTXJVZ2ZM9ZE32TZWHHZS9YQHWHR4R4VVW0Z  ../data/rte.standardized  \n",
       "QYGZXTXJVZ2ZM9ZE32TZ0WPZYAYNMWWZWXYZ6YK0  ../data/rte.standardized  "
      ]
     },
     "execution_count": 44,
     "metadata": {},
     "output_type": "execute_result"
    }
   ],
   "source": [
    "data, config = crowdtruth.load(\n",
    "    file = \"../data/rte.standardized.csv\",\n",
    "    config = TestConfig()\n",
    ")\n",
    "\n",
    "data['judgments'].head()"
   ]
  },
  {
   "cell_type": "markdown",
   "metadata": {},
   "source": [
    "## Computing the CrowdTruth metrics\n",
    "\n",
    "The pre-processed data can then be used to calculate the CrowdTruth metrics:"
   ]
  },
  {
   "cell_type": "code",
   "execution_count": 45,
   "metadata": {
    "collapsed": true
   },
   "outputs": [],
   "source": [
    "results = crowdtruth.run(data, config)"
   ]
  },
  {
   "cell_type": "markdown",
   "metadata": {},
   "source": [
    "`results` is a dict object that contains the quality metrics for the sentences, annotations and crowd workers.\n",
    "\n",
    "The **sentence metrics** are stored in `results[\"units\"]`:"
   ]
  },
  {
   "cell_type": "code",
   "execution_count": 46,
   "metadata": {},
   "outputs": [
    {
     "data": {
      "text/html": [
       "<div>\n",
       "<style scoped>\n",
       "    .dataframe tbody tr th:only-of-type {\n",
       "        vertical-align: middle;\n",
       "    }\n",
       "\n",
       "    .dataframe tbody tr th {\n",
       "        vertical-align: top;\n",
       "    }\n",
       "\n",
       "    .dataframe thead th {\n",
       "        text-align: right;\n",
       "    }\n",
       "</style>\n",
       "<table border=\"1\" class=\"dataframe\">\n",
       "  <thead>\n",
       "    <tr style=\"text-align: right;\">\n",
       "      <th></th>\n",
       "      <th>duration</th>\n",
       "      <th>input.gold</th>\n",
       "      <th>input.hypothesis</th>\n",
       "      <th>input.task</th>\n",
       "      <th>input.text</th>\n",
       "      <th>job</th>\n",
       "      <th>output.response</th>\n",
       "      <th>output.response.annotations</th>\n",
       "      <th>output.response.unique_annotations</th>\n",
       "      <th>worker</th>\n",
       "      <th>uqs</th>\n",
       "      <th>unit_annotation_score</th>\n",
       "      <th>uqs_initial</th>\n",
       "      <th>unit_annotation_score_initial</th>\n",
       "    </tr>\n",
       "    <tr>\n",
       "      <th>unit</th>\n",
       "      <th></th>\n",
       "      <th></th>\n",
       "      <th></th>\n",
       "      <th></th>\n",
       "      <th></th>\n",
       "      <th></th>\n",
       "      <th></th>\n",
       "      <th></th>\n",
       "      <th></th>\n",
       "      <th></th>\n",
       "      <th></th>\n",
       "      <th></th>\n",
       "      <th></th>\n",
       "      <th></th>\n",
       "    </tr>\n",
       "  </thead>\n",
       "  <tbody>\n",
       "    <tr>\n",
       "      <th>25</th>\n",
       "      <td>83</td>\n",
       "      <td>0</td>\n",
       "      <td>Two films won six Oscars.</td>\n",
       "      <td>IR</td>\n",
       "      <td>The film was the evening&amp;apos;s big winner, ba...</td>\n",
       "      <td>../data/rte.standardized</td>\n",
       "      <td>{u'1': 2, u'0': 8}</td>\n",
       "      <td>10</td>\n",
       "      <td>2</td>\n",
       "      <td>10</td>\n",
       "      <td>0.870673</td>\n",
       "      <td>{u'1': 0.0605933753083, u'0': 0.939406624692}</td>\n",
       "      <td>0.644444</td>\n",
       "      <td>{u'1': 0.2, u'0': 0.8}</td>\n",
       "    </tr>\n",
       "    <tr>\n",
       "      <th>35</th>\n",
       "      <td>83</td>\n",
       "      <td>1</td>\n",
       "      <td>Saudi Arabia is the world&amp;apos;s biggest oil e...</td>\n",
       "      <td>PP</td>\n",
       "      <td>Saudi Arabia, the biggest oil producer in the ...</td>\n",
       "      <td>../data/rte.standardized</td>\n",
       "      <td>{u'1': 4, u'0': 6}</td>\n",
       "      <td>10</td>\n",
       "      <td>2</td>\n",
       "      <td>10</td>\n",
       "      <td>0.898253</td>\n",
       "      <td>{u'1': 0.953208327378, u'0': 0.046791672622}</td>\n",
       "      <td>0.800000</td>\n",
       "      <td>{u'1': 0.9, u'0': 0.1}</td>\n",
       "    </tr>\n",
       "    <tr>\n",
       "      <th>39</th>\n",
       "      <td>83</td>\n",
       "      <td>1</td>\n",
       "      <td>Bill Clinton received a reported $10 million a...</td>\n",
       "      <td>PP</td>\n",
       "      <td>Mr. Clinton received a hefty advance for the b...</td>\n",
       "      <td>../data/rte.standardized</td>\n",
       "      <td>{u'1': 9, u'0': 1}</td>\n",
       "      <td>10</td>\n",
       "      <td>2</td>\n",
       "      <td>10</td>\n",
       "      <td>0.939652</td>\n",
       "      <td>{u'1': 0.972834001561, u'0': 0.0271659984386}</td>\n",
       "      <td>0.800000</td>\n",
       "      <td>{u'1': 0.9, u'0': 0.1}</td>\n",
       "    </tr>\n",
       "    <tr>\n",
       "      <th>48</th>\n",
       "      <td>83</td>\n",
       "      <td>1</td>\n",
       "      <td>Clinton is articulate.</td>\n",
       "      <td>PP</td>\n",
       "      <td>Clinton is a very charismatic person.</td>\n",
       "      <td>../data/rte.standardized</td>\n",
       "      <td>{u'1': 4, u'0': 6}</td>\n",
       "      <td>10</td>\n",
       "      <td>2</td>\n",
       "      <td>10</td>\n",
       "      <td>0.898253</td>\n",
       "      <td>{u'1': 0.953208327378, u'0': 0.046791672622}</td>\n",
       "      <td>0.800000</td>\n",
       "      <td>{u'1': 0.9, u'0': 0.1}</td>\n",
       "    </tr>\n",
       "    <tr>\n",
       "      <th>49</th>\n",
       "      <td>83</td>\n",
       "      <td>1</td>\n",
       "      <td>Argentina sees upsurge in kidnappings.</td>\n",
       "      <td>IR</td>\n",
       "      <td>Kidnappings in Argentina have increased more t...</td>\n",
       "      <td>../data/rte.standardized</td>\n",
       "      <td>{u'1': 10, u'0': 0}</td>\n",
       "      <td>10</td>\n",
       "      <td>1</td>\n",
       "      <td>10</td>\n",
       "      <td>0.870673</td>\n",
       "      <td>{u'1': 0.0605933753083, u'0': 0.939406624692}</td>\n",
       "      <td>0.644444</td>\n",
       "      <td>{u'1': 0.2, u'0': 0.8}</td>\n",
       "    </tr>\n",
       "  </tbody>\n",
       "</table>\n",
       "</div>"
      ],
      "text/plain": [
       "      duration  input.gold                                   input.hypothesis  \\\n",
       "unit                                                                            \n",
       "25          83           0                          Two films won six Oscars.   \n",
       "35          83           1  Saudi Arabia is the world&apos;s biggest oil e...   \n",
       "39          83           1  Bill Clinton received a reported $10 million a...   \n",
       "48          83           1                             Clinton is articulate.   \n",
       "49          83           1             Argentina sees upsurge in kidnappings.   \n",
       "\n",
       "     input.task                                         input.text  \\\n",
       "unit                                                                 \n",
       "25           IR  The film was the evening&apos;s big winner, ba...   \n",
       "35           PP  Saudi Arabia, the biggest oil producer in the ...   \n",
       "39           PP  Mr. Clinton received a hefty advance for the b...   \n",
       "48           PP              Clinton is a very charismatic person.   \n",
       "49           IR  Kidnappings in Argentina have increased more t...   \n",
       "\n",
       "                           job      output.response  \\\n",
       "unit                                                  \n",
       "25    ../data/rte.standardized   {u'1': 2, u'0': 8}   \n",
       "35    ../data/rte.standardized   {u'1': 4, u'0': 6}   \n",
       "39    ../data/rte.standardized   {u'1': 9, u'0': 1}   \n",
       "48    ../data/rte.standardized   {u'1': 4, u'0': 6}   \n",
       "49    ../data/rte.standardized  {u'1': 10, u'0': 0}   \n",
       "\n",
       "      output.response.annotations  output.response.unique_annotations  worker  \\\n",
       "unit                                                                            \n",
       "25                             10                                   2      10   \n",
       "35                             10                                   2      10   \n",
       "39                             10                                   2      10   \n",
       "48                             10                                   2      10   \n",
       "49                             10                                   1      10   \n",
       "\n",
       "           uqs                          unit_annotation_score  uqs_initial  \\\n",
       "unit                                                                         \n",
       "25    0.870673  {u'1': 0.0605933753083, u'0': 0.939406624692}     0.644444   \n",
       "35    0.898253   {u'1': 0.953208327378, u'0': 0.046791672622}     0.800000   \n",
       "39    0.939652  {u'1': 0.972834001561, u'0': 0.0271659984386}     0.800000   \n",
       "48    0.898253   {u'1': 0.953208327378, u'0': 0.046791672622}     0.800000   \n",
       "49    0.870673  {u'1': 0.0605933753083, u'0': 0.939406624692}     0.644444   \n",
       "\n",
       "     unit_annotation_score_initial  \n",
       "unit                                \n",
       "25          {u'1': 0.2, u'0': 0.8}  \n",
       "35          {u'1': 0.9, u'0': 0.1}  \n",
       "39          {u'1': 0.9, u'0': 0.1}  \n",
       "48          {u'1': 0.9, u'0': 0.1}  \n",
       "49          {u'1': 0.2, u'0': 0.8}  "
      ]
     },
     "execution_count": 46,
     "metadata": {},
     "output_type": "execute_result"
    }
   ],
   "source": [
    "results[\"units\"].head()"
   ]
  },
  {
   "cell_type": "markdown",
   "metadata": {},
   "source": [
    "The `uqs` column in `results[\"units\"]` contains the **sentence quality scores**, capturing the overall workers agreement over each sentences. Here we plot its histogram:"
   ]
  },
  {
   "cell_type": "code",
   "execution_count": 47,
   "metadata": {},
   "outputs": [
    {
     "data": {
      "text/plain": [
       "Text(0,0.5,'# Units')"
      ]
     },
     "execution_count": 47,
     "metadata": {},
     "output_type": "execute_result"
    },
    {
     "data": {
      "image/png": "[encoded data removed]",
      "text/plain": [
       "<Figure size 1080x360 with 2 Axes>"
      ]
     },
     "metadata": {},
     "output_type": "display_data"
    }
   ],
   "source": [
    "import matplotlib.pyplot as plt\n",
    "%matplotlib inline\n",
    "\n",
    "plt.rcParams['figure.figsize'] = 15, 5\n",
    "\n",
    "plt.subplot(1, 2, 1)\n",
    "plt.hist(results[\"units\"][\"uqs\"])\n",
    "plt.ylim(0,270)\n",
    "plt.xlabel(\"Sentence Quality Score\")\n",
    "plt.ylabel(\"#Sentences\")\n",
    "\n",
    "plt.subplot(1, 2, 2)\n",
    "plt.hist(results[\"units\"][\"uqs_initial\"])\n",
    "plt.ylim(0,270)\n",
    "plt.xlabel(\"Sentence Quality Score Initial\")\n",
    "plt.ylabel(\"# Units\")\n"
   ]
  },
  {
   "cell_type": "markdown",
   "metadata": {},
   "source": [
    "### Plot the change in unit qualtity score at the beginning of the process and at the end"
   ]
  },
  {
   "cell_type": "code",
   "execution_count": 48,
   "metadata": {},
   "outputs": [
    {
     "data": {
      "text/plain": [
       "Text(0.5,0,'Sentence Index')"
      ]
     },
     "execution_count": 48,
     "metadata": {},
     "output_type": "execute_result"
    },
    {
     "data": {
      "image/png": "[encoded data removed]",
      "text/plain": [
       "<Figure size 1080x360 with 1 Axes>"
      ]
     },
     "metadata": {},
     "output_type": "display_data"
    }
   ],
   "source": [
    "import numpy as np\n",
    "\n",
    "sortUQS = results[\"units\"].sort_values(['uqs'], ascending=[1])\n",
    "sortUQS = sortUQS.reset_index()\n",
    "\n",
    "plt.rcParams['figure.figsize'] = 15, 5\n",
    "\n",
    "plt.plot(np.arange(sortUQS.shape[0]), sortUQS[\"uqs_initial\"], 'ro', lw = 1, label = \"Initial UQS\")\n",
    "plt.plot(np.arange(sortUQS.shape[0]), sortUQS[\"uqs\"], 'go', lw = 1, label = \"Final UQS\")\n",
    "\n",
    "plt.ylabel('Sentence Quality Score')\n",
    "plt.xlabel('Sentence Index')"
   ]
  },
  {
   "cell_type": "markdown",
   "metadata": {},
   "source": [
    "The `unit_annotation_score` column in `results[\"units\"]` contains the **sentence-annotation scores**, capturing the likelihood that an annotation is expressed in a sentence. For each sentence, we store a dictionary mapping each annotation to its sentence-relation score."
   ]
  },
  {
   "cell_type": "code",
   "execution_count": 49,
   "metadata": {},
   "outputs": [
    {
     "data": {
      "text/plain": [
       "unit\n",
       "25    {u'1': 0.0605933753083, u'0': 0.939406624692}\n",
       "35     {u'1': 0.953208327378, u'0': 0.046791672622}\n",
       "39    {u'1': 0.972834001561, u'0': 0.0271659984386}\n",
       "48     {u'1': 0.953208327378, u'0': 0.046791672622}\n",
       "49    {u'1': 0.0605933753083, u'0': 0.939406624692}\n",
       "Name: unit_annotation_score, dtype: object"
      ]
     },
     "execution_count": 49,
     "metadata": {},
     "output_type": "execute_result"
    }
   ],
   "source": [
    "results[\"units\"][\"unit_annotation_score\"].head()"
   ]
  },
  {
   "cell_type": "markdown",
   "metadata": {},
   "source": [
    "Save unit metrics:"
   ]
  },
  {
   "cell_type": "code",
   "execution_count": 50,
   "metadata": {
    "collapsed": true
   },
   "outputs": [],
   "source": [
    "rows = []\n",
    "header = [\"orig_id\", \"gold\", \"hypothesis\", \"text\", \"uqs\", \"uqs_initial\", \"true\", \"false\", \"true_initial\", \"false_initial\"]\n",
    "\n",
    "units = results[\"units\"].reset_index()\n",
    "for i in range(len(units.index)):\n",
    "    row = [units[\"unit\"].iloc[i], units[\"input.gold\"].iloc[i], units[\"input.hypothesis\"].iloc[i], \\\n",
    "           units[\"input.text\"].iloc[i], units[\"uqs\"].iloc[i], units[\"uqs_initial\"].iloc[i], \\\n",
    "           units[\"unit_annotation_score\"].iloc[i][\"1\"], units[\"unit_annotation_score\"].iloc[i][\"0\"], \\\n",
    "           units[\"unit_annotation_score_initial\"].iloc[i][\"1\"], units[\"unit_annotation_score_initial\"].iloc[i][\"0\"]]\n",
    "    rows.append(row)\n",
    "rows = pd.DataFrame(rows, columns=header)\n",
    "rows.to_csv(\"../data/results/crowdtruth_units_rte.csv\", index=False)"
   ]
  },
  {
   "cell_type": "markdown",
   "metadata": {},
   "source": [
    "The **worker metrics** are stored in `results[\"workers\"]`:"
   ]
  },
  {
   "cell_type": "code",
   "execution_count": 51,
   "metadata": {},
   "outputs": [
    {
     "data": {
      "text/html": [
       "<div>\n",
       "<style scoped>\n",
       "    .dataframe tbody tr th:only-of-type {\n",
       "        vertical-align: middle;\n",
       "    }\n",
       "\n",
       "    .dataframe tbody tr th {\n",
       "        vertical-align: top;\n",
       "    }\n",
       "\n",
       "    .dataframe thead th {\n",
       "        text-align: right;\n",
       "    }\n",
       "</style>\n",
       "<table border=\"1\" class=\"dataframe\">\n",
       "  <thead>\n",
       "    <tr style=\"text-align: right;\">\n",
       "      <th></th>\n",
       "      <th>duration</th>\n",
       "      <th>job</th>\n",
       "      <th>judgment</th>\n",
       "      <th>unit</th>\n",
       "      <th>wqs</th>\n",
       "      <th>wwa</th>\n",
       "      <th>wsa</th>\n",
       "      <th>wqs_initial</th>\n",
       "      <th>wwa_initial</th>\n",
       "      <th>wsa_initial</th>\n",
       "    </tr>\n",
       "    <tr>\n",
       "      <th>worker</th>\n",
       "      <th></th>\n",
       "      <th></th>\n",
       "      <th></th>\n",
       "      <th></th>\n",
       "      <th></th>\n",
       "      <th></th>\n",
       "      <th></th>\n",
       "      <th></th>\n",
       "      <th></th>\n",
       "      <th></th>\n",
       "    </tr>\n",
       "  </thead>\n",
       "  <tbody>\n",
       "    <tr>\n",
       "      <th>A11GX90QFWDLMM</th>\n",
       "      <td>83</td>\n",
       "      <td>1</td>\n",
       "      <td>38</td>\n",
       "      <td>760</td>\n",
       "      <td>0.185667</td>\n",
       "      <td>0.396227</td>\n",
       "      <td>0.468587</td>\n",
       "      <td>0.249890</td>\n",
       "      <td>0.421053</td>\n",
       "      <td>0.593488</td>\n",
       "    </tr>\n",
       "    <tr>\n",
       "      <th>A14JQX7IFAICP0</th>\n",
       "      <td>83</td>\n",
       "      <td>1</td>\n",
       "      <td>9</td>\n",
       "      <td>180</td>\n",
       "      <td>0.214603</td>\n",
       "      <td>0.421422</td>\n",
       "      <td>0.509237</td>\n",
       "      <td>0.256515</td>\n",
       "      <td>0.444444</td>\n",
       "      <td>0.577159</td>\n",
       "    </tr>\n",
       "    <tr>\n",
       "      <th>A14Q86RX5HGCN</th>\n",
       "      <td>83</td>\n",
       "      <td>1</td>\n",
       "      <td>1</td>\n",
       "      <td>20</td>\n",
       "      <td>0.916561</td>\n",
       "      <td>0.920018</td>\n",
       "      <td>0.996242</td>\n",
       "      <td>0.454834</td>\n",
       "      <td>0.888889</td>\n",
       "      <td>0.511688</td>\n",
       "    </tr>\n",
       "    <tr>\n",
       "      <th>A14WWG6NKBDWGP</th>\n",
       "      <td>83</td>\n",
       "      <td>1</td>\n",
       "      <td>1</td>\n",
       "      <td>20</td>\n",
       "      <td>0.816726</td>\n",
       "      <td>0.832982</td>\n",
       "      <td>0.980485</td>\n",
       "      <td>0.261606</td>\n",
       "      <td>0.666667</td>\n",
       "      <td>0.392409</td>\n",
       "    </tr>\n",
       "    <tr>\n",
       "      <th>A151VN1BOY29J1</th>\n",
       "      <td>83</td>\n",
       "      <td>1</td>\n",
       "      <td>2</td>\n",
       "      <td>40</td>\n",
       "      <td>0.084084</td>\n",
       "      <td>0.250323</td>\n",
       "      <td>0.335903</td>\n",
       "      <td>0.168142</td>\n",
       "      <td>0.333333</td>\n",
       "      <td>0.504426</td>\n",
       "    </tr>\n",
       "  </tbody>\n",
       "</table>\n",
       "</div>"
      ],
      "text/plain": [
       "                duration  job  judgment  unit       wqs       wwa       wsa  \\\n",
       "worker                                                                        \n",
       "A11GX90QFWDLMM        83    1        38   760  0.185667  0.396227  0.468587   \n",
       "A14JQX7IFAICP0        83    1         9   180  0.214603  0.421422  0.509237   \n",
       "A14Q86RX5HGCN         83    1         1    20  0.916561  0.920018  0.996242   \n",
       "A14WWG6NKBDWGP        83    1         1    20  0.816726  0.832982  0.980485   \n",
       "A151VN1BOY29J1        83    1         2    40  0.084084  0.250323  0.335903   \n",
       "\n",
       "                wqs_initial  wwa_initial  wsa_initial  \n",
       "worker                                                 \n",
       "A11GX90QFWDLMM     0.249890     0.421053     0.593488  \n",
       "A14JQX7IFAICP0     0.256515     0.444444     0.577159  \n",
       "A14Q86RX5HGCN      0.454834     0.888889     0.511688  \n",
       "A14WWG6NKBDWGP     0.261606     0.666667     0.392409  \n",
       "A151VN1BOY29J1     0.168142     0.333333     0.504426  "
      ]
     },
     "execution_count": 51,
     "metadata": {},
     "output_type": "execute_result"
    }
   ],
   "source": [
    "results[\"workers\"].head()"
   ]
  },
  {
   "cell_type": "markdown",
   "metadata": {},
   "source": [
    "The `wqs` columns in `results[\"workers\"]` contains the **worker quality scores**, capturing the overall agreement between one worker and all the other workers."
   ]
  },
  {
   "cell_type": "code",
   "execution_count": 52,
   "metadata": {},
   "outputs": [
    {
     "data": {
      "text/plain": [
       "Text(0,0.5,'#Workers')"
      ]
     },
     "execution_count": 52,
     "metadata": {},
     "output_type": "execute_result"
    },
    {
     "data": {
      "image/png": "[encoded data removed]",
      "text/plain": [
       "<Figure size 1080x360 with 2 Axes>"
      ]
     },
     "metadata": {},
     "output_type": "display_data"
    }
   ],
   "source": [
    "plt.rcParams['figure.figsize'] = 15, 5\n",
    "\n",
    "plt.subplot(1, 2, 1)\n",
    "plt.hist(results[\"workers\"][\"wqs\"])\n",
    "plt.ylim(0,55)\n",
    "plt.xlabel(\"Worker Quality Score\")\n",
    "plt.ylabel(\"#Workers\")\n",
    "\n",
    "plt.subplot(1, 2, 2)\n",
    "plt.hist(results[\"workers\"][\"wqs_initial\"])\n",
    "plt.ylim(0,55)\n",
    "plt.xlabel(\"Worker Quality Score Initial\")\n",
    "plt.ylabel(\"#Workers\")\n",
    "\n"
   ]
  },
  {
   "cell_type": "markdown",
   "metadata": {},
   "source": [
    "Save the worker metrics:"
   ]
  },
  {
   "cell_type": "code",
   "execution_count": 53,
   "metadata": {
    "collapsed": true
   },
   "outputs": [],
   "source": [
    "results[\"workers\"].to_csv(\"../data/results/crowdtruth_workers_rte.csv\", index=True)"
   ]
  },
  {
   "cell_type": "markdown",
   "metadata": {},
   "source": [
    "The **annotation metrics** are stored in `results[\"annotations\"]`. The `aqs` column contains the **annotation quality scores**, capturing the overall worker agreement over one relation."
   ]
  },
  {
   "cell_type": "code",
   "execution_count": 54,
   "metadata": {},
   "outputs": [
    {
     "data": {
      "text/html": [
       "<div>\n",
       "<style scoped>\n",
       "    .dataframe tbody tr th:only-of-type {\n",
       "        vertical-align: middle;\n",
       "    }\n",
       "\n",
       "    .dataframe tbody tr th {\n",
       "        vertical-align: top;\n",
       "    }\n",
       "\n",
       "    .dataframe thead th {\n",
       "        text-align: right;\n",
       "    }\n",
       "</style>\n",
       "<table border=\"1\" class=\"dataframe\">\n",
       "  <thead>\n",
       "    <tr style=\"text-align: right;\">\n",
       "      <th></th>\n",
       "      <th>output.response</th>\n",
       "    </tr>\n",
       "  </thead>\n",
       "  <tbody>\n",
       "    <tr>\n",
       "      <th>0</th>\n",
       "      <td>3419.0</td>\n",
       "    </tr>\n",
       "    <tr>\n",
       "      <th>1</th>\n",
       "      <td>4581.0</td>\n",
       "    </tr>\n",
       "  </tbody>\n",
       "</table>\n",
       "</div>"
      ],
      "text/plain": [
       "   output.response\n",
       "0           3419.0\n",
       "1           4581.0"
      ]
     },
     "execution_count": 54,
     "metadata": {},
     "output_type": "execute_result"
    }
   ],
   "source": [
    "results[\"annotations\"]"
   ]
  },
  {
   "cell_type": "code",
   "execution_count": 55,
   "metadata": {
    "collapsed": true
   },
   "outputs": [],
   "source": [
    "sortedUQS = results[\"units\"].sort_values([\"uqs\"])"
   ]
  },
  {
   "cell_type": "markdown",
   "metadata": {},
   "source": [
    "### Example of a very clear unit"
   ]
  },
  {
   "cell_type": "code",
   "execution_count": 56,
   "metadata": {},
   "outputs": [
    {
     "data": {
      "text/html": [
       "<div>\n",
       "<style scoped>\n",
       "    .dataframe tbody tr th:only-of-type {\n",
       "        vertical-align: middle;\n",
       "    }\n",
       "\n",
       "    .dataframe tbody tr th {\n",
       "        vertical-align: top;\n",
       "    }\n",
       "\n",
       "    .dataframe thead th {\n",
       "        text-align: right;\n",
       "    }\n",
       "</style>\n",
       "<table border=\"1\" class=\"dataframe\">\n",
       "  <thead>\n",
       "    <tr style=\"text-align: right;\">\n",
       "      <th></th>\n",
       "      <th>duration</th>\n",
       "      <th>input.gold</th>\n",
       "      <th>input.hypothesis</th>\n",
       "      <th>input.task</th>\n",
       "      <th>input.text</th>\n",
       "      <th>job</th>\n",
       "      <th>output.response</th>\n",
       "      <th>output.response.annotations</th>\n",
       "      <th>output.response.unique_annotations</th>\n",
       "      <th>worker</th>\n",
       "      <th>uqs</th>\n",
       "      <th>unit_annotation_score</th>\n",
       "      <th>uqs_initial</th>\n",
       "      <th>unit_annotation_score_initial</th>\n",
       "    </tr>\n",
       "    <tr>\n",
       "      <th>unit</th>\n",
       "      <th></th>\n",
       "      <th></th>\n",
       "      <th></th>\n",
       "      <th></th>\n",
       "      <th></th>\n",
       "      <th></th>\n",
       "      <th></th>\n",
       "      <th></th>\n",
       "      <th></th>\n",
       "      <th></th>\n",
       "      <th></th>\n",
       "      <th></th>\n",
       "      <th></th>\n",
       "      <th></th>\n",
       "    </tr>\n",
       "  </thead>\n",
       "  <tbody>\n",
       "    <tr>\n",
       "      <th>1142</th>\n",
       "      <td>83</td>\n",
       "      <td>1</td>\n",
       "      <td>Whooping cough is also called pertussis.</td>\n",
       "      <td>RC</td>\n",
       "      <td>Whooping cough, or pertussis, is a highly cont...</td>\n",
       "      <td>../data/rte.standardized</td>\n",
       "      <td>{u'1': 10, u'0': 0}</td>\n",
       "      <td>10</td>\n",
       "      <td>1</td>\n",
       "      <td>10</td>\n",
       "      <td>1.0</td>\n",
       "      <td>{u'1': 1.0, u'0': 5.27334010628e-100}</td>\n",
       "      <td>0.466667</td>\n",
       "      <td>{u'1': 0.6, u'0': 0.4}</td>\n",
       "    </tr>\n",
       "  </tbody>\n",
       "</table>\n",
       "</div>"
      ],
      "text/plain": [
       "      duration  input.gold                          input.hypothesis  \\\n",
       "unit                                                                   \n",
       "1142        83           1  Whooping cough is also called pertussis.   \n",
       "\n",
       "     input.task                                         input.text  \\\n",
       "unit                                                                 \n",
       "1142         RC  Whooping cough, or pertussis, is a highly cont...   \n",
       "\n",
       "                           job      output.response  \\\n",
       "unit                                                  \n",
       "1142  ../data/rte.standardized  {u'1': 10, u'0': 0}   \n",
       "\n",
       "      output.response.annotations  output.response.unique_annotations  worker  \\\n",
       "unit                                                                            \n",
       "1142                           10                                   1      10   \n",
       "\n",
       "      uqs                  unit_annotation_score  uqs_initial  \\\n",
       "unit                                                            \n",
       "1142  1.0  {u'1': 1.0, u'0': 5.27334010628e-100}     0.466667   \n",
       "\n",
       "     unit_annotation_score_initial  \n",
       "unit                                \n",
       "1142        {u'1': 0.6, u'0': 0.4}  "
      ]
     },
     "execution_count": 56,
     "metadata": {},
     "output_type": "execute_result"
    }
   ],
   "source": [
    "sortedUQS.tail(1)"
   ]
  },
  {
   "cell_type": "code",
   "execution_count": 57,
   "metadata": {},
   "outputs": [
    {
     "name": "stdout",
     "output_type": "stream",
     "text": [
      "Hypothesis: Whooping cough is also called pertussis.\n",
      "Text: Whooping cough, or pertussis, is a highly contagious bacterial infection characterized by violent coughing fits, gasps for air that resemble &quot;whoop&quot; sounds, and vomiting.\n",
      "Expert Answer: 1\n",
      "Crowd Answer with CrowdTruth: Counter({'1': 1.0, '0': 5.273340106284002e-100})\n",
      "Crowd Answer without CrowdTruth: Counter({'1': 0.6, '0': 0.4})\n"
     ]
    }
   ],
   "source": [
    "print(\"Hypothesis: %s\" % sortedUQS[\"input.hypothesis\"].iloc[len(sortedUQS.index)-1])\n",
    "print(\"Text: %s\" % sortedUQS[\"input.text\"].iloc[len(sortedUQS.index)-1])\n",
    "print(\"Expert Answer: %s\" % sortedUQS[\"input.gold\"].iloc[len(sortedUQS.index)-1])\n",
    "print(\"Crowd Answer with CrowdTruth: %s\" % sortedUQS[\"unit_annotation_score\"].iloc[len(sortedUQS.index)-1])\n",
    "print(\"Crowd Answer without CrowdTruth: %s\" % sortedUQS[\"unit_annotation_score_initial\"].iloc[len(sortedUQS.index)-1])"
   ]
  },
  {
   "cell_type": "markdown",
   "metadata": {},
   "source": [
    "### Example of an unclear unit"
   ]
  },
  {
   "cell_type": "code",
   "execution_count": 58,
   "metadata": {},
   "outputs": [
    {
     "data": {
      "text/html": [
       "<div>\n",
       "<style scoped>\n",
       "    .dataframe tbody tr th:only-of-type {\n",
       "        vertical-align: middle;\n",
       "    }\n",
       "\n",
       "    .dataframe tbody tr th {\n",
       "        vertical-align: top;\n",
       "    }\n",
       "\n",
       "    .dataframe thead th {\n",
       "        text-align: right;\n",
       "    }\n",
       "</style>\n",
       "<table border=\"1\" class=\"dataframe\">\n",
       "  <thead>\n",
       "    <tr style=\"text-align: right;\">\n",
       "      <th></th>\n",
       "      <th>duration</th>\n",
       "      <th>input.gold</th>\n",
       "      <th>input.hypothesis</th>\n",
       "      <th>input.task</th>\n",
       "      <th>input.text</th>\n",
       "      <th>job</th>\n",
       "      <th>output.response</th>\n",
       "      <th>output.response.annotations</th>\n",
       "      <th>output.response.unique_annotations</th>\n",
       "      <th>worker</th>\n",
       "      <th>uqs</th>\n",
       "      <th>unit_annotation_score</th>\n",
       "      <th>uqs_initial</th>\n",
       "      <th>unit_annotation_score_initial</th>\n",
       "    </tr>\n",
       "    <tr>\n",
       "      <th>unit</th>\n",
       "      <th></th>\n",
       "      <th></th>\n",
       "      <th></th>\n",
       "      <th></th>\n",
       "      <th></th>\n",
       "      <th></th>\n",
       "      <th></th>\n",
       "      <th></th>\n",
       "      <th></th>\n",
       "      <th></th>\n",
       "      <th></th>\n",
       "      <th></th>\n",
       "      <th></th>\n",
       "      <th></th>\n",
       "    </tr>\n",
       "  </thead>\n",
       "  <tbody>\n",
       "    <tr>\n",
       "      <th>278</th>\n",
       "      <td>83</td>\n",
       "      <td>1</td>\n",
       "      <td>Haitian military is not allowed to leave Haiti.</td>\n",
       "      <td>IR</td>\n",
       "      <td>The council has prohibited any travel outside ...</td>\n",
       "      <td>../data/rte.standardized</td>\n",
       "      <td>{u'1': 9, u'0': 1}</td>\n",
       "      <td>10</td>\n",
       "      <td>2</td>\n",
       "      <td>10</td>\n",
       "      <td>0.44918</td>\n",
       "      <td>{u'1': 0.598158040471, u'0': 0.401841959529}</td>\n",
       "      <td>0.466667</td>\n",
       "      <td>{u'1': 0.6, u'0': 0.4}</td>\n",
       "    </tr>\n",
       "  </tbody>\n",
       "</table>\n",
       "</div>"
      ],
      "text/plain": [
       "      duration  input.gold                                 input.hypothesis  \\\n",
       "unit                                                                          \n",
       "278         83           1  Haitian military is not allowed to leave Haiti.   \n",
       "\n",
       "     input.task                                         input.text  \\\n",
       "unit                                                                 \n",
       "278          IR  The council has prohibited any travel outside ...   \n",
       "\n",
       "                           job     output.response  \\\n",
       "unit                                                 \n",
       "278   ../data/rte.standardized  {u'1': 9, u'0': 1}   \n",
       "\n",
       "      output.response.annotations  output.response.unique_annotations  worker  \\\n",
       "unit                                                                            \n",
       "278                            10                                   2      10   \n",
       "\n",
       "          uqs                         unit_annotation_score  uqs_initial  \\\n",
       "unit                                                                       \n",
       "278   0.44918  {u'1': 0.598158040471, u'0': 0.401841959529}     0.466667   \n",
       "\n",
       "     unit_annotation_score_initial  \n",
       "unit                                \n",
       "278         {u'1': 0.6, u'0': 0.4}  "
      ]
     },
     "execution_count": 58,
     "metadata": {},
     "output_type": "execute_result"
    }
   ],
   "source": [
    "sortedUQS.head(1)"
   ]
  },
  {
   "cell_type": "code",
   "execution_count": 59,
   "metadata": {},
   "outputs": [
    {
     "name": "stdout",
     "output_type": "stream",
     "text": [
      "Hypothesis: Haitian military is not allowed to leave Haiti.\n",
      "Text: The council has prohibited any travel outside of Haiti by all officers of the Haitian military and police and all major participants in the September, 1991, coup.\n",
      "Expert Answer: 1\n",
      "Crowd Answer with CrowdTruth: Counter({'1': 0.5981580404707015, '0': 0.4018419595292987})\n",
      "Crowd Answer without CrowdTruth: Counter({'1': 0.6, '0': 0.4})\n"
     ]
    }
   ],
   "source": [
    "print(\"Hypothesis: %s\" % sortedUQS[\"input.hypothesis\"].iloc[0])\n",
    "print(\"Text: %s\" % sortedUQS[\"input.text\"].iloc[0])\n",
    "print(\"Expert Answer: %s\" % sortedUQS[\"input.gold\"].iloc[0])\n",
    "print(\"Crowd Answer with CrowdTruth: %s\" % sortedUQS[\"unit_annotation_score\"].iloc[0])\n",
    "print(\"Crowd Answer without CrowdTruth: %s\" % sortedUQS[\"unit_annotation_score_initial\"].iloc[0])"
   ]
  },
  {
   "cell_type": "markdown",
   "metadata": {},
   "source": [
    "# MACE for Recognizing Textual Entailment Annotation"
   ]
  },
  {
   "cell_type": "markdown",
   "metadata": {},
   "source": [
    "We first pre-processed the crowd results to create compatible files for running the MACE tool.\n",
    "Each row in a csv file should point to a unit in the dataset and each column in the csv file should point to a worker. The content of the csv file captures the worker answer for that particular unit (or remains empty if the worker did not annotate that unit)."
   ]
  },
  {
   "cell_type": "code",
   "execution_count": 60,
   "metadata": {},
   "outputs": [
    {
     "data": {
      "text/html": [
       "<div>\n",
       "<style scoped>\n",
       "    .dataframe tbody tr th:only-of-type {\n",
       "        vertical-align: middle;\n",
       "    }\n",
       "\n",
       "    .dataframe tbody tr th {\n",
       "        vertical-align: top;\n",
       "    }\n",
       "\n",
       "    .dataframe thead th {\n",
       "        text-align: right;\n",
       "    }\n",
       "</style>\n",
       "<table border=\"1\" class=\"dataframe\">\n",
       "  <thead>\n",
       "    <tr style=\"text-align: right;\">\n",
       "      <th></th>\n",
       "      <th>0</th>\n",
       "      <th>1</th>\n",
       "      <th>2</th>\n",
       "      <th>3</th>\n",
       "      <th>4</th>\n",
       "      <th>5</th>\n",
       "      <th>6</th>\n",
       "      <th>7</th>\n",
       "      <th>8</th>\n",
       "      <th>9</th>\n",
       "      <th>...</th>\n",
       "      <th>154</th>\n",
       "      <th>155</th>\n",
       "      <th>156</th>\n",
       "      <th>157</th>\n",
       "      <th>158</th>\n",
       "      <th>159</th>\n",
       "      <th>160</th>\n",
       "      <th>161</th>\n",
       "      <th>162</th>\n",
       "      <th>163</th>\n",
       "    </tr>\n",
       "  </thead>\n",
       "  <tbody>\n",
       "    <tr>\n",
       "      <th>0</th>\n",
       "      <td>0</td>\n",
       "      <td>0</td>\n",
       "      <td>0</td>\n",
       "      <td>0</td>\n",
       "      <td>0</td>\n",
       "      <td>0</td>\n",
       "      <td>1</td>\n",
       "      <td>0</td>\n",
       "      <td>0</td>\n",
       "      <td>1</td>\n",
       "      <td>...</td>\n",
       "      <td></td>\n",
       "      <td></td>\n",
       "      <td></td>\n",
       "      <td></td>\n",
       "      <td></td>\n",
       "      <td></td>\n",
       "      <td></td>\n",
       "      <td></td>\n",
       "      <td></td>\n",
       "      <td></td>\n",
       "    </tr>\n",
       "    <tr>\n",
       "      <th>1</th>\n",
       "      <td></td>\n",
       "      <td></td>\n",
       "      <td></td>\n",
       "      <td></td>\n",
       "      <td></td>\n",
       "      <td></td>\n",
       "      <td>1</td>\n",
       "      <td></td>\n",
       "      <td></td>\n",
       "      <td>1</td>\n",
       "      <td>...</td>\n",
       "      <td></td>\n",
       "      <td></td>\n",
       "      <td></td>\n",
       "      <td></td>\n",
       "      <td></td>\n",
       "      <td></td>\n",
       "      <td></td>\n",
       "      <td></td>\n",
       "      <td></td>\n",
       "      <td></td>\n",
       "    </tr>\n",
       "    <tr>\n",
       "      <th>2</th>\n",
       "      <td></td>\n",
       "      <td></td>\n",
       "      <td></td>\n",
       "      <td></td>\n",
       "      <td></td>\n",
       "      <td></td>\n",
       "      <td>1</td>\n",
       "      <td></td>\n",
       "      <td></td>\n",
       "      <td>0</td>\n",
       "      <td>...</td>\n",
       "      <td></td>\n",
       "      <td></td>\n",
       "      <td></td>\n",
       "      <td></td>\n",
       "      <td></td>\n",
       "      <td></td>\n",
       "      <td></td>\n",
       "      <td></td>\n",
       "      <td></td>\n",
       "      <td></td>\n",
       "    </tr>\n",
       "    <tr>\n",
       "      <th>3</th>\n",
       "      <td></td>\n",
       "      <td></td>\n",
       "      <td></td>\n",
       "      <td></td>\n",
       "      <td></td>\n",
       "      <td></td>\n",
       "      <td>1</td>\n",
       "      <td></td>\n",
       "      <td></td>\n",
       "      <td>1</td>\n",
       "      <td>...</td>\n",
       "      <td></td>\n",
       "      <td></td>\n",
       "      <td></td>\n",
       "      <td></td>\n",
       "      <td></td>\n",
       "      <td></td>\n",
       "      <td></td>\n",
       "      <td></td>\n",
       "      <td></td>\n",
       "      <td></td>\n",
       "    </tr>\n",
       "    <tr>\n",
       "      <th>4</th>\n",
       "      <td>1</td>\n",
       "      <td>1</td>\n",
       "      <td>1</td>\n",
       "      <td>1</td>\n",
       "      <td>1</td>\n",
       "      <td>1</td>\n",
       "      <td>1</td>\n",
       "      <td>1</td>\n",
       "      <td>1</td>\n",
       "      <td>1</td>\n",
       "      <td>...</td>\n",
       "      <td></td>\n",
       "      <td></td>\n",
       "      <td></td>\n",
       "      <td></td>\n",
       "      <td></td>\n",
       "      <td></td>\n",
       "      <td></td>\n",
       "      <td></td>\n",
       "      <td></td>\n",
       "      <td></td>\n",
       "    </tr>\n",
       "  </tbody>\n",
       "</table>\n",
       "<p>5 rows × 164 columns</p>\n",
       "</div>"
      ],
      "text/plain": [
       "  0   1   2   3   4   5    6   7   8   9   ... 154 155 156 157 158 159 160  \\\n",
       "0   0   0   0   0   0   0    1   0   0   1 ...                               \n",
       "1                            1           1 ...                               \n",
       "2                            1           0 ...                               \n",
       "3                            1           1 ...                               \n",
       "4   1   1   1   1   1   1    1   1   1   1 ...                               \n",
       "\n",
       "  161 162 163  \n",
       "0              \n",
       "1              \n",
       "2              \n",
       "3              \n",
       "4              \n",
       "\n",
       "[5 rows x 164 columns]"
      ]
     },
     "execution_count": 60,
     "metadata": {},
     "output_type": "execute_result"
    }
   ],
   "source": [
    "import numpy as np\n",
    "\n",
    "test_data = pd.read_csv(\"../data/mace_rte.standardized.csv\", header=None)\n",
    "test_data = test_data.replace(np.nan, '', regex=True)\n",
    "test_data.head()"
   ]
  },
  {
   "cell_type": "code",
   "execution_count": 61,
   "metadata": {},
   "outputs": [
    {
     "data": {
      "text/html": [
       "<div>\n",
       "<style scoped>\n",
       "    .dataframe tbody tr th:only-of-type {\n",
       "        vertical-align: middle;\n",
       "    }\n",
       "\n",
       "    .dataframe tbody tr th {\n",
       "        vertical-align: top;\n",
       "    }\n",
       "\n",
       "    .dataframe thead th {\n",
       "        text-align: right;\n",
       "    }\n",
       "</style>\n",
       "<table border=\"1\" class=\"dataframe\">\n",
       "  <thead>\n",
       "    <tr style=\"text-align: right;\">\n",
       "      <th></th>\n",
       "      <th>unit</th>\n",
       "      <th>true</th>\n",
       "      <th>false</th>\n",
       "      <th>gold</th>\n",
       "    </tr>\n",
       "  </thead>\n",
       "  <tbody>\n",
       "    <tr>\n",
       "      <th>0</th>\n",
       "      <td>25</td>\n",
       "      <td>9.263818e-06</td>\n",
       "      <td>9.999907e-01</td>\n",
       "      <td>0</td>\n",
       "    </tr>\n",
       "    <tr>\n",
       "      <th>1</th>\n",
       "      <td>35</td>\n",
       "      <td>1.353801e-06</td>\n",
       "      <td>9.999986e-01</td>\n",
       "      <td>1</td>\n",
       "    </tr>\n",
       "    <tr>\n",
       "      <th>2</th>\n",
       "      <td>39</td>\n",
       "      <td>1.000000e+00</td>\n",
       "      <td>1.057981e-08</td>\n",
       "      <td>1</td>\n",
       "    </tr>\n",
       "    <tr>\n",
       "      <th>3</th>\n",
       "      <td>48</td>\n",
       "      <td>5.895417e-07</td>\n",
       "      <td>9.999994e-01</td>\n",
       "      <td>1</td>\n",
       "    </tr>\n",
       "    <tr>\n",
       "      <th>4</th>\n",
       "      <td>49</td>\n",
       "      <td>9.999986e-01</td>\n",
       "      <td>1.420726e-06</td>\n",
       "      <td>1</td>\n",
       "    </tr>\n",
       "  </tbody>\n",
       "</table>\n",
       "</div>"
      ],
      "text/plain": [
       "   unit          true         false  gold\n",
       "0    25  9.263818e-06  9.999907e-01     0\n",
       "1    35  1.353801e-06  9.999986e-01     1\n",
       "2    39  1.000000e+00  1.057981e-08     1\n",
       "3    48  5.895417e-07  9.999994e-01     1\n",
       "4    49  9.999986e-01  1.420726e-06     1"
      ]
     },
     "execution_count": 61,
     "metadata": {},
     "output_type": "execute_result"
    }
   ],
   "source": [
    "import pandas as pd\n",
    "\n",
    "mace_data = pd.read_csv(\"../data/results/mace_units_rte.csv\")\n",
    "mace_data.head()"
   ]
  },
  {
   "cell_type": "code",
   "execution_count": 62,
   "metadata": {},
   "outputs": [
    {
     "data": {
      "text/html": [
       "<div>\n",
       "<style scoped>\n",
       "    .dataframe tbody tr th:only-of-type {\n",
       "        vertical-align: middle;\n",
       "    }\n",
       "\n",
       "    .dataframe tbody tr th {\n",
       "        vertical-align: top;\n",
       "    }\n",
       "\n",
       "    .dataframe thead th {\n",
       "        text-align: right;\n",
       "    }\n",
       "</style>\n",
       "<table border=\"1\" class=\"dataframe\">\n",
       "  <thead>\n",
       "    <tr style=\"text-align: right;\">\n",
       "      <th></th>\n",
       "      <th>worker</th>\n",
       "      <th>competence</th>\n",
       "    </tr>\n",
       "  </thead>\n",
       "  <tbody>\n",
       "    <tr>\n",
       "      <th>0</th>\n",
       "      <td>A2K5ICP43ML4PW</td>\n",
       "      <td>0.804252</td>\n",
       "    </tr>\n",
       "    <tr>\n",
       "      <th>1</th>\n",
       "      <td>A15L6WGIK3VU7N</td>\n",
       "      <td>0.855198</td>\n",
       "    </tr>\n",
       "    <tr>\n",
       "      <th>2</th>\n",
       "      <td>AHPSMRLKAEJV</td>\n",
       "      <td>0.690429</td>\n",
       "    </tr>\n",
       "    <tr>\n",
       "      <th>3</th>\n",
       "      <td>A25QX7IUS1KI5E</td>\n",
       "      <td>0.473449</td>\n",
       "    </tr>\n",
       "    <tr>\n",
       "      <th>4</th>\n",
       "      <td>A2RV3FIO3IAZS</td>\n",
       "      <td>0.348140</td>\n",
       "    </tr>\n",
       "  </tbody>\n",
       "</table>\n",
       "</div>"
      ],
      "text/plain": [
       "           worker  competence\n",
       "0  A2K5ICP43ML4PW    0.804252\n",
       "1  A15L6WGIK3VU7N    0.855198\n",
       "2    AHPSMRLKAEJV    0.690429\n",
       "3  A25QX7IUS1KI5E    0.473449\n",
       "4   A2RV3FIO3IAZS    0.348140"
      ]
     },
     "execution_count": 62,
     "metadata": {},
     "output_type": "execute_result"
    }
   ],
   "source": [
    "mace_workers = pd.read_csv(\"../data/results/mace_workers_rte.csv\")\n",
    "mace_workers.head()"
   ]
  },
  {
   "cell_type": "markdown",
   "metadata": {},
   "source": [
    "# CrowdTruth vs. MACE on Worker Quality"
   ]
  },
  {
   "cell_type": "code",
   "execution_count": 63,
   "metadata": {
    "collapsed": true
   },
   "outputs": [],
   "source": [
    "mace_workers = pd.read_csv(\"../data/results/mace_workers_rte.csv\")\n",
    "crowdtruth_workers = pd.read_csv(\"../data/results/crowdtruth_workers_rte.csv\")\n",
    "\n",
    "mace_workers = mace_workers.sort_values([\"worker\"])\n",
    "crowdtruth_workers = crowdtruth_workers.sort_values([\"worker\"])"
   ]
  },
  {
   "cell_type": "code",
   "execution_count": 64,
   "metadata": {},
   "outputs": [
    {
     "data": {
      "text/plain": [
       "Text(0,0.5,'CrowdTruth')"
      ]
     },
     "execution_count": 64,
     "metadata": {},
     "output_type": "execute_result"
    },
    {
     "data": {
      "image/png": "[encoded data removed]",
      "text/plain": [
       "<Figure size 432x288 with 1 Axes>"
      ]
     },
     "metadata": {},
     "output_type": "display_data"
    }
   ],
   "source": [
    "%matplotlib inline\n",
    "\n",
    "import matplotlib\n",
    "import matplotlib.pyplot as plt\n",
    "\n",
    "plt.scatter(\n",
    "    mace_workers[\"competence\"],\n",
    "    crowdtruth_workers[\"wqs\"],\n",
    ")\n",
    "\n",
    "plt.title(\"Worker Quality Score\")\n",
    "plt.xlabel(\"MACE\")\n",
    "plt.ylabel(\"CrowdTruth\")"
   ]
  },
  {
   "cell_type": "code",
   "execution_count": 65,
   "metadata": {},
   "outputs": [
    {
     "data": {
      "text/plain": [
       "<matplotlib.legend.Legend at 0x11a4595d0>"
      ]
     },
     "execution_count": 65,
     "metadata": {},
     "output_type": "execute_result"
    },
    {
     "data": {
      "image/png": "[encoded data removed]",
      "text/plain": [
       "<Figure size 1080x360 with 1 Axes>"
      ]
     },
     "metadata": {},
     "output_type": "display_data"
    }
   ],
   "source": [
    "sortWQS = crowdtruth_workers.sort_values(['wqs'], ascending=[1])\n",
    "sortWQS = sortWQS.reset_index()\n",
    "worker_ids = list(sortWQS[\"worker\"])\n",
    "\n",
    "mace_workers = mace_workers.set_index('worker')\n",
    "mace_workers.loc[worker_ids]\n",
    "\n",
    "plt.rcParams['figure.figsize'] = 15, 5\n",
    "\n",
    "plt.plot(np.arange(sortWQS.shape[0]), sortWQS[\"wqs\"], 'bo', lw = 1, label = \"CrowdTruth Worker Score\")\n",
    "plt.plot(np.arange(mace_workers.shape[0]), mace_workers[\"competence\"], 'go', lw = 1, label = \"MACE Worker Score\")\n",
    "\n",
    "plt.ylabel('Worker Quality Score')\n",
    "plt.xlabel('Worker Index')\n",
    "plt.legend()"
   ]
  },
  {
   "cell_type": "markdown",
   "metadata": {},
   "source": [
    "# CrowdTruth vs. MACE vs. Majority Vote on Annotation Performance"
   ]
  },
  {
   "cell_type": "code",
   "execution_count": 66,
   "metadata": {
    "collapsed": true
   },
   "outputs": [],
   "source": [
    "majvote = pd.read_csv(\"../data/results/majorityvote_units_rte.csv\")\n",
    "mace = pd.read_csv(\"../data/results/mace_units_rte.csv\")\n",
    "crowdtruth = pd.read_csv(\"../data/results/crowdtruth_units_rte.csv\")"
   ]
  },
  {
   "cell_type": "code",
   "execution_count": 82,
   "metadata": {
    "collapsed": true
   },
   "outputs": [],
   "source": [
    "def compute_F1_score(dataset, gt_value, gt_column):\n",
    "    nyt_f1 = np.zeros(shape=(10, 2))\n",
    "    for idx in xrange(0, 10):\n",
    "        thresh = (idx + 1) / 10.0\n",
    "        tp = 0\n",
    "        fp = 0\n",
    "        tn = 0\n",
    "        fn = 0\n",
    "\n",
    "        for gt_idx in range(0, len(dataset.index)):\n",
    "            if dataset['true'].iloc[gt_idx] >= thresh:\n",
    "                if dataset['gold'].iloc[gt_idx] == 1:\n",
    "                    tp = tp + 1.0\n",
    "                else:\n",
    "                    fp = fp + 1.0\n",
    "            else:\n",
    "                if dataset['gold'].iloc[gt_idx] == 1:\n",
    "                    fn = fn + 1.0\n",
    "                else:\n",
    "                    tn = tn + 1.0\n",
    "\n",
    "\n",
    "        nyt_f1[idx, 0] = thresh\n",
    "        print(thresh,tp,fp,tn,fn)\n",
    "        if tp != 0:\n",
    "            nyt_f1[idx, 1] = 2.0 * tp / (2.0 * tp + fp + fn)\n",
    "        else:\n",
    "            nyt_f1[idx, 1] = 0\n",
    "    return nyt_f1"
   ]
  },
  {
   "cell_type": "code",
   "execution_count": 83,
   "metadata": {},
   "outputs": [
    {
     "name": "stdout",
     "output_type": "stream",
     "text": [
      "(0.1, 276.0, 264.0, 136.0, 124.0)\n",
      "(0.2, 179.0, 181.0, 219.0, 221.0)\n",
      "(0.3, 135.0, 125.0, 275.0, 265.0)\n",
      "(0.4, 105.0, 95.0, 305.0, 295.0)\n",
      "(0.5, 105.0, 95.0, 305.0, 295.0)\n",
      "(0.6, 95.0, 85.0, 315.0, 305.0)\n",
      "(0.7, 75.0, 65.0, 335.0, 325.0)\n",
      "(0.8, 64.0, 56.0, 344.0, 336.0)\n",
      "(0.9, 42.0, 38.0, 362.0, 358.0)\n",
      "(1.0, 11.0, 9.0, 391.0, 389.0)\n"
     ]
    },
    {
     "data": {
      "text/plain": [
       "array([[0.1       , 0.58723404],\n",
       "       [0.2       , 0.47105263],\n",
       "       [0.3       , 0.40909091],\n",
       "       [0.4       , 0.35      ],\n",
       "       [0.5       , 0.35      ],\n",
       "       [0.6       , 0.32758621],\n",
       "       [0.7       , 0.27777778],\n",
       "       [0.8       , 0.24615385],\n",
       "       [0.9       , 0.175     ],\n",
       "       [1.        , 0.05238095]])"
      ]
     },
     "execution_count": 83,
     "metadata": {},
     "output_type": "execute_result"
    }
   ],
   "source": [
    "F1_crowdtruth = compute_F1_score(crowdtruth, 1, 'gold')\n",
    "F1_crowdtruth"
   ]
  },
  {
   "cell_type": "code",
   "execution_count": 79,
   "metadata": {},
   "outputs": [
    {
     "name": "stdout",
     "output_type": "stream",
     "text": [
      "(0.1, 371.0, 27.0, 371.0, 373.0)\n",
      "(0.2, 367.0, 24.0, 367.0, 376.0)\n",
      "(0.3, 363.0, 22.0, 363.0, 378.0)\n",
      "(0.4, 362.0, 21.0, 362.0, 379.0)\n",
      "(0.5, 361.0, 20.0, 361.0, 380.0)\n",
      "(0.6, 360.0, 19.0, 360.0, 381.0)\n",
      "(0.7, 359.0, 19.0, 359.0, 381.0)\n",
      "(0.8, 357.0, 19.0, 357.0, 381.0)\n",
      "(0.9, 351.0, 17.0, 351.0, 383.0)\n",
      "(1.0, 6.0, 0, 6.0, 400.0)\n"
     ]
    },
    {
     "data": {
      "text/plain": [
       "array([[0.1       , 0.92982456],\n",
       "       [0.2       , 0.92793932],\n",
       "       [0.3       , 0.92484076],\n",
       "       [0.4       , 0.92464879],\n",
       "       [0.5       , 0.92445583],\n",
       "       [0.6       , 0.92426187],\n",
       "       [0.7       , 0.92287918],\n",
       "       [0.8       , 0.92010309],\n",
       "       [0.9       , 0.9140625 ],\n",
       "       [1.        , 0.02955665]])"
      ]
     },
     "execution_count": 79,
     "metadata": {},
     "output_type": "execute_result"
    }
   ],
   "source": [
    "F1_mace = compute_F1_score(mace, 1, 'gold')\n",
    "F1_mace"
   ]
  },
  {
   "cell_type": "code",
   "execution_count": null,
   "metadata": {
    "collapsed": true
   },
   "outputs": [],
   "source": []
  }
 ],
 "metadata": {
  "anaconda-cloud": {},
  "kernelspec": {
   "display_name": "Python 2",
   "language": "python",
   "name": "python2"
  },
  "language_info": {
   "codemirror_mode": {
    "name": "ipython",
    "version": 2
   },
   "file_extension": ".py",
   "mimetype": "text/x-python",
   "name": "python",
   "nbconvert_exporter": "python",
   "pygments_lexer": "ipython2",
   "version": "2.7.13"
  }
 },
 "nbformat": 4,
 "nbformat_minor": 2
}
