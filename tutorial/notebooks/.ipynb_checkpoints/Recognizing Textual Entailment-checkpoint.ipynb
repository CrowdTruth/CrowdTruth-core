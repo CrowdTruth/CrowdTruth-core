{
 "cells": [
  {
   "cell_type": "markdown",
   "metadata": {},
   "source": [
    "# CrowdTruth for Recognizing Textual Entailment Annotation\n",
    "\n",
    "This analysis uses the data gathered in the \"Recognizing Textual Entailment\" crowdsourcing experiment published in *Rion Snow, Brendan O’Connor, Dan Jurafsky, and Andrew Y. Ng: Cheap and fast—but is it good? Evaluating non-expert annotations for natural language tasks. EMNLP 2008, pages 254–263*.\n",
    "\n",
    "**Task Description**: Given *two sentences*, the crowd has to choose whether the second *hypothesis* sentence can be inferred from the first *sentence* (binary choice, true/false). Following, we provide an example from the aforementioned publication:\n",
    "\n",
    "**Text**: “Crude Oil Prices Slump”\n",
    "\n",
    "**Hypothesis**: “Oil prices drop”\n",
    "\n",
    "A screenshot of the task as it appeared to workers can be seen at the following [repository](http://ai.stanford.edu/ ̃rion/annotations/)."
   ]
  },
  {
   "cell_type": "markdown",
   "metadata": {},
   "source": [
    "The dataset for this task was downloaded from the following [repository](http://ai.stanford.edu/ ̃rion/annotations/), which contains the raw output from the crowd on AMT. Currently, you can find the processed input file in the folder named `data`. Besides the raw crowd annotations, the processed file also contains the text and the hypothesis that needs to be tested with the given text, which were given as input to the crowd."
   ]
  },
  {
   "cell_type": "code",
   "execution_count": 1,
   "metadata": {},
   "outputs": [
    {
     "data": {
      "text/html": [
       "<div>\n",
       "<style scoped>\n",
       "    .dataframe tbody tr th:only-of-type {\n",
       "        vertical-align: middle;\n",
       "    }\n",
       "\n",
       "    .dataframe tbody tr th {\n",
       "        vertical-align: top;\n",
       "    }\n",
       "\n",
       "    .dataframe thead th {\n",
       "        text-align: right;\n",
       "    }\n",
       "</style>\n",
       "<table border=\"1\" class=\"dataframe\">\n",
       "  <thead>\n",
       "    <tr style=\"text-align: right;\">\n",
       "      <th></th>\n",
       "      <th>!amt_annotation_ids</th>\n",
       "      <th>!amt_worker_ids</th>\n",
       "      <th>orig_id</th>\n",
       "      <th>response</th>\n",
       "      <th>gold</th>\n",
       "      <th>start</th>\n",
       "      <th>end</th>\n",
       "      <th>hypothesis</th>\n",
       "      <th>task</th>\n",
       "      <th>text</th>\n",
       "    </tr>\n",
       "  </thead>\n",
       "  <tbody>\n",
       "    <tr>\n",
       "      <th>0</th>\n",
       "      <td>1</td>\n",
       "      <td>A2K5ICP43ML4PW</td>\n",
       "      <td>25</td>\n",
       "      <td>not_relevant</td>\n",
       "      <td>0</td>\n",
       "      <td>Mon Mar 25 07:39:42 PDT 2019</td>\n",
       "      <td>Mon Mar 25 07:41:05 PDT 2019</td>\n",
       "      <td>Two films won six Oscars.</td>\n",
       "      <td>IR</td>\n",
       "      <td>The film was the evening&amp;apos;s big winner, ba...</td>\n",
       "    </tr>\n",
       "    <tr>\n",
       "      <th>1</th>\n",
       "      <td>2</td>\n",
       "      <td>A15L6WGIK3VU7N</td>\n",
       "      <td>25</td>\n",
       "      <td>not_relevant</td>\n",
       "      <td>0</td>\n",
       "      <td>Mon Mar 25 07:39:42 PDT 2019</td>\n",
       "      <td>Mon Mar 25 07:41:05 PDT 2019</td>\n",
       "      <td>Two films won six Oscars.</td>\n",
       "      <td>IR</td>\n",
       "      <td>The film was the evening&amp;apos;s big winner, ba...</td>\n",
       "    </tr>\n",
       "    <tr>\n",
       "      <th>2</th>\n",
       "      <td>3</td>\n",
       "      <td>AHPSMRLKAEJV</td>\n",
       "      <td>25</td>\n",
       "      <td>not_relevant</td>\n",
       "      <td>0</td>\n",
       "      <td>Mon Mar 25 07:39:42 PDT 2019</td>\n",
       "      <td>Mon Mar 25 07:41:05 PDT 2019</td>\n",
       "      <td>Two films won six Oscars.</td>\n",
       "      <td>IR</td>\n",
       "      <td>The film was the evening&amp;apos;s big winner, ba...</td>\n",
       "    </tr>\n",
       "    <tr>\n",
       "      <th>3</th>\n",
       "      <td>4</td>\n",
       "      <td>A25QX7IUS1KI5E</td>\n",
       "      <td>25</td>\n",
       "      <td>not_relevant</td>\n",
       "      <td>0</td>\n",
       "      <td>Mon Mar 25 07:39:42 PDT 2019</td>\n",
       "      <td>Mon Mar 25 07:41:05 PDT 2019</td>\n",
       "      <td>Two films won six Oscars.</td>\n",
       "      <td>IR</td>\n",
       "      <td>The film was the evening&amp;apos;s big winner, ba...</td>\n",
       "    </tr>\n",
       "    <tr>\n",
       "      <th>4</th>\n",
       "      <td>5</td>\n",
       "      <td>A2RV3FIO3IAZS</td>\n",
       "      <td>25</td>\n",
       "      <td>not_relevant</td>\n",
       "      <td>0</td>\n",
       "      <td>Mon Mar 25 07:39:42 PDT 2019</td>\n",
       "      <td>Mon Mar 25 07:41:05 PDT 2019</td>\n",
       "      <td>Two films won six Oscars.</td>\n",
       "      <td>IR</td>\n",
       "      <td>The film was the evening&amp;apos;s big winner, ba...</td>\n",
       "    </tr>\n",
       "  </tbody>\n",
       "</table>\n",
       "</div>"
      ],
      "text/plain": [
       "   !amt_annotation_ids !amt_worker_ids  orig_id      response  gold  \\\n",
       "0                    1  A2K5ICP43ML4PW       25  not_relevant     0   \n",
       "1                    2  A15L6WGIK3VU7N       25  not_relevant     0   \n",
       "2                    3    AHPSMRLKAEJV       25  not_relevant     0   \n",
       "3                    4  A25QX7IUS1KI5E       25  not_relevant     0   \n",
       "4                    5   A2RV3FIO3IAZS       25  not_relevant     0   \n",
       "\n",
       "                          start                           end  \\\n",
       "0  Mon Mar 25 07:39:42 PDT 2019  Mon Mar 25 07:41:05 PDT 2019   \n",
       "1  Mon Mar 25 07:39:42 PDT 2019  Mon Mar 25 07:41:05 PDT 2019   \n",
       "2  Mon Mar 25 07:39:42 PDT 2019  Mon Mar 25 07:41:05 PDT 2019   \n",
       "3  Mon Mar 25 07:39:42 PDT 2019  Mon Mar 25 07:41:05 PDT 2019   \n",
       "4  Mon Mar 25 07:39:42 PDT 2019  Mon Mar 25 07:41:05 PDT 2019   \n",
       "\n",
       "                  hypothesis task  \\\n",
       "0  Two films won six Oscars.   IR   \n",
       "1  Two films won six Oscars.   IR   \n",
       "2  Two films won six Oscars.   IR   \n",
       "3  Two films won six Oscars.   IR   \n",
       "4  Two films won six Oscars.   IR   \n",
       "\n",
       "                                                text  \n",
       "0  The film was the evening&apos;s big winner, ba...  \n",
       "1  The film was the evening&apos;s big winner, ba...  \n",
       "2  The film was the evening&apos;s big winner, ba...  \n",
       "3  The film was the evening&apos;s big winner, ba...  \n",
       "4  The film was the evening&apos;s big winner, ba...  "
      ]
     },
     "execution_count": 1,
     "metadata": {},
     "output_type": "execute_result"
    }
   ],
   "source": [
    "import pandas as pd\n",
    "\n",
    "test_data = pd.read_csv(\"../data/rte.standardized.csv\")\n",
    "test_data.head()"
   ]
  },
  {
   "cell_type": "markdown",
   "metadata": {},
   "source": [
    "## Declaring a pre-processing configuration\n",
    "\n",
    "The pre-processing configuration defines how to interpret the raw crowdsourcing input. To do this, we need to define a configuration class. First, we import the default CrowdTruth configuration class:"
   ]
  },
  {
   "cell_type": "code",
   "execution_count": 2,
   "metadata": {
    "collapsed": true
   },
   "outputs": [],
   "source": [
    "import crowdtruth\n",
    "from crowdtruth.configuration import DefaultConfig"
   ]
  },
  {
   "cell_type": "markdown",
   "metadata": {},
   "source": [
    "Our test class inherits the default configuration `DefaultConfig`, while also declaring some additional attributes that are specific to the Recognizing Textual Entailment task:\n",
    "\n",
    "* **`inputColumns`:** list of input columns from the .csv file with the input data\n",
    "* **`outputColumns`:** list of output columns from the .csv file with the answers from the workers\n",
    "* **`customPlatformColumns`:** a list of columns from the .csv file that defines a standard annotation tasks, in the following order - judgment id, unit id, worker id, started time, submitted time. This variable is used for input files that do not come from AMT or FigureEight (formarly known as CrowdFlower).\n",
    "* **`annotation_separator`:** string that separates between the crowd annotations in `outputColumns`\n",
    "* **`open_ended_task`:** boolean variable defining whether the task is open-ended (i.e. the possible crowd annotations are not known beforehand, like in the case of free text input); in the task that we are processing, workers pick the answers from a pre-defined list, therefore the task is not open ended, and this variable is set to `False`\n",
    "* **`annotation_vector`:** list of possible crowd answers, mandatory to declare when `open_ended_task` is `False`; for our task, this is the list of relations\n",
    "* **`processJudgments`:** method that defines processing of the raw crowd data; for this task, we process the crowd answers to correspond to the values in `annotation_vector`\n",
    "\n",
    "The complete configuration class is declared below:"
   ]
  },
  {
   "cell_type": "code",
   "execution_count": 3,
   "metadata": {
    "collapsed": true
   },
   "outputs": [],
   "source": [
    "class TestConfig(DefaultConfig):\n",
    "    inputColumns = [\"gold\", \"task\", \"text\", \"hypothesis\"]\n",
    "    outputColumns = [\"response\"]\n",
    "    customPlatformColumns = [\"!amt_annotation_ids\", \"orig_id\", \"!amt_worker_ids\", \"start\", \"end\"]\n",
    "    \n",
    "    # processing of a closed task\n",
    "    open_ended_task = False\n",
    "    annotation_vector = [\"relevant\", \"not_relevant\"]\n",
    "    \n",
    "    def processJudgments(self, judgments):\n",
    "        # pre-process output to match the values in annotation_vector\n",
    "        for col in self.outputColumns:\n",
    "            # transform to lowercase\n",
    "            judgments[col] = judgments[col].apply(lambda x: str(x).lower())\n",
    "        return judgments"
   ]
  },
  {
   "cell_type": "markdown",
   "metadata": {},
   "source": [
    "## Pre-processing the input data\n",
    "\n",
    "After declaring the configuration of our input file, we are ready to pre-process the crowd data:"
   ]
  },
  {
   "cell_type": "code",
   "execution_count": 4,
   "metadata": {},
   "outputs": [
    {
     "data": {
      "text/html": [
       "<div>\n",
       "<style scoped>\n",
       "    .dataframe tbody tr th:only-of-type {\n",
       "        vertical-align: middle;\n",
       "    }\n",
       "\n",
       "    .dataframe tbody tr th {\n",
       "        vertical-align: top;\n",
       "    }\n",
       "\n",
       "    .dataframe thead th {\n",
       "        text-align: right;\n",
       "    }\n",
       "</style>\n",
       "<table border=\"1\" class=\"dataframe\">\n",
       "  <thead>\n",
       "    <tr style=\"text-align: right;\">\n",
       "      <th></th>\n",
       "      <th>output.response</th>\n",
       "      <th>output.response.count</th>\n",
       "      <th>output.response.unique</th>\n",
       "      <th>started</th>\n",
       "      <th>unit</th>\n",
       "      <th>submitted</th>\n",
       "      <th>worker</th>\n",
       "      <th>duration</th>\n",
       "      <th>job</th>\n",
       "    </tr>\n",
       "    <tr>\n",
       "      <th>judgment</th>\n",
       "      <th></th>\n",
       "      <th></th>\n",
       "      <th></th>\n",
       "      <th></th>\n",
       "      <th></th>\n",
       "      <th></th>\n",
       "      <th></th>\n",
       "      <th></th>\n",
       "      <th></th>\n",
       "    </tr>\n",
       "  </thead>\n",
       "  <tbody>\n",
       "    <tr>\n",
       "      <th>1</th>\n",
       "      <td>{u'not_relevant': 1, u'relevant': 0}</td>\n",
       "      <td>1</td>\n",
       "      <td>2</td>\n",
       "      <td>2019-03-25 07:39:42-07:00</td>\n",
       "      <td>25</td>\n",
       "      <td>2019-03-25 07:41:05-07:00</td>\n",
       "      <td>A2K5ICP43ML4PW</td>\n",
       "      <td>83</td>\n",
       "      <td>../data/rte.standardized</td>\n",
       "    </tr>\n",
       "    <tr>\n",
       "      <th>2</th>\n",
       "      <td>{u'not_relevant': 1, u'relevant': 0}</td>\n",
       "      <td>1</td>\n",
       "      <td>2</td>\n",
       "      <td>2019-03-25 07:39:42-07:00</td>\n",
       "      <td>25</td>\n",
       "      <td>2019-03-25 07:41:05-07:00</td>\n",
       "      <td>A15L6WGIK3VU7N</td>\n",
       "      <td>83</td>\n",
       "      <td>../data/rte.standardized</td>\n",
       "    </tr>\n",
       "    <tr>\n",
       "      <th>3</th>\n",
       "      <td>{u'not_relevant': 1, u'relevant': 0}</td>\n",
       "      <td>1</td>\n",
       "      <td>2</td>\n",
       "      <td>2019-03-25 07:39:42-07:00</td>\n",
       "      <td>25</td>\n",
       "      <td>2019-03-25 07:41:05-07:00</td>\n",
       "      <td>AHPSMRLKAEJV</td>\n",
       "      <td>83</td>\n",
       "      <td>../data/rte.standardized</td>\n",
       "    </tr>\n",
       "    <tr>\n",
       "      <th>4</th>\n",
       "      <td>{u'not_relevant': 1, u'relevant': 0}</td>\n",
       "      <td>1</td>\n",
       "      <td>2</td>\n",
       "      <td>2019-03-25 07:39:42-07:00</td>\n",
       "      <td>25</td>\n",
       "      <td>2019-03-25 07:41:05-07:00</td>\n",
       "      <td>A25QX7IUS1KI5E</td>\n",
       "      <td>83</td>\n",
       "      <td>../data/rte.standardized</td>\n",
       "    </tr>\n",
       "    <tr>\n",
       "      <th>5</th>\n",
       "      <td>{u'not_relevant': 1, u'relevant': 0}</td>\n",
       "      <td>1</td>\n",
       "      <td>2</td>\n",
       "      <td>2019-03-25 07:39:42-07:00</td>\n",
       "      <td>25</td>\n",
       "      <td>2019-03-25 07:41:05-07:00</td>\n",
       "      <td>A2RV3FIO3IAZS</td>\n",
       "      <td>83</td>\n",
       "      <td>../data/rte.standardized</td>\n",
       "    </tr>\n",
       "  </tbody>\n",
       "</table>\n",
       "</div>"
      ],
      "text/plain": [
       "                               output.response  output.response.count  \\\n",
       "judgment                                                                \n",
       "1         {u'not_relevant': 1, u'relevant': 0}                      1   \n",
       "2         {u'not_relevant': 1, u'relevant': 0}                      1   \n",
       "3         {u'not_relevant': 1, u'relevant': 0}                      1   \n",
       "4         {u'not_relevant': 1, u'relevant': 0}                      1   \n",
       "5         {u'not_relevant': 1, u'relevant': 0}                      1   \n",
       "\n",
       "          output.response.unique                    started  unit  \\\n",
       "judgment                                                            \n",
       "1                              2  2019-03-25 07:39:42-07:00    25   \n",
       "2                              2  2019-03-25 07:39:42-07:00    25   \n",
       "3                              2  2019-03-25 07:39:42-07:00    25   \n",
       "4                              2  2019-03-25 07:39:42-07:00    25   \n",
       "5                              2  2019-03-25 07:39:42-07:00    25   \n",
       "\n",
       "                          submitted          worker  duration  \\\n",
       "judgment                                                        \n",
       "1         2019-03-25 07:41:05-07:00  A2K5ICP43ML4PW        83   \n",
       "2         2019-03-25 07:41:05-07:00  A15L6WGIK3VU7N        83   \n",
       "3         2019-03-25 07:41:05-07:00    AHPSMRLKAEJV        83   \n",
       "4         2019-03-25 07:41:05-07:00  A25QX7IUS1KI5E        83   \n",
       "5         2019-03-25 07:41:05-07:00   A2RV3FIO3IAZS        83   \n",
       "\n",
       "                               job  \n",
       "judgment                            \n",
       "1         ../data/rte.standardized  \n",
       "2         ../data/rte.standardized  \n",
       "3         ../data/rte.standardized  \n",
       "4         ../data/rte.standardized  \n",
       "5         ../data/rte.standardized  "
      ]
     },
     "execution_count": 4,
     "metadata": {},
     "output_type": "execute_result"
    }
   ],
   "source": [
    "data, config = crowdtruth.load(\n",
    "    file = \"../data/rte.standardized.csv\",\n",
    "    config = TestConfig()\n",
    ")\n",
    "\n",
    "data['judgments'].head()"
   ]
  },
  {
   "cell_type": "markdown",
   "metadata": {},
   "source": [
    "## Computing the CrowdTruth metrics\n",
    "\n",
    "The pre-processed data can then be used to calculate the CrowdTruth metrics:"
   ]
  },
  {
   "cell_type": "code",
   "execution_count": 5,
   "metadata": {
    "collapsed": true
   },
   "outputs": [],
   "source": [
    "results = crowdtruth.run(data, config)"
   ]
  },
  {
   "cell_type": "markdown",
   "metadata": {},
   "source": [
    "`results` is a dict object that contains the quality metrics for the sentences, annotations and crowd workers.\n",
    "\n",
    "The **sentence metrics** are stored in `results[\"units\"]`:"
   ]
  },
  {
   "cell_type": "code",
   "execution_count": 6,
   "metadata": {},
   "outputs": [
    {
     "data": {
      "text/html": [
       "<div>\n",
       "<style scoped>\n",
       "    .dataframe tbody tr th:only-of-type {\n",
       "        vertical-align: middle;\n",
       "    }\n",
       "\n",
       "    .dataframe tbody tr th {\n",
       "        vertical-align: top;\n",
       "    }\n",
       "\n",
       "    .dataframe thead th {\n",
       "        text-align: right;\n",
       "    }\n",
       "</style>\n",
       "<table border=\"1\" class=\"dataframe\">\n",
       "  <thead>\n",
       "    <tr style=\"text-align: right;\">\n",
       "      <th></th>\n",
       "      <th>duration</th>\n",
       "      <th>input.gold</th>\n",
       "      <th>input.hypothesis</th>\n",
       "      <th>input.task</th>\n",
       "      <th>input.text</th>\n",
       "      <th>job</th>\n",
       "      <th>output.response</th>\n",
       "      <th>output.response.annotations</th>\n",
       "      <th>output.response.unique_annotations</th>\n",
       "      <th>worker</th>\n",
       "      <th>uqs</th>\n",
       "      <th>unit_annotation_score</th>\n",
       "      <th>uqs_initial</th>\n",
       "      <th>unit_annotation_score_initial</th>\n",
       "    </tr>\n",
       "    <tr>\n",
       "      <th>unit</th>\n",
       "      <th></th>\n",
       "      <th></th>\n",
       "      <th></th>\n",
       "      <th></th>\n",
       "      <th></th>\n",
       "      <th></th>\n",
       "      <th></th>\n",
       "      <th></th>\n",
       "      <th></th>\n",
       "      <th></th>\n",
       "      <th></th>\n",
       "      <th></th>\n",
       "      <th></th>\n",
       "      <th></th>\n",
       "    </tr>\n",
       "  </thead>\n",
       "  <tbody>\n",
       "    <tr>\n",
       "      <th>25</th>\n",
       "      <td>83</td>\n",
       "      <td>0</td>\n",
       "      <td>Two films won six Oscars.</td>\n",
       "      <td>IR</td>\n",
       "      <td>The film was the evening&amp;apos;s big winner, ba...</td>\n",
       "      <td>../data/rte.standardized</td>\n",
       "      <td>{u'not_relevant': 8, u'relevant': 2}</td>\n",
       "      <td>10</td>\n",
       "      <td>2</td>\n",
       "      <td>10</td>\n",
       "      <td>0.754990</td>\n",
       "      <td>{u'not_relevant': 0.874879061295, u'relevant':...</td>\n",
       "      <td>0.644444</td>\n",
       "      <td>{u'not_relevant': 0.8, u'relevant': 0.2}</td>\n",
       "    </tr>\n",
       "    <tr>\n",
       "      <th>35</th>\n",
       "      <td>83</td>\n",
       "      <td>1</td>\n",
       "      <td>Saudi Arabia is the world&amp;apos;s biggest oil e...</td>\n",
       "      <td>PP</td>\n",
       "      <td>Saudi Arabia, the biggest oil producer in the ...</td>\n",
       "      <td>../data/rte.standardized</td>\n",
       "      <td>{u'not_relevant': 6, u'relevant': 4}</td>\n",
       "      <td>10</td>\n",
       "      <td>2</td>\n",
       "      <td>10</td>\n",
       "      <td>0.529058</td>\n",
       "      <td>{u'not_relevant': 0.700282390791, u'relevant':...</td>\n",
       "      <td>0.466667</td>\n",
       "      <td>{u'not_relevant': 0.6, u'relevant': 0.4}</td>\n",
       "    </tr>\n",
       "    <tr>\n",
       "      <th>39</th>\n",
       "      <td>83</td>\n",
       "      <td>1</td>\n",
       "      <td>Bill Clinton received a reported $10 million a...</td>\n",
       "      <td>PP</td>\n",
       "      <td>Mr. Clinton received a hefty advance for the b...</td>\n",
       "      <td>../data/rte.standardized</td>\n",
       "      <td>{u'not_relevant': 1, u'relevant': 9}</td>\n",
       "      <td>10</td>\n",
       "      <td>2</td>\n",
       "      <td>10</td>\n",
       "      <td>0.877036</td>\n",
       "      <td>{u'not_relevant': 0.0580681587159, u'relevant'...</td>\n",
       "      <td>0.800000</td>\n",
       "      <td>{u'not_relevant': 0.1, u'relevant': 0.9}</td>\n",
       "    </tr>\n",
       "    <tr>\n",
       "      <th>48</th>\n",
       "      <td>83</td>\n",
       "      <td>1</td>\n",
       "      <td>Clinton is articulate.</td>\n",
       "      <td>PP</td>\n",
       "      <td>Clinton is a very charismatic person.</td>\n",
       "      <td>../data/rte.standardized</td>\n",
       "      <td>{u'not_relevant': 6, u'relevant': 4}</td>\n",
       "      <td>10</td>\n",
       "      <td>2</td>\n",
       "      <td>10</td>\n",
       "      <td>0.526438</td>\n",
       "      <td>{u'not_relevant': 0.697360027313, u'relevant':...</td>\n",
       "      <td>0.466667</td>\n",
       "      <td>{u'not_relevant': 0.6, u'relevant': 0.4}</td>\n",
       "    </tr>\n",
       "    <tr>\n",
       "      <th>49</th>\n",
       "      <td>83</td>\n",
       "      <td>1</td>\n",
       "      <td>Argentina sees upsurge in kidnappings.</td>\n",
       "      <td>IR</td>\n",
       "      <td>Kidnappings in Argentina have increased more t...</td>\n",
       "      <td>../data/rte.standardized</td>\n",
       "      <td>{u'not_relevant': 0, u'relevant': 10}</td>\n",
       "      <td>10</td>\n",
       "      <td>1</td>\n",
       "      <td>10</td>\n",
       "      <td>1.000000</td>\n",
       "      <td>{u'not_relevant': 0.0, u'relevant': 1.0}</td>\n",
       "      <td>1.000000</td>\n",
       "      <td>{u'not_relevant': 0.0, u'relevant': 1.0}</td>\n",
       "    </tr>\n",
       "  </tbody>\n",
       "</table>\n",
       "</div>"
      ],
      "text/plain": [
       "      duration  input.gold                                   input.hypothesis  \\\n",
       "unit                                                                            \n",
       "25          83           0                          Two films won six Oscars.   \n",
       "35          83           1  Saudi Arabia is the world&apos;s biggest oil e...   \n",
       "39          83           1  Bill Clinton received a reported $10 million a...   \n",
       "48          83           1                             Clinton is articulate.   \n",
       "49          83           1             Argentina sees upsurge in kidnappings.   \n",
       "\n",
       "     input.task                                         input.text  \\\n",
       "unit                                                                 \n",
       "25           IR  The film was the evening&apos;s big winner, ba...   \n",
       "35           PP  Saudi Arabia, the biggest oil producer in the ...   \n",
       "39           PP  Mr. Clinton received a hefty advance for the b...   \n",
       "48           PP              Clinton is a very charismatic person.   \n",
       "49           IR  Kidnappings in Argentina have increased more t...   \n",
       "\n",
       "                           job                        output.response  \\\n",
       "unit                                                                    \n",
       "25    ../data/rte.standardized   {u'not_relevant': 8, u'relevant': 2}   \n",
       "35    ../data/rte.standardized   {u'not_relevant': 6, u'relevant': 4}   \n",
       "39    ../data/rte.standardized   {u'not_relevant': 1, u'relevant': 9}   \n",
       "48    ../data/rte.standardized   {u'not_relevant': 6, u'relevant': 4}   \n",
       "49    ../data/rte.standardized  {u'not_relevant': 0, u'relevant': 10}   \n",
       "\n",
       "      output.response.annotations  output.response.unique_annotations  worker  \\\n",
       "unit                                                                            \n",
       "25                             10                                   2      10   \n",
       "35                             10                                   2      10   \n",
       "39                             10                                   2      10   \n",
       "48                             10                                   2      10   \n",
       "49                             10                                   1      10   \n",
       "\n",
       "           uqs                              unit_annotation_score  \\\n",
       "unit                                                                \n",
       "25    0.754990  {u'not_relevant': 0.874879061295, u'relevant':...   \n",
       "35    0.529058  {u'not_relevant': 0.700282390791, u'relevant':...   \n",
       "39    0.877036  {u'not_relevant': 0.0580681587159, u'relevant'...   \n",
       "48    0.526438  {u'not_relevant': 0.697360027313, u'relevant':...   \n",
       "49    1.000000           {u'not_relevant': 0.0, u'relevant': 1.0}   \n",
       "\n",
       "      uqs_initial             unit_annotation_score_initial  \n",
       "unit                                                         \n",
       "25       0.644444  {u'not_relevant': 0.8, u'relevant': 0.2}  \n",
       "35       0.466667  {u'not_relevant': 0.6, u'relevant': 0.4}  \n",
       "39       0.800000  {u'not_relevant': 0.1, u'relevant': 0.9}  \n",
       "48       0.466667  {u'not_relevant': 0.6, u'relevant': 0.4}  \n",
       "49       1.000000  {u'not_relevant': 0.0, u'relevant': 1.0}  "
      ]
     },
     "execution_count": 6,
     "metadata": {},
     "output_type": "execute_result"
    }
   ],
   "source": [
    "results[\"units\"].head()"
   ]
  },
  {
   "cell_type": "markdown",
   "metadata": {},
   "source": [
    "The `uqs` column in `results[\"units\"]` contains the **sentence quality scores**, capturing the overall workers agreement over each sentences. Here we plot its histogram:"
   ]
  },
  {
   "cell_type": "code",
   "execution_count": 7,
   "metadata": {},
   "outputs": [
    {
     "data": {
      "text/plain": [
       "Text(0,0.5,'# Units')"
      ]
     },
     "execution_count": 7,
     "metadata": {},
     "output_type": "execute_result"
    },
    {
     "data": {
      "image/png": "[encoded data removed]",
      "text/plain": [
       "<Figure size 1080x360 with 2 Axes>"
      ]
     },
     "metadata": {},
     "output_type": "display_data"
    }
   ],
   "source": [
    "import matplotlib.pyplot as plt\n",
    "%matplotlib inline\n",
    "\n",
    "plt.rcParams['figure.figsize'] = 15, 5\n",
    "\n",
    "plt.subplot(1, 2, 1)\n",
    "plt.hist(results[\"units\"][\"uqs\"])\n",
    "plt.ylim(0,270)\n",
    "plt.xlabel(\"Sentence Quality Score\")\n",
    "plt.ylabel(\"#Sentences\")\n",
    "\n",
    "plt.subplot(1, 2, 2)\n",
    "plt.hist(results[\"units\"][\"uqs_initial\"])\n",
    "plt.ylim(0,270)\n",
    "plt.xlabel(\"Sentence Quality Score Initial\")\n",
    "plt.ylabel(\"# Units\")\n"
   ]
  },
  {
   "cell_type": "markdown",
   "metadata": {},
   "source": [
    "### Plot the change in unit qualtity score at the beginning of the process and at the end"
   ]
  },
  {
   "cell_type": "code",
   "execution_count": 8,
   "metadata": {},
   "outputs": [
    {
     "data": {
      "text/plain": [
       "Text(0.5,0,'Sentence Index')"
      ]
     },
     "execution_count": 8,
     "metadata": {},
     "output_type": "execute_result"
    },
    {
     "data": {
      "image/png": "[encoded data removed]",
      "text/plain": [
       "<Figure size 1080x360 with 1 Axes>"
      ]
     },
     "metadata": {},
     "output_type": "display_data"
    }
   ],
   "source": [
    "import numpy as np\n",
    "\n",
    "sortUQS = results[\"units\"].sort_values(['uqs'], ascending=[1])\n",
    "sortUQS = sortUQS.reset_index()\n",
    "\n",
    "plt.rcParams['figure.figsize'] = 15, 5\n",
    "\n",
    "plt.plot(np.arange(sortUQS.shape[0]), sortUQS[\"uqs_initial\"], 'ro', lw = 1, label = \"Initial UQS\")\n",
    "plt.plot(np.arange(sortUQS.shape[0]), sortUQS[\"uqs\"], 'go', lw = 1, label = \"Final UQS\")\n",
    "\n",
    "plt.ylabel('Sentence Quality Score')\n",
    "plt.xlabel('Sentence Index')"
   ]
  },
  {
   "cell_type": "markdown",
   "metadata": {},
   "source": [
    "The `unit_annotation_score` column in `results[\"units\"]` contains the **sentence-annotation scores**, capturing the likelihood that an annotation is expressed in a sentence. For each sentence, we store a dictionary mapping each annotation to its sentence-relation score."
   ]
  },
  {
   "cell_type": "code",
   "execution_count": 9,
   "metadata": {},
   "outputs": [
    {
     "data": {
      "text/plain": [
       "unit\n",
       "25    {u'not_relevant': 0.874879061295, u'relevant':...\n",
       "35    {u'not_relevant': 0.700282390791, u'relevant':...\n",
       "39    {u'not_relevant': 0.0580681587159, u'relevant'...\n",
       "48    {u'not_relevant': 0.697360027313, u'relevant':...\n",
       "49             {u'not_relevant': 0.0, u'relevant': 1.0}\n",
       "Name: unit_annotation_score, dtype: object"
      ]
     },
     "execution_count": 9,
     "metadata": {},
     "output_type": "execute_result"
    }
   ],
   "source": [
    "results[\"units\"][\"unit_annotation_score\"].head()"
   ]
  },
  {
   "cell_type": "markdown",
   "metadata": {},
   "source": [
    "Save unit metrics:"
   ]
  },
  {
   "cell_type": "code",
   "execution_count": 10,
   "metadata": {
    "collapsed": true
   },
   "outputs": [],
   "source": [
    "rows = []\n",
    "header = [\"orig_id\", \"gold\", \"hypothesis\", \"text\", \"uqs\", \"uqs_initial\", \"true\", \"false\", \"true_initial\", \"false_initial\"]\n",
    "\n",
    "units = results[\"units\"].reset_index()\n",
    "for i in range(len(units.index)):\n",
    "    row = [units[\"unit\"].iloc[i], units[\"input.gold\"].iloc[i], units[\"input.hypothesis\"].iloc[i], \\\n",
    "           units[\"input.text\"].iloc[i], units[\"uqs\"].iloc[i], units[\"uqs_initial\"].iloc[i], \\\n",
    "           units[\"unit_annotation_score\"].iloc[i][\"relevant\"], units[\"unit_annotation_score\"].iloc[i][\"not_relevant\"], \\\n",
    "           units[\"unit_annotation_score_initial\"].iloc[i][\"relevant\"], units[\"unit_annotation_score_initial\"].iloc[i][\"not_relevant\"]]\n",
    "    rows.append(row)\n",
    "rows = pd.DataFrame(rows, columns=header)\n",
    "rows.to_csv(\"../data/results/crowdtruth_units_rte.csv\", index=False)"
   ]
  },
  {
   "cell_type": "markdown",
   "metadata": {},
   "source": [
    "The **worker metrics** are stored in `results[\"workers\"]`:"
   ]
  },
  {
   "cell_type": "code",
   "execution_count": 11,
   "metadata": {},
   "outputs": [
    {
     "data": {
      "text/html": [
       "<div>\n",
       "<style scoped>\n",
       "    .dataframe tbody tr th:only-of-type {\n",
       "        vertical-align: middle;\n",
       "    }\n",
       "\n",
       "    .dataframe tbody tr th {\n",
       "        vertical-align: top;\n",
       "    }\n",
       "\n",
       "    .dataframe thead th {\n",
       "        text-align: right;\n",
       "    }\n",
       "</style>\n",
       "<table border=\"1\" class=\"dataframe\">\n",
       "  <thead>\n",
       "    <tr style=\"text-align: right;\">\n",
       "      <th></th>\n",
       "      <th>duration</th>\n",
       "      <th>job</th>\n",
       "      <th>judgment</th>\n",
       "      <th>unit</th>\n",
       "      <th>wqs</th>\n",
       "      <th>wwa</th>\n",
       "      <th>wsa</th>\n",
       "      <th>wqs_initial</th>\n",
       "      <th>wwa_initial</th>\n",
       "      <th>wsa_initial</th>\n",
       "    </tr>\n",
       "    <tr>\n",
       "      <th>worker</th>\n",
       "      <th></th>\n",
       "      <th></th>\n",
       "      <th></th>\n",
       "      <th></th>\n",
       "      <th></th>\n",
       "      <th></th>\n",
       "      <th></th>\n",
       "      <th></th>\n",
       "      <th></th>\n",
       "      <th></th>\n",
       "    </tr>\n",
       "  </thead>\n",
       "  <tbody>\n",
       "    <tr>\n",
       "      <th>A11GX90QFWDLMM</th>\n",
       "      <td>83</td>\n",
       "      <td>1</td>\n",
       "      <td>760</td>\n",
       "      <td>760</td>\n",
       "      <td>0.342472</td>\n",
       "      <td>0.544462</td>\n",
       "      <td>0.629009</td>\n",
       "      <td>0.334467</td>\n",
       "      <td>0.525292</td>\n",
       "      <td>0.636726</td>\n",
       "    </tr>\n",
       "    <tr>\n",
       "      <th>A14JQX7IFAICP0</th>\n",
       "      <td>83</td>\n",
       "      <td>1</td>\n",
       "      <td>180</td>\n",
       "      <td>180</td>\n",
       "      <td>0.414908</td>\n",
       "      <td>0.595823</td>\n",
       "      <td>0.696362</td>\n",
       "      <td>0.379697</td>\n",
       "      <td>0.555556</td>\n",
       "      <td>0.683455</td>\n",
       "    </tr>\n",
       "    <tr>\n",
       "      <th>A14Q86RX5HGCN</th>\n",
       "      <td>83</td>\n",
       "      <td>1</td>\n",
       "      <td>20</td>\n",
       "      <td>20</td>\n",
       "      <td>0.821105</td>\n",
       "      <td>0.852668</td>\n",
       "      <td>0.962983</td>\n",
       "      <td>0.733456</td>\n",
       "      <td>0.788889</td>\n",
       "      <td>0.929733</td>\n",
       "    </tr>\n",
       "    <tr>\n",
       "      <th>A14WWG6NKBDWGP</th>\n",
       "      <td>83</td>\n",
       "      <td>1</td>\n",
       "      <td>20</td>\n",
       "      <td>20</td>\n",
       "      <td>0.678581</td>\n",
       "      <td>0.754595</td>\n",
       "      <td>0.899265</td>\n",
       "      <td>0.571740</td>\n",
       "      <td>0.677778</td>\n",
       "      <td>0.843551</td>\n",
       "    </tr>\n",
       "    <tr>\n",
       "      <th>A151VN1BOY29J1</th>\n",
       "      <td>83</td>\n",
       "      <td>1</td>\n",
       "      <td>40</td>\n",
       "      <td>40</td>\n",
       "      <td>0.690083</td>\n",
       "      <td>0.780349</td>\n",
       "      <td>0.884326</td>\n",
       "      <td>0.582732</td>\n",
       "      <td>0.697222</td>\n",
       "      <td>0.835791</td>\n",
       "    </tr>\n",
       "  </tbody>\n",
       "</table>\n",
       "</div>"
      ],
      "text/plain": [
       "                duration  job  judgment  unit       wqs       wwa       wsa  \\\n",
       "worker                                                                        \n",
       "A11GX90QFWDLMM        83    1       760   760  0.342472  0.544462  0.629009   \n",
       "A14JQX7IFAICP0        83    1       180   180  0.414908  0.595823  0.696362   \n",
       "A14Q86RX5HGCN         83    1        20    20  0.821105  0.852668  0.962983   \n",
       "A14WWG6NKBDWGP        83    1        20    20  0.678581  0.754595  0.899265   \n",
       "A151VN1BOY29J1        83    1        40    40  0.690083  0.780349  0.884326   \n",
       "\n",
       "                wqs_initial  wwa_initial  wsa_initial  \n",
       "worker                                                 \n",
       "A11GX90QFWDLMM     0.334467     0.525292     0.636726  \n",
       "A14JQX7IFAICP0     0.379697     0.555556     0.683455  \n",
       "A14Q86RX5HGCN      0.733456     0.788889     0.929733  \n",
       "A14WWG6NKBDWGP     0.571740     0.677778     0.843551  \n",
       "A151VN1BOY29J1     0.582732     0.697222     0.835791  "
      ]
     },
     "execution_count": 11,
     "metadata": {},
     "output_type": "execute_result"
    }
   ],
   "source": [
    "results[\"workers\"].head()"
   ]
  },
  {
   "cell_type": "markdown",
   "metadata": {},
   "source": [
    "The `wqs` columns in `results[\"workers\"]` contains the **worker quality scores**, capturing the overall agreement between one worker and all the other workers."
   ]
  },
  {
   "cell_type": "code",
   "execution_count": 12,
   "metadata": {},
   "outputs": [
    {
     "data": {
      "text/plain": [
       "Text(0,0.5,'#Workers')"
      ]
     },
     "execution_count": 12,
     "metadata": {},
     "output_type": "execute_result"
    },
    {
     "data": {
      "image/png": "[encoded data removed]",
      "text/plain": [
       "<Figure size 1080x360 with 2 Axes>"
      ]
     },
     "metadata": {},
     "output_type": "display_data"
    }
   ],
   "source": [
    "plt.rcParams['figure.figsize'] = 15, 5\n",
    "\n",
    "plt.subplot(1, 2, 1)\n",
    "plt.hist(results[\"workers\"][\"wqs\"])\n",
    "plt.ylim(0,55)\n",
    "plt.xlabel(\"Worker Quality Score\")\n",
    "plt.ylabel(\"#Workers\")\n",
    "\n",
    "plt.subplot(1, 2, 2)\n",
    "plt.hist(results[\"workers\"][\"wqs_initial\"])\n",
    "plt.ylim(0,55)\n",
    "plt.xlabel(\"Worker Quality Score Initial\")\n",
    "plt.ylabel(\"#Workers\")\n",
    "\n"
   ]
  },
  {
   "cell_type": "markdown",
   "metadata": {},
   "source": [
    "Save the worker metrics:"
   ]
  },
  {
   "cell_type": "code",
   "execution_count": 13,
   "metadata": {
    "collapsed": true
   },
   "outputs": [],
   "source": [
    "results[\"workers\"].to_csv(\"../data/results/crowdtruth_workers_rte.csv\", index=True)"
   ]
  },
  {
   "cell_type": "markdown",
   "metadata": {},
   "source": [
    "The **annotation metrics** are stored in `results[\"annotations\"]`. The `aqs` column contains the **annotation quality scores**, capturing the overall worker agreement over one relation."
   ]
  },
  {
   "cell_type": "code",
   "execution_count": 14,
   "metadata": {},
   "outputs": [
    {
     "data": {
      "text/html": [
       "<div>\n",
       "<style scoped>\n",
       "    .dataframe tbody tr th:only-of-type {\n",
       "        vertical-align: middle;\n",
       "    }\n",
       "\n",
       "    .dataframe tbody tr th {\n",
       "        vertical-align: top;\n",
       "    }\n",
       "\n",
       "    .dataframe thead th {\n",
       "        text-align: right;\n",
       "    }\n",
       "</style>\n",
       "<table border=\"1\" class=\"dataframe\">\n",
       "  <thead>\n",
       "    <tr style=\"text-align: right;\">\n",
       "      <th></th>\n",
       "      <th>output.response</th>\n",
       "      <th>aqs</th>\n",
       "      <th>aqs_initial</th>\n",
       "    </tr>\n",
       "  </thead>\n",
       "  <tbody>\n",
       "    <tr>\n",
       "      <th>not_relevant</th>\n",
       "      <td>8000</td>\n",
       "      <td>0.706485</td>\n",
       "      <td>0.616694</td>\n",
       "    </tr>\n",
       "    <tr>\n",
       "      <th>relevant</th>\n",
       "      <td>8000</td>\n",
       "      <td>0.793250</td>\n",
       "      <td>0.715569</td>\n",
       "    </tr>\n",
       "  </tbody>\n",
       "</table>\n",
       "</div>"
      ],
      "text/plain": [
       "              output.response       aqs  aqs_initial\n",
       "not_relevant             8000  0.706485     0.616694\n",
       "relevant                 8000  0.793250     0.715569"
      ]
     },
     "execution_count": 14,
     "metadata": {},
     "output_type": "execute_result"
    }
   ],
   "source": [
    "results[\"annotations\"]"
   ]
  },
  {
   "cell_type": "code",
   "execution_count": 15,
   "metadata": {
    "collapsed": true
   },
   "outputs": [],
   "source": [
    "sortedUQS = results[\"units\"].sort_values([\"uqs\"])"
   ]
  },
  {
   "cell_type": "markdown",
   "metadata": {},
   "source": [
    "### Example of a very clear unit"
   ]
  },
  {
   "cell_type": "code",
   "execution_count": 16,
   "metadata": {},
   "outputs": [
    {
     "data": {
      "text/html": [
       "<div>\n",
       "<style scoped>\n",
       "    .dataframe tbody tr th:only-of-type {\n",
       "        vertical-align: middle;\n",
       "    }\n",
       "\n",
       "    .dataframe tbody tr th {\n",
       "        vertical-align: top;\n",
       "    }\n",
       "\n",
       "    .dataframe thead th {\n",
       "        text-align: right;\n",
       "    }\n",
       "</style>\n",
       "<table border=\"1\" class=\"dataframe\">\n",
       "  <thead>\n",
       "    <tr style=\"text-align: right;\">\n",
       "      <th></th>\n",
       "      <th>duration</th>\n",
       "      <th>input.gold</th>\n",
       "      <th>input.hypothesis</th>\n",
       "      <th>input.task</th>\n",
       "      <th>input.text</th>\n",
       "      <th>job</th>\n",
       "      <th>output.response</th>\n",
       "      <th>output.response.annotations</th>\n",
       "      <th>output.response.unique_annotations</th>\n",
       "      <th>worker</th>\n",
       "      <th>uqs</th>\n",
       "      <th>unit_annotation_score</th>\n",
       "      <th>uqs_initial</th>\n",
       "      <th>unit_annotation_score_initial</th>\n",
       "    </tr>\n",
       "    <tr>\n",
       "      <th>unit</th>\n",
       "      <th></th>\n",
       "      <th></th>\n",
       "      <th></th>\n",
       "      <th></th>\n",
       "      <th></th>\n",
       "      <th></th>\n",
       "      <th></th>\n",
       "      <th></th>\n",
       "      <th></th>\n",
       "      <th></th>\n",
       "      <th></th>\n",
       "      <th></th>\n",
       "      <th></th>\n",
       "      <th></th>\n",
       "    </tr>\n",
       "  </thead>\n",
       "  <tbody>\n",
       "    <tr>\n",
       "      <th>1017</th>\n",
       "      <td>83</td>\n",
       "      <td>1</td>\n",
       "      <td>The Pamplona fiesta has been celebrated for ce...</td>\n",
       "      <td>RC</td>\n",
       "      <td>The centuries-old Pamplona fiesta in honor of ...</td>\n",
       "      <td>../data/rte.standardized</td>\n",
       "      <td>{u'not_relevant': 0, u'relevant': 10}</td>\n",
       "      <td>10</td>\n",
       "      <td>1</td>\n",
       "      <td>10</td>\n",
       "      <td>1.0</td>\n",
       "      <td>{u'not_relevant': 0.0, u'relevant': 1.0}</td>\n",
       "      <td>1.0</td>\n",
       "      <td>{u'not_relevant': 0.0, u'relevant': 1.0}</td>\n",
       "    </tr>\n",
       "  </tbody>\n",
       "</table>\n",
       "</div>"
      ],
      "text/plain": [
       "      duration  input.gold                                   input.hypothesis  \\\n",
       "unit                                                                            \n",
       "1017        83           1  The Pamplona fiesta has been celebrated for ce...   \n",
       "\n",
       "     input.task                                         input.text  \\\n",
       "unit                                                                 \n",
       "1017         RC  The centuries-old Pamplona fiesta in honor of ...   \n",
       "\n",
       "                           job                        output.response  \\\n",
       "unit                                                                    \n",
       "1017  ../data/rte.standardized  {u'not_relevant': 0, u'relevant': 10}   \n",
       "\n",
       "      output.response.annotations  output.response.unique_annotations  worker  \\\n",
       "unit                                                                            \n",
       "1017                           10                                   1      10   \n",
       "\n",
       "      uqs                     unit_annotation_score  uqs_initial  \\\n",
       "unit                                                               \n",
       "1017  1.0  {u'not_relevant': 0.0, u'relevant': 1.0}          1.0   \n",
       "\n",
       "                 unit_annotation_score_initial  \n",
       "unit                                            \n",
       "1017  {u'not_relevant': 0.0, u'relevant': 1.0}  "
      ]
     },
     "execution_count": 16,
     "metadata": {},
     "output_type": "execute_result"
    }
   ],
   "source": [
    "sortedUQS.tail(1)"
   ]
  },
  {
   "cell_type": "code",
   "execution_count": 17,
   "metadata": {},
   "outputs": [
    {
     "name": "stdout",
     "output_type": "stream",
     "text": [
      "Hypothesis: The Pamplona fiesta has been celebrated for centuries.\n",
      "Text: The centuries-old Pamplona fiesta in honor of St. Fermin draws thousands of fans from around the world for a week of frenzied late night drinking and early morning running with the bulls.\n",
      "Expert Answer: 1\n",
      "Crowd Answer with CrowdTruth: Counter({'relevant': 1.0, 'not_relevant': 0.0})\n",
      "Crowd Answer without CrowdTruth: Counter({'relevant': 1.0, 'not_relevant': 0.0})\n"
     ]
    }
   ],
   "source": [
    "print(\"Hypothesis: %s\" % sortedUQS[\"input.hypothesis\"].iloc[len(sortedUQS.index)-1])\n",
    "print(\"Text: %s\" % sortedUQS[\"input.text\"].iloc[len(sortedUQS.index)-1])\n",
    "print(\"Expert Answer: %s\" % sortedUQS[\"input.gold\"].iloc[len(sortedUQS.index)-1])\n",
    "print(\"Crowd Answer with CrowdTruth: %s\" % sortedUQS[\"unit_annotation_score\"].iloc[len(sortedUQS.index)-1])\n",
    "print(\"Crowd Answer without CrowdTruth: %s\" % sortedUQS[\"unit_annotation_score_initial\"].iloc[len(sortedUQS.index)-1])"
   ]
  },
  {
   "cell_type": "markdown",
   "metadata": {},
   "source": [
    "### Example of an unclear unit"
   ]
  },
  {
   "cell_type": "code",
   "execution_count": 18,
   "metadata": {},
   "outputs": [
    {
     "data": {
      "text/html": [
       "<div>\n",
       "<style scoped>\n",
       "    .dataframe tbody tr th:only-of-type {\n",
       "        vertical-align: middle;\n",
       "    }\n",
       "\n",
       "    .dataframe tbody tr th {\n",
       "        vertical-align: top;\n",
       "    }\n",
       "\n",
       "    .dataframe thead th {\n",
       "        text-align: right;\n",
       "    }\n",
       "</style>\n",
       "<table border=\"1\" class=\"dataframe\">\n",
       "  <thead>\n",
       "    <tr style=\"text-align: right;\">\n",
       "      <th></th>\n",
       "      <th>duration</th>\n",
       "      <th>input.gold</th>\n",
       "      <th>input.hypothesis</th>\n",
       "      <th>input.task</th>\n",
       "      <th>input.text</th>\n",
       "      <th>job</th>\n",
       "      <th>output.response</th>\n",
       "      <th>output.response.annotations</th>\n",
       "      <th>output.response.unique_annotations</th>\n",
       "      <th>worker</th>\n",
       "      <th>uqs</th>\n",
       "      <th>unit_annotation_score</th>\n",
       "      <th>uqs_initial</th>\n",
       "      <th>unit_annotation_score_initial</th>\n",
       "    </tr>\n",
       "    <tr>\n",
       "      <th>unit</th>\n",
       "      <th></th>\n",
       "      <th></th>\n",
       "      <th></th>\n",
       "      <th></th>\n",
       "      <th></th>\n",
       "      <th></th>\n",
       "      <th></th>\n",
       "      <th></th>\n",
       "      <th></th>\n",
       "      <th></th>\n",
       "      <th></th>\n",
       "      <th></th>\n",
       "      <th></th>\n",
       "      <th></th>\n",
       "    </tr>\n",
       "  </thead>\n",
       "  <tbody>\n",
       "    <tr>\n",
       "      <th>1521</th>\n",
       "      <td>83</td>\n",
       "      <td>1</td>\n",
       "      <td>Apartheid in South Africa was abolished in 1990.</td>\n",
       "      <td>QA</td>\n",
       "      <td>On 2 February 1990, at the opening of Parliame...</td>\n",
       "      <td>../data/rte.standardized</td>\n",
       "      <td>{u'not_relevant': 5, u'relevant': 5}</td>\n",
       "      <td>10</td>\n",
       "      <td>2</td>\n",
       "      <td>10</td>\n",
       "      <td>0.439065</td>\n",
       "      <td>{u'not_relevant': 0.492508591773, u'relevant':...</td>\n",
       "      <td>0.444444</td>\n",
       "      <td>{u'not_relevant': 0.5, u'relevant': 0.5}</td>\n",
       "    </tr>\n",
       "  </tbody>\n",
       "</table>\n",
       "</div>"
      ],
      "text/plain": [
       "      duration  input.gold                                  input.hypothesis  \\\n",
       "unit                                                                           \n",
       "1521        83           1  Apartheid in South Africa was abolished in 1990.   \n",
       "\n",
       "     input.task                                         input.text  \\\n",
       "unit                                                                 \n",
       "1521         QA  On 2 February 1990, at the opening of Parliame...   \n",
       "\n",
       "                           job                       output.response  \\\n",
       "unit                                                                   \n",
       "1521  ../data/rte.standardized  {u'not_relevant': 5, u'relevant': 5}   \n",
       "\n",
       "      output.response.annotations  output.response.unique_annotations  worker  \\\n",
       "unit                                                                            \n",
       "1521                           10                                   2      10   \n",
       "\n",
       "           uqs                              unit_annotation_score  \\\n",
       "unit                                                                \n",
       "1521  0.439065  {u'not_relevant': 0.492508591773, u'relevant':...   \n",
       "\n",
       "      uqs_initial             unit_annotation_score_initial  \n",
       "unit                                                         \n",
       "1521     0.444444  {u'not_relevant': 0.5, u'relevant': 0.5}  "
      ]
     },
     "execution_count": 18,
     "metadata": {},
     "output_type": "execute_result"
    }
   ],
   "source": [
    "sortedUQS.head(1)"
   ]
  },
  {
   "cell_type": "code",
   "execution_count": 19,
   "metadata": {},
   "outputs": [
    {
     "name": "stdout",
     "output_type": "stream",
     "text": [
      "Hypothesis: Apartheid in South Africa was abolished in 1990.\n",
      "Text: On 2 February 1990, at the opening of Parliament, he declared that apartheid had failed and that the bans on political parties, including the ANC, were to be lifted.\n",
      "Expert Answer: 1\n",
      "Crowd Answer with CrowdTruth: Counter({'relevant': 0.5074914082267219, 'not_relevant': 0.4925085917732781})\n",
      "Crowd Answer without CrowdTruth: Counter({'not_relevant': 0.5, 'relevant': 0.5})\n"
     ]
    }
   ],
   "source": [
    "print(\"Hypothesis: %s\" % sortedUQS[\"input.hypothesis\"].iloc[0])\n",
    "print(\"Text: %s\" % sortedUQS[\"input.text\"].iloc[0])\n",
    "print(\"Expert Answer: %s\" % sortedUQS[\"input.gold\"].iloc[0])\n",
    "print(\"Crowd Answer with CrowdTruth: %s\" % sortedUQS[\"unit_annotation_score\"].iloc[0])\n",
    "print(\"Crowd Answer without CrowdTruth: %s\" % sortedUQS[\"unit_annotation_score_initial\"].iloc[0])"
   ]
  },
  {
   "cell_type": "markdown",
   "metadata": {},
   "source": [
    "# MACE for Recognizing Textual Entailment Annotation"
   ]
  },
  {
   "cell_type": "markdown",
   "metadata": {},
   "source": [
    "We first pre-processed the crowd results to create compatible files for running the MACE tool.\n",
    "Each row in a csv file should point to a unit in the dataset and each column in the csv file should point to a worker. The content of the csv file captures the worker answer for that particular unit (or remains empty if the worker did not annotate that unit)."
   ]
  },
  {
   "cell_type": "code",
   "execution_count": 20,
   "metadata": {},
   "outputs": [
    {
     "data": {
      "text/html": [
       "<div>\n",
       "<style scoped>\n",
       "    .dataframe tbody tr th:only-of-type {\n",
       "        vertical-align: middle;\n",
       "    }\n",
       "\n",
       "    .dataframe tbody tr th {\n",
       "        vertical-align: top;\n",
       "    }\n",
       "\n",
       "    .dataframe thead th {\n",
       "        text-align: right;\n",
       "    }\n",
       "</style>\n",
       "<table border=\"1\" class=\"dataframe\">\n",
       "  <thead>\n",
       "    <tr style=\"text-align: right;\">\n",
       "      <th></th>\n",
       "      <th>0</th>\n",
       "      <th>1</th>\n",
       "      <th>2</th>\n",
       "      <th>3</th>\n",
       "      <th>4</th>\n",
       "      <th>5</th>\n",
       "      <th>6</th>\n",
       "      <th>7</th>\n",
       "      <th>8</th>\n",
       "      <th>9</th>\n",
       "      <th>...</th>\n",
       "      <th>154</th>\n",
       "      <th>155</th>\n",
       "      <th>156</th>\n",
       "      <th>157</th>\n",
       "      <th>158</th>\n",
       "      <th>159</th>\n",
       "      <th>160</th>\n",
       "      <th>161</th>\n",
       "      <th>162</th>\n",
       "      <th>163</th>\n",
       "    </tr>\n",
       "  </thead>\n",
       "  <tbody>\n",
       "    <tr>\n",
       "      <th>0</th>\n",
       "      <td>0</td>\n",
       "      <td>0</td>\n",
       "      <td>0</td>\n",
       "      <td>0</td>\n",
       "      <td>0</td>\n",
       "      <td>0</td>\n",
       "      <td>1</td>\n",
       "      <td>0</td>\n",
       "      <td>0</td>\n",
       "      <td>1</td>\n",
       "      <td>...</td>\n",
       "      <td></td>\n",
       "      <td></td>\n",
       "      <td></td>\n",
       "      <td></td>\n",
       "      <td></td>\n",
       "      <td></td>\n",
       "      <td></td>\n",
       "      <td></td>\n",
       "      <td></td>\n",
       "      <td></td>\n",
       "    </tr>\n",
       "    <tr>\n",
       "      <th>1</th>\n",
       "      <td></td>\n",
       "      <td></td>\n",
       "      <td></td>\n",
       "      <td></td>\n",
       "      <td></td>\n",
       "      <td></td>\n",
       "      <td>1</td>\n",
       "      <td></td>\n",
       "      <td></td>\n",
       "      <td>1</td>\n",
       "      <td>...</td>\n",
       "      <td></td>\n",
       "      <td></td>\n",
       "      <td></td>\n",
       "      <td></td>\n",
       "      <td></td>\n",
       "      <td></td>\n",
       "      <td></td>\n",
       "      <td></td>\n",
       "      <td></td>\n",
       "      <td></td>\n",
       "    </tr>\n",
       "    <tr>\n",
       "      <th>2</th>\n",
       "      <td></td>\n",
       "      <td></td>\n",
       "      <td></td>\n",
       "      <td></td>\n",
       "      <td></td>\n",
       "      <td></td>\n",
       "      <td>1</td>\n",
       "      <td></td>\n",
       "      <td></td>\n",
       "      <td>0</td>\n",
       "      <td>...</td>\n",
       "      <td></td>\n",
       "      <td></td>\n",
       "      <td></td>\n",
       "      <td></td>\n",
       "      <td></td>\n",
       "      <td></td>\n",
       "      <td></td>\n",
       "      <td></td>\n",
       "      <td></td>\n",
       "      <td></td>\n",
       "    </tr>\n",
       "    <tr>\n",
       "      <th>3</th>\n",
       "      <td></td>\n",
       "      <td></td>\n",
       "      <td></td>\n",
       "      <td></td>\n",
       "      <td></td>\n",
       "      <td></td>\n",
       "      <td>1</td>\n",
       "      <td></td>\n",
       "      <td></td>\n",
       "      <td>1</td>\n",
       "      <td>...</td>\n",
       "      <td></td>\n",
       "      <td></td>\n",
       "      <td></td>\n",
       "      <td></td>\n",
       "      <td></td>\n",
       "      <td></td>\n",
       "      <td></td>\n",
       "      <td></td>\n",
       "      <td></td>\n",
       "      <td></td>\n",
       "    </tr>\n",
       "    <tr>\n",
       "      <th>4</th>\n",
       "      <td>1</td>\n",
       "      <td>1</td>\n",
       "      <td>1</td>\n",
       "      <td>1</td>\n",
       "      <td>1</td>\n",
       "      <td>1</td>\n",
       "      <td>1</td>\n",
       "      <td>1</td>\n",
       "      <td>1</td>\n",
       "      <td>1</td>\n",
       "      <td>...</td>\n",
       "      <td></td>\n",
       "      <td></td>\n",
       "      <td></td>\n",
       "      <td></td>\n",
       "      <td></td>\n",
       "      <td></td>\n",
       "      <td></td>\n",
       "      <td></td>\n",
       "      <td></td>\n",
       "      <td></td>\n",
       "    </tr>\n",
       "  </tbody>\n",
       "</table>\n",
       "<p>5 rows × 164 columns</p>\n",
       "</div>"
      ],
      "text/plain": [
       "  0   1   2   3   4   5    6   7   8   9   ... 154 155 156 157 158 159 160  \\\n",
       "0   0   0   0   0   0   0    1   0   0   1 ...                               \n",
       "1                            1           1 ...                               \n",
       "2                            1           0 ...                               \n",
       "3                            1           1 ...                               \n",
       "4   1   1   1   1   1   1    1   1   1   1 ...                               \n",
       "\n",
       "  161 162 163  \n",
       "0              \n",
       "1              \n",
       "2              \n",
       "3              \n",
       "4              \n",
       "\n",
       "[5 rows x 164 columns]"
      ]
     },
     "execution_count": 20,
     "metadata": {},
     "output_type": "execute_result"
    }
   ],
   "source": [
    "import numpy as np\n",
    "\n",
    "test_data = pd.read_csv(\"../data/mace_rte.standardized.csv\", header=None)\n",
    "test_data = test_data.replace(np.nan, '', regex=True)\n",
    "test_data.head()"
   ]
  },
  {
   "cell_type": "code",
   "execution_count": 21,
   "metadata": {},
   "outputs": [
    {
     "data": {
      "text/html": [
       "<div>\n",
       "<style scoped>\n",
       "    .dataframe tbody tr th:only-of-type {\n",
       "        vertical-align: middle;\n",
       "    }\n",
       "\n",
       "    .dataframe tbody tr th {\n",
       "        vertical-align: top;\n",
       "    }\n",
       "\n",
       "    .dataframe thead th {\n",
       "        text-align: right;\n",
       "    }\n",
       "</style>\n",
       "<table border=\"1\" class=\"dataframe\">\n",
       "  <thead>\n",
       "    <tr style=\"text-align: right;\">\n",
       "      <th></th>\n",
       "      <th>unit</th>\n",
       "      <th>true</th>\n",
       "      <th>false</th>\n",
       "      <th>gold</th>\n",
       "    </tr>\n",
       "  </thead>\n",
       "  <tbody>\n",
       "    <tr>\n",
       "      <th>0</th>\n",
       "      <td>25</td>\n",
       "      <td>9.263818e-06</td>\n",
       "      <td>9.999907e-01</td>\n",
       "      <td>0</td>\n",
       "    </tr>\n",
       "    <tr>\n",
       "      <th>1</th>\n",
       "      <td>35</td>\n",
       "      <td>1.353801e-06</td>\n",
       "      <td>9.999986e-01</td>\n",
       "      <td>1</td>\n",
       "    </tr>\n",
       "    <tr>\n",
       "      <th>2</th>\n",
       "      <td>39</td>\n",
       "      <td>1.000000e+00</td>\n",
       "      <td>1.057981e-08</td>\n",
       "      <td>1</td>\n",
       "    </tr>\n",
       "    <tr>\n",
       "      <th>3</th>\n",
       "      <td>48</td>\n",
       "      <td>5.895417e-07</td>\n",
       "      <td>9.999994e-01</td>\n",
       "      <td>1</td>\n",
       "    </tr>\n",
       "    <tr>\n",
       "      <th>4</th>\n",
       "      <td>49</td>\n",
       "      <td>9.999986e-01</td>\n",
       "      <td>1.420726e-06</td>\n",
       "      <td>1</td>\n",
       "    </tr>\n",
       "  </tbody>\n",
       "</table>\n",
       "</div>"
      ],
      "text/plain": [
       "   unit          true         false  gold\n",
       "0    25  9.263818e-06  9.999907e-01     0\n",
       "1    35  1.353801e-06  9.999986e-01     1\n",
       "2    39  1.000000e+00  1.057981e-08     1\n",
       "3    48  5.895417e-07  9.999994e-01     1\n",
       "4    49  9.999986e-01  1.420726e-06     1"
      ]
     },
     "execution_count": 21,
     "metadata": {},
     "output_type": "execute_result"
    }
   ],
   "source": [
    "import pandas as pd\n",
    "\n",
    "mace_data = pd.read_csv(\"../data/results/mace_units_rte.csv\")\n",
    "mace_data.head()"
   ]
  },
  {
   "cell_type": "code",
   "execution_count": 22,
   "metadata": {},
   "outputs": [
    {
     "data": {
      "text/html": [
       "<div>\n",
       "<style scoped>\n",
       "    .dataframe tbody tr th:only-of-type {\n",
       "        vertical-align: middle;\n",
       "    }\n",
       "\n",
       "    .dataframe tbody tr th {\n",
       "        vertical-align: top;\n",
       "    }\n",
       "\n",
       "    .dataframe thead th {\n",
       "        text-align: right;\n",
       "    }\n",
       "</style>\n",
       "<table border=\"1\" class=\"dataframe\">\n",
       "  <thead>\n",
       "    <tr style=\"text-align: right;\">\n",
       "      <th></th>\n",
       "      <th>worker</th>\n",
       "      <th>competence</th>\n",
       "    </tr>\n",
       "  </thead>\n",
       "  <tbody>\n",
       "    <tr>\n",
       "      <th>0</th>\n",
       "      <td>A2K5ICP43ML4PW</td>\n",
       "      <td>0.804252</td>\n",
       "    </tr>\n",
       "    <tr>\n",
       "      <th>1</th>\n",
       "      <td>A15L6WGIK3VU7N</td>\n",
       "      <td>0.855198</td>\n",
       "    </tr>\n",
       "    <tr>\n",
       "      <th>2</th>\n",
       "      <td>AHPSMRLKAEJV</td>\n",
       "      <td>0.690429</td>\n",
       "    </tr>\n",
       "    <tr>\n",
       "      <th>3</th>\n",
       "      <td>A25QX7IUS1KI5E</td>\n",
       "      <td>0.473449</td>\n",
       "    </tr>\n",
       "    <tr>\n",
       "      <th>4</th>\n",
       "      <td>A2RV3FIO3IAZS</td>\n",
       "      <td>0.348140</td>\n",
       "    </tr>\n",
       "  </tbody>\n",
       "</table>\n",
       "</div>"
      ],
      "text/plain": [
       "           worker  competence\n",
       "0  A2K5ICP43ML4PW    0.804252\n",
       "1  A15L6WGIK3VU7N    0.855198\n",
       "2    AHPSMRLKAEJV    0.690429\n",
       "3  A25QX7IUS1KI5E    0.473449\n",
       "4   A2RV3FIO3IAZS    0.348140"
      ]
     },
     "execution_count": 22,
     "metadata": {},
     "output_type": "execute_result"
    }
   ],
   "source": [
    "mace_workers = pd.read_csv(\"../data/results/mace_workers_rte.csv\")\n",
    "mace_workers.head()"
   ]
  },
  {
   "cell_type": "markdown",
   "metadata": {},
   "source": [
    "# CrowdTruth vs. MACE on Worker Quality"
   ]
  },
  {
   "cell_type": "code",
   "execution_count": 23,
   "metadata": {
    "collapsed": true
   },
   "outputs": [],
   "source": [
    "mace_workers = pd.read_csv(\"../data/results/mace_workers_rte.csv\")\n",
    "crowdtruth_workers = pd.read_csv(\"../data/results/crowdtruth_workers_rte.csv\")\n",
    "\n",
    "mace_workers = mace_workers.sort_values([\"worker\"])\n",
    "crowdtruth_workers = crowdtruth_workers.sort_values([\"worker\"])"
   ]
  },
  {
   "cell_type": "code",
   "execution_count": 24,
   "metadata": {},
   "outputs": [
    {
     "data": {
      "text/plain": [
       "Text(0,0.5,'CrowdTruth')"
      ]
     },
     "execution_count": 24,
     "metadata": {},
     "output_type": "execute_result"
    },
    {
     "data": {
      "image/png": "[encoded data removed]",
      "text/plain": [
       "<Figure size 432x288 with 1 Axes>"
      ]
     },
     "metadata": {},
     "output_type": "display_data"
    }
   ],
   "source": [
    "%matplotlib inline\n",
    "\n",
    "import matplotlib\n",
    "import matplotlib.pyplot as plt\n",
    "\n",
    "plt.scatter(\n",
    "    mace_workers[\"competence\"],\n",
    "    crowdtruth_workers[\"wqs\"],\n",
    ")\n",
    "\n",
    "plt.title(\"Worker Quality Score\")\n",
    "plt.xlabel(\"MACE\")\n",
    "plt.ylabel(\"CrowdTruth\")"
   ]
  },
  {
   "cell_type": "code",
   "execution_count": 25,
   "metadata": {},
   "outputs": [
    {
     "data": {
      "text/plain": [
       "<matplotlib.legend.Legend at 0x111e68250>"
      ]
     },
     "execution_count": 25,
     "metadata": {},
     "output_type": "execute_result"
    },
    {
     "data": {
      "image/png": "[encoded data removed]",
      "text/plain": [
       "<Figure size 1080x360 with 1 Axes>"
      ]
     },
     "metadata": {},
     "output_type": "display_data"
    }
   ],
   "source": [
    "sortWQS = crowdtruth_workers.sort_values(['wqs'], ascending=[1])\n",
    "sortWQS = sortWQS.reset_index()\n",
    "worker_ids = list(sortWQS[\"worker\"])\n",
    "\n",
    "mace_workers = mace_workers.set_index('worker')\n",
    "mace_workers.loc[worker_ids]\n",
    "\n",
    "plt.rcParams['figure.figsize'] = 15, 5\n",
    "\n",
    "plt.plot(np.arange(sortWQS.shape[0]), sortWQS[\"wqs\"], 'bo', lw = 1, label = \"CrowdTruth Worker Score\")\n",
    "plt.plot(np.arange(mace_workers.shape[0]), mace_workers[\"competence\"], 'go', lw = 1, label = \"MACE Worker Score\")\n",
    "\n",
    "plt.ylabel('Worker Quality Score')\n",
    "plt.xlabel('Worker Index')\n",
    "plt.legend()"
   ]
  },
  {
   "cell_type": "markdown",
   "metadata": {},
   "source": [
    "# CrowdTruth vs. MACE vs. Majority Vote on Annotation Performance"
   ]
  },
  {
   "cell_type": "code",
   "execution_count": 26,
   "metadata": {
    "collapsed": true
   },
   "outputs": [],
   "source": [
    "import pandas as pd \n",
    "import numpy as np\n",
    "\n",
    "majvote = pd.read_csv(\"../data/results/majorityvote_units_rte.csv\")\n",
    "mace = pd.read_csv(\"../data/results/mace_units_rte.csv\")\n",
    "crowdtruth = pd.read_csv(\"../data/results/crowdtruth_units_rte.csv\")"
   ]
  },
  {
   "cell_type": "code",
   "execution_count": 61,
   "metadata": {
    "collapsed": true
   },
   "outputs": [],
   "source": [
    "def compute_F1_score(dataset):\n",
    "    nyt_f1 = np.zeros(shape=(100, 2))\n",
    "    for idx in xrange(0, 100):\n",
    "        thresh = (idx + 1) / 100.0\n",
    "        tp = 0\n",
    "        fp = 0\n",
    "        tn = 0\n",
    "        fn = 0\n",
    "\n",
    "        for gt_idx in range(0, len(dataset.index)):\n",
    "            if dataset['true'].iloc[gt_idx] >= thresh:\n",
    "                if dataset['gold'].iloc[gt_idx] == 1:\n",
    "                    tp = tp + 1.0\n",
    "                else:\n",
    "                    fp = fp + 1.0\n",
    "            else:\n",
    "                if dataset['gold'].iloc[gt_idx] == 1:\n",
    "                    fn = fn + 1.0\n",
    "                else:\n",
    "                    tn = tn + 1.0\n",
    "\n",
    "\n",
    "        nyt_f1[idx, 0] = thresh\n",
    "    \n",
    "        if tp != 0:\n",
    "            nyt_f1[idx, 1] = 2.0 * tp / (2.0 * tp + fp + fn)\n",
    "        else:\n",
    "            nyt_f1[idx, 1] = 0\n",
    "    return nyt_f1\n",
    "\n",
    "\n",
    "def compute_majority_vote(dataset, crowd_column):\n",
    "    tp = 0\n",
    "    fp = 0\n",
    "    tn = 0\n",
    "    fn = 0\n",
    "    \n",
    "    for j in range(len(dataset.index)):\n",
    "        if dataset['true_initial'].iloc[gt_idx] >= 0.5:\n",
    "            if dataset['gold'].iloc[gt_idx] == 1:\n",
    "                tp = tp + 1.0\n",
    "            else:\n",
    "                fp = fp + 1.0\n",
    "        else:\n",
    "            if dataset['gold'].iloc[gt_idx] == 1:\n",
    "                fn = fn + 1.0\n",
    "            else:\n",
    "                tn = tn + 1.0\n",
    "    return 2.0 * tp / (2.0 * tp + fp + fn)"
   ]
  },
  {
   "cell_type": "code",
   "execution_count": 54,
   "metadata": {},
   "outputs": [
    {
     "name": "stdout",
     "output_type": "stream",
     "text": [
      "[[0.57       0.92229299]\n",
      " [0.5        0.92269939]\n",
      " [0.56       0.92288243]\n",
      " [0.55       0.92346299]\n",
      " [0.54       0.92518703]\n",
      " [0.49       0.9253366 ]\n",
      " [0.53       0.92537313]\n",
      " [0.48       0.92570037]\n",
      " [0.51       0.92707046]\n",
      " [0.52       0.9280397 ]]\n"
     ]
    }
   ],
   "source": [
    "F1_crowdtruth = compute_F1_score(crowdtruth)\n",
    "print(F1_crowdtruth[F1_crowdtruth[:,1].argsort()][-10:])"
   ]
  },
  {
   "cell_type": "code",
   "execution_count": 55,
   "metadata": {},
   "outputs": [
    {
     "name": "stdout",
     "output_type": "stream",
     "text": [
      "[[0.19       0.92793932]\n",
      " [0.13       0.92812106]\n",
      " [0.12       0.92830189]\n",
      " [0.09       0.92866083]\n",
      " [0.07       0.92901619]\n",
      " [0.14       0.92929293]\n",
      " [0.16       0.92929293]\n",
      " [0.15       0.92929293]\n",
      " [0.1        0.92982456]\n",
      " [0.11       0.93099122]]\n"
     ]
    }
   ],
   "source": [
    "F1_mace = compute_F1_score(mace)\n",
    "print(F1_mace[F1_mace[:,1].argsort()][-10:])"
   ]
  },
  {
   "cell_type": "code",
   "execution_count": 62,
   "metadata": {},
   "outputs": [
    {
     "data": {
      "text/plain": [
       "0.4257142857142857"
      ]
     },
     "execution_count": 62,
     "metadata": {},
     "output_type": "execute_result"
    }
   ],
   "source": [
    "F1_majority_vote = compute_majority_vote(majvote, 'value')\n",
    "F1_majority_vote"
   ]
  },
  {
   "cell_type": "code",
   "execution_count": null,
   "metadata": {
    "collapsed": true
   },
   "outputs": [],
   "source": []
  }
 ],
 "metadata": {
  "anaconda-cloud": {},
  "kernelspec": {
   "display_name": "Python 2",
   "language": "python",
   "name": "python2"
  },
  "language_info": {
   "codemirror_mode": {
    "name": "ipython",
    "version": 2
   },
   "file_extension": ".py",
   "mimetype": "text/x-python",
   "name": "python",
   "nbconvert_exporter": "python",
   "pygments_lexer": "ipython2",
   "version": "2.7.13"
  }
 },
 "nbformat": 4,
 "nbformat_minor": 2
}
