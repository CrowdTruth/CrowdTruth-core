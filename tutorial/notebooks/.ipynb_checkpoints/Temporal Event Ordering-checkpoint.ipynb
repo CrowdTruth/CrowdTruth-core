{
 "cells": [
  {
   "cell_type": "markdown",
   "metadata": {},
   "source": [
    "# CrowdTruth for Temporal Event Ordering Annotation\n",
    "\n",
    "This analysis uses the data gathered in the \"Event Annotation\" crowdsourcing experiment published in *Rion Snow, Brendan O’Connor, Dan Jurafsky, and Andrew Y. Ng: Cheap and fast—but is it good? Evaluating non-expert annotations for natural language tasks. EMNLP 2008, pages 254–263*.\n",
    "\n",
    "**Task Description**: Given *two events* in a text, the crowd has to choose whether the first event happened *\"strictly before\"* or *\"strictly after\"* the second event. Following, we provide an example from the aforementioned publication:\n",
    "\n",
    "**Text**: “It just *blew* up in the air, and then we *saw* two fireballs *go* down to the, to the water, and there was a big small, ah, smoke, from ah, *coming* up from that”.\n",
    "\n",
    "**Events**: go/coming, or blew/saw\n",
    "\n",
    "A screenshot of the task as it appeared to workers can be seen at the following [repository](http://ai.stanford.edu/ ̃rion/annotations/)."
   ]
  },
  {
   "cell_type": "markdown",
   "metadata": {},
   "source": [
    "The dataset for this task was downloaded from the following [repository](http://ai.stanford.edu/ ̃rion/annotations/), which contains the raw output from the crowd on AMT. Currently, you can find the processed input file in the folder named `data`. Besides the raw crowd annotations, the processed file also contains the sentence and the two events that were given as input to the crowd (for part of the dataset)."
   ]
  },
  {
   "cell_type": "code",
   "execution_count": 1,
   "metadata": {},
   "outputs": [
    {
     "data": {
      "text/html": [
       "<div>\n",
       "<style scoped>\n",
       "    .dataframe tbody tr th:only-of-type {\n",
       "        vertical-align: middle;\n",
       "    }\n",
       "\n",
       "    .dataframe tbody tr th {\n",
       "        vertical-align: top;\n",
       "    }\n",
       "\n",
       "    .dataframe thead th {\n",
       "        text-align: right;\n",
       "    }\n",
       "</style>\n",
       "<table border=\"1\" class=\"dataframe\">\n",
       "  <thead>\n",
       "    <tr style=\"text-align: right;\">\n",
       "      <th></th>\n",
       "      <th>!amt_annotation_ids</th>\n",
       "      <th>!amt_worker_ids</th>\n",
       "      <th>orig_id</th>\n",
       "      <th>response</th>\n",
       "      <th>gold</th>\n",
       "      <th>start</th>\n",
       "      <th>end</th>\n",
       "      <th>event1</th>\n",
       "      <th>event2</th>\n",
       "      <th>text</th>\n",
       "    </tr>\n",
       "  </thead>\n",
       "  <tbody>\n",
       "    <tr>\n",
       "      <th>0</th>\n",
       "      <td>1</td>\n",
       "      <td>A2HTGQE4AACVRV</td>\n",
       "      <td>42_0</td>\n",
       "      <td>before</td>\n",
       "      <td>before</td>\n",
       "      <td>Mon Mar 25 07:39:42 PDT 2019</td>\n",
       "      <td>Mon Mar 25 07:41:05 PDT 2019</td>\n",
       "      <td>NaN</td>\n",
       "      <td>NaN</td>\n",
       "      <td>NaN</td>\n",
       "    </tr>\n",
       "    <tr>\n",
       "      <th>1</th>\n",
       "      <td>2</td>\n",
       "      <td>AYHHOK9GDSWNH</td>\n",
       "      <td>42_0</td>\n",
       "      <td>before</td>\n",
       "      <td>before</td>\n",
       "      <td>Mon Mar 25 07:39:42 PDT 2019</td>\n",
       "      <td>Mon Mar 25 07:41:05 PDT 2019</td>\n",
       "      <td>NaN</td>\n",
       "      <td>NaN</td>\n",
       "      <td>NaN</td>\n",
       "    </tr>\n",
       "    <tr>\n",
       "      <th>2</th>\n",
       "      <td>3</td>\n",
       "      <td>A1QRQZWBL1SVEX</td>\n",
       "      <td>42_0</td>\n",
       "      <td>before</td>\n",
       "      <td>before</td>\n",
       "      <td>Mon Mar 25 07:39:42 PDT 2019</td>\n",
       "      <td>Mon Mar 25 07:41:05 PDT 2019</td>\n",
       "      <td>NaN</td>\n",
       "      <td>NaN</td>\n",
       "      <td>NaN</td>\n",
       "    </tr>\n",
       "    <tr>\n",
       "      <th>3</th>\n",
       "      <td>4</td>\n",
       "      <td>A3G0MGLBT484I1</td>\n",
       "      <td>42_0</td>\n",
       "      <td>before</td>\n",
       "      <td>before</td>\n",
       "      <td>Mon Mar 25 07:39:42 PDT 2019</td>\n",
       "      <td>Mon Mar 25 07:41:05 PDT 2019</td>\n",
       "      <td>NaN</td>\n",
       "      <td>NaN</td>\n",
       "      <td>NaN</td>\n",
       "    </tr>\n",
       "    <tr>\n",
       "      <th>4</th>\n",
       "      <td>5</td>\n",
       "      <td>A7NC1H5ZK7TO0</td>\n",
       "      <td>42_0</td>\n",
       "      <td>before</td>\n",
       "      <td>before</td>\n",
       "      <td>Mon Mar 25 07:39:42 PDT 2019</td>\n",
       "      <td>Mon Mar 25 07:41:05 PDT 2019</td>\n",
       "      <td>NaN</td>\n",
       "      <td>NaN</td>\n",
       "      <td>NaN</td>\n",
       "    </tr>\n",
       "  </tbody>\n",
       "</table>\n",
       "</div>"
      ],
      "text/plain": [
       "   !amt_annotation_ids !amt_worker_ids orig_id response    gold  \\\n",
       "0                    1  A2HTGQE4AACVRV    42_0   before  before   \n",
       "1                    2   AYHHOK9GDSWNH    42_0   before  before   \n",
       "2                    3  A1QRQZWBL1SVEX    42_0   before  before   \n",
       "3                    4  A3G0MGLBT484I1    42_0   before  before   \n",
       "4                    5   A7NC1H5ZK7TO0    42_0   before  before   \n",
       "\n",
       "                          start                           end event1 event2  \\\n",
       "0  Mon Mar 25 07:39:42 PDT 2019  Mon Mar 25 07:41:05 PDT 2019    NaN    NaN   \n",
       "1  Mon Mar 25 07:39:42 PDT 2019  Mon Mar 25 07:41:05 PDT 2019    NaN    NaN   \n",
       "2  Mon Mar 25 07:39:42 PDT 2019  Mon Mar 25 07:41:05 PDT 2019    NaN    NaN   \n",
       "3  Mon Mar 25 07:39:42 PDT 2019  Mon Mar 25 07:41:05 PDT 2019    NaN    NaN   \n",
       "4  Mon Mar 25 07:39:42 PDT 2019  Mon Mar 25 07:41:05 PDT 2019    NaN    NaN   \n",
       "\n",
       "  text  \n",
       "0  NaN  \n",
       "1  NaN  \n",
       "2  NaN  \n",
       "3  NaN  \n",
       "4  NaN  "
      ]
     },
     "execution_count": 1,
     "metadata": {},
     "output_type": "execute_result"
    }
   ],
   "source": [
    "import pandas as pd\n",
    "\n",
    "test_data = pd.read_csv(\"../data/temp.standardized.csv\")\n",
    "test_data.head()"
   ]
  },
  {
   "cell_type": "markdown",
   "metadata": {},
   "source": [
    "## Declaring a pre-processing configuration\n",
    "\n",
    "The pre-processing configuration defines how to interpret the raw crowdsourcing input. To do this, we need to define a configuration class. First, we import the default CrowdTruth configuration class:"
   ]
  },
  {
   "cell_type": "code",
   "execution_count": 2,
   "metadata": {
    "collapsed": true
   },
   "outputs": [],
   "source": [
    "import crowdtruth\n",
    "from crowdtruth.configuration import DefaultConfig"
   ]
  },
  {
   "cell_type": "markdown",
   "metadata": {},
   "source": [
    "Our test class inherits the default configuration `DefaultConfig`, while also declaring some additional attributes that are specific to the Temporal Event Ordering task:\n",
    "\n",
    "* **`inputColumns`:** list of input columns from the .csv file with the input data\n",
    "* **`outputColumns`:** list of output columns from the .csv file with the answers from the workers\n",
    "* **`customPlatformColumns`:** a list of columns from the .csv file that defines a standard annotation tasks, in the following order - judgment id, unit id, worker id, started time, submitted time. This variable is used for input files that do not come from AMT or FigureEight (formarly known as CrowdFlower).\n",
    "* **`annotation_separator`:** string that separates between the crowd annotations in `outputColumns`\n",
    "* **`open_ended_task`:** boolean variable defining whether the task is open-ended (i.e. the possible crowd annotations are not known beforehand, like in the case of free text input); in the task that we are processing, workers pick the answers from a pre-defined list, therefore the task is not open ended, and this variable is set to `False`\n",
    "* **`annotation_vector`:** list of possible crowd answers, mandatory to declare when `open_ended_task` is `False`; for our task, this is the list of relations\n",
    "* **`processJudgments`:** method that defines processing of the raw crowd data; for this task, we process the crowd answers to correspond to the values in `annotation_vector`\n",
    "\n",
    "The complete configuration class is declared below:"
   ]
  },
  {
   "cell_type": "code",
   "execution_count": 3,
   "metadata": {
    "collapsed": true
   },
   "outputs": [],
   "source": [
    "class TestConfig(DefaultConfig):\n",
    "    inputColumns = [\"gold\", \"event1\", \"event2\", \"text\"]\n",
    "    outputColumns = [\"response\"]\n",
    "    customPlatformColumns = [\"!amt_annotation_ids\", \"orig_id\", \"!amt_worker_ids\", \"start\", \"end\"]\n",
    "    \n",
    "    # processing of a closed task\n",
    "    open_ended_task = False\n",
    "    annotation_vector = [\"before\", \"after\"]\n",
    "    \n",
    "    def processJudgments(self, judgments):\n",
    "        # pre-process output to match the values in annotation_vector\n",
    "        for col in self.outputColumns:\n",
    "            # transform to lowercase\n",
    "            judgments[col] = judgments[col].apply(lambda x: str(x).lower())\n",
    "        return judgments"
   ]
  },
  {
   "cell_type": "markdown",
   "metadata": {},
   "source": [
    "## Pre-processing the input data\n",
    "\n",
    "After declaring the configuration of our input file, we are ready to pre-process the crowd data:"
   ]
  },
  {
   "cell_type": "code",
   "execution_count": 4,
   "metadata": {},
   "outputs": [
    {
     "data": {
      "text/html": [
       "<div>\n",
       "<style scoped>\n",
       "    .dataframe tbody tr th:only-of-type {\n",
       "        vertical-align: middle;\n",
       "    }\n",
       "\n",
       "    .dataframe tbody tr th {\n",
       "        vertical-align: top;\n",
       "    }\n",
       "\n",
       "    .dataframe thead th {\n",
       "        text-align: right;\n",
       "    }\n",
       "</style>\n",
       "<table border=\"1\" class=\"dataframe\">\n",
       "  <thead>\n",
       "    <tr style=\"text-align: right;\">\n",
       "      <th></th>\n",
       "      <th>output.response</th>\n",
       "      <th>output.response.count</th>\n",
       "      <th>output.response.unique</th>\n",
       "      <th>started</th>\n",
       "      <th>unit</th>\n",
       "      <th>submitted</th>\n",
       "      <th>worker</th>\n",
       "      <th>duration</th>\n",
       "      <th>job</th>\n",
       "    </tr>\n",
       "    <tr>\n",
       "      <th>judgment</th>\n",
       "      <th></th>\n",
       "      <th></th>\n",
       "      <th></th>\n",
       "      <th></th>\n",
       "      <th></th>\n",
       "      <th></th>\n",
       "      <th></th>\n",
       "      <th></th>\n",
       "      <th></th>\n",
       "    </tr>\n",
       "  </thead>\n",
       "  <tbody>\n",
       "    <tr>\n",
       "      <th>1</th>\n",
       "      <td>{u'before': 1, u'after': 0}</td>\n",
       "      <td>1</td>\n",
       "      <td>2</td>\n",
       "      <td>2019-03-25 07:39:42-07:00</td>\n",
       "      <td>42_0</td>\n",
       "      <td>2019-03-25 07:41:05-07:00</td>\n",
       "      <td>A2HTGQE4AACVRV</td>\n",
       "      <td>83</td>\n",
       "      <td>../data/temp.standardized</td>\n",
       "    </tr>\n",
       "    <tr>\n",
       "      <th>2</th>\n",
       "      <td>{u'before': 1, u'after': 0}</td>\n",
       "      <td>1</td>\n",
       "      <td>2</td>\n",
       "      <td>2019-03-25 07:39:42-07:00</td>\n",
       "      <td>42_0</td>\n",
       "      <td>2019-03-25 07:41:05-07:00</td>\n",
       "      <td>AYHHOK9GDSWNH</td>\n",
       "      <td>83</td>\n",
       "      <td>../data/temp.standardized</td>\n",
       "    </tr>\n",
       "    <tr>\n",
       "      <th>3</th>\n",
       "      <td>{u'before': 1, u'after': 0}</td>\n",
       "      <td>1</td>\n",
       "      <td>2</td>\n",
       "      <td>2019-03-25 07:39:42-07:00</td>\n",
       "      <td>42_0</td>\n",
       "      <td>2019-03-25 07:41:05-07:00</td>\n",
       "      <td>A1QRQZWBL1SVEX</td>\n",
       "      <td>83</td>\n",
       "      <td>../data/temp.standardized</td>\n",
       "    </tr>\n",
       "    <tr>\n",
       "      <th>4</th>\n",
       "      <td>{u'before': 1, u'after': 0}</td>\n",
       "      <td>1</td>\n",
       "      <td>2</td>\n",
       "      <td>2019-03-25 07:39:42-07:00</td>\n",
       "      <td>42_0</td>\n",
       "      <td>2019-03-25 07:41:05-07:00</td>\n",
       "      <td>A3G0MGLBT484I1</td>\n",
       "      <td>83</td>\n",
       "      <td>../data/temp.standardized</td>\n",
       "    </tr>\n",
       "    <tr>\n",
       "      <th>5</th>\n",
       "      <td>{u'before': 1, u'after': 0}</td>\n",
       "      <td>1</td>\n",
       "      <td>2</td>\n",
       "      <td>2019-03-25 07:39:42-07:00</td>\n",
       "      <td>42_0</td>\n",
       "      <td>2019-03-25 07:41:05-07:00</td>\n",
       "      <td>A7NC1H5ZK7TO0</td>\n",
       "      <td>83</td>\n",
       "      <td>../data/temp.standardized</td>\n",
       "    </tr>\n",
       "  </tbody>\n",
       "</table>\n",
       "</div>"
      ],
      "text/plain": [
       "                      output.response  output.response.count  \\\n",
       "judgment                                                       \n",
       "1         {u'before': 1, u'after': 0}                      1   \n",
       "2         {u'before': 1, u'after': 0}                      1   \n",
       "3         {u'before': 1, u'after': 0}                      1   \n",
       "4         {u'before': 1, u'after': 0}                      1   \n",
       "5         {u'before': 1, u'after': 0}                      1   \n",
       "\n",
       "          output.response.unique                    started  unit  \\\n",
       "judgment                                                            \n",
       "1                              2  2019-03-25 07:39:42-07:00  42_0   \n",
       "2                              2  2019-03-25 07:39:42-07:00  42_0   \n",
       "3                              2  2019-03-25 07:39:42-07:00  42_0   \n",
       "4                              2  2019-03-25 07:39:42-07:00  42_0   \n",
       "5                              2  2019-03-25 07:39:42-07:00  42_0   \n",
       "\n",
       "                          submitted          worker  duration  \\\n",
       "judgment                                                        \n",
       "1         2019-03-25 07:41:05-07:00  A2HTGQE4AACVRV        83   \n",
       "2         2019-03-25 07:41:05-07:00   AYHHOK9GDSWNH        83   \n",
       "3         2019-03-25 07:41:05-07:00  A1QRQZWBL1SVEX        83   \n",
       "4         2019-03-25 07:41:05-07:00  A3G0MGLBT484I1        83   \n",
       "5         2019-03-25 07:41:05-07:00   A7NC1H5ZK7TO0        83   \n",
       "\n",
       "                                job  \n",
       "judgment                             \n",
       "1         ../data/temp.standardized  \n",
       "2         ../data/temp.standardized  \n",
       "3         ../data/temp.standardized  \n",
       "4         ../data/temp.standardized  \n",
       "5         ../data/temp.standardized  "
      ]
     },
     "execution_count": 4,
     "metadata": {},
     "output_type": "execute_result"
    }
   ],
   "source": [
    "data, config = crowdtruth.load(\n",
    "    file = \"../data/temp.standardized.csv\",\n",
    "    config = TestConfig()\n",
    ")\n",
    "\n",
    "data['judgments'].head()"
   ]
  },
  {
   "cell_type": "markdown",
   "metadata": {},
   "source": [
    "## Computing the CrowdTruth metrics\n",
    "\n",
    "The pre-processed data can then be used to calculate the CrowdTruth metrics:"
   ]
  },
  {
   "cell_type": "code",
   "execution_count": 5,
   "metadata": {
    "collapsed": true
   },
   "outputs": [],
   "source": [
    "results = crowdtruth.run(data, config)"
   ]
  },
  {
   "cell_type": "markdown",
   "metadata": {},
   "source": [
    "`results` is a dict object that contains the quality metrics for the sentences, annotations and crowd workers.\n",
    "\n",
    "The **sentence metrics** are stored in `results[\"units\"]`:"
   ]
  },
  {
   "cell_type": "code",
   "execution_count": 6,
   "metadata": {},
   "outputs": [
    {
     "data": {
      "text/html": [
       "<div>\n",
       "<style scoped>\n",
       "    .dataframe tbody tr th:only-of-type {\n",
       "        vertical-align: middle;\n",
       "    }\n",
       "\n",
       "    .dataframe tbody tr th {\n",
       "        vertical-align: top;\n",
       "    }\n",
       "\n",
       "    .dataframe thead th {\n",
       "        text-align: right;\n",
       "    }\n",
       "</style>\n",
       "<table border=\"1\" class=\"dataframe\">\n",
       "  <thead>\n",
       "    <tr style=\"text-align: right;\">\n",
       "      <th></th>\n",
       "      <th>duration</th>\n",
       "      <th>input.event1</th>\n",
       "      <th>input.event2</th>\n",
       "      <th>input.gold</th>\n",
       "      <th>input.text</th>\n",
       "      <th>job</th>\n",
       "      <th>output.response</th>\n",
       "      <th>output.response.annotations</th>\n",
       "      <th>output.response.unique_annotations</th>\n",
       "      <th>worker</th>\n",
       "      <th>uqs</th>\n",
       "      <th>unit_annotation_score</th>\n",
       "      <th>uqs_initial</th>\n",
       "      <th>unit_annotation_score_initial</th>\n",
       "    </tr>\n",
       "    <tr>\n",
       "      <th>unit</th>\n",
       "      <th></th>\n",
       "      <th></th>\n",
       "      <th></th>\n",
       "      <th></th>\n",
       "      <th></th>\n",
       "      <th></th>\n",
       "      <th></th>\n",
       "      <th></th>\n",
       "      <th></th>\n",
       "      <th></th>\n",
       "      <th></th>\n",
       "      <th></th>\n",
       "      <th></th>\n",
       "      <th></th>\n",
       "    </tr>\n",
       "  </thead>\n",
       "  <tbody>\n",
       "    <tr>\n",
       "      <th>100_1</th>\n",
       "      <td>83</td>\n",
       "      <td>NaN</td>\n",
       "      <td>NaN</td>\n",
       "      <td>before</td>\n",
       "      <td>NaN</td>\n",
       "      <td>../data/temp.standardized</td>\n",
       "      <td>{u'after': 3, u'before': 7}</td>\n",
       "      <td>10</td>\n",
       "      <td>2</td>\n",
       "      <td>10</td>\n",
       "      <td>0.720189</td>\n",
       "      <td>{u'after': 0.143649950855, u'before': 0.856350...</td>\n",
       "      <td>0.533333</td>\n",
       "      <td>{u'after': 0.3, u'before': 0.7}</td>\n",
       "    </tr>\n",
       "    <tr>\n",
       "      <th>102_0</th>\n",
       "      <td>83</td>\n",
       "      <td>NaN</td>\n",
       "      <td>NaN</td>\n",
       "      <td>after</td>\n",
       "      <td>NaN</td>\n",
       "      <td>../data/temp.standardized</td>\n",
       "      <td>{u'after': 7, u'before': 3}</td>\n",
       "      <td>10</td>\n",
       "      <td>2</td>\n",
       "      <td>10</td>\n",
       "      <td>0.613106</td>\n",
       "      <td>{u'after': 0.782360403297, u'before': 0.217639...</td>\n",
       "      <td>0.533333</td>\n",
       "      <td>{u'after': 0.7, u'before': 0.3}</td>\n",
       "    </tr>\n",
       "    <tr>\n",
       "      <th>102_1</th>\n",
       "      <td>83</td>\n",
       "      <td>NaN</td>\n",
       "      <td>NaN</td>\n",
       "      <td>before</td>\n",
       "      <td>NaN</td>\n",
       "      <td>../data/temp.standardized</td>\n",
       "      <td>{u'after': 3, u'before': 7}</td>\n",
       "      <td>10</td>\n",
       "      <td>2</td>\n",
       "      <td>10</td>\n",
       "      <td>0.700250</td>\n",
       "      <td>{u'after': 0.15658087953, u'before': 0.8434191...</td>\n",
       "      <td>0.533333</td>\n",
       "      <td>{u'after': 0.3, u'before': 0.7}</td>\n",
       "    </tr>\n",
       "    <tr>\n",
       "      <th>103_1</th>\n",
       "      <td>83</td>\n",
       "      <td>NaN</td>\n",
       "      <td>NaN</td>\n",
       "      <td>before</td>\n",
       "      <td>NaN</td>\n",
       "      <td>../data/temp.standardized</td>\n",
       "      <td>{u'after': 3, u'before': 7}</td>\n",
       "      <td>10</td>\n",
       "      <td>2</td>\n",
       "      <td>10</td>\n",
       "      <td>0.700250</td>\n",
       "      <td>{u'after': 0.15658087953, u'before': 0.8434191...</td>\n",
       "      <td>0.533333</td>\n",
       "      <td>{u'after': 0.3, u'before': 0.7}</td>\n",
       "    </tr>\n",
       "    <tr>\n",
       "      <th>103_11</th>\n",
       "      <td>83</td>\n",
       "      <td>NaN</td>\n",
       "      <td>NaN</td>\n",
       "      <td>before</td>\n",
       "      <td>NaN</td>\n",
       "      <td>../data/temp.standardized</td>\n",
       "      <td>{u'after': 2, u'before': 8}</td>\n",
       "      <td>10</td>\n",
       "      <td>2</td>\n",
       "      <td>10</td>\n",
       "      <td>0.785005</td>\n",
       "      <td>{u'after': 0.105941791355, u'before': 0.894058...</td>\n",
       "      <td>0.644444</td>\n",
       "      <td>{u'after': 0.2, u'before': 0.8}</td>\n",
       "    </tr>\n",
       "  </tbody>\n",
       "</table>\n",
       "</div>"
      ],
      "text/plain": [
       "        duration input.event1 input.event2 input.gold input.text  \\\n",
       "unit                                                               \n",
       "100_1         83          NaN          NaN     before        NaN   \n",
       "102_0         83          NaN          NaN      after        NaN   \n",
       "102_1         83          NaN          NaN     before        NaN   \n",
       "103_1         83          NaN          NaN     before        NaN   \n",
       "103_11        83          NaN          NaN     before        NaN   \n",
       "\n",
       "                              job              output.response  \\\n",
       "unit                                                             \n",
       "100_1   ../data/temp.standardized  {u'after': 3, u'before': 7}   \n",
       "102_0   ../data/temp.standardized  {u'after': 7, u'before': 3}   \n",
       "102_1   ../data/temp.standardized  {u'after': 3, u'before': 7}   \n",
       "103_1   ../data/temp.standardized  {u'after': 3, u'before': 7}   \n",
       "103_11  ../data/temp.standardized  {u'after': 2, u'before': 8}   \n",
       "\n",
       "        output.response.annotations  output.response.unique_annotations  \\\n",
       "unit                                                                      \n",
       "100_1                            10                                   2   \n",
       "102_0                            10                                   2   \n",
       "102_1                            10                                   2   \n",
       "103_1                            10                                   2   \n",
       "103_11                           10                                   2   \n",
       "\n",
       "        worker       uqs                              unit_annotation_score  \\\n",
       "unit                                                                          \n",
       "100_1       10  0.720189  {u'after': 0.143649950855, u'before': 0.856350...   \n",
       "102_0       10  0.613106  {u'after': 0.782360403297, u'before': 0.217639...   \n",
       "102_1       10  0.700250  {u'after': 0.15658087953, u'before': 0.8434191...   \n",
       "103_1       10  0.700250  {u'after': 0.15658087953, u'before': 0.8434191...   \n",
       "103_11      10  0.785005  {u'after': 0.105941791355, u'before': 0.894058...   \n",
       "\n",
       "        uqs_initial    unit_annotation_score_initial  \n",
       "unit                                                  \n",
       "100_1      0.533333  {u'after': 0.3, u'before': 0.7}  \n",
       "102_0      0.533333  {u'after': 0.7, u'before': 0.3}  \n",
       "102_1      0.533333  {u'after': 0.3, u'before': 0.7}  \n",
       "103_1      0.533333  {u'after': 0.3, u'before': 0.7}  \n",
       "103_11     0.644444  {u'after': 0.2, u'before': 0.8}  "
      ]
     },
     "execution_count": 6,
     "metadata": {},
     "output_type": "execute_result"
    }
   ],
   "source": [
    "results[\"units\"].head()"
   ]
  },
  {
   "cell_type": "markdown",
   "metadata": {},
   "source": [
    "The `uqs` column in `results[\"units\"]` contains the **sentence quality scores**, capturing the overall workers agreement over each sentences. Here we plot its histogram:"
   ]
  },
  {
   "cell_type": "code",
   "execution_count": 7,
   "metadata": {},
   "outputs": [
    {
     "data": {
      "text/plain": [
       "Text(0,0.5,'# Units')"
      ]
     },
     "execution_count": 7,
     "metadata": {},
     "output_type": "execute_result"
    },
    {
     "data": {
      "image/png": "[encoded data removed]",
      "text/plain": [
       "<Figure size 1080x360 with 2 Axes>"
      ]
     },
     "metadata": {},
     "output_type": "display_data"
    }
   ],
   "source": [
    "import matplotlib.pyplot as plt\n",
    "%matplotlib inline\n",
    "\n",
    "plt.rcParams['figure.figsize'] = 15, 5\n",
    "\n",
    "plt.subplot(1, 2, 1)\n",
    "plt.hist(results[\"units\"][\"uqs\"])\n",
    "plt.ylim(0,200)\n",
    "plt.xlabel(\"Sentence Quality Score\")\n",
    "plt.ylabel(\"#Sentences\")\n",
    "\n",
    "plt.subplot(1, 2, 2)\n",
    "plt.hist(results[\"units\"][\"uqs_initial\"])\n",
    "plt.ylim(0,200)\n",
    "plt.xlabel(\"Sentence Quality Score Initial\")\n",
    "plt.ylabel(\"# Units\")\n"
   ]
  },
  {
   "cell_type": "markdown",
   "metadata": {},
   "source": [
    "### Plot the change in unit qualtity score at the beginning of the process and at the end"
   ]
  },
  {
   "cell_type": "code",
   "execution_count": 8,
   "metadata": {},
   "outputs": [
    {
     "data": {
      "text/plain": [
       "Text(0.5,0,'Sentence Index')"
      ]
     },
     "execution_count": 8,
     "metadata": {},
     "output_type": "execute_result"
    },
    {
     "data": {
      "image/png": "[encoded data removed]",
      "text/plain": [
       "<Figure size 1080x360 with 1 Axes>"
      ]
     },
     "metadata": {},
     "output_type": "display_data"
    }
   ],
   "source": [
    "import numpy as np\n",
    "\n",
    "sortUQS = results[\"units\"].sort_values(['uqs'], ascending=[1])\n",
    "sortUQS = sortUQS.reset_index()\n",
    "\n",
    "plt.rcParams['figure.figsize'] = 15, 5\n",
    "\n",
    "plt.plot(np.arange(sortUQS.shape[0]), sortUQS[\"uqs_initial\"], 'ro', lw = 1, label = \"Initial UQS\")\n",
    "plt.plot(np.arange(sortUQS.shape[0]), sortUQS[\"uqs\"], 'go', lw = 1, label = \"Final UQS\")\n",
    "\n",
    "plt.ylabel('Sentence Quality Score')\n",
    "plt.xlabel('Sentence Index')"
   ]
  },
  {
   "cell_type": "markdown",
   "metadata": {},
   "source": [
    "The `unit_annotation_score` column in `results[\"units\"]` contains the **sentence-annotation scores**, capturing the likelihood that an annotation is expressed in a sentence. For each sentence, we store a dictionary mapping each annotation to its sentence-relation score."
   ]
  },
  {
   "cell_type": "code",
   "execution_count": 9,
   "metadata": {},
   "outputs": [
    {
     "data": {
      "text/plain": [
       "unit\n",
       "100_1     {u'after': 0.143649950855, u'before': 0.856350...\n",
       "102_0     {u'after': 0.782360403297, u'before': 0.217639...\n",
       "102_1     {u'after': 0.15658087953, u'before': 0.8434191...\n",
       "103_1     {u'after': 0.15658087953, u'before': 0.8434191...\n",
       "103_11    {u'after': 0.105941791355, u'before': 0.894058...\n",
       "Name: unit_annotation_score, dtype: object"
      ]
     },
     "execution_count": 9,
     "metadata": {},
     "output_type": "execute_result"
    }
   ],
   "source": [
    "results[\"units\"][\"unit_annotation_score\"].head()"
   ]
  },
  {
   "cell_type": "markdown",
   "metadata": {},
   "source": [
    "Save unit metrics:"
   ]
  },
  {
   "cell_type": "code",
   "execution_count": 30,
   "metadata": {},
   "outputs": [],
   "source": [
    "rows = []\n",
    "header = [\"orig_id\", \"gold\", \"text\", \"event1\", \"event2\", \"uqs\", \"uqs_initial\", \"before\", \"after\", \"before_initial\", \"after_initial\"]\n",
    "\n",
    "units = results[\"units\"].reset_index()\n",
    "for i in range(len(units.index)):\n",
    "    row = [units[\"unit\"].iloc[i], units[\"input.gold\"].iloc[i], units[\"input.text\"].iloc[i], units[\"input.event1\"].iloc[i],\\\n",
    "           units[\"input.event2\"].iloc[i], units[\"uqs\"].iloc[i], units[\"uqs_initial\"].iloc[i], \\\n",
    "           units[\"unit_annotation_score\"].iloc[i][\"before\"], units[\"unit_annotation_score\"].iloc[i][\"after\"], \\\n",
    "           units[\"unit_annotation_score_initial\"].iloc[i][\"before\"], units[\"unit_annotation_score_initial\"].iloc[i][\"after\"]]\n",
    "    rows.append(row)\n",
    "rows = pd.DataFrame(rows, columns=header)\n",
    "rows.to_csv(\"../data/results/crowdtruth_units_temp.csv\", index=False)"
   ]
  },
  {
   "cell_type": "markdown",
   "metadata": {},
   "source": [
    "The **worker metrics** are stored in `results[\"workers\"]`:"
   ]
  },
  {
   "cell_type": "code",
   "execution_count": 24,
   "metadata": {},
   "outputs": [
    {
     "data": {
      "text/html": [
       "<div>\n",
       "<style scoped>\n",
       "    .dataframe tbody tr th:only-of-type {\n",
       "        vertical-align: middle;\n",
       "    }\n",
       "\n",
       "    .dataframe tbody tr th {\n",
       "        vertical-align: top;\n",
       "    }\n",
       "\n",
       "    .dataframe thead th {\n",
       "        text-align: right;\n",
       "    }\n",
       "</style>\n",
       "<table border=\"1\" class=\"dataframe\">\n",
       "  <thead>\n",
       "    <tr style=\"text-align: right;\">\n",
       "      <th></th>\n",
       "      <th>duration</th>\n",
       "      <th>job</th>\n",
       "      <th>judgment</th>\n",
       "      <th>unit</th>\n",
       "      <th>wqs</th>\n",
       "      <th>wwa</th>\n",
       "      <th>wsa</th>\n",
       "      <th>wqs_initial</th>\n",
       "      <th>wwa_initial</th>\n",
       "      <th>wsa_initial</th>\n",
       "    </tr>\n",
       "    <tr>\n",
       "      <th>worker</th>\n",
       "      <th></th>\n",
       "      <th></th>\n",
       "      <th></th>\n",
       "      <th></th>\n",
       "      <th></th>\n",
       "      <th></th>\n",
       "      <th></th>\n",
       "      <th></th>\n",
       "      <th></th>\n",
       "      <th></th>\n",
       "    </tr>\n",
       "  </thead>\n",
       "  <tbody>\n",
       "    <tr>\n",
       "      <th>A1123L7ANYUTG0</th>\n",
       "      <td>83</td>\n",
       "      <td>1</td>\n",
       "      <td>20</td>\n",
       "      <td>20</td>\n",
       "      <td>0.833171</td>\n",
       "      <td>0.858963</td>\n",
       "      <td>0.969973</td>\n",
       "      <td>0.676611</td>\n",
       "      <td>0.738889</td>\n",
       "      <td>0.915714</td>\n",
       "    </tr>\n",
       "    <tr>\n",
       "      <th>A11GX90QFWDLMM</th>\n",
       "      <td>83</td>\n",
       "      <td>1</td>\n",
       "      <td>462</td>\n",
       "      <td>462</td>\n",
       "      <td>0.282526</td>\n",
       "      <td>0.504831</td>\n",
       "      <td>0.559645</td>\n",
       "      <td>0.289752</td>\n",
       "      <td>0.489177</td>\n",
       "      <td>0.592326</td>\n",
       "    </tr>\n",
       "    <tr>\n",
       "      <th>A13PCLSK1JA8QL</th>\n",
       "      <td>83</td>\n",
       "      <td>1</td>\n",
       "      <td>10</td>\n",
       "      <td>10</td>\n",
       "      <td>0.212647</td>\n",
       "      <td>0.423645</td>\n",
       "      <td>0.501946</td>\n",
       "      <td>0.210866</td>\n",
       "      <td>0.400000</td>\n",
       "      <td>0.527164</td>\n",
       "    </tr>\n",
       "    <tr>\n",
       "      <th>A16QMNGIR7N53M</th>\n",
       "      <td>83</td>\n",
       "      <td>1</td>\n",
       "      <td>10</td>\n",
       "      <td>10</td>\n",
       "      <td>0.586793</td>\n",
       "      <td>0.702512</td>\n",
       "      <td>0.835277</td>\n",
       "      <td>0.454946</td>\n",
       "      <td>0.588889</td>\n",
       "      <td>0.772549</td>\n",
       "    </tr>\n",
       "    <tr>\n",
       "      <th>A17743NDSCO8P5</th>\n",
       "      <td>83</td>\n",
       "      <td>1</td>\n",
       "      <td>10</td>\n",
       "      <td>10</td>\n",
       "      <td>0.443041</td>\n",
       "      <td>0.625937</td>\n",
       "      <td>0.707804</td>\n",
       "      <td>0.393730</td>\n",
       "      <td>0.566667</td>\n",
       "      <td>0.694817</td>\n",
       "    </tr>\n",
       "  </tbody>\n",
       "</table>\n",
       "</div>"
      ],
      "text/plain": [
       "                duration  job  judgment  unit       wqs       wwa       wsa  \\\n",
       "worker                                                                        \n",
       "A1123L7ANYUTG0        83    1        20    20  0.833171  0.858963  0.969973   \n",
       "A11GX90QFWDLMM        83    1       462   462  0.282526  0.504831  0.559645   \n",
       "A13PCLSK1JA8QL        83    1        10    10  0.212647  0.423645  0.501946   \n",
       "A16QMNGIR7N53M        83    1        10    10  0.586793  0.702512  0.835277   \n",
       "A17743NDSCO8P5        83    1        10    10  0.443041  0.625937  0.707804   \n",
       "\n",
       "                wqs_initial  wwa_initial  wsa_initial  \n",
       "worker                                                 \n",
       "A1123L7ANYUTG0     0.676611     0.738889     0.915714  \n",
       "A11GX90QFWDLMM     0.289752     0.489177     0.592326  \n",
       "A13PCLSK1JA8QL     0.210866     0.400000     0.527164  \n",
       "A16QMNGIR7N53M     0.454946     0.588889     0.772549  \n",
       "A17743NDSCO8P5     0.393730     0.566667     0.694817  "
      ]
     },
     "execution_count": 24,
     "metadata": {},
     "output_type": "execute_result"
    }
   ],
   "source": [
    "results[\"workers\"].head()"
   ]
  },
  {
   "cell_type": "markdown",
   "metadata": {},
   "source": [
    "The `wqs` columns in `results[\"workers\"]` contains the **worker quality scores**, capturing the overall agreement between one worker and all the other workers."
   ]
  },
  {
   "cell_type": "code",
   "execution_count": 25,
   "metadata": {},
   "outputs": [
    {
     "data": {
      "text/plain": [
       "Text(0,0.5,'#Workers')"
      ]
     },
     "execution_count": 25,
     "metadata": {},
     "output_type": "execute_result"
    },
    {
     "data": {
      "image/png": "[encoded data removed]",
      "text/plain": [
       "<Figure size 1080x360 with 2 Axes>"
      ]
     },
     "metadata": {},
     "output_type": "display_data"
    }
   ],
   "source": [
    "plt.rcParams['figure.figsize'] = 15, 5\n",
    "\n",
    "plt.subplot(1, 2, 1)\n",
    "plt.hist(results[\"workers\"][\"wqs\"])\n",
    "plt.ylim(0,30)\n",
    "plt.xlabel(\"Worker Quality Score\")\n",
    "plt.ylabel(\"#Workers\")\n",
    "\n",
    "plt.subplot(1, 2, 2)\n",
    "plt.hist(results[\"workers\"][\"wqs_initial\"])\n",
    "plt.ylim(0,30)\n",
    "plt.xlabel(\"Worker Quality Score Initial\")\n",
    "plt.ylabel(\"#Workers\")\n",
    "\n"
   ]
  },
  {
   "cell_type": "markdown",
   "metadata": {},
   "source": [
    "Save the worker metrics:"
   ]
  },
  {
   "cell_type": "code",
   "execution_count": 26,
   "metadata": {
    "collapsed": true
   },
   "outputs": [],
   "source": [
    "results[\"workers\"].to_csv(\"../data/results/crowdtruth_workers_temp.csv\", index=True)"
   ]
  },
  {
   "cell_type": "markdown",
   "metadata": {},
   "source": [
    "The **annotation metrics** are stored in `results[\"annotations\"]`. The `aqs` column contains the **annotation quality scores**, capturing the overall worker agreement over one relation."
   ]
  },
  {
   "cell_type": "code",
   "execution_count": 27,
   "metadata": {},
   "outputs": [
    {
     "data": {
      "text/html": [
       "<div>\n",
       "<style scoped>\n",
       "    .dataframe tbody tr th:only-of-type {\n",
       "        vertical-align: middle;\n",
       "    }\n",
       "\n",
       "    .dataframe tbody tr th {\n",
       "        vertical-align: top;\n",
       "    }\n",
       "\n",
       "    .dataframe thead th {\n",
       "        text-align: right;\n",
       "    }\n",
       "</style>\n",
       "<table border=\"1\" class=\"dataframe\">\n",
       "  <thead>\n",
       "    <tr style=\"text-align: right;\">\n",
       "      <th></th>\n",
       "      <th>output.response</th>\n",
       "      <th>aqs</th>\n",
       "      <th>aqs_initial</th>\n",
       "    </tr>\n",
       "  </thead>\n",
       "  <tbody>\n",
       "    <tr>\n",
       "      <th>after</th>\n",
       "      <td>4620</td>\n",
       "      <td>0.836744</td>\n",
       "      <td>0.723143</td>\n",
       "    </tr>\n",
       "    <tr>\n",
       "      <th>before</th>\n",
       "      <td>4620</td>\n",
       "      <td>0.824213</td>\n",
       "      <td>0.713564</td>\n",
       "    </tr>\n",
       "  </tbody>\n",
       "</table>\n",
       "</div>"
      ],
      "text/plain": [
       "        output.response       aqs  aqs_initial\n",
       "after              4620  0.836744     0.723143\n",
       "before             4620  0.824213     0.713564"
      ]
     },
     "execution_count": 27,
     "metadata": {},
     "output_type": "execute_result"
    }
   ],
   "source": [
    "results[\"annotations\"]"
   ]
  },
  {
   "cell_type": "code",
   "execution_count": 28,
   "metadata": {
    "collapsed": true
   },
   "outputs": [],
   "source": [
    "import numpy as np\n",
    "\n",
    "sortedUQS = results[\"units\"].sort_values([\"uqs\"])\n",
    "# remove the units for which we don't have the events and the text\n",
    "sortedUQS = sortedUQS.dropna()"
   ]
  },
  {
   "cell_type": "markdown",
   "metadata": {},
   "source": [
    "### Example of a very clear unit"
   ]
  },
  {
   "cell_type": "code",
   "execution_count": 17,
   "metadata": {},
   "outputs": [
    {
     "data": {
      "text/html": [
       "<div>\n",
       "<style scoped>\n",
       "    .dataframe tbody tr th:only-of-type {\n",
       "        vertical-align: middle;\n",
       "    }\n",
       "\n",
       "    .dataframe tbody tr th {\n",
       "        vertical-align: top;\n",
       "    }\n",
       "\n",
       "    .dataframe thead th {\n",
       "        text-align: right;\n",
       "    }\n",
       "</style>\n",
       "<table border=\"1\" class=\"dataframe\">\n",
       "  <thead>\n",
       "    <tr style=\"text-align: right;\">\n",
       "      <th></th>\n",
       "      <th>duration</th>\n",
       "      <th>input.event1</th>\n",
       "      <th>input.event2</th>\n",
       "      <th>input.gold</th>\n",
       "      <th>input.text</th>\n",
       "      <th>job</th>\n",
       "      <th>output.response</th>\n",
       "      <th>output.response.annotations</th>\n",
       "      <th>output.response.unique_annotations</th>\n",
       "      <th>worker</th>\n",
       "      <th>uqs</th>\n",
       "      <th>unit_annotation_score</th>\n",
       "      <th>uqs_initial</th>\n",
       "      <th>unit_annotation_score_initial</th>\n",
       "    </tr>\n",
       "    <tr>\n",
       "      <th>unit</th>\n",
       "      <th></th>\n",
       "      <th></th>\n",
       "      <th></th>\n",
       "      <th></th>\n",
       "      <th></th>\n",
       "      <th></th>\n",
       "      <th></th>\n",
       "      <th></th>\n",
       "      <th></th>\n",
       "      <th></th>\n",
       "      <th></th>\n",
       "      <th></th>\n",
       "      <th></th>\n",
       "      <th></th>\n",
       "    </tr>\n",
       "  </thead>\n",
       "  <tbody>\n",
       "    <tr>\n",
       "      <th>10_3</th>\n",
       "      <td>83</td>\n",
       "      <td>&lt;font color=\"blue\"&gt;acquire&lt;/font&gt;</td>\n",
       "      <td>&lt;font color=\"purple\"&gt;reached&lt;/font&gt;</td>\n",
       "      <td>after</td>\n",
       "      <td>&lt;p&gt;Ratners Group PLC's U.S. subsidiary has agr...</td>\n",
       "      <td>../data/temp.standardized</td>\n",
       "      <td>{u'after': 10, u'before': 0}</td>\n",
       "      <td>10</td>\n",
       "      <td>1</td>\n",
       "      <td>10</td>\n",
       "      <td>1.0</td>\n",
       "      <td>{u'after': 1.0, u'before': 0.0}</td>\n",
       "      <td>1.0</td>\n",
       "      <td>{u'after': 1.0, u'before': 0.0}</td>\n",
       "    </tr>\n",
       "  </tbody>\n",
       "</table>\n",
       "</div>"
      ],
      "text/plain": [
       "      duration                       input.event1  \\\n",
       "unit                                                \n",
       "10_3        83  <font color=\"blue\">acquire</font>   \n",
       "\n",
       "                             input.event2 input.gold  \\\n",
       "unit                                                   \n",
       "10_3  <font color=\"purple\">reached</font>      after   \n",
       "\n",
       "                                             input.text  \\\n",
       "unit                                                      \n",
       "10_3  <p>Ratners Group PLC's U.S. subsidiary has agr...   \n",
       "\n",
       "                            job               output.response  \\\n",
       "unit                                                            \n",
       "10_3  ../data/temp.standardized  {u'after': 10, u'before': 0}   \n",
       "\n",
       "      output.response.annotations  output.response.unique_annotations  worker  \\\n",
       "unit                                                                            \n",
       "10_3                           10                                   1      10   \n",
       "\n",
       "      uqs            unit_annotation_score  uqs_initial  \\\n",
       "unit                                                      \n",
       "10_3  1.0  {u'after': 1.0, u'before': 0.0}          1.0   \n",
       "\n",
       "        unit_annotation_score_initial  \n",
       "unit                                   \n",
       "10_3  {u'after': 1.0, u'before': 0.0}  "
      ]
     },
     "execution_count": 17,
     "metadata": {},
     "output_type": "execute_result"
    }
   ],
   "source": [
    "sortedUQS.tail(1)"
   ]
  },
  {
   "cell_type": "code",
   "execution_count": 18,
   "metadata": {},
   "outputs": [
    {
     "name": "stdout",
     "output_type": "stream",
     "text": [
      "Text: <p>Ratners Group PLC's U.S. subsidiary has agreed to <b><u><font color=\"blue\">acquire</font></u></b> jewelry retailer Weisfield's Inc. for $50 a share, or about $55 million. <br></br>Weisfield's shares <b><u><font color=\"green\">soared</font></u></b> on the announcement yesterday, closing up $11 to <b><u><font color=\"orange\">close</font></u></b> at $50 in national over-the-counter trading. <br></br>Ratners and Weisfield's <b><u><font color=\"red\">said</font></u></b> they <b><u><font color=\"purple\">reached</font></u></b> an agreement in principle for the acquisition of Weisfield's by Sterling Inc. <br></br>The companies <b><u><font color=\"brown\">said</font></u></b> the acquisition is subject to a definitive agreement. <br></br>They said they expect the transaction to be completed by Dec. 15. <br></br>Weisfield's, based in Seattle, Wash., currently operates 87 specialty jewelry stores in nine states. <br></br>In the fiscal year ended Jan. 31, the company reported sales of $59.5 million and pretax profit of $2.9 million. <br></br>Ratners, which controls 25%: of the British jewelry market, would increase the number of its U.S. stores to about 450 stores from 360. <br></br>It has said it hopes to control 5%: of jewelry business in the U.S. by 1992; currently it controls about 2%:. <br></br></p>\n",
      "\n",
      " Event1: <font color=\"blue\">acquire</font>\n",
      "\n",
      " Event2: <font color=\"purple\">reached</font>\n",
      "\n",
      " Expert Answer: after\n",
      "\n",
      " Crowd Answer with CrowdTruth: Counter({'after': 1.0, 'before': 0.0})\n",
      "\n",
      " Crowd Answer without CrowdTruth: Counter({'after': 1.0, 'before': 0.0})\n"
     ]
    }
   ],
   "source": [
    "print(\"Text: %s\" % sortedUQS[\"input.text\"].iloc[len(sortedUQS.index)-1])\n",
    "print(\"\\n Event1: %s\" % sortedUQS[\"input.event1\"].iloc[len(sortedUQS.index)-1])\n",
    "print(\"\\n Event2: %s\" % sortedUQS[\"input.event2\"].iloc[len(sortedUQS.index)-1])\n",
    "print(\"\\n Expert Answer: %s\" % sortedUQS[\"input.gold\"].iloc[len(sortedUQS.index)-1])\n",
    "print(\"\\n Crowd Answer with CrowdTruth: %s\" % sortedUQS[\"unit_annotation_score\"].iloc[len(sortedUQS.index)-1])\n",
    "print(\"\\n Crowd Answer without CrowdTruth: %s\" % sortedUQS[\"unit_annotation_score_initial\"].iloc[len(sortedUQS.index)-1])"
   ]
  },
  {
   "cell_type": "markdown",
   "metadata": {},
   "source": [
    "### Example of an unclear unit"
   ]
  },
  {
   "cell_type": "code",
   "execution_count": 19,
   "metadata": {},
   "outputs": [
    {
     "data": {
      "text/html": [
       "<div>\n",
       "<style scoped>\n",
       "    .dataframe tbody tr th:only-of-type {\n",
       "        vertical-align: middle;\n",
       "    }\n",
       "\n",
       "    .dataframe tbody tr th {\n",
       "        vertical-align: top;\n",
       "    }\n",
       "\n",
       "    .dataframe thead th {\n",
       "        text-align: right;\n",
       "    }\n",
       "</style>\n",
       "<table border=\"1\" class=\"dataframe\">\n",
       "  <thead>\n",
       "    <tr style=\"text-align: right;\">\n",
       "      <th></th>\n",
       "      <th>duration</th>\n",
       "      <th>input.event1</th>\n",
       "      <th>input.event2</th>\n",
       "      <th>input.gold</th>\n",
       "      <th>input.text</th>\n",
       "      <th>job</th>\n",
       "      <th>output.response</th>\n",
       "      <th>output.response.annotations</th>\n",
       "      <th>output.response.unique_annotations</th>\n",
       "      <th>worker</th>\n",
       "      <th>uqs</th>\n",
       "      <th>unit_annotation_score</th>\n",
       "      <th>uqs_initial</th>\n",
       "      <th>unit_annotation_score_initial</th>\n",
       "    </tr>\n",
       "    <tr>\n",
       "      <th>unit</th>\n",
       "      <th></th>\n",
       "      <th></th>\n",
       "      <th></th>\n",
       "      <th></th>\n",
       "      <th></th>\n",
       "      <th></th>\n",
       "      <th></th>\n",
       "      <th></th>\n",
       "      <th></th>\n",
       "      <th></th>\n",
       "      <th></th>\n",
       "      <th></th>\n",
       "      <th></th>\n",
       "      <th></th>\n",
       "    </tr>\n",
       "  </thead>\n",
       "  <tbody>\n",
       "    <tr>\n",
       "      <th>6_12</th>\n",
       "      <td>83</td>\n",
       "      <td>&lt;font color=\"red\"&gt;turn&lt;/font&gt;</td>\n",
       "      <td>&lt;font color=\"purple\"&gt;said&lt;/font&gt;</td>\n",
       "      <td>before</td>\n",
       "      <td>&lt;p&gt;Magna International Inc..'s chief financial...</td>\n",
       "      <td>../data/temp.standardized</td>\n",
       "      <td>{u'after': 5, u'before': 5}</td>\n",
       "      <td>10</td>\n",
       "      <td>2</td>\n",
       "      <td>10</td>\n",
       "      <td>0.436384</td>\n",
       "      <td>{u'after': 0.475324306685, u'before': 0.524675...</td>\n",
       "      <td>0.444444</td>\n",
       "      <td>{u'after': 0.5, u'before': 0.5}</td>\n",
       "    </tr>\n",
       "  </tbody>\n",
       "</table>\n",
       "</div>"
      ],
      "text/plain": [
       "      duration                   input.event1  \\\n",
       "unit                                            \n",
       "6_12        83  <font color=\"red\">turn</font>   \n",
       "\n",
       "                          input.event2 input.gold  \\\n",
       "unit                                                \n",
       "6_12  <font color=\"purple\">said</font>     before   \n",
       "\n",
       "                                             input.text  \\\n",
       "unit                                                      \n",
       "6_12  <p>Magna International Inc..'s chief financial...   \n",
       "\n",
       "                            job              output.response  \\\n",
       "unit                                                           \n",
       "6_12  ../data/temp.standardized  {u'after': 5, u'before': 5}   \n",
       "\n",
       "      output.response.annotations  output.response.unique_annotations  worker  \\\n",
       "unit                                                                            \n",
       "6_12                           10                                   2      10   \n",
       "\n",
       "           uqs                              unit_annotation_score  \\\n",
       "unit                                                                \n",
       "6_12  0.436384  {u'after': 0.475324306685, u'before': 0.524675...   \n",
       "\n",
       "      uqs_initial    unit_annotation_score_initial  \n",
       "unit                                                \n",
       "6_12     0.444444  {u'after': 0.5, u'before': 0.5}  "
      ]
     },
     "execution_count": 19,
     "metadata": {},
     "output_type": "execute_result"
    }
   ],
   "source": [
    "sortedUQS.head(1)"
   ]
  },
  {
   "cell_type": "code",
   "execution_count": 20,
   "metadata": {},
   "outputs": [
    {
     "name": "stdout",
     "output_type": "stream",
     "text": [
      "Text: <p>Magna International Inc..'s chief financial officer, James McAlpine, <b><u><font color=\"blue\">resigned</font></u></b> and its chairman, Frank Stronach, is <b><u><font color=\"green\">stepping</font></u></b> in to <b><u><font color=\"orange\">help</font></u></b> <b><u><font color=\"red\">turn</font></u></b> the automotive-parts manufacturer around, the company <b><u><font color=\"purple\">said</font></u></b>. <br></br>Mr. Stronach will <b><u><font color=\"brown\">direct</font></u></b> an effort to reduce overhead and curb capital spending'' until a more satisfactory level of profit is achieved and maintained,'' Magna said. <br></br>Stephen Akerfeldt, currently vice president finance, will succeed Mr. McAlpine. <br></br>An ambitious expansion has left Magna with excess capacity and a heavy debt load as the automotive industry enters a downturn. <br></br>The company has reported declines in operating profit in each of the past three years, despite steady sales growth. <br></br>Magna recently cut its quarterly dividend in half and the company's Class A shares are wallowing far below their 52-week high of 16.125 Canadian dollars -LRB- US $13.73 -RRB-. <br></br>On the Toronto Stock Exchange yesterday, Magna shares closed up 37.5 Canadian cents to C$9.625. <br></br>Mr. Stronach, founder and controlling shareholder of Magna, resigned as chief executive officer last year to seek, unsuccessfully, a seat in Canada's Parliament. <br></br>Analysts said Mr. Stronach wants to resume a more influential role in running the company. <br></br>They expect him to cut costs throughout the organization. <br></br>The company said Mr. Stronach will personally direct the restructuring, assisted by Manfred Gingl, president and chief executive. <br></br>Neither they nor Mr. McAlpine could be reached for comment. <br></br>Magna said Mr. McAlpine resigned to pursue a consulting career, with Magna as one of his clients. <br></br></p>\n",
      "\n",
      " Event1: <font color=\"red\">turn</font>\n",
      "\n",
      " Event2: <font color=\"purple\">said</font>\n",
      "\n",
      " Expert Answer: before\n",
      "\n",
      " Crowd Answer with CrowdTruth: Counter({'before': 0.5246756933153717, 'after': 0.47532430668462844})\n",
      "\n",
      " Crowd Answer without CrowdTruth: Counter({'after': 0.5, 'before': 0.5})\n"
     ]
    }
   ],
   "source": [
    "print(\"Text: %s\" % sortedUQS[\"input.text\"].iloc[0])\n",
    "print(\"\\n Event1: %s\" % sortedUQS[\"input.event1\"].iloc[0])\n",
    "print(\"\\n Event2: %s\" % sortedUQS[\"input.event2\"].iloc[0])\n",
    "print(\"\\n Expert Answer: %s\" % sortedUQS[\"input.gold\"].iloc[0])\n",
    "print(\"\\n Crowd Answer with CrowdTruth: %s\" % sortedUQS[\"unit_annotation_score\"].iloc[0])\n",
    "print(\"\\n Crowd Answer without CrowdTruth: %s\" % sortedUQS[\"unit_annotation_score_initial\"].iloc[0])"
   ]
  },
  {
   "cell_type": "markdown",
   "metadata": {},
   "source": [
    "# MACE for Recognizing Textual Entailment Annotation"
   ]
  },
  {
   "cell_type": "markdown",
   "metadata": {},
   "source": [
    "We first pre-processed the crowd results to create compatible files for running the MACE tool.\n",
    "Each row in a csv file should point to a unit in the dataset and each column in the csv file should point to a worker. The content of the csv file captures the worker answer for that particular unit (or remains empty if the worker did not annotate that unit)."
   ]
  },
  {
   "cell_type": "code",
   "execution_count": 29,
   "metadata": {},
   "outputs": [
    {
     "data": {
      "text/html": [
       "<div>\n",
       "<style scoped>\n",
       "    .dataframe tbody tr th:only-of-type {\n",
       "        vertical-align: middle;\n",
       "    }\n",
       "\n",
       "    .dataframe tbody tr th {\n",
       "        vertical-align: top;\n",
       "    }\n",
       "\n",
       "    .dataframe thead th {\n",
       "        text-align: right;\n",
       "    }\n",
       "</style>\n",
       "<table border=\"1\" class=\"dataframe\">\n",
       "  <thead>\n",
       "    <tr style=\"text-align: right;\">\n",
       "      <th></th>\n",
       "      <th>0</th>\n",
       "      <th>1</th>\n",
       "      <th>2</th>\n",
       "      <th>3</th>\n",
       "      <th>4</th>\n",
       "      <th>5</th>\n",
       "      <th>6</th>\n",
       "      <th>7</th>\n",
       "      <th>8</th>\n",
       "      <th>9</th>\n",
       "      <th>...</th>\n",
       "      <th>66</th>\n",
       "      <th>67</th>\n",
       "      <th>68</th>\n",
       "      <th>69</th>\n",
       "      <th>70</th>\n",
       "      <th>71</th>\n",
       "      <th>72</th>\n",
       "      <th>73</th>\n",
       "      <th>74</th>\n",
       "      <th>75</th>\n",
       "    </tr>\n",
       "  </thead>\n",
       "  <tbody>\n",
       "    <tr>\n",
       "      <th>0</th>\n",
       "      <td>before</td>\n",
       "      <td>before</td>\n",
       "      <td>before</td>\n",
       "      <td>before</td>\n",
       "      <td>before</td>\n",
       "      <td>before</td>\n",
       "      <td>after</td>\n",
       "      <td>after</td>\n",
       "      <td>before</td>\n",
       "      <td>after</td>\n",
       "      <td>...</td>\n",
       "      <td></td>\n",
       "      <td></td>\n",
       "      <td></td>\n",
       "      <td></td>\n",
       "      <td></td>\n",
       "      <td></td>\n",
       "      <td></td>\n",
       "      <td></td>\n",
       "      <td></td>\n",
       "      <td></td>\n",
       "    </tr>\n",
       "    <tr>\n",
       "      <th>1</th>\n",
       "      <td></td>\n",
       "      <td>before</td>\n",
       "      <td></td>\n",
       "      <td>before</td>\n",
       "      <td></td>\n",
       "      <td></td>\n",
       "      <td>after</td>\n",
       "      <td>after</td>\n",
       "      <td></td>\n",
       "      <td>after</td>\n",
       "      <td>...</td>\n",
       "      <td></td>\n",
       "      <td></td>\n",
       "      <td></td>\n",
       "      <td></td>\n",
       "      <td></td>\n",
       "      <td></td>\n",
       "      <td></td>\n",
       "      <td></td>\n",
       "      <td></td>\n",
       "      <td></td>\n",
       "    </tr>\n",
       "    <tr>\n",
       "      <th>2</th>\n",
       "      <td></td>\n",
       "      <td>after</td>\n",
       "      <td></td>\n",
       "      <td>before</td>\n",
       "      <td></td>\n",
       "      <td></td>\n",
       "      <td>after</td>\n",
       "      <td>after</td>\n",
       "      <td></td>\n",
       "      <td>after</td>\n",
       "      <td>...</td>\n",
       "      <td></td>\n",
       "      <td></td>\n",
       "      <td></td>\n",
       "      <td></td>\n",
       "      <td></td>\n",
       "      <td></td>\n",
       "      <td></td>\n",
       "      <td></td>\n",
       "      <td></td>\n",
       "      <td></td>\n",
       "    </tr>\n",
       "    <tr>\n",
       "      <th>3</th>\n",
       "      <td></td>\n",
       "      <td>after</td>\n",
       "      <td></td>\n",
       "      <td>before</td>\n",
       "      <td></td>\n",
       "      <td></td>\n",
       "      <td>after</td>\n",
       "      <td>after</td>\n",
       "      <td></td>\n",
       "      <td>after</td>\n",
       "      <td>...</td>\n",
       "      <td></td>\n",
       "      <td></td>\n",
       "      <td></td>\n",
       "      <td></td>\n",
       "      <td></td>\n",
       "      <td></td>\n",
       "      <td></td>\n",
       "      <td></td>\n",
       "      <td></td>\n",
       "      <td></td>\n",
       "    </tr>\n",
       "    <tr>\n",
       "      <th>4</th>\n",
       "      <td></td>\n",
       "      <td>before</td>\n",
       "      <td></td>\n",
       "      <td>before</td>\n",
       "      <td></td>\n",
       "      <td></td>\n",
       "      <td>after</td>\n",
       "      <td>after</td>\n",
       "      <td></td>\n",
       "      <td>after</td>\n",
       "      <td>...</td>\n",
       "      <td></td>\n",
       "      <td></td>\n",
       "      <td></td>\n",
       "      <td></td>\n",
       "      <td></td>\n",
       "      <td></td>\n",
       "      <td></td>\n",
       "      <td></td>\n",
       "      <td></td>\n",
       "      <td></td>\n",
       "    </tr>\n",
       "  </tbody>\n",
       "</table>\n",
       "<p>5 rows × 76 columns</p>\n",
       "</div>"
      ],
      "text/plain": [
       "       0       1       2       3       4       5      6      7       8   \\\n",
       "0  before  before  before  before  before  before  after  after  before   \n",
       "1          before          before                  after  after           \n",
       "2           after          before                  after  after           \n",
       "3           after          before                  after  after           \n",
       "4          before          before                  after  after           \n",
       "\n",
       "      9  ... 66 67 68 69 70 71 72 73 74 75  \n",
       "0  after ...                                \n",
       "1  after ...                                \n",
       "2  after ...                                \n",
       "3  after ...                                \n",
       "4  after ...                                \n",
       "\n",
       "[5 rows x 76 columns]"
      ]
     },
     "execution_count": 29,
     "metadata": {},
     "output_type": "execute_result"
    }
   ],
   "source": [
    "import numpy as np\n",
    "\n",
    "test_data = pd.read_csv(\"../data/mace_temp.standardized.csv\", header=None)\n",
    "test_data = test_data.replace(np.nan, '', regex=True)\n",
    "test_data.head()"
   ]
  },
  {
   "cell_type": "code",
   "execution_count": 31,
   "metadata": {},
   "outputs": [
    {
     "data": {
      "text/html": [
       "<div>\n",
       "<style scoped>\n",
       "    .dataframe tbody tr th:only-of-type {\n",
       "        vertical-align: middle;\n",
       "    }\n",
       "\n",
       "    .dataframe tbody tr th {\n",
       "        vertical-align: top;\n",
       "    }\n",
       "\n",
       "    .dataframe thead th {\n",
       "        text-align: right;\n",
       "    }\n",
       "</style>\n",
       "<table border=\"1\" class=\"dataframe\">\n",
       "  <thead>\n",
       "    <tr style=\"text-align: right;\">\n",
       "      <th></th>\n",
       "      <th>unit</th>\n",
       "      <th>before</th>\n",
       "      <th>after</th>\n",
       "    </tr>\n",
       "  </thead>\n",
       "  <tbody>\n",
       "    <tr>\n",
       "      <th>0</th>\n",
       "      <td>42_0</td>\n",
       "      <td>1.000000e+00</td>\n",
       "      <td>2.587036e-09</td>\n",
       "    </tr>\n",
       "    <tr>\n",
       "      <th>1</th>\n",
       "      <td>11_1</td>\n",
       "      <td>9.999999e-01</td>\n",
       "      <td>1.071343e-07</td>\n",
       "    </tr>\n",
       "    <tr>\n",
       "      <th>2</th>\n",
       "      <td>11_0</td>\n",
       "      <td>5.038665e-08</td>\n",
       "      <td>9.999999e-01</td>\n",
       "    </tr>\n",
       "    <tr>\n",
       "      <th>3</th>\n",
       "      <td>112_0</td>\n",
       "      <td>5.480848e-08</td>\n",
       "      <td>9.999999e-01</td>\n",
       "    </tr>\n",
       "    <tr>\n",
       "      <th>4</th>\n",
       "      <td>9_2</td>\n",
       "      <td>1.000000e+00</td>\n",
       "      <td>2.005877e-08</td>\n",
       "    </tr>\n",
       "  </tbody>\n",
       "</table>\n",
       "</div>"
      ],
      "text/plain": [
       "    unit        before         after\n",
       "0   42_0  1.000000e+00  2.587036e-09\n",
       "1   11_1  9.999999e-01  1.071343e-07\n",
       "2   11_0  5.038665e-08  9.999999e-01\n",
       "3  112_0  5.480848e-08  9.999999e-01\n",
       "4    9_2  1.000000e+00  2.005877e-08"
      ]
     },
     "execution_count": 31,
     "metadata": {},
     "output_type": "execute_result"
    }
   ],
   "source": [
    "import pandas as pd\n",
    "\n",
    "mace_data = pd.read_csv(\"../data/results/mace_units_temp.csv\")\n",
    "mace_data.head()"
   ]
  },
  {
   "cell_type": "code",
   "execution_count": 32,
   "metadata": {},
   "outputs": [
    {
     "data": {
      "text/html": [
       "<div>\n",
       "<style scoped>\n",
       "    .dataframe tbody tr th:only-of-type {\n",
       "        vertical-align: middle;\n",
       "    }\n",
       "\n",
       "    .dataframe tbody tr th {\n",
       "        vertical-align: top;\n",
       "    }\n",
       "\n",
       "    .dataframe thead th {\n",
       "        text-align: right;\n",
       "    }\n",
       "</style>\n",
       "<table border=\"1\" class=\"dataframe\">\n",
       "  <thead>\n",
       "    <tr style=\"text-align: right;\">\n",
       "      <th></th>\n",
       "      <th>worker</th>\n",
       "      <th>competence</th>\n",
       "    </tr>\n",
       "  </thead>\n",
       "  <tbody>\n",
       "    <tr>\n",
       "      <th>0</th>\n",
       "      <td>A2HTGQE4AACVRV</td>\n",
       "      <td>0.942213</td>\n",
       "    </tr>\n",
       "    <tr>\n",
       "      <th>1</th>\n",
       "      <td>AYHHOK9GDSWNH</td>\n",
       "      <td>0.928760</td>\n",
       "    </tr>\n",
       "    <tr>\n",
       "      <th>2</th>\n",
       "      <td>A1QRQZWBL1SVEX</td>\n",
       "      <td>0.942213</td>\n",
       "    </tr>\n",
       "    <tr>\n",
       "      <th>3</th>\n",
       "      <td>A3G0MGLBT484I1</td>\n",
       "      <td>0.000667</td>\n",
       "    </tr>\n",
       "    <tr>\n",
       "      <th>4</th>\n",
       "      <td>A7NC1H5ZK7TO0</td>\n",
       "      <td>0.942213</td>\n",
       "    </tr>\n",
       "  </tbody>\n",
       "</table>\n",
       "</div>"
      ],
      "text/plain": [
       "           worker  competence\n",
       "0  A2HTGQE4AACVRV    0.942213\n",
       "1   AYHHOK9GDSWNH    0.928760\n",
       "2  A1QRQZWBL1SVEX    0.942213\n",
       "3  A3G0MGLBT484I1    0.000667\n",
       "4   A7NC1H5ZK7TO0    0.942213"
      ]
     },
     "execution_count": 32,
     "metadata": {},
     "output_type": "execute_result"
    }
   ],
   "source": [
    "mace_workers = pd.read_csv(\"../data/results/mace_workers_temp.csv\")\n",
    "mace_workers.head()"
   ]
  },
  {
   "cell_type": "markdown",
   "metadata": {},
   "source": [
    "# CrowdTruth vs. MACE on Worker Quality"
   ]
  },
  {
   "cell_type": "code",
   "execution_count": 33,
   "metadata": {
    "collapsed": true
   },
   "outputs": [],
   "source": [
    "mace_workers = pd.read_csv(\"../data/results/mace_workers_temp.csv\")\n",
    "crowdtruth_workers = pd.read_csv(\"../data/results/crowdtruth_workers_temp.csv\")\n",
    "\n",
    "mace_workers = mace_workers.sort_values([\"worker\"])\n",
    "crowdtruth_workers = crowdtruth_workers.sort_values([\"worker\"])"
   ]
  },
  {
   "cell_type": "code",
   "execution_count": 34,
   "metadata": {},
   "outputs": [
    {
     "data": {
      "text/plain": [
       "Text(0,0.5,'CrowdTruth')"
      ]
     },
     "execution_count": 34,
     "metadata": {},
     "output_type": "execute_result"
    },
    {
     "data": {
      "image/png": "[encoded data removed]",
      "text/plain": [
       "<Figure size 432x288 with 1 Axes>"
      ]
     },
     "metadata": {},
     "output_type": "display_data"
    }
   ],
   "source": [
    "%matplotlib inline\n",
    "\n",
    "import matplotlib\n",
    "import matplotlib.pyplot as plt\n",
    "\n",
    "plt.scatter(\n",
    "    mace_workers[\"competence\"],\n",
    "    crowdtruth_workers[\"wqs\"],\n",
    ")\n",
    "\n",
    "plt.title(\"Worker Quality Score\")\n",
    "plt.xlabel(\"MACE\")\n",
    "plt.ylabel(\"CrowdTruth\")"
   ]
  },
  {
   "cell_type": "code",
   "execution_count": 35,
   "metadata": {},
   "outputs": [
    {
     "data": {
      "text/plain": [
       "<matplotlib.legend.Legend at 0x10faea7d0>"
      ]
     },
     "execution_count": 35,
     "metadata": {},
     "output_type": "execute_result"
    },
    {
     "data": {
      "image/png": "[encoded data removed]",
      "text/plain": [
       "<Figure size 1080x360 with 1 Axes>"
      ]
     },
     "metadata": {},
     "output_type": "display_data"
    }
   ],
   "source": [
    "sortWQS = crowdtruth_workers.sort_values(['wqs'], ascending=[1])\n",
    "sortWQS = sortWQS.reset_index()\n",
    "worker_ids = list(sortWQS[\"worker\"])\n",
    "\n",
    "mace_workers = mace_workers.set_index('worker')\n",
    "mace_workers.loc[worker_ids]\n",
    "\n",
    "plt.rcParams['figure.figsize'] = 15, 5\n",
    "\n",
    "plt.plot(np.arange(sortWQS.shape[0]), sortWQS[\"wqs\"], 'bo', lw = 1, label = \"CrowdTruth Worker Score\")\n",
    "plt.plot(np.arange(mace_workers.shape[0]), mace_workers[\"competence\"], 'go', lw = 1, label = \"MACE Worker Score\")\n",
    "\n",
    "plt.ylabel('Worker Quality Score')\n",
    "plt.xlabel('Worker Index')\n",
    "plt.legend()"
   ]
  },
  {
   "cell_type": "markdown",
   "metadata": {},
   "source": [
    "# CrowdTruth vs. MACE vs. Majority Vote on Annotation Performance"
   ]
  },
  {
   "cell_type": "code",
   "execution_count": 46,
   "metadata": {
    "collapsed": true
   },
   "outputs": [],
   "source": [
    "mace = pd.read_csv(\"../data/results/mace_units_temp.csv\")\n",
    "crowdtruth = pd.read_csv(\"../data/results/crowdtruth_units_temp.csv\")"
   ]
  },
  {
   "cell_type": "code",
   "execution_count": 39,
   "metadata": {
    "collapsed": true
   },
   "outputs": [],
   "source": [
    "def compute_F1_score(dataset):\n",
    "    nyt_f1 = np.zeros(shape=(100, 2))\n",
    "    for idx in xrange(0, 100):\n",
    "        thresh = (idx + 1) / 100.0\n",
    "        tp = 0\n",
    "        fp = 0\n",
    "        tn = 0\n",
    "        fn = 0\n",
    "\n",
    "        for gt_idx in range(0, len(dataset.index)):\n",
    "            if dataset['after'].iloc[gt_idx] >= thresh:\n",
    "                if dataset['gold'].iloc[gt_idx] == 'after':\n",
    "                    tp = tp + 1.0\n",
    "                else:\n",
    "                    fp = fp + 1.0\n",
    "            else:\n",
    "                if dataset['gold'].iloc[gt_idx] == 'after':\n",
    "                    fn = fn + 1.0\n",
    "                else:\n",
    "                    tn = tn + 1.0\n",
    "\n",
    "\n",
    "        nyt_f1[idx, 0] = thresh\n",
    "    \n",
    "        if tp != 0:\n",
    "            nyt_f1[idx, 1] = 2.0 * tp / (2.0 * tp + fp + fn)\n",
    "        else:\n",
    "            nyt_f1[idx, 1] = 0\n",
    "    return nyt_f1\n",
    "\n",
    "\n",
    "def compute_majority_vote(dataset, crowd_column):\n",
    "    tp = 0\n",
    "    fp = 0\n",
    "    tn = 0\n",
    "    fn = 0\n",
    "    \n",
    "    for j in range(len(dataset.index)):\n",
    "        if dataset['after_initial'].iloc[j] >= 0.5:\n",
    "            if dataset['gold'].iloc[j] == 'after':\n",
    "                tp = tp + 1.0\n",
    "            else:\n",
    "                fp = fp + 1.0\n",
    "        else:\n",
    "            if dataset['gold'].iloc[j] == 'after':\n",
    "                fn = fn + 1.0\n",
    "            else:\n",
    "                tn = tn + 1.0\n",
    "    return 2.0 * tp / (2.0 * tp + fp + fn)"
   ]
  },
  {
   "cell_type": "code",
   "execution_count": 43,
   "metadata": {},
   "outputs": [
    {
     "name": "stdout",
     "output_type": "stream",
     "text": [
      "[[0.46       0.9352518 ]\n",
      " [0.5        0.9368932 ]\n",
      " [0.51       0.9368932 ]\n",
      " [0.52       0.9368932 ]\n",
      " [0.53       0.9368932 ]\n",
      " [0.54       0.9368932 ]\n",
      " [0.45       0.93779904]\n",
      " [0.44       0.93779904]\n",
      " [0.49       0.93946731]\n",
      " [0.48       0.93975904]]\n"
     ]
    }
   ],
   "source": [
    "F1_crowdtruth = compute_F1_score(crowdtruth)\n",
    "print(F1_crowdtruth[F1_crowdtruth[:,1].argsort()][-10:])"
   ]
  },
  {
   "cell_type": "code",
   "execution_count": 47,
   "metadata": {},
   "outputs": [
    {
     "name": "stdout",
     "output_type": "stream",
     "text": [
      "[[0.14       0.93430657]\n",
      " [0.15       0.93430657]\n",
      " [0.16       0.93430657]\n",
      " [0.17       0.93430657]\n",
      " [0.18       0.93430657]\n",
      " [0.19       0.93430657]\n",
      " [0.21       0.93430657]\n",
      " [0.1        0.93430657]\n",
      " [0.2        0.93430657]\n",
      " [0.05       0.9368932 ]]\n"
     ]
    }
   ],
   "source": [
    "F1_mace = compute_F1_score(mace)\n",
    "print(F1_mace[F1_mace[:,1].argsort()][-10:])"
   ]
  },
  {
   "cell_type": "code",
   "execution_count": 48,
   "metadata": {},
   "outputs": [
    {
     "data": {
      "text/plain": [
       "0.05240174672489083"
      ]
     },
     "execution_count": 48,
     "metadata": {},
     "output_type": "execute_result"
    }
   ],
   "source": [
    "F1_majority_vote = compute_majority_vote(crowdtruth, 'value')\n",
    "F1_majority_vote"
   ]
  },
  {
   "cell_type": "code",
   "execution_count": null,
   "metadata": {
    "collapsed": true
   },
   "outputs": [],
   "source": []
  }
 ],
 "metadata": {
  "anaconda-cloud": {},
  "kernelspec": {
   "display_name": "Python 2",
   "language": "python",
   "name": "python2"
  },
  "language_info": {
   "codemirror_mode": {
    "name": "ipython",
    "version": 2
   },
   "file_extension": ".py",
   "mimetype": "text/x-python",
   "name": "python",
   "nbconvert_exporter": "python",
   "pygments_lexer": "ipython2",
   "version": "2.7.13"
  }
 },
 "nbformat": 4,
 "nbformat_minor": 2
}
