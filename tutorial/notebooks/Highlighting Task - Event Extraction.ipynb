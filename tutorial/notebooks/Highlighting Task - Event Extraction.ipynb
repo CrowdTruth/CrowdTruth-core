{
 "cells": [
  {
   "cell_type": "markdown",
   "metadata": {},
   "source": [
    "# Highlighting Task - Event Extraction from Text\n",
    "\n",
    "In this tutorial, we will show how *dimensionality reduction* can be applied over *both the media units and the annotations* of a crowdsourcing task, and how this impacts the results of the CrowdTruth quality metrics. We start with an *open-ended extraction task*, where the crowd was asked to highlight words or phrases in a text that refer to events or actions. The task was executed on [FigureEight](https://www.figure-eight.com/). For more crowdsourcing annotation task examples, click [here](https://raw.githubusercontent.com/CrowdTruth-core/tutorial/getting_started.md).\n",
    "\n",
    "To replicate this experiment, the code used to design and implement this crowdsourcing annotation template is available here: [template](https://raw.githubusercontent.com/CrowdTruth/CrowdTruth-core/master/tutorial/templates/Event-Text-Highlight/template.html), [css](https://raw.githubusercontent.com/CrowdTruth/CrowdTruth-core/master/tutorial/templates/Event-Text-Highlight/template.css), [javascript](https://raw.githubusercontent.com/CrowdTruth/CrowdTruth-core/master/tutorial/templates/Event-Text-Highlight/template.js).\n",
    "\n",
    "This is how the task looked like to the workers:\n",
    "\n",
    "![Task Template](../img/event-text-highlight.png)"
   ]
  },
  {
   "cell_type": "markdown",
   "metadata": {},
   "source": [
    "A sample dataset for this task is available in [this file](https://raw.githubusercontent.com/CrowdTruth/CrowdTruth-core/master/tutorial/data/event-text-highlight.csv), containing raw output from the crowd on FigureEight. Download the file and place it in a folder named `data` that has the same root as this notebook. The answers from the crowd are stored in the `tagged_events` column."
   ]
  },
  {
   "cell_type": "code",
   "execution_count": 1,
   "metadata": {},
   "outputs": [
    {
     "data": {
      "text/plain": [
       "0                                       [\"income fell\"]\n",
       "1                                   [\"net income fell\"]\n",
       "2     [\"reported third-quarter net income fell 5.9 %...\n",
       "3            [\"reported third-quarter net income fell\"]\n",
       "4                            [\"reported third-quarter\"]\n",
       "5                        [\"reported\",\"fell\",\"year-ago\"]\n",
       "6                                   [\"reported\",\"fell\"]\n",
       "7                                   [\"reported\",\"fell\"]\n",
       "8                                   [\"reported\",\"fell\"]\n",
       "9                                   [\"reported\",\"fell\"]\n",
       "10                                  [\"reported\",\"fell\"]\n",
       "11                                  [\"reported\",\"fell\"]\n",
       "12                           [\"reported\",\"income fell\"]\n",
       "13                         [\"reported\",\"income\",\"fell\"]\n",
       "14    [\"reported\",\"third-quarter\",\"net\",\"income\",\"fe...\n",
       "15                                         [\"reported\"]\n",
       "16                                         [\"reported\"]\n",
       "17    [\"Separately\",\"reported third-quarter net inco...\n",
       "18                            [\"Separately\",\"reported\"]\n",
       "19                                    [\"third-quarter\"]\n",
       "20       [\"held\",\"20\",\"years\",\"anti-abortion movement\"]\n",
       "21           [\"held\",\"anti-abortion\",\"movement\",\"said\"]\n",
       "22    [\"jobs he has held over the past 20 years have...\n",
       "23                                 [\"jobs he has held\"]\n",
       "24     [\"jobs\",\"anti-abortion movement\",\"news release\"]\n",
       "25                    [\"jobs\",\"anti-abortion movement\"]\n",
       "26    [\"jobs\",\"he\",\"has\",\"held\",\"over\",\"the\",\"past\",...\n",
       "27                      [\"Justice\",\"Department\",\"said\"]\n",
       "28           [\"purports to be a devout Roman Catholic\"]\n",
       "29    [\"purports\",\"has held over\",\"anti-abortion\",\"m...\n",
       "Name: tagged_events, dtype: object"
      ]
     },
     "execution_count": 1,
     "metadata": {},
     "output_type": "execute_result"
    }
   ],
   "source": [
    "import pandas as pd\n",
    "\n",
    "test_data = pd.read_csv(\"../data/event-text-highlight.csv\")\n",
    "test_data[\"tagged_events\"][0:30]"
   ]
  },
  {
   "cell_type": "markdown",
   "metadata": {},
   "source": [
    "Notice the diverse behavior of the crowd workers. While most annotated each word individually, the worker on *row 2* annotated a chunk of the sentence together in one word phrase. Also, when no answer was picked by the worker, the value in the cell is `[NONE]`."
   ]
  },
  {
   "cell_type": "markdown",
   "metadata": {},
   "source": [
    "## A basic pre-processing configuration\n",
    "\n",
    "Our basic pre-processing configuration attempts to normalize the different ways of performing the crowd annotations.\n",
    "\n",
    "We set `remove_empty_rows = False` to keep the empty rows from the crowd. This configuration option will set all empty cell values to correspond to a *NONE* token in the annotation vector.\n",
    "\n",
    "We build the annotation vector to have one component for each word in the sentence. To do this, we break up multiple-word annotations into a list of single words in the `processJudgments` call:\n",
    "\n",
    "```\n",
    "judgments[self.outputColumns[0]] = judgments[self.outputColumns[0]].apply(\n",
    "            lambda x: str(x).replace(' ',self.annotation_separator))\n",
    "```\n",
    "\n",
    "The final configuration class `Config` is this:"
   ]
  },
  {
   "cell_type": "code",
   "execution_count": 3,
   "metadata": {
    "collapsed": true
   },
   "outputs": [],
   "source": [
    "import crowdtruth\n",
    "from crowdtruth.configuration import DefaultConfig\n",
    "\n",
    "class Config(DefaultConfig):\n",
    "    inputColumns = [\"doc_id\", \"sentence_id\", \"events\", \"events_count\", \"original_sententce\", \"processed_sentence\", \"tokens\"]\n",
    "    outputColumns = [\"tagged_events\"]\n",
    "    open_ended_task = True\n",
    "    annotation_separator = \",\"\n",
    "\n",
    "    remove_empty_rows = False\n",
    "    \n",
    "    def processJudgments(self, judgments):\n",
    "        # build annotation vector just from words\n",
    "        judgments[self.outputColumns[0]] = judgments[self.outputColumns[0]].apply(\n",
    "            lambda x: str(x).replace(' ',self.annotation_separator))\n",
    "\n",
    "        # normalize vector elements\n",
    "        judgments[self.outputColumns[0]] = judgments[self.outputColumns[0]].apply(\n",
    "            lambda x: str(x).replace('[',''))\n",
    "        judgments[self.outputColumns[0]] = judgments[self.outputColumns[0]].apply(\n",
    "            lambda x: str(x).replace(']',''))\n",
    "        judgments[self.outputColumns[0]] = judgments[self.outputColumns[0]].apply(\n",
    "            lambda x: str(x).replace('\"',''))\n",
    "        judgments[self.outputColumns[0]] = judgments[self.outputColumns[0]].apply(\n",
    "            lambda x: str(x).replace(',,,',','))\n",
    "        judgments[self.outputColumns[0]] = judgments[self.outputColumns[0]].apply(\n",
    "            lambda x: str(x).replace(',,',','))\n",
    "        return judgments"
   ]
  },
  {
   "cell_type": "markdown",
   "metadata": {},
   "source": [
    "Now we can pre-process the data and run the CrowdTruth metrics:"
   ]
  },
  {
   "cell_type": "code",
   "execution_count": 4,
   "metadata": {},
   "outputs": [],
   "source": [
    "data_with_stopwords, config_with_stopwords = crowdtruth.load(\n",
    "    file = \"../data/event-text-highlight.csv\",\n",
    "    config = Config()\n",
    ")\n",
    "\n",
    "processed_results_with_stopwords = crowdtruth.run(\n",
    "    data_with_stopwords,\n",
    "    config_with_stopwords\n",
    ")"
   ]
  },
  {
   "cell_type": "markdown",
   "metadata": {},
   "source": [
    "## Removing stopwords from Media Units and Annotations"
   ]
  },
  {
   "cell_type": "markdown",
   "metadata": {},
   "source": [
    "A more complex dimensionality reduction technique involves removing the stopwords from both the *media units* and the crowd *annotations*. Stopwords (i.e. words that are very common in the English language) do not usually contain much useful information. Also, the behavior of the crowds w.r.t them is inconsistent - some workers omit them, some annotate them.\n",
    "\n",
    "The first step is to build a function that removes stopwords from strings. We will use the `stopwords` corpus in the `nltk` package to get the list of words. We want to build a function that can be reused for both the text in the media units and in the annotations column. Also, we need to be careful about omitting punctuation.\n",
    "\n",
    "The function `remove_stop_words` does all of these things:"
   ]
  },
  {
   "cell_type": "code",
   "execution_count": 6,
   "metadata": {
    "collapsed": true
   },
   "outputs": [],
   "source": [
    "import nltk\n",
    "from nltk.corpus import stopwords\n",
    "import string\n",
    "\n",
    "stopword_set = set(stopwords.words('english'))\n",
    "stopword_set.update(['s'])\n",
    "\n",
    "def remove_stop_words(words_string, sep):\n",
    "    '''\n",
    "    words_string: string containing all words\n",
    "    sep: separator character for the words in words_string\n",
    "    '''\n",
    "    words_list = words_string.split(sep)\n",
    "    corrected_words_list = \"\"\n",
    "    for word in words_list:\n",
    "        if word not in stopword_set:\n",
    "            if corrected_words_list != \"\":\n",
    "                corrected_words_list += sep\n",
    "            corrected_words_list += word\n",
    "    return corrected_words_list"
   ]
  },
  {
   "cell_type": "markdown",
   "metadata": {},
   "source": [
    "In the new configuration class `ConfigDimRed`, we apply the function we just built to both the column that contains the media unit text (`inputColumns[2]`), and the column containing the crowd annotations (`outputColumns[0]`):"
   ]
  },
  {
   "cell_type": "code",
   "execution_count": 7,
   "metadata": {
    "collapsed": true
   },
   "outputs": [],
   "source": [
    "import pandas as pd\n",
    "\n",
    "class ConfigDimRed(Config):\n",
    "    def processJudgments(self, judgments):\n",
    "        judgments = Config.processJudgments(self, judgments)\n",
    "        \n",
    "        # remove stopwords from input sentence\n",
    "        for idx in range(len(judgments[self.inputColumns[2]])):\n",
    "            judgments.at[idx, self.inputColumns[2]] = remove_stop_words(\n",
    "                judgments[self.inputColumns[2]][idx], \" \")\n",
    "        \n",
    "        for idx in range(len(judgments[self.outputColumns[0]])):\n",
    "            judgments.at[idx, self.outputColumns[0]] = remove_stop_words(\n",
    "                judgments[self.outputColumns[0]][idx], self.annotation_separator)\n",
    "            if judgments[self.outputColumns[0]][idx] == \"\":\n",
    "                judgments.at[idx, self.outputColumns[0]] = self.none_token\n",
    "        return judgments"
   ]
  },
  {
   "cell_type": "markdown",
   "metadata": {},
   "source": [
    "Now we can pre-process the data and run the CrowdTruth metrics:"
   ]
  },
  {
   "cell_type": "code",
   "execution_count": 8,
   "metadata": {},
   "outputs": [],
   "source": [
    "data_without_stopwords, config_without_stopwords = crowdtruth.load(\n",
    "    file = \"../data/event-text-highlight.csv\",\n",
    "    config = ConfigDimRed()\n",
    ")\n",
    "\n",
    "processed_results_without_stopwords = crowdtruth.run(\n",
    "    data_without_stopwords,\n",
    "    config_without_stopwords\n",
    ")"
   ]
  },
  {
   "cell_type": "markdown",
   "metadata": {},
   "source": [
    "## Effect on CrowdTruth metrics\n",
    "\n",
    "Finally, we can compare the effect of the stopword removal on the CrowdTruth *sentence quality score*."
   ]
  },
  {
   "cell_type": "code",
   "execution_count": 9,
   "metadata": {},
   "outputs": [
    {
     "data": {
      "text/plain": [
       "Text(0,0.5,u'without stopwords')"
      ]
     },
     "execution_count": 9,
     "metadata": {},
     "output_type": "execute_result"
    },
    {
     "data": {
      "image/png": "[encoded data removed]",
      "text/plain": [
       "<matplotlib.figure.Figure at 0x1a131c5e50>"
      ]
     },
     "metadata": {},
     "output_type": "display_data"
    }
   ],
   "source": [
    "%matplotlib inline\n",
    "\n",
    "import matplotlib\n",
    "import matplotlib.pyplot as plt\n",
    "\n",
    "plt.scatter(\n",
    "    processed_results_with_stopwords[\"units\"][\"uqs\"],\n",
    "    processed_results_without_stopwords[\"units\"][\"uqs\"],\n",
    ")\n",
    "plt.plot([0, 1], [0, 1], 'red', linewidth=1)\n",
    "plt.title(\"Sentence Quality Score\")\n",
    "plt.xlabel(\"with stopwords\")\n",
    "plt.ylabel(\"without stopwords\")"
   ]
  },
  {
   "cell_type": "markdown",
   "metadata": {},
   "source": [
    "The red line in the plot runs through the diagonal. All sentences above the line have a higher *sentence quality score* when the stopwords were removed.\n",
    "\n",
    "The plot shows that removing the stopwords improved the quality for a majority of the sentences. Surprisingly though, some sentences decreased in quality. This effect can be understood when plotting the *worker quality scores*."
   ]
  },
  {
   "cell_type": "code",
   "execution_count": 10,
   "metadata": {},
   "outputs": [
    {
     "data": {
      "text/plain": [
       "Text(0,0.5,u'without stopwords')"
      ]
     },
     "execution_count": 10,
     "metadata": {},
     "output_type": "execute_result"
    },
    {
     "data": {
      "image/png": "[encoded data removed]",
      "text/plain": [
       "<matplotlib.figure.Figure at 0x1a12964d10>"
      ]
     },
     "metadata": {},
     "output_type": "display_data"
    }
   ],
   "source": [
    "plt.scatter(\n",
    "    processed_results_with_stopwords[\"workers\"][\"wqs\"],\n",
    "    processed_results_without_stopwords[\"workers\"][\"wqs\"],\n",
    ")\n",
    "plt.plot([0, 0.8], [0, 0.8], 'red', linewidth=1)\n",
    "plt.title(\"Worker Quality Score\")\n",
    "plt.xlabel(\"with stopwords\")\n",
    "plt.ylabel(\"without stopwords\")"
   ]
  },
  {
   "cell_type": "markdown",
   "metadata": {},
   "source": [
    "The quality of the majority of workers also has increased in the configuration where we removed the stopwords. However, because of the inter-linked nature of the CrowdTruth quality metrics, the annotations of these workers now has a greater weight when calculating the *sentence quality score*. So the stopword removal process had the effect of removing some of the noise in the annotations and therefore increasing the quality scores, but also of *amplifying the true ambiguity in the sentences*."
   ]
  }
 ],
 "metadata": {
  "anaconda-cloud": {},
  "kernelspec": {
   "display_name": "Python 2",
   "language": "python",
   "name": "python2"
  },
  "language_info": {
   "codemirror_mode": {
    "name": "ipython",
    "version": 2
   },
   "file_extension": ".py",
   "mimetype": "text/x-python",
   "name": "python",
   "nbconvert_exporter": "python",
   "pygments_lexer": "ipython2",
   "version": "2.7.13"
  }
 },
 "nbformat": 4,
 "nbformat_minor": 2
}
