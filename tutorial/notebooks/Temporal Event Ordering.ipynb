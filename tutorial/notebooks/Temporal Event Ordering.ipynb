{
 "cells": [
  {
   "cell_type": "markdown",
   "metadata": {},
   "source": [
    "# CrowdTruth for Temporal Event Ordering Annotation\n",
    "\n",
    "This analysis uses the data gathered in the \"Event Annotation\" crowdsourcing experiment published in *Rion Snow, Brendan O’Connor, Dan Jurafsky, and Andrew Y. Ng: Cheap and fast—but is it good? Evaluating non-expert annotations for natural language tasks. EMNLP 2008, pages 254–263*.\n",
    "\n",
    "**Task Description**: Given *two events* in a text, the crowd has to choose whether the first event happened *\"strictly before\"* or *\"strictly after\"* the second event. Following, we provide an example from the aforementioned publication:\n",
    "\n",
    "**Text**: “It just *blew* up in the air, and then we *saw* two fireballs *go* down to the, to the water, and there was a big small, ah, smoke, from ah, *coming* up from that”.\n",
    "\n",
    "**Events**: go/coming, or blew/saw\n",
    "\n",
    "A screenshot of the task as it appeared to workers can be seen at the following [repository](http://ai.stanford.edu/ ̃rion/annotations/)."
   ]
  },
  {
   "cell_type": "markdown",
   "metadata": {},
   "source": [
    "The dataset for this task was downloaded from the following [repository](http://ai.stanford.edu/ ̃rion/annotations/), which contains the raw output from the crowd on AMT. Currently, you can find the processed input file in the folder named `data`. Besides the raw crowd annotations, the processed file also contains the sentence and the two events that were given as input to the crowd (for part of the dataset)."
   ]
  },
  {
   "cell_type": "code",
   "execution_count": 1,
   "metadata": {},
   "outputs": [
    {
     "data": {
      "text/html": [
       "<div>\n",
       "<style scoped>\n",
       "    .dataframe tbody tr th:only-of-type {\n",
       "        vertical-align: middle;\n",
       "    }\n",
       "\n",
       "    .dataframe tbody tr th {\n",
       "        vertical-align: top;\n",
       "    }\n",
       "\n",
       "    .dataframe thead th {\n",
       "        text-align: right;\n",
       "    }\n",
       "</style>\n",
       "<table border=\"1\" class=\"dataframe\">\n",
       "  <thead>\n",
       "    <tr style=\"text-align: right;\">\n",
       "      <th></th>\n",
       "      <th>!amt_annotation_ids</th>\n",
       "      <th>!amt_worker_ids</th>\n",
       "      <th>orig_id</th>\n",
       "      <th>response</th>\n",
       "      <th>gold</th>\n",
       "      <th>start</th>\n",
       "      <th>end</th>\n",
       "      <th>event1</th>\n",
       "      <th>event2</th>\n",
       "      <th>text</th>\n",
       "    </tr>\n",
       "  </thead>\n",
       "  <tbody>\n",
       "    <tr>\n",
       "      <th>0</th>\n",
       "      <td>1Z0ZWAY8NYBZJWY7FX302YKE055D9GPWYZ0PBZ40</td>\n",
       "      <td>A2HTGQE4AACVRV</td>\n",
       "      <td>42_0</td>\n",
       "      <td>before</td>\n",
       "      <td>before</td>\n",
       "      <td>Mon Mar 25 07:39:42 PDT 2019</td>\n",
       "      <td>Mon Mar 25 07:41:05 PDT 2019</td>\n",
       "      <td>NaN</td>\n",
       "      <td>NaN</td>\n",
       "      <td>NaN</td>\n",
       "    </tr>\n",
       "    <tr>\n",
       "      <th>1</th>\n",
       "      <td>1Z0ZWAY8NYBZJWY7FX30PRAZNZYKT9ZZ7KC9Z3AZ</td>\n",
       "      <td>AYHHOK9GDSWNH</td>\n",
       "      <td>42_0</td>\n",
       "      <td>before</td>\n",
       "      <td>before</td>\n",
       "      <td>Mon Mar 25 07:39:42 PDT 2019</td>\n",
       "      <td>Mon Mar 25 07:41:05 PDT 2019</td>\n",
       "      <td>NaN</td>\n",
       "      <td>NaN</td>\n",
       "      <td>NaN</td>\n",
       "    </tr>\n",
       "    <tr>\n",
       "      <th>2</th>\n",
       "      <td>1Z0ZWAY8NYBZJWY7FX30G0PZ28ZQ106ZGBYHSY8Z</td>\n",
       "      <td>A1QRQZWBL1SVEX</td>\n",
       "      <td>42_0</td>\n",
       "      <td>before</td>\n",
       "      <td>before</td>\n",
       "      <td>Mon Mar 25 07:39:42 PDT 2019</td>\n",
       "      <td>Mon Mar 25 07:41:05 PDT 2019</td>\n",
       "      <td>NaN</td>\n",
       "      <td>NaN</td>\n",
       "      <td>NaN</td>\n",
       "    </tr>\n",
       "    <tr>\n",
       "      <th>3</th>\n",
       "      <td>1Z0ZWAY8NYBZJWY7FX30BY0PNWYK0S2ZSADRYXP0</td>\n",
       "      <td>A3G0MGLBT484I1</td>\n",
       "      <td>42_0</td>\n",
       "      <td>before</td>\n",
       "      <td>before</td>\n",
       "      <td>Mon Mar 25 07:39:42 PDT 2019</td>\n",
       "      <td>Mon Mar 25 07:41:05 PDT 2019</td>\n",
       "      <td>NaN</td>\n",
       "      <td>NaN</td>\n",
       "      <td>NaN</td>\n",
       "    </tr>\n",
       "    <tr>\n",
       "      <th>4</th>\n",
       "      <td>1Z0ZWAY8NYBZJWY7FX30HHZZVJ45HJC2T1ZWTZ20</td>\n",
       "      <td>A7NC1H5ZK7TO0</td>\n",
       "      <td>42_0</td>\n",
       "      <td>before</td>\n",
       "      <td>before</td>\n",
       "      <td>Mon Mar 25 07:39:42 PDT 2019</td>\n",
       "      <td>Mon Mar 25 07:41:05 PDT 2019</td>\n",
       "      <td>NaN</td>\n",
       "      <td>NaN</td>\n",
       "      <td>NaN</td>\n",
       "    </tr>\n",
       "  </tbody>\n",
       "</table>\n",
       "</div>"
      ],
      "text/plain": [
       "                        !amt_annotation_ids !amt_worker_ids orig_id response  \\\n",
       "0  1Z0ZWAY8NYBZJWY7FX302YKE055D9GPWYZ0PBZ40  A2HTGQE4AACVRV    42_0   before   \n",
       "1  1Z0ZWAY8NYBZJWY7FX30PRAZNZYKT9ZZ7KC9Z3AZ   AYHHOK9GDSWNH    42_0   before   \n",
       "2  1Z0ZWAY8NYBZJWY7FX30G0PZ28ZQ106ZGBYHSY8Z  A1QRQZWBL1SVEX    42_0   before   \n",
       "3  1Z0ZWAY8NYBZJWY7FX30BY0PNWYK0S2ZSADRYXP0  A3G0MGLBT484I1    42_0   before   \n",
       "4  1Z0ZWAY8NYBZJWY7FX30HHZZVJ45HJC2T1ZWTZ20   A7NC1H5ZK7TO0    42_0   before   \n",
       "\n",
       "     gold                         start                           end event1  \\\n",
       "0  before  Mon Mar 25 07:39:42 PDT 2019  Mon Mar 25 07:41:05 PDT 2019    NaN   \n",
       "1  before  Mon Mar 25 07:39:42 PDT 2019  Mon Mar 25 07:41:05 PDT 2019    NaN   \n",
       "2  before  Mon Mar 25 07:39:42 PDT 2019  Mon Mar 25 07:41:05 PDT 2019    NaN   \n",
       "3  before  Mon Mar 25 07:39:42 PDT 2019  Mon Mar 25 07:41:05 PDT 2019    NaN   \n",
       "4  before  Mon Mar 25 07:39:42 PDT 2019  Mon Mar 25 07:41:05 PDT 2019    NaN   \n",
       "\n",
       "  event2 text  \n",
       "0    NaN  NaN  \n",
       "1    NaN  NaN  \n",
       "2    NaN  NaN  \n",
       "3    NaN  NaN  \n",
       "4    NaN  NaN  "
      ]
     },
     "execution_count": 1,
     "metadata": {},
     "output_type": "execute_result"
    }
   ],
   "source": [
    "import pandas as pd\n",
    "\n",
    "test_data = pd.read_csv(\"../data/temp.standardized.csv\")\n",
    "test_data.head()"
   ]
  },
  {
   "cell_type": "markdown",
   "metadata": {},
   "source": [
    "## Declaring a pre-processing configuration\n",
    "\n",
    "The pre-processing configuration defines how to interpret the raw crowdsourcing input. To do this, we need to define a configuration class. First, we import the default CrowdTruth configuration class:"
   ]
  },
  {
   "cell_type": "code",
   "execution_count": 2,
   "metadata": {
    "collapsed": true
   },
   "outputs": [],
   "source": [
    "import crowdtruth\n",
    "from crowdtruth.configuration import DefaultConfig"
   ]
  },
  {
   "cell_type": "markdown",
   "metadata": {},
   "source": [
    "Our test class inherits the default configuration `DefaultConfig`, while also declaring some additional attributes that are specific to the Temporal Event Ordering task:\n",
    "\n",
    "* **`inputColumns`:** list of input columns from the .csv file with the input data\n",
    "* **`outputColumns`:** list of output columns from the .csv file with the answers from the workers\n",
    "* **`customPlatformColumns`:** a list of columns from the .csv file that defines a standard annotation tasks, in the following order - judgment id, unit id, worker id, started time, submitted time. This variable is used for input files that do not come from AMT or FigureEight (formarly known as CrowdFlower).\n",
    "* **`annotation_separator`:** string that separates between the crowd annotations in `outputColumns`\n",
    "* **`open_ended_task`:** boolean variable defining whether the task is open-ended (i.e. the possible crowd annotations are not known beforehand, like in the case of free text input); in the task that we are processing, workers pick the answers from a pre-defined list, therefore the task is not open ended, and this variable is set to `False`\n",
    "* **`annotation_vector`:** list of possible crowd answers, mandatory to declare when `open_ended_task` is `False`; for our task, this is the list of relations\n",
    "* **`processJudgments`:** method that defines processing of the raw crowd data; for this task, we process the crowd answers to correspond to the values in `annotation_vector`\n",
    "\n",
    "The complete configuration class is declared below:"
   ]
  },
  {
   "cell_type": "code",
   "execution_count": 26,
   "metadata": {
    "collapsed": true
   },
   "outputs": [],
   "source": [
    "class TestConfig(DefaultConfig):\n",
    "    inputColumns = [\"gold\", \"event1\", \"event2\", \"text\"]\n",
    "    outputColumns = [\"response\"]\n",
    "    customPlatformColumns = [\"!amt_annotation_ids\", \"orig_id\", \"!amt_worker_ids\", \"start\", \"end\"]\n",
    "    \n",
    "    # processing of a closed task\n",
    "    open_ended_task = True\n",
    "    annotation_vector = [\"before\", \"after\"]\n",
    "    \n",
    "    def processJudgments(self, judgments):\n",
    "        # pre-process output to match the values in annotation_vector\n",
    "        for col in self.outputColumns:\n",
    "            # transform to lowercase\n",
    "            judgments[col] = judgments[col].apply(lambda x: str(x).lower())\n",
    "        return judgments"
   ]
  },
  {
   "cell_type": "markdown",
   "metadata": {},
   "source": [
    "## Pre-processing the input data\n",
    "\n",
    "After declaring the configuration of our input file, we are ready to pre-process the crowd data:"
   ]
  },
  {
   "cell_type": "code",
   "execution_count": 27,
   "metadata": {},
   "outputs": [
    {
     "data": {
      "text/html": [
       "<div>\n",
       "<style scoped>\n",
       "    .dataframe tbody tr th:only-of-type {\n",
       "        vertical-align: middle;\n",
       "    }\n",
       "\n",
       "    .dataframe tbody tr th {\n",
       "        vertical-align: top;\n",
       "    }\n",
       "\n",
       "    .dataframe thead th {\n",
       "        text-align: right;\n",
       "    }\n",
       "</style>\n",
       "<table border=\"1\" class=\"dataframe\">\n",
       "  <thead>\n",
       "    <tr style=\"text-align: right;\">\n",
       "      <th></th>\n",
       "      <th>output.response</th>\n",
       "      <th>output.response.count</th>\n",
       "      <th>output.response.unique</th>\n",
       "      <th>started</th>\n",
       "      <th>unit</th>\n",
       "      <th>submitted</th>\n",
       "      <th>worker</th>\n",
       "      <th>duration</th>\n",
       "      <th>job</th>\n",
       "    </tr>\n",
       "    <tr>\n",
       "      <th>judgment</th>\n",
       "      <th></th>\n",
       "      <th></th>\n",
       "      <th></th>\n",
       "      <th></th>\n",
       "      <th></th>\n",
       "      <th></th>\n",
       "      <th></th>\n",
       "      <th></th>\n",
       "      <th></th>\n",
       "    </tr>\n",
       "  </thead>\n",
       "  <tbody>\n",
       "    <tr>\n",
       "      <th>1Z0ZWAY8NYBZJWY7FX302YKE055D9GPWYZ0PBZ40</th>\n",
       "      <td>{u'before': 1}</td>\n",
       "      <td>1</td>\n",
       "      <td>1</td>\n",
       "      <td>2019-03-25 07:39:42-07:00</td>\n",
       "      <td>42_0</td>\n",
       "      <td>2019-03-25 07:41:05-07:00</td>\n",
       "      <td>A2HTGQE4AACVRV</td>\n",
       "      <td>83</td>\n",
       "      <td>../data/temp.standardized</td>\n",
       "    </tr>\n",
       "    <tr>\n",
       "      <th>1Z0ZWAY8NYBZJWY7FX30PRAZNZYKT9ZZ7KC9Z3AZ</th>\n",
       "      <td>{u'before': 1}</td>\n",
       "      <td>1</td>\n",
       "      <td>1</td>\n",
       "      <td>2019-03-25 07:39:42-07:00</td>\n",
       "      <td>42_0</td>\n",
       "      <td>2019-03-25 07:41:05-07:00</td>\n",
       "      <td>AYHHOK9GDSWNH</td>\n",
       "      <td>83</td>\n",
       "      <td>../data/temp.standardized</td>\n",
       "    </tr>\n",
       "    <tr>\n",
       "      <th>1Z0ZWAY8NYBZJWY7FX30G0PZ28ZQ106ZGBYHSY8Z</th>\n",
       "      <td>{u'before': 1}</td>\n",
       "      <td>1</td>\n",
       "      <td>1</td>\n",
       "      <td>2019-03-25 07:39:42-07:00</td>\n",
       "      <td>42_0</td>\n",
       "      <td>2019-03-25 07:41:05-07:00</td>\n",
       "      <td>A1QRQZWBL1SVEX</td>\n",
       "      <td>83</td>\n",
       "      <td>../data/temp.standardized</td>\n",
       "    </tr>\n",
       "    <tr>\n",
       "      <th>1Z0ZWAY8NYBZJWY7FX30BY0PNWYK0S2ZSADRYXP0</th>\n",
       "      <td>{u'before': 1}</td>\n",
       "      <td>1</td>\n",
       "      <td>1</td>\n",
       "      <td>2019-03-25 07:39:42-07:00</td>\n",
       "      <td>42_0</td>\n",
       "      <td>2019-03-25 07:41:05-07:00</td>\n",
       "      <td>A3G0MGLBT484I1</td>\n",
       "      <td>83</td>\n",
       "      <td>../data/temp.standardized</td>\n",
       "    </tr>\n",
       "    <tr>\n",
       "      <th>1Z0ZWAY8NYBZJWY7FX30HHZZVJ45HJC2T1ZWTZ20</th>\n",
       "      <td>{u'before': 1}</td>\n",
       "      <td>1</td>\n",
       "      <td>1</td>\n",
       "      <td>2019-03-25 07:39:42-07:00</td>\n",
       "      <td>42_0</td>\n",
       "      <td>2019-03-25 07:41:05-07:00</td>\n",
       "      <td>A7NC1H5ZK7TO0</td>\n",
       "      <td>83</td>\n",
       "      <td>../data/temp.standardized</td>\n",
       "    </tr>\n",
       "  </tbody>\n",
       "</table>\n",
       "</div>"
      ],
      "text/plain": [
       "                                         output.response  \\\n",
       "judgment                                                   \n",
       "1Z0ZWAY8NYBZJWY7FX302YKE055D9GPWYZ0PBZ40  {u'before': 1}   \n",
       "1Z0ZWAY8NYBZJWY7FX30PRAZNZYKT9ZZ7KC9Z3AZ  {u'before': 1}   \n",
       "1Z0ZWAY8NYBZJWY7FX30G0PZ28ZQ106ZGBYHSY8Z  {u'before': 1}   \n",
       "1Z0ZWAY8NYBZJWY7FX30BY0PNWYK0S2ZSADRYXP0  {u'before': 1}   \n",
       "1Z0ZWAY8NYBZJWY7FX30HHZZVJ45HJC2T1ZWTZ20  {u'before': 1}   \n",
       "\n",
       "                                          output.response.count  \\\n",
       "judgment                                                          \n",
       "1Z0ZWAY8NYBZJWY7FX302YKE055D9GPWYZ0PBZ40                      1   \n",
       "1Z0ZWAY8NYBZJWY7FX30PRAZNZYKT9ZZ7KC9Z3AZ                      1   \n",
       "1Z0ZWAY8NYBZJWY7FX30G0PZ28ZQ106ZGBYHSY8Z                      1   \n",
       "1Z0ZWAY8NYBZJWY7FX30BY0PNWYK0S2ZSADRYXP0                      1   \n",
       "1Z0ZWAY8NYBZJWY7FX30HHZZVJ45HJC2T1ZWTZ20                      1   \n",
       "\n",
       "                                          output.response.unique  \\\n",
       "judgment                                                           \n",
       "1Z0ZWAY8NYBZJWY7FX302YKE055D9GPWYZ0PBZ40                       1   \n",
       "1Z0ZWAY8NYBZJWY7FX30PRAZNZYKT9ZZ7KC9Z3AZ                       1   \n",
       "1Z0ZWAY8NYBZJWY7FX30G0PZ28ZQ106ZGBYHSY8Z                       1   \n",
       "1Z0ZWAY8NYBZJWY7FX30BY0PNWYK0S2ZSADRYXP0                       1   \n",
       "1Z0ZWAY8NYBZJWY7FX30HHZZVJ45HJC2T1ZWTZ20                       1   \n",
       "\n",
       "                                                            started  unit  \\\n",
       "judgment                                                                    \n",
       "1Z0ZWAY8NYBZJWY7FX302YKE055D9GPWYZ0PBZ40  2019-03-25 07:39:42-07:00  42_0   \n",
       "1Z0ZWAY8NYBZJWY7FX30PRAZNZYKT9ZZ7KC9Z3AZ  2019-03-25 07:39:42-07:00  42_0   \n",
       "1Z0ZWAY8NYBZJWY7FX30G0PZ28ZQ106ZGBYHSY8Z  2019-03-25 07:39:42-07:00  42_0   \n",
       "1Z0ZWAY8NYBZJWY7FX30BY0PNWYK0S2ZSADRYXP0  2019-03-25 07:39:42-07:00  42_0   \n",
       "1Z0ZWAY8NYBZJWY7FX30HHZZVJ45HJC2T1ZWTZ20  2019-03-25 07:39:42-07:00  42_0   \n",
       "\n",
       "                                                          submitted  \\\n",
       "judgment                                                              \n",
       "1Z0ZWAY8NYBZJWY7FX302YKE055D9GPWYZ0PBZ40  2019-03-25 07:41:05-07:00   \n",
       "1Z0ZWAY8NYBZJWY7FX30PRAZNZYKT9ZZ7KC9Z3AZ  2019-03-25 07:41:05-07:00   \n",
       "1Z0ZWAY8NYBZJWY7FX30G0PZ28ZQ106ZGBYHSY8Z  2019-03-25 07:41:05-07:00   \n",
       "1Z0ZWAY8NYBZJWY7FX30BY0PNWYK0S2ZSADRYXP0  2019-03-25 07:41:05-07:00   \n",
       "1Z0ZWAY8NYBZJWY7FX30HHZZVJ45HJC2T1ZWTZ20  2019-03-25 07:41:05-07:00   \n",
       "\n",
       "                                                  worker  duration  \\\n",
       "judgment                                                             \n",
       "1Z0ZWAY8NYBZJWY7FX302YKE055D9GPWYZ0PBZ40  A2HTGQE4AACVRV        83   \n",
       "1Z0ZWAY8NYBZJWY7FX30PRAZNZYKT9ZZ7KC9Z3AZ   AYHHOK9GDSWNH        83   \n",
       "1Z0ZWAY8NYBZJWY7FX30G0PZ28ZQ106ZGBYHSY8Z  A1QRQZWBL1SVEX        83   \n",
       "1Z0ZWAY8NYBZJWY7FX30BY0PNWYK0S2ZSADRYXP0  A3G0MGLBT484I1        83   \n",
       "1Z0ZWAY8NYBZJWY7FX30HHZZVJ45HJC2T1ZWTZ20   A7NC1H5ZK7TO0        83   \n",
       "\n",
       "                                                                job  \n",
       "judgment                                                             \n",
       "1Z0ZWAY8NYBZJWY7FX302YKE055D9GPWYZ0PBZ40  ../data/temp.standardized  \n",
       "1Z0ZWAY8NYBZJWY7FX30PRAZNZYKT9ZZ7KC9Z3AZ  ../data/temp.standardized  \n",
       "1Z0ZWAY8NYBZJWY7FX30G0PZ28ZQ106ZGBYHSY8Z  ../data/temp.standardized  \n",
       "1Z0ZWAY8NYBZJWY7FX30BY0PNWYK0S2ZSADRYXP0  ../data/temp.standardized  \n",
       "1Z0ZWAY8NYBZJWY7FX30HHZZVJ45HJC2T1ZWTZ20  ../data/temp.standardized  "
      ]
     },
     "execution_count": 27,
     "metadata": {},
     "output_type": "execute_result"
    }
   ],
   "source": [
    "data, config = crowdtruth.load(\n",
    "    file = \"../data/temp.standardized.csv\",\n",
    "    config = TestConfig()\n",
    ")\n",
    "\n",
    "data['judgments'].head()"
   ]
  },
  {
   "cell_type": "markdown",
   "metadata": {},
   "source": [
    "## Computing the CrowdTruth metrics\n",
    "\n",
    "The pre-processed data can then be used to calculate the CrowdTruth metrics:"
   ]
  },
  {
   "cell_type": "code",
   "execution_count": 28,
   "metadata": {
    "collapsed": true
   },
   "outputs": [],
   "source": [
    "results = crowdtruth.run(data, config)"
   ]
  },
  {
   "cell_type": "markdown",
   "metadata": {},
   "source": [
    "`results` is a dict object that contains the quality metrics for the sentences, annotations and crowd workers.\n",
    "\n",
    "The **sentence metrics** are stored in `results[\"units\"]`:"
   ]
  },
  {
   "cell_type": "code",
   "execution_count": 29,
   "metadata": {},
   "outputs": [
    {
     "data": {
      "text/html": [
       "<div>\n",
       "<style scoped>\n",
       "    .dataframe tbody tr th:only-of-type {\n",
       "        vertical-align: middle;\n",
       "    }\n",
       "\n",
       "    .dataframe tbody tr th {\n",
       "        vertical-align: top;\n",
       "    }\n",
       "\n",
       "    .dataframe thead th {\n",
       "        text-align: right;\n",
       "    }\n",
       "</style>\n",
       "<table border=\"1\" class=\"dataframe\">\n",
       "  <thead>\n",
       "    <tr style=\"text-align: right;\">\n",
       "      <th></th>\n",
       "      <th>duration</th>\n",
       "      <th>input.event1</th>\n",
       "      <th>input.event2</th>\n",
       "      <th>input.gold</th>\n",
       "      <th>input.text</th>\n",
       "      <th>job</th>\n",
       "      <th>output.response</th>\n",
       "      <th>output.response.annotations</th>\n",
       "      <th>output.response.unique_annotations</th>\n",
       "      <th>worker</th>\n",
       "      <th>uqs</th>\n",
       "      <th>unit_annotation_score</th>\n",
       "      <th>uqs_initial</th>\n",
       "      <th>unit_annotation_score_initial</th>\n",
       "    </tr>\n",
       "    <tr>\n",
       "      <th>unit</th>\n",
       "      <th></th>\n",
       "      <th></th>\n",
       "      <th></th>\n",
       "      <th></th>\n",
       "      <th></th>\n",
       "      <th></th>\n",
       "      <th></th>\n",
       "      <th></th>\n",
       "      <th></th>\n",
       "      <th></th>\n",
       "      <th></th>\n",
       "      <th></th>\n",
       "      <th></th>\n",
       "      <th></th>\n",
       "    </tr>\n",
       "  </thead>\n",
       "  <tbody>\n",
       "    <tr>\n",
       "      <th>100_1</th>\n",
       "      <td>83</td>\n",
       "      <td>NaN</td>\n",
       "      <td>NaN</td>\n",
       "      <td>before</td>\n",
       "      <td>NaN</td>\n",
       "      <td>../data/temp.standardized</td>\n",
       "      <td>{u'after': 3, u'before': 7}</td>\n",
       "      <td>10</td>\n",
       "      <td>2</td>\n",
       "      <td>10</td>\n",
       "      <td>0.947686</td>\n",
       "      <td>{u'after': 0.97631961088, u'before': 0.0236803...</td>\n",
       "      <td>0.800000</td>\n",
       "      <td>{u'after': 0.9, u'before': 0.1}</td>\n",
       "    </tr>\n",
       "    <tr>\n",
       "      <th>102_0</th>\n",
       "      <td>83</td>\n",
       "      <td>NaN</td>\n",
       "      <td>NaN</td>\n",
       "      <td>after</td>\n",
       "      <td>NaN</td>\n",
       "      <td>../data/temp.standardized</td>\n",
       "      <td>{u'after': 7, u'before': 3}</td>\n",
       "      <td>10</td>\n",
       "      <td>2</td>\n",
       "      <td>10</td>\n",
       "      <td>0.947686</td>\n",
       "      <td>{u'after': 0.97631961088, u'before': 0.0236803...</td>\n",
       "      <td>0.800000</td>\n",
       "      <td>{u'after': 0.9, u'before': 0.1}</td>\n",
       "    </tr>\n",
       "    <tr>\n",
       "      <th>102_1</th>\n",
       "      <td>83</td>\n",
       "      <td>NaN</td>\n",
       "      <td>NaN</td>\n",
       "      <td>before</td>\n",
       "      <td>NaN</td>\n",
       "      <td>../data/temp.standardized</td>\n",
       "      <td>{u'after': 3, u'before': 7}</td>\n",
       "      <td>10</td>\n",
       "      <td>2</td>\n",
       "      <td>10</td>\n",
       "      <td>0.749047</td>\n",
       "      <td>{u'after': 0.127436625044, u'before': 0.872563...</td>\n",
       "      <td>0.644444</td>\n",
       "      <td>{u'after': 0.2, u'before': 0.8}</td>\n",
       "    </tr>\n",
       "    <tr>\n",
       "      <th>103_1</th>\n",
       "      <td>83</td>\n",
       "      <td>NaN</td>\n",
       "      <td>NaN</td>\n",
       "      <td>before</td>\n",
       "      <td>NaN</td>\n",
       "      <td>../data/temp.standardized</td>\n",
       "      <td>{u'after': 3, u'before': 7}</td>\n",
       "      <td>10</td>\n",
       "      <td>2</td>\n",
       "      <td>10</td>\n",
       "      <td>0.749047</td>\n",
       "      <td>{u'after': 0.127436625044, u'before': 0.872563...</td>\n",
       "      <td>0.644444</td>\n",
       "      <td>{u'after': 0.2, u'before': 0.8}</td>\n",
       "    </tr>\n",
       "    <tr>\n",
       "      <th>103_11</th>\n",
       "      <td>83</td>\n",
       "      <td>NaN</td>\n",
       "      <td>NaN</td>\n",
       "      <td>before</td>\n",
       "      <td>NaN</td>\n",
       "      <td>../data/temp.standardized</td>\n",
       "      <td>{u'after': 2, u'before': 8}</td>\n",
       "      <td>10</td>\n",
       "      <td>2</td>\n",
       "      <td>10</td>\n",
       "      <td>0.749047</td>\n",
       "      <td>{u'after': 0.127436625044, u'before': 0.872563...</td>\n",
       "      <td>0.644444</td>\n",
       "      <td>{u'after': 0.2, u'before': 0.8}</td>\n",
       "    </tr>\n",
       "  </tbody>\n",
       "</table>\n",
       "</div>"
      ],
      "text/plain": [
       "        duration input.event1 input.event2 input.gold input.text  \\\n",
       "unit                                                               \n",
       "100_1         83          NaN          NaN     before        NaN   \n",
       "102_0         83          NaN          NaN      after        NaN   \n",
       "102_1         83          NaN          NaN     before        NaN   \n",
       "103_1         83          NaN          NaN     before        NaN   \n",
       "103_11        83          NaN          NaN     before        NaN   \n",
       "\n",
       "                              job              output.response  \\\n",
       "unit                                                             \n",
       "100_1   ../data/temp.standardized  {u'after': 3, u'before': 7}   \n",
       "102_0   ../data/temp.standardized  {u'after': 7, u'before': 3}   \n",
       "102_1   ../data/temp.standardized  {u'after': 3, u'before': 7}   \n",
       "103_1   ../data/temp.standardized  {u'after': 3, u'before': 7}   \n",
       "103_11  ../data/temp.standardized  {u'after': 2, u'before': 8}   \n",
       "\n",
       "        output.response.annotations  output.response.unique_annotations  \\\n",
       "unit                                                                      \n",
       "100_1                            10                                   2   \n",
       "102_0                            10                                   2   \n",
       "102_1                            10                                   2   \n",
       "103_1                            10                                   2   \n",
       "103_11                           10                                   2   \n",
       "\n",
       "        worker       uqs                              unit_annotation_score  \\\n",
       "unit                                                                          \n",
       "100_1       10  0.947686  {u'after': 0.97631961088, u'before': 0.0236803...   \n",
       "102_0       10  0.947686  {u'after': 0.97631961088, u'before': 0.0236803...   \n",
       "102_1       10  0.749047  {u'after': 0.127436625044, u'before': 0.872563...   \n",
       "103_1       10  0.749047  {u'after': 0.127436625044, u'before': 0.872563...   \n",
       "103_11      10  0.749047  {u'after': 0.127436625044, u'before': 0.872563...   \n",
       "\n",
       "        uqs_initial    unit_annotation_score_initial  \n",
       "unit                                                  \n",
       "100_1      0.800000  {u'after': 0.9, u'before': 0.1}  \n",
       "102_0      0.800000  {u'after': 0.9, u'before': 0.1}  \n",
       "102_1      0.644444  {u'after': 0.2, u'before': 0.8}  \n",
       "103_1      0.644444  {u'after': 0.2, u'before': 0.8}  \n",
       "103_11     0.644444  {u'after': 0.2, u'before': 0.8}  "
      ]
     },
     "execution_count": 29,
     "metadata": {},
     "output_type": "execute_result"
    }
   ],
   "source": [
    "results[\"units\"].head()"
   ]
  },
  {
   "cell_type": "markdown",
   "metadata": {},
   "source": [
    "The `uqs` column in `results[\"units\"]` contains the **sentence quality scores**, capturing the overall workers agreement over each sentences. Here we plot its histogram:"
   ]
  },
  {
   "cell_type": "code",
   "execution_count": 30,
   "metadata": {},
   "outputs": [
    {
     "data": {
      "text/plain": [
       "Text(0,0.5,'# Units')"
      ]
     },
     "execution_count": 30,
     "metadata": {},
     "output_type": "execute_result"
    },
    {
     "data": {
      "image/png": "[encoded data removed]",
      "text/plain": [
       "<Figure size 1080x360 with 2 Axes>"
      ]
     },
     "metadata": {},
     "output_type": "display_data"
    }
   ],
   "source": [
    "import matplotlib.pyplot as plt\n",
    "%matplotlib inline\n",
    "\n",
    "plt.rcParams['figure.figsize'] = 15, 5\n",
    "\n",
    "plt.subplot(1, 2, 1)\n",
    "plt.hist(results[\"units\"][\"uqs\"])\n",
    "plt.ylim(0,200)\n",
    "plt.xlabel(\"Sentence Quality Score\")\n",
    "plt.ylabel(\"#Sentences\")\n",
    "\n",
    "plt.subplot(1, 2, 2)\n",
    "plt.hist(results[\"units\"][\"uqs_initial\"])\n",
    "plt.ylim(0,200)\n",
    "plt.xlabel(\"Sentence Quality Score Initial\")\n",
    "plt.ylabel(\"# Units\")\n"
   ]
  },
  {
   "cell_type": "markdown",
   "metadata": {},
   "source": [
    "### Plot the change in unit qualtity score at the beginning of the process and at the end"
   ]
  },
  {
   "cell_type": "code",
   "execution_count": 31,
   "metadata": {},
   "outputs": [
    {
     "data": {
      "text/plain": [
       "Text(0.5,0,'Sentence Index')"
      ]
     },
     "execution_count": 31,
     "metadata": {},
     "output_type": "execute_result"
    },
    {
     "data": {
      "image/png": "[encoded data removed]",
      "text/plain": [
       "<Figure size 1080x360 with 1 Axes>"
      ]
     },
     "metadata": {},
     "output_type": "display_data"
    }
   ],
   "source": [
    "import numpy as np\n",
    "\n",
    "sortUQS = results[\"units\"].sort_values(['uqs'], ascending=[1])\n",
    "sortUQS = sortUQS.reset_index()\n",
    "\n",
    "plt.rcParams['figure.figsize'] = 15, 5\n",
    "\n",
    "plt.plot(np.arange(sortUQS.shape[0]), sortUQS[\"uqs_initial\"], 'ro', lw = 1, label = \"Initial UQS\")\n",
    "plt.plot(np.arange(sortUQS.shape[0]), sortUQS[\"uqs\"], 'go', lw = 1, label = \"Final UQS\")\n",
    "\n",
    "plt.ylabel('Sentence Quality Score')\n",
    "plt.xlabel('Sentence Index')"
   ]
  },
  {
   "cell_type": "markdown",
   "metadata": {},
   "source": [
    "The `unit_annotation_score` column in `results[\"units\"]` contains the **sentence-annotation scores**, capturing the likelihood that an annotation is expressed in a sentence. For each sentence, we store a dictionary mapping each annotation to its sentence-relation score."
   ]
  },
  {
   "cell_type": "code",
   "execution_count": 32,
   "metadata": {},
   "outputs": [
    {
     "data": {
      "text/plain": [
       "unit\n",
       "100_1     {u'after': 0.97631961088, u'before': 0.0236803...\n",
       "102_0     {u'after': 0.97631961088, u'before': 0.0236803...\n",
       "102_1     {u'after': 0.127436625044, u'before': 0.872563...\n",
       "103_1     {u'after': 0.127436625044, u'before': 0.872563...\n",
       "103_11    {u'after': 0.127436625044, u'before': 0.872563...\n",
       "Name: unit_annotation_score, dtype: object"
      ]
     },
     "execution_count": 32,
     "metadata": {},
     "output_type": "execute_result"
    }
   ],
   "source": [
    "results[\"units\"][\"unit_annotation_score\"].head()"
   ]
  },
  {
   "cell_type": "markdown",
   "metadata": {},
   "source": [
    "Save unit metrics:"
   ]
  },
  {
   "cell_type": "code",
   "execution_count": 33,
   "metadata": {
    "collapsed": true
   },
   "outputs": [],
   "source": [
    "rows = []\n",
    "header = [\"orig_id\", \"gold\", \"text\", \"event1\", \"event2\", \"uqs_initial\", \"before\", \"after\", \"before_initial\", \"after_initial\"]\n",
    "rows.append(header)\n",
    "\n",
    "units = results[\"units\"].reset_index()\n",
    "for i in range(len(units.index)):\n",
    "    row = [units[\"unit\"].iloc[i], units[\"input.gold\"].iloc[i], units[\"input.text\"].iloc[i], units[\"input.event1\"].iloc[i],\\\n",
    "           units[\"input.event2\"].iloc[i], units[\"uqs\"].iloc[i], units[\"uqs_initial\"].iloc[i], \\\n",
    "           units[\"unit_annotation_score\"].iloc[i][\"before\"], units[\"unit_annotation_score\"].iloc[i][\"after\"], \\\n",
    "           units[\"unit_annotation_score_initial\"].iloc[i][\"before\"], units[\"unit_annotation_score_initial\"].iloc[i][\"after\"]]\n",
    "    rows.append(row)\n",
    "rows = pd.DataFrame(rows)\n",
    "rows.to_csv(\"../data/results/crowdtruth_units_temp.csv\", index=False)"
   ]
  },
  {
   "cell_type": "markdown",
   "metadata": {},
   "source": [
    "The **worker metrics** are stored in `results[\"workers\"]`:"
   ]
  },
  {
   "cell_type": "code",
   "execution_count": 34,
   "metadata": {},
   "outputs": [
    {
     "data": {
      "text/html": [
       "<div>\n",
       "<style scoped>\n",
       "    .dataframe tbody tr th:only-of-type {\n",
       "        vertical-align: middle;\n",
       "    }\n",
       "\n",
       "    .dataframe tbody tr th {\n",
       "        vertical-align: top;\n",
       "    }\n",
       "\n",
       "    .dataframe thead th {\n",
       "        text-align: right;\n",
       "    }\n",
       "</style>\n",
       "<table border=\"1\" class=\"dataframe\">\n",
       "  <thead>\n",
       "    <tr style=\"text-align: right;\">\n",
       "      <th></th>\n",
       "      <th>duration</th>\n",
       "      <th>job</th>\n",
       "      <th>judgment</th>\n",
       "      <th>unit</th>\n",
       "      <th>wqs</th>\n",
       "      <th>wwa</th>\n",
       "      <th>wsa</th>\n",
       "      <th>wqs_initial</th>\n",
       "      <th>wwa_initial</th>\n",
       "      <th>wsa_initial</th>\n",
       "    </tr>\n",
       "    <tr>\n",
       "      <th>worker</th>\n",
       "      <th></th>\n",
       "      <th></th>\n",
       "      <th></th>\n",
       "      <th></th>\n",
       "      <th></th>\n",
       "      <th></th>\n",
       "      <th></th>\n",
       "      <th></th>\n",
       "      <th></th>\n",
       "      <th></th>\n",
       "    </tr>\n",
       "  </thead>\n",
       "  <tbody>\n",
       "    <tr>\n",
       "      <th>A1123L7ANYUTG0</th>\n",
       "      <td>83</td>\n",
       "      <td>1</td>\n",
       "      <td>2</td>\n",
       "      <td>20</td>\n",
       "      <td>0.697544</td>\n",
       "      <td>0.739597</td>\n",
       "      <td>0.943141</td>\n",
       "      <td>0.307615</td>\n",
       "      <td>0.666667</td>\n",
       "      <td>0.461422</td>\n",
       "    </tr>\n",
       "    <tr>\n",
       "      <th>A11GX90QFWDLMM</th>\n",
       "      <td>83</td>\n",
       "      <td>1</td>\n",
       "      <td>47</td>\n",
       "      <td>462</td>\n",
       "      <td>0.382631</td>\n",
       "      <td>0.596165</td>\n",
       "      <td>0.641820</td>\n",
       "      <td>0.297884</td>\n",
       "      <td>0.508418</td>\n",
       "      <td>0.585904</td>\n",
       "    </tr>\n",
       "    <tr>\n",
       "      <th>A13PCLSK1JA8QL</th>\n",
       "      <td>83</td>\n",
       "      <td>1</td>\n",
       "      <td>1</td>\n",
       "      <td>10</td>\n",
       "      <td>0.732382</td>\n",
       "      <td>0.765848</td>\n",
       "      <td>0.956302</td>\n",
       "      <td>0.351443</td>\n",
       "      <td>0.666667</td>\n",
       "      <td>0.527164</td>\n",
       "    </tr>\n",
       "    <tr>\n",
       "      <th>A16QMNGIR7N53M</th>\n",
       "      <td>83</td>\n",
       "      <td>1</td>\n",
       "      <td>1</td>\n",
       "      <td>10</td>\n",
       "      <td>0.708258</td>\n",
       "      <td>0.747553</td>\n",
       "      <td>0.947435</td>\n",
       "      <td>0.515033</td>\n",
       "      <td>0.666667</td>\n",
       "      <td>0.772549</td>\n",
       "    </tr>\n",
       "    <tr>\n",
       "      <th>A17743NDSCO8P5</th>\n",
       "      <td>83</td>\n",
       "      <td>1</td>\n",
       "      <td>1</td>\n",
       "      <td>10</td>\n",
       "      <td>0.031159</td>\n",
       "      <td>0.163003</td>\n",
       "      <td>0.191157</td>\n",
       "      <td>0.120099</td>\n",
       "      <td>0.222222</td>\n",
       "      <td>0.540445</td>\n",
       "    </tr>\n",
       "  </tbody>\n",
       "</table>\n",
       "</div>"
      ],
      "text/plain": [
       "                duration  job  judgment  unit       wqs       wwa       wsa  \\\n",
       "worker                                                                        \n",
       "A1123L7ANYUTG0        83    1         2    20  0.697544  0.739597  0.943141   \n",
       "A11GX90QFWDLMM        83    1        47   462  0.382631  0.596165  0.641820   \n",
       "A13PCLSK1JA8QL        83    1         1    10  0.732382  0.765848  0.956302   \n",
       "A16QMNGIR7N53M        83    1         1    10  0.708258  0.747553  0.947435   \n",
       "A17743NDSCO8P5        83    1         1    10  0.031159  0.163003  0.191157   \n",
       "\n",
       "                wqs_initial  wwa_initial  wsa_initial  \n",
       "worker                                                 \n",
       "A1123L7ANYUTG0     0.307615     0.666667     0.461422  \n",
       "A11GX90QFWDLMM     0.297884     0.508418     0.585904  \n",
       "A13PCLSK1JA8QL     0.351443     0.666667     0.527164  \n",
       "A16QMNGIR7N53M     0.515033     0.666667     0.772549  \n",
       "A17743NDSCO8P5     0.120099     0.222222     0.540445  "
      ]
     },
     "execution_count": 34,
     "metadata": {},
     "output_type": "execute_result"
    }
   ],
   "source": [
    "results[\"workers\"].head()"
   ]
  },
  {
   "cell_type": "markdown",
   "metadata": {},
   "source": [
    "The `wqs` columns in `results[\"workers\"]` contains the **worker quality scores**, capturing the overall agreement between one worker and all the other workers."
   ]
  },
  {
   "cell_type": "code",
   "execution_count": 35,
   "metadata": {},
   "outputs": [
    {
     "data": {
      "text/plain": [
       "Text(0,0.5,'#Workers')"
      ]
     },
     "execution_count": 35,
     "metadata": {},
     "output_type": "execute_result"
    },
    {
     "data": {
      "image/png": "[encoded data removed]",
      "text/plain": [
       "<Figure size 1080x360 with 2 Axes>"
      ]
     },
     "metadata": {},
     "output_type": "display_data"
    }
   ],
   "source": [
    "plt.rcParams['figure.figsize'] = 15, 5\n",
    "\n",
    "plt.subplot(1, 2, 1)\n",
    "plt.hist(results[\"workers\"][\"wqs\"])\n",
    "plt.ylim(0,25)\n",
    "plt.xlabel(\"Worker Quality Score\")\n",
    "plt.ylabel(\"#Workers\")\n",
    "\n",
    "plt.subplot(1, 2, 2)\n",
    "plt.hist(results[\"workers\"][\"wqs_initial\"])\n",
    "plt.ylim(0,25)\n",
    "plt.xlabel(\"Worker Quality Score Initial\")\n",
    "plt.ylabel(\"#Workers\")\n",
    "\n"
   ]
  },
  {
   "cell_type": "markdown",
   "metadata": {},
   "source": [
    "Save the worker metrics:"
   ]
  },
  {
   "cell_type": "code",
   "execution_count": 36,
   "metadata": {
    "collapsed": true
   },
   "outputs": [],
   "source": [
    "results[\"workers\"].to_csv(\"../data/results/crowdtruth_workers_temp.csv\", index=True)"
   ]
  },
  {
   "cell_type": "markdown",
   "metadata": {},
   "source": [
    "The **annotation metrics** are stored in `results[\"annotations\"]`. The `aqs` column contains the **annotation quality scores**, capturing the overall worker agreement over one relation."
   ]
  },
  {
   "cell_type": "code",
   "execution_count": 37,
   "metadata": {},
   "outputs": [
    {
     "data": {
      "text/html": [
       "<div>\n",
       "<style scoped>\n",
       "    .dataframe tbody tr th:only-of-type {\n",
       "        vertical-align: middle;\n",
       "    }\n",
       "\n",
       "    .dataframe tbody tr th {\n",
       "        vertical-align: top;\n",
       "    }\n",
       "\n",
       "    .dataframe thead th {\n",
       "        text-align: right;\n",
       "    }\n",
       "</style>\n",
       "<table border=\"1\" class=\"dataframe\">\n",
       "  <thead>\n",
       "    <tr style=\"text-align: right;\">\n",
       "      <th></th>\n",
       "      <th>output.response</th>\n",
       "    </tr>\n",
       "  </thead>\n",
       "  <tbody>\n",
       "    <tr>\n",
       "      <th>after</th>\n",
       "      <td>2442.0</td>\n",
       "    </tr>\n",
       "    <tr>\n",
       "      <th>before</th>\n",
       "      <td>2178.0</td>\n",
       "    </tr>\n",
       "  </tbody>\n",
       "</table>\n",
       "</div>"
      ],
      "text/plain": [
       "        output.response\n",
       "after            2442.0\n",
       "before           2178.0"
      ]
     },
     "execution_count": 37,
     "metadata": {},
     "output_type": "execute_result"
    }
   ],
   "source": [
    "results[\"annotations\"]"
   ]
  },
  {
   "cell_type": "code",
   "execution_count": 38,
   "metadata": {},
   "outputs": [],
   "source": [
    "import numpy as np\n",
    "\n",
    "sortedUQS = results[\"units\"].sort_values([\"uqs\"])\n",
    "# remove the units for which we don't have the events and the text\n",
    "sortedUQS = sortedUQS.dropna()"
   ]
  },
  {
   "cell_type": "markdown",
   "metadata": {},
   "source": [
    "### Example of a very clear unit"
   ]
  },
  {
   "cell_type": "code",
   "execution_count": 39,
   "metadata": {},
   "outputs": [
    {
     "data": {
      "text/html": [
       "<div>\n",
       "<style scoped>\n",
       "    .dataframe tbody tr th:only-of-type {\n",
       "        vertical-align: middle;\n",
       "    }\n",
       "\n",
       "    .dataframe tbody tr th {\n",
       "        vertical-align: top;\n",
       "    }\n",
       "\n",
       "    .dataframe thead th {\n",
       "        text-align: right;\n",
       "    }\n",
       "</style>\n",
       "<table border=\"1\" class=\"dataframe\">\n",
       "  <thead>\n",
       "    <tr style=\"text-align: right;\">\n",
       "      <th></th>\n",
       "      <th>duration</th>\n",
       "      <th>input.event1</th>\n",
       "      <th>input.event2</th>\n",
       "      <th>input.gold</th>\n",
       "      <th>input.text</th>\n",
       "      <th>job</th>\n",
       "      <th>output.response</th>\n",
       "      <th>output.response.annotations</th>\n",
       "      <th>output.response.unique_annotations</th>\n",
       "      <th>worker</th>\n",
       "      <th>uqs</th>\n",
       "      <th>unit_annotation_score</th>\n",
       "      <th>uqs_initial</th>\n",
       "      <th>unit_annotation_score_initial</th>\n",
       "    </tr>\n",
       "    <tr>\n",
       "      <th>unit</th>\n",
       "      <th></th>\n",
       "      <th></th>\n",
       "      <th></th>\n",
       "      <th></th>\n",
       "      <th></th>\n",
       "      <th></th>\n",
       "      <th></th>\n",
       "      <th></th>\n",
       "      <th></th>\n",
       "      <th></th>\n",
       "      <th></th>\n",
       "      <th></th>\n",
       "      <th></th>\n",
       "      <th></th>\n",
       "    </tr>\n",
       "  </thead>\n",
       "  <tbody>\n",
       "    <tr>\n",
       "      <th>9_5</th>\n",
       "      <td>83</td>\n",
       "      <td>&lt;font color=\"green\"&gt;haggling&lt;/font&gt;</td>\n",
       "      <td>&lt;font color=\"orange\"&gt;settling&lt;/font&gt;</td>\n",
       "      <td>before</td>\n",
       "      <td>&lt;p&gt;Nothing was going to &lt;b&gt;&lt;u&gt;&lt;font color=\"blu...</td>\n",
       "      <td>../data/temp.standardized</td>\n",
       "      <td>{u'after': 3, u'before': 7}</td>\n",
       "      <td>10</td>\n",
       "      <td>2</td>\n",
       "      <td>10</td>\n",
       "      <td>1.0</td>\n",
       "      <td>{u'after': 1.0, u'before': 0.0}</td>\n",
       "      <td>1.0</td>\n",
       "      <td>{u'after': 1.0, u'before': 0.0}</td>\n",
       "    </tr>\n",
       "  </tbody>\n",
       "</table>\n",
       "</div>"
      ],
      "text/plain": [
       "      duration                         input.event1  \\\n",
       "unit                                                  \n",
       "9_5         83  <font color=\"green\">haggling</font>   \n",
       "\n",
       "                              input.event2 input.gold  \\\n",
       "unit                                                    \n",
       "9_5   <font color=\"orange\">settling</font>     before   \n",
       "\n",
       "                                             input.text  \\\n",
       "unit                                                      \n",
       "9_5   <p>Nothing was going to <b><u><font color=\"blu...   \n",
       "\n",
       "                            job              output.response  \\\n",
       "unit                                                           \n",
       "9_5   ../data/temp.standardized  {u'after': 3, u'before': 7}   \n",
       "\n",
       "      output.response.annotations  output.response.unique_annotations  worker  \\\n",
       "unit                                                                            \n",
       "9_5                            10                                   2      10   \n",
       "\n",
       "      uqs            unit_annotation_score  uqs_initial  \\\n",
       "unit                                                      \n",
       "9_5   1.0  {u'after': 1.0, u'before': 0.0}          1.0   \n",
       "\n",
       "        unit_annotation_score_initial  \n",
       "unit                                   \n",
       "9_5   {u'after': 1.0, u'before': 0.0}  "
      ]
     },
     "execution_count": 39,
     "metadata": {},
     "output_type": "execute_result"
    }
   ],
   "source": [
    "sortedUQS.tail(1)"
   ]
  },
  {
   "cell_type": "code",
   "execution_count": 40,
   "metadata": {},
   "outputs": [
    {
     "name": "stdout",
     "output_type": "stream",
     "text": [
      "Text: <p>Nothing was going to <b><u><font color=\"blue\">hold</font></u></b> up the long-delayed settlement of Britton vs. Thomasini. <br></br>Not even an earthquake. <br></br>On the afternoon of Oct. 17, after hours of <b><u><font color=\"green\">haggling</font></u></b> with five insurance-claims adjusters over <b><u><font color=\"orange\">settling</font></u></b> a toxic-waste suit, four lawyers <b><u><font color=\"red\">had</font></u></b> an agreement in hand. <br></br>But as Judge Thomas M. Jenkins <b><u><font color=\"purple\">donned</font></u></b> his robes so he could <b><u><font color=\"brown\">give</font></u></b> final approval, the major earthquak e struck, its epicenter not far from his courtroom in Redwood City, Calif. <br></br>The walls shook; the building rocked. <br></br>For a while, it looked like the deal -- not to mention the courtroom itself -- was on the verge of collapse e. <br></br>``The judge came out and said, ` Quick, let's put this on the record, ''' says Sandy Bettencourt, the judge's court reporter. <br></br>``I said, ` NOW ? ' I was shaking the whole time.'' <br></br>A 10 - gallon water cooler had toppled onto the floor, soaking the red carpeting. <br></br>Lights flickered on and off; plaster dropped from the ceiling, the walls still shook and an evacuation alarm blared outside. <br></br>The four lawyers climbed out from under a table. <br></br>``Let's close the door,'' said the judge as he climbed to his bench. <br></br>At stake was an $80,000 settlement involving who should pay what share of cleanup costs at the site of a former gas station, where underground fuel tanks had leaked and contaminated the soil. <br></br>And the lawyers were just as eager as the judge to wrap it up. <br></br>``We were never going to get these insurance companies to agree again,'' says John V. Trump, a San Francisco defense lawyer in the case. <br></br>Indeed, the insurance adjusters had already bolted out of the courtroom. <br></br>The lawyers went to work anyway, duly noting that the proceeding was taking place during a major earthquake. <br></br>Ten minutes later, it was done. <br></br>For the record, Jeffrey Kaufman, an attorney for Fireman's Fund, said he was'' rattled -- both literally and figuratively.'' <br></br>``My belief is always, if you've got a settlement, you read it into the record.'' <br></br>says Judge Jenkins, now known in his courthouse as ``Shake 'Em Down Jenkins.'' <br></br>The insurance adjusters think differently. <br></br>``I didn't know if it was World War III or what,'' says Melanie Carvain of Morristown, N.J.'' Reading the settlement into the record was the last thing on my mind.'' <br></br></p>\n",
      "\n",
      " Event1: <font color=\"green\">haggling</font>\n",
      "\n",
      " Event2: <font color=\"orange\">settling</font>\n",
      "\n",
      " Expert Answer: before\n",
      "\n",
      " Crowd Answer with CrowdTruth: Counter({'after': 1.0, 'before': 0.0})\n",
      "\n",
      " Crowd Answer without CrowdTruth: Counter({'after': 1.0, 'before': 0.0})\n"
     ]
    }
   ],
   "source": [
    "print(\"Text: %s\" % sortedUQS[\"input.text\"].iloc[len(sortedUQS.index)-1])\n",
    "print(\"\\n Event1: %s\" % sortedUQS[\"input.event1\"].iloc[len(sortedUQS.index)-1])\n",
    "print(\"\\n Event2: %s\" % sortedUQS[\"input.event2\"].iloc[len(sortedUQS.index)-1])\n",
    "print(\"\\n Expert Answer: %s\" % sortedUQS[\"input.gold\"].iloc[len(sortedUQS.index)-1])\n",
    "print(\"\\n Crowd Answer with CrowdTruth: %s\" % sortedUQS[\"unit_annotation_score\"].iloc[len(sortedUQS.index)-1])\n",
    "print(\"\\n Crowd Answer without CrowdTruth: %s\" % sortedUQS[\"unit_annotation_score_initial\"].iloc[len(sortedUQS.index)-1])"
   ]
  },
  {
   "cell_type": "markdown",
   "metadata": {},
   "source": [
    "### Example of an unclear unit"
   ]
  },
  {
   "cell_type": "code",
   "execution_count": 41,
   "metadata": {},
   "outputs": [
    {
     "data": {
      "text/html": [
       "<div>\n",
       "<style scoped>\n",
       "    .dataframe tbody tr th:only-of-type {\n",
       "        vertical-align: middle;\n",
       "    }\n",
       "\n",
       "    .dataframe tbody tr th {\n",
       "        vertical-align: top;\n",
       "    }\n",
       "\n",
       "    .dataframe thead th {\n",
       "        text-align: right;\n",
       "    }\n",
       "</style>\n",
       "<table border=\"1\" class=\"dataframe\">\n",
       "  <thead>\n",
       "    <tr style=\"text-align: right;\">\n",
       "      <th></th>\n",
       "      <th>duration</th>\n",
       "      <th>input.event1</th>\n",
       "      <th>input.event2</th>\n",
       "      <th>input.gold</th>\n",
       "      <th>input.text</th>\n",
       "      <th>job</th>\n",
       "      <th>output.response</th>\n",
       "      <th>output.response.annotations</th>\n",
       "      <th>output.response.unique_annotations</th>\n",
       "      <th>worker</th>\n",
       "      <th>uqs</th>\n",
       "      <th>unit_annotation_score</th>\n",
       "      <th>uqs_initial</th>\n",
       "      <th>unit_annotation_score_initial</th>\n",
       "    </tr>\n",
       "    <tr>\n",
       "      <th>unit</th>\n",
       "      <th></th>\n",
       "      <th></th>\n",
       "      <th></th>\n",
       "      <th></th>\n",
       "      <th></th>\n",
       "      <th></th>\n",
       "      <th></th>\n",
       "      <th></th>\n",
       "      <th></th>\n",
       "      <th></th>\n",
       "      <th></th>\n",
       "      <th></th>\n",
       "      <th></th>\n",
       "      <th></th>\n",
       "    </tr>\n",
       "  </thead>\n",
       "  <tbody>\n",
       "    <tr>\n",
       "      <th>2_7</th>\n",
       "      <td>83</td>\n",
       "      <td>&lt;font color=\"green\"&gt;killed&lt;/font&gt;</td>\n",
       "      <td>&lt;font color=\"purple\"&gt;appeared&lt;/font&gt;</td>\n",
       "      <td>before</td>\n",
       "      <td>&lt;p&gt;NEW YORK _ A Brooklyn woman who was &lt;b&gt;&lt;u&gt;&lt;...</td>\n",
       "      <td>../data/temp.standardized</td>\n",
       "      <td>{u'after': 3, u'before': 7}</td>\n",
       "      <td>10</td>\n",
       "      <td>2</td>\n",
       "      <td>10</td>\n",
       "      <td>0.568127</td>\n",
       "      <td>{u'after': 0.25777513404, u'before': 0.7422248...</td>\n",
       "      <td>0.533333</td>\n",
       "      <td>{u'after': 0.3, u'before': 0.7}</td>\n",
       "    </tr>\n",
       "  </tbody>\n",
       "</table>\n",
       "</div>"
      ],
      "text/plain": [
       "      duration                       input.event1  \\\n",
       "unit                                                \n",
       "2_7         83  <font color=\"green\">killed</font>   \n",
       "\n",
       "                              input.event2 input.gold  \\\n",
       "unit                                                    \n",
       "2_7   <font color=\"purple\">appeared</font>     before   \n",
       "\n",
       "                                             input.text  \\\n",
       "unit                                                      \n",
       "2_7   <p>NEW YORK _ A Brooklyn woman who was <b><u><...   \n",
       "\n",
       "                            job              output.response  \\\n",
       "unit                                                           \n",
       "2_7   ../data/temp.standardized  {u'after': 3, u'before': 7}   \n",
       "\n",
       "      output.response.annotations  output.response.unique_annotations  worker  \\\n",
       "unit                                                                            \n",
       "2_7                            10                                   2      10   \n",
       "\n",
       "           uqs                              unit_annotation_score  \\\n",
       "unit                                                                \n",
       "2_7   0.568127  {u'after': 0.25777513404, u'before': 0.7422248...   \n",
       "\n",
       "      uqs_initial    unit_annotation_score_initial  \n",
       "unit                                                \n",
       "2_7      0.533333  {u'after': 0.3, u'before': 0.7}  "
      ]
     },
     "execution_count": 41,
     "metadata": {},
     "output_type": "execute_result"
    }
   ],
   "source": [
    "sortedUQS.head(1)"
   ]
  },
  {
   "cell_type": "code",
   "execution_count": 42,
   "metadata": {},
   "outputs": [
    {
     "ename": "KeyError",
     "evalue": "'input.hypothesis'",
     "output_type": "error",
     "traceback": [
      "\u001b[0;31m---------------------------------------------------------------------------\u001b[0m",
      "\u001b[0;31mKeyError\u001b[0m                                  Traceback (most recent call last)",
      "\u001b[0;32m<ipython-input-42-3296d410233d>\u001b[0m in \u001b[0;36m<module>\u001b[0;34m()\u001b[0m\n\u001b[0;32m----> 1\u001b[0;31m \u001b[0;32mprint\u001b[0m\u001b[0;34m(\u001b[0m\u001b[0;34m\"Hypothesis: %s\"\u001b[0m \u001b[0;34m%\u001b[0m \u001b[0msortedUQS\u001b[0m\u001b[0;34m[\u001b[0m\u001b[0;34m\"input.hypothesis\"\u001b[0m\u001b[0;34m]\u001b[0m\u001b[0;34m.\u001b[0m\u001b[0miloc\u001b[0m\u001b[0;34m[\u001b[0m\u001b[0;36m0\u001b[0m\u001b[0;34m]\u001b[0m\u001b[0;34m)\u001b[0m\u001b[0;34m\u001b[0m\u001b[0m\n\u001b[0m\u001b[1;32m      2\u001b[0m \u001b[0;32mprint\u001b[0m\u001b[0;34m(\u001b[0m\u001b[0;34m\"Text: %s\"\u001b[0m \u001b[0;34m%\u001b[0m \u001b[0msortedUQS\u001b[0m\u001b[0;34m[\u001b[0m\u001b[0;34m\"input.text\"\u001b[0m\u001b[0;34m]\u001b[0m\u001b[0;34m.\u001b[0m\u001b[0miloc\u001b[0m\u001b[0;34m[\u001b[0m\u001b[0;36m0\u001b[0m\u001b[0;34m]\u001b[0m\u001b[0;34m)\u001b[0m\u001b[0;34m\u001b[0m\u001b[0m\n\u001b[1;32m      3\u001b[0m \u001b[0;32mprint\u001b[0m\u001b[0;34m(\u001b[0m\u001b[0;34m\"Expert Answer: %s\"\u001b[0m \u001b[0;34m%\u001b[0m \u001b[0msortedUQS\u001b[0m\u001b[0;34m[\u001b[0m\u001b[0;34m\"input.gold\"\u001b[0m\u001b[0;34m]\u001b[0m\u001b[0;34m.\u001b[0m\u001b[0miloc\u001b[0m\u001b[0;34m[\u001b[0m\u001b[0;36m0\u001b[0m\u001b[0;34m]\u001b[0m\u001b[0;34m)\u001b[0m\u001b[0;34m\u001b[0m\u001b[0m\n\u001b[1;32m      4\u001b[0m \u001b[0;32mprint\u001b[0m\u001b[0;34m(\u001b[0m\u001b[0;34m\"Crowd Answer with CrowdTruth: %s\"\u001b[0m \u001b[0;34m%\u001b[0m \u001b[0msortedUQS\u001b[0m\u001b[0;34m[\u001b[0m\u001b[0;34m\"unit_annotation_score\"\u001b[0m\u001b[0;34m]\u001b[0m\u001b[0;34m.\u001b[0m\u001b[0miloc\u001b[0m\u001b[0;34m[\u001b[0m\u001b[0;36m0\u001b[0m\u001b[0;34m]\u001b[0m\u001b[0;34m)\u001b[0m\u001b[0;34m\u001b[0m\u001b[0m\n\u001b[1;32m      5\u001b[0m \u001b[0;32mprint\u001b[0m\u001b[0;34m(\u001b[0m\u001b[0;34m\"Crowd Answer without CrowdTruth: %s\"\u001b[0m \u001b[0;34m%\u001b[0m \u001b[0msortedUQS\u001b[0m\u001b[0;34m[\u001b[0m\u001b[0;34m\"unit_annotation_score_initial\"\u001b[0m\u001b[0;34m]\u001b[0m\u001b[0;34m.\u001b[0m\u001b[0miloc\u001b[0m\u001b[0;34m[\u001b[0m\u001b[0;36m0\u001b[0m\u001b[0;34m]\u001b[0m\u001b[0;34m)\u001b[0m\u001b[0;34m\u001b[0m\u001b[0m\n",
      "\u001b[0;32m/Users/oanainel/anaconda/envs/CrowdTruth2/lib/python2.7/site-packages/pandas/core/frame.pyc\u001b[0m in \u001b[0;36m__getitem__\u001b[0;34m(self, key)\u001b[0m\n\u001b[1;32m   2686\u001b[0m             \u001b[0;32mreturn\u001b[0m \u001b[0mself\u001b[0m\u001b[0;34m.\u001b[0m\u001b[0m_getitem_multilevel\u001b[0m\u001b[0;34m(\u001b[0m\u001b[0mkey\u001b[0m\u001b[0;34m)\u001b[0m\u001b[0;34m\u001b[0m\u001b[0m\n\u001b[1;32m   2687\u001b[0m         \u001b[0;32melse\u001b[0m\u001b[0;34m:\u001b[0m\u001b[0;34m\u001b[0m\u001b[0m\n\u001b[0;32m-> 2688\u001b[0;31m             \u001b[0;32mreturn\u001b[0m \u001b[0mself\u001b[0m\u001b[0;34m.\u001b[0m\u001b[0m_getitem_column\u001b[0m\u001b[0;34m(\u001b[0m\u001b[0mkey\u001b[0m\u001b[0;34m)\u001b[0m\u001b[0;34m\u001b[0m\u001b[0m\n\u001b[0m\u001b[1;32m   2689\u001b[0m \u001b[0;34m\u001b[0m\u001b[0m\n\u001b[1;32m   2690\u001b[0m     \u001b[0;32mdef\u001b[0m \u001b[0m_getitem_column\u001b[0m\u001b[0;34m(\u001b[0m\u001b[0mself\u001b[0m\u001b[0;34m,\u001b[0m \u001b[0mkey\u001b[0m\u001b[0;34m)\u001b[0m\u001b[0;34m:\u001b[0m\u001b[0;34m\u001b[0m\u001b[0m\n",
      "\u001b[0;32m/Users/oanainel/anaconda/envs/CrowdTruth2/lib/python2.7/site-packages/pandas/core/frame.pyc\u001b[0m in \u001b[0;36m_getitem_column\u001b[0;34m(self, key)\u001b[0m\n\u001b[1;32m   2693\u001b[0m         \u001b[0;31m# get column\u001b[0m\u001b[0;34m\u001b[0m\u001b[0;34m\u001b[0m\u001b[0m\n\u001b[1;32m   2694\u001b[0m         \u001b[0;32mif\u001b[0m \u001b[0mself\u001b[0m\u001b[0;34m.\u001b[0m\u001b[0mcolumns\u001b[0m\u001b[0;34m.\u001b[0m\u001b[0mis_unique\u001b[0m\u001b[0;34m:\u001b[0m\u001b[0;34m\u001b[0m\u001b[0m\n\u001b[0;32m-> 2695\u001b[0;31m             \u001b[0;32mreturn\u001b[0m \u001b[0mself\u001b[0m\u001b[0;34m.\u001b[0m\u001b[0m_get_item_cache\u001b[0m\u001b[0;34m(\u001b[0m\u001b[0mkey\u001b[0m\u001b[0;34m)\u001b[0m\u001b[0;34m\u001b[0m\u001b[0m\n\u001b[0m\u001b[1;32m   2696\u001b[0m \u001b[0;34m\u001b[0m\u001b[0m\n\u001b[1;32m   2697\u001b[0m         \u001b[0;31m# duplicate columns & possible reduce dimensionality\u001b[0m\u001b[0;34m\u001b[0m\u001b[0;34m\u001b[0m\u001b[0m\n",
      "\u001b[0;32m/Users/oanainel/anaconda/envs/CrowdTruth2/lib/python2.7/site-packages/pandas/core/generic.pyc\u001b[0m in \u001b[0;36m_get_item_cache\u001b[0;34m(self, item)\u001b[0m\n\u001b[1;32m   2487\u001b[0m         \u001b[0mres\u001b[0m \u001b[0;34m=\u001b[0m \u001b[0mcache\u001b[0m\u001b[0;34m.\u001b[0m\u001b[0mget\u001b[0m\u001b[0;34m(\u001b[0m\u001b[0mitem\u001b[0m\u001b[0;34m)\u001b[0m\u001b[0;34m\u001b[0m\u001b[0m\n\u001b[1;32m   2488\u001b[0m         \u001b[0;32mif\u001b[0m \u001b[0mres\u001b[0m \u001b[0;32mis\u001b[0m \u001b[0mNone\u001b[0m\u001b[0;34m:\u001b[0m\u001b[0;34m\u001b[0m\u001b[0m\n\u001b[0;32m-> 2489\u001b[0;31m             \u001b[0mvalues\u001b[0m \u001b[0;34m=\u001b[0m \u001b[0mself\u001b[0m\u001b[0;34m.\u001b[0m\u001b[0m_data\u001b[0m\u001b[0;34m.\u001b[0m\u001b[0mget\u001b[0m\u001b[0;34m(\u001b[0m\u001b[0mitem\u001b[0m\u001b[0;34m)\u001b[0m\u001b[0;34m\u001b[0m\u001b[0m\n\u001b[0m\u001b[1;32m   2490\u001b[0m             \u001b[0mres\u001b[0m \u001b[0;34m=\u001b[0m \u001b[0mself\u001b[0m\u001b[0;34m.\u001b[0m\u001b[0m_box_item_values\u001b[0m\u001b[0;34m(\u001b[0m\u001b[0mitem\u001b[0m\u001b[0;34m,\u001b[0m \u001b[0mvalues\u001b[0m\u001b[0;34m)\u001b[0m\u001b[0;34m\u001b[0m\u001b[0m\n\u001b[1;32m   2491\u001b[0m             \u001b[0mcache\u001b[0m\u001b[0;34m[\u001b[0m\u001b[0mitem\u001b[0m\u001b[0;34m]\u001b[0m \u001b[0;34m=\u001b[0m \u001b[0mres\u001b[0m\u001b[0;34m\u001b[0m\u001b[0m\n",
      "\u001b[0;32m/Users/oanainel/anaconda/envs/CrowdTruth2/lib/python2.7/site-packages/pandas/core/internals.pyc\u001b[0m in \u001b[0;36mget\u001b[0;34m(self, item, fastpath)\u001b[0m\n\u001b[1;32m   4113\u001b[0m \u001b[0;34m\u001b[0m\u001b[0m\n\u001b[1;32m   4114\u001b[0m             \u001b[0;32mif\u001b[0m \u001b[0;32mnot\u001b[0m \u001b[0misna\u001b[0m\u001b[0;34m(\u001b[0m\u001b[0mitem\u001b[0m\u001b[0;34m)\u001b[0m\u001b[0;34m:\u001b[0m\u001b[0;34m\u001b[0m\u001b[0m\n\u001b[0;32m-> 4115\u001b[0;31m                 \u001b[0mloc\u001b[0m \u001b[0;34m=\u001b[0m \u001b[0mself\u001b[0m\u001b[0;34m.\u001b[0m\u001b[0mitems\u001b[0m\u001b[0;34m.\u001b[0m\u001b[0mget_loc\u001b[0m\u001b[0;34m(\u001b[0m\u001b[0mitem\u001b[0m\u001b[0;34m)\u001b[0m\u001b[0;34m\u001b[0m\u001b[0m\n\u001b[0m\u001b[1;32m   4116\u001b[0m             \u001b[0;32melse\u001b[0m\u001b[0;34m:\u001b[0m\u001b[0;34m\u001b[0m\u001b[0m\n\u001b[1;32m   4117\u001b[0m                 \u001b[0mindexer\u001b[0m \u001b[0;34m=\u001b[0m \u001b[0mnp\u001b[0m\u001b[0;34m.\u001b[0m\u001b[0marange\u001b[0m\u001b[0;34m(\u001b[0m\u001b[0mlen\u001b[0m\u001b[0;34m(\u001b[0m\u001b[0mself\u001b[0m\u001b[0;34m.\u001b[0m\u001b[0mitems\u001b[0m\u001b[0;34m)\u001b[0m\u001b[0;34m)\u001b[0m\u001b[0;34m[\u001b[0m\u001b[0misna\u001b[0m\u001b[0;34m(\u001b[0m\u001b[0mself\u001b[0m\u001b[0;34m.\u001b[0m\u001b[0mitems\u001b[0m\u001b[0;34m)\u001b[0m\u001b[0;34m]\u001b[0m\u001b[0;34m\u001b[0m\u001b[0m\n",
      "\u001b[0;32m/Users/oanainel/anaconda/envs/CrowdTruth2/lib/python2.7/site-packages/pandas/core/indexes/base.pyc\u001b[0m in \u001b[0;36mget_loc\u001b[0;34m(self, key, method, tolerance)\u001b[0m\n\u001b[1;32m   3078\u001b[0m                 \u001b[0;32mreturn\u001b[0m \u001b[0mself\u001b[0m\u001b[0;34m.\u001b[0m\u001b[0m_engine\u001b[0m\u001b[0;34m.\u001b[0m\u001b[0mget_loc\u001b[0m\u001b[0;34m(\u001b[0m\u001b[0mkey\u001b[0m\u001b[0;34m)\u001b[0m\u001b[0;34m\u001b[0m\u001b[0m\n\u001b[1;32m   3079\u001b[0m             \u001b[0;32mexcept\u001b[0m \u001b[0mKeyError\u001b[0m\u001b[0;34m:\u001b[0m\u001b[0;34m\u001b[0m\u001b[0m\n\u001b[0;32m-> 3080\u001b[0;31m                 \u001b[0;32mreturn\u001b[0m \u001b[0mself\u001b[0m\u001b[0;34m.\u001b[0m\u001b[0m_engine\u001b[0m\u001b[0;34m.\u001b[0m\u001b[0mget_loc\u001b[0m\u001b[0;34m(\u001b[0m\u001b[0mself\u001b[0m\u001b[0;34m.\u001b[0m\u001b[0m_maybe_cast_indexer\u001b[0m\u001b[0;34m(\u001b[0m\u001b[0mkey\u001b[0m\u001b[0;34m)\u001b[0m\u001b[0;34m)\u001b[0m\u001b[0;34m\u001b[0m\u001b[0m\n\u001b[0m\u001b[1;32m   3081\u001b[0m \u001b[0;34m\u001b[0m\u001b[0m\n\u001b[1;32m   3082\u001b[0m         \u001b[0mindexer\u001b[0m \u001b[0;34m=\u001b[0m \u001b[0mself\u001b[0m\u001b[0;34m.\u001b[0m\u001b[0mget_indexer\u001b[0m\u001b[0;34m(\u001b[0m\u001b[0;34m[\u001b[0m\u001b[0mkey\u001b[0m\u001b[0;34m]\u001b[0m\u001b[0;34m,\u001b[0m \u001b[0mmethod\u001b[0m\u001b[0;34m=\u001b[0m\u001b[0mmethod\u001b[0m\u001b[0;34m,\u001b[0m \u001b[0mtolerance\u001b[0m\u001b[0;34m=\u001b[0m\u001b[0mtolerance\u001b[0m\u001b[0;34m)\u001b[0m\u001b[0;34m\u001b[0m\u001b[0m\n",
      "\u001b[0;32mpandas/_libs/index.pyx\u001b[0m in \u001b[0;36mpandas._libs.index.IndexEngine.get_loc\u001b[0;34m()\u001b[0m\n",
      "\u001b[0;32mpandas/_libs/index.pyx\u001b[0m in \u001b[0;36mpandas._libs.index.IndexEngine.get_loc\u001b[0;34m()\u001b[0m\n",
      "\u001b[0;32mpandas/_libs/hashtable_class_helper.pxi\u001b[0m in \u001b[0;36mpandas._libs.hashtable.PyObjectHashTable.get_item\u001b[0;34m()\u001b[0m\n",
      "\u001b[0;32mpandas/_libs/hashtable_class_helper.pxi\u001b[0m in \u001b[0;36mpandas._libs.hashtable.PyObjectHashTable.get_item\u001b[0;34m()\u001b[0m\n",
      "\u001b[0;31mKeyError\u001b[0m: 'input.hypothesis'"
     ]
    }
   ],
   "source": [
    "print(\"Hypothesis: %s\" % sortedUQS[\"input.hypothesis\"].iloc[0])\n",
    "print(\"Text: %s\" % sortedUQS[\"input.text\"].iloc[0])\n",
    "print(\"Expert Answer: %s\" % sortedUQS[\"input.gold\"].iloc[0])\n",
    "print(\"Crowd Answer with CrowdTruth: %s\" % sortedUQS[\"unit_annotation_score\"].iloc[0])\n",
    "print(\"Crowd Answer without CrowdTruth: %s\" % sortedUQS[\"unit_annotation_score_initial\"].iloc[0])"
   ]
  },
  {
   "cell_type": "markdown",
   "metadata": {},
   "source": [
    "# MACE for Recognizing Textual Entailment Annotation"
   ]
  },
  {
   "cell_type": "markdown",
   "metadata": {},
   "source": [
    "We first pre-processed the crowd results to create compatible files for running the MACE tool.\n",
    "Each row in a csv file should point to a unit in the dataset and each column in the csv file should point to a worker. The content of the csv file captures the worker answer for that particular unit (or remains empty if the worker did not annotate that unit)."
   ]
  },
  {
   "cell_type": "code",
   "execution_count": 64,
   "metadata": {},
   "outputs": [
    {
     "data": {
      "text/html": [
       "<div>\n",
       "<style scoped>\n",
       "    .dataframe tbody tr th:only-of-type {\n",
       "        vertical-align: middle;\n",
       "    }\n",
       "\n",
       "    .dataframe tbody tr th {\n",
       "        vertical-align: top;\n",
       "    }\n",
       "\n",
       "    .dataframe thead th {\n",
       "        text-align: right;\n",
       "    }\n",
       "</style>\n",
       "<table border=\"1\" class=\"dataframe\">\n",
       "  <thead>\n",
       "    <tr style=\"text-align: right;\">\n",
       "      <th></th>\n",
       "      <th>0</th>\n",
       "      <th>1</th>\n",
       "      <th>2</th>\n",
       "      <th>3</th>\n",
       "      <th>4</th>\n",
       "      <th>5</th>\n",
       "      <th>6</th>\n",
       "      <th>7</th>\n",
       "      <th>8</th>\n",
       "      <th>9</th>\n",
       "      <th>...</th>\n",
       "      <th>154</th>\n",
       "      <th>155</th>\n",
       "      <th>156</th>\n",
       "      <th>157</th>\n",
       "      <th>158</th>\n",
       "      <th>159</th>\n",
       "      <th>160</th>\n",
       "      <th>161</th>\n",
       "      <th>162</th>\n",
       "      <th>163</th>\n",
       "    </tr>\n",
       "  </thead>\n",
       "  <tbody>\n",
       "    <tr>\n",
       "      <th>0</th>\n",
       "      <td>0</td>\n",
       "      <td>0</td>\n",
       "      <td>0</td>\n",
       "      <td>0</td>\n",
       "      <td>0</td>\n",
       "      <td>0</td>\n",
       "      <td>1</td>\n",
       "      <td>0</td>\n",
       "      <td>0</td>\n",
       "      <td>1</td>\n",
       "      <td>...</td>\n",
       "      <td></td>\n",
       "      <td></td>\n",
       "      <td></td>\n",
       "      <td></td>\n",
       "      <td></td>\n",
       "      <td></td>\n",
       "      <td></td>\n",
       "      <td></td>\n",
       "      <td></td>\n",
       "      <td></td>\n",
       "    </tr>\n",
       "    <tr>\n",
       "      <th>1</th>\n",
       "      <td></td>\n",
       "      <td></td>\n",
       "      <td></td>\n",
       "      <td></td>\n",
       "      <td></td>\n",
       "      <td></td>\n",
       "      <td>1</td>\n",
       "      <td></td>\n",
       "      <td></td>\n",
       "      <td>1</td>\n",
       "      <td>...</td>\n",
       "      <td></td>\n",
       "      <td></td>\n",
       "      <td></td>\n",
       "      <td></td>\n",
       "      <td></td>\n",
       "      <td></td>\n",
       "      <td></td>\n",
       "      <td></td>\n",
       "      <td></td>\n",
       "      <td></td>\n",
       "    </tr>\n",
       "    <tr>\n",
       "      <th>2</th>\n",
       "      <td></td>\n",
       "      <td></td>\n",
       "      <td></td>\n",
       "      <td></td>\n",
       "      <td></td>\n",
       "      <td></td>\n",
       "      <td>1</td>\n",
       "      <td></td>\n",
       "      <td></td>\n",
       "      <td>0</td>\n",
       "      <td>...</td>\n",
       "      <td></td>\n",
       "      <td></td>\n",
       "      <td></td>\n",
       "      <td></td>\n",
       "      <td></td>\n",
       "      <td></td>\n",
       "      <td></td>\n",
       "      <td></td>\n",
       "      <td></td>\n",
       "      <td></td>\n",
       "    </tr>\n",
       "    <tr>\n",
       "      <th>3</th>\n",
       "      <td></td>\n",
       "      <td></td>\n",
       "      <td></td>\n",
       "      <td></td>\n",
       "      <td></td>\n",
       "      <td></td>\n",
       "      <td>1</td>\n",
       "      <td></td>\n",
       "      <td></td>\n",
       "      <td>1</td>\n",
       "      <td>...</td>\n",
       "      <td></td>\n",
       "      <td></td>\n",
       "      <td></td>\n",
       "      <td></td>\n",
       "      <td></td>\n",
       "      <td></td>\n",
       "      <td></td>\n",
       "      <td></td>\n",
       "      <td></td>\n",
       "      <td></td>\n",
       "    </tr>\n",
       "    <tr>\n",
       "      <th>4</th>\n",
       "      <td>1</td>\n",
       "      <td>1</td>\n",
       "      <td>1</td>\n",
       "      <td>1</td>\n",
       "      <td>1</td>\n",
       "      <td>1</td>\n",
       "      <td>1</td>\n",
       "      <td>1</td>\n",
       "      <td>1</td>\n",
       "      <td>1</td>\n",
       "      <td>...</td>\n",
       "      <td></td>\n",
       "      <td></td>\n",
       "      <td></td>\n",
       "      <td></td>\n",
       "      <td></td>\n",
       "      <td></td>\n",
       "      <td></td>\n",
       "      <td></td>\n",
       "      <td></td>\n",
       "      <td></td>\n",
       "    </tr>\n",
       "  </tbody>\n",
       "</table>\n",
       "<p>5 rows × 164 columns</p>\n",
       "</div>"
      ],
      "text/plain": [
       "  0   1   2   3   4   5    6   7   8   9   ... 154 155 156 157 158 159 160  \\\n",
       "0   0   0   0   0   0   0    1   0   0   1 ...                               \n",
       "1                            1           1 ...                               \n",
       "2                            1           0 ...                               \n",
       "3                            1           1 ...                               \n",
       "4   1   1   1   1   1   1    1   1   1   1 ...                               \n",
       "\n",
       "  161 162 163  \n",
       "0              \n",
       "1              \n",
       "2              \n",
       "3              \n",
       "4              \n",
       "\n",
       "[5 rows x 164 columns]"
      ]
     },
     "execution_count": 64,
     "metadata": {},
     "output_type": "execute_result"
    }
   ],
   "source": [
    "import numpy as np\n",
    "\n",
    "test_data = pd.read_csv(\"../data/mace_rte.standardized.csv\", header=None)\n",
    "test_data = test_data.replace(np.nan, '', regex=True)\n",
    "test_data.head()"
   ]
  },
  {
   "cell_type": "code",
   "execution_count": 3,
   "metadata": {},
   "outputs": [
    {
     "data": {
      "text/html": [
       "<div>\n",
       "<style scoped>\n",
       "    .dataframe tbody tr th:only-of-type {\n",
       "        vertical-align: middle;\n",
       "    }\n",
       "\n",
       "    .dataframe tbody tr th {\n",
       "        vertical-align: top;\n",
       "    }\n",
       "\n",
       "    .dataframe thead th {\n",
       "        text-align: right;\n",
       "    }\n",
       "</style>\n",
       "<table border=\"1\" class=\"dataframe\">\n",
       "  <thead>\n",
       "    <tr style=\"text-align: right;\">\n",
       "      <th></th>\n",
       "      <th>unit</th>\n",
       "      <th>true</th>\n",
       "      <th>false</th>\n",
       "    </tr>\n",
       "  </thead>\n",
       "  <tbody>\n",
       "    <tr>\n",
       "      <th>0</th>\n",
       "      <td>25</td>\n",
       "      <td>9.263818e-06</td>\n",
       "      <td>9.999907e-01</td>\n",
       "    </tr>\n",
       "    <tr>\n",
       "      <th>1</th>\n",
       "      <td>35</td>\n",
       "      <td>1.353801e-06</td>\n",
       "      <td>9.999986e-01</td>\n",
       "    </tr>\n",
       "    <tr>\n",
       "      <th>2</th>\n",
       "      <td>39</td>\n",
       "      <td>1.000000e+00</td>\n",
       "      <td>1.057981e-08</td>\n",
       "    </tr>\n",
       "    <tr>\n",
       "      <th>3</th>\n",
       "      <td>48</td>\n",
       "      <td>5.895417e-07</td>\n",
       "      <td>9.999994e-01</td>\n",
       "    </tr>\n",
       "    <tr>\n",
       "      <th>4</th>\n",
       "      <td>49</td>\n",
       "      <td>9.999986e-01</td>\n",
       "      <td>1.420726e-06</td>\n",
       "    </tr>\n",
       "  </tbody>\n",
       "</table>\n",
       "</div>"
      ],
      "text/plain": [
       "   unit          true         false\n",
       "0    25  9.263818e-06  9.999907e-01\n",
       "1    35  1.353801e-06  9.999986e-01\n",
       "2    39  1.000000e+00  1.057981e-08\n",
       "3    48  5.895417e-07  9.999994e-01\n",
       "4    49  9.999986e-01  1.420726e-06"
      ]
     },
     "execution_count": 3,
     "metadata": {},
     "output_type": "execute_result"
    }
   ],
   "source": [
    "import pandas as pd\n",
    "\n",
    "mace_data = pd.read_csv(\"../data/results/mace_units_rte.csv\")\n",
    "mace_data.head()"
   ]
  },
  {
   "cell_type": "code",
   "execution_count": 4,
   "metadata": {},
   "outputs": [
    {
     "data": {
      "text/html": [
       "<div>\n",
       "<style scoped>\n",
       "    .dataframe tbody tr th:only-of-type {\n",
       "        vertical-align: middle;\n",
       "    }\n",
       "\n",
       "    .dataframe tbody tr th {\n",
       "        vertical-align: top;\n",
       "    }\n",
       "\n",
       "    .dataframe thead th {\n",
       "        text-align: right;\n",
       "    }\n",
       "</style>\n",
       "<table border=\"1\" class=\"dataframe\">\n",
       "  <thead>\n",
       "    <tr style=\"text-align: right;\">\n",
       "      <th></th>\n",
       "      <th>worker</th>\n",
       "      <th>competence</th>\n",
       "    </tr>\n",
       "  </thead>\n",
       "  <tbody>\n",
       "    <tr>\n",
       "      <th>0</th>\n",
       "      <td>A2K5ICP43ML4PW</td>\n",
       "      <td>0.804252</td>\n",
       "    </tr>\n",
       "    <tr>\n",
       "      <th>1</th>\n",
       "      <td>A15L6WGIK3VU7N</td>\n",
       "      <td>0.855198</td>\n",
       "    </tr>\n",
       "    <tr>\n",
       "      <th>2</th>\n",
       "      <td>AHPSMRLKAEJV</td>\n",
       "      <td>0.690429</td>\n",
       "    </tr>\n",
       "    <tr>\n",
       "      <th>3</th>\n",
       "      <td>A25QX7IUS1KI5E</td>\n",
       "      <td>0.473449</td>\n",
       "    </tr>\n",
       "    <tr>\n",
       "      <th>4</th>\n",
       "      <td>A2RV3FIO3IAZS</td>\n",
       "      <td>0.348140</td>\n",
       "    </tr>\n",
       "  </tbody>\n",
       "</table>\n",
       "</div>"
      ],
      "text/plain": [
       "           worker  competence\n",
       "0  A2K5ICP43ML4PW    0.804252\n",
       "1  A15L6WGIK3VU7N    0.855198\n",
       "2    AHPSMRLKAEJV    0.690429\n",
       "3  A25QX7IUS1KI5E    0.473449\n",
       "4   A2RV3FIO3IAZS    0.348140"
      ]
     },
     "execution_count": 4,
     "metadata": {},
     "output_type": "execute_result"
    }
   ],
   "source": [
    "mace_workers = pd.read_csv(\"../data/results/mace_workers_rte.csv\")\n",
    "mace_workers.head()"
   ]
  },
  {
   "cell_type": "markdown",
   "metadata": {},
   "source": [
    "# CrowdTruth vs. MACE on Worker Quality"
   ]
  },
  {
   "cell_type": "code",
   "execution_count": 10,
   "metadata": {
    "collapsed": true
   },
   "outputs": [],
   "source": [
    "mace_workers = pd.read_csv(\"../data/results/mace_workers_rte.csv\")\n",
    "crowdtruth_workers = pd.read_csv(\"../data/results/crowdtruth_workers_rte.csv\")\n",
    "\n",
    "mace_workers = mace_workers.sort_values([\"worker\"])\n",
    "crowdtruth_workers = crowdtruth_workers.sort_values([\"worker\"])"
   ]
  },
  {
   "cell_type": "code",
   "execution_count": 12,
   "metadata": {},
   "outputs": [
    {
     "data": {
      "text/plain": [
       "Text(0,0.5,'CrowdTruth')"
      ]
     },
     "execution_count": 12,
     "metadata": {},
     "output_type": "execute_result"
    },
    {
     "data": {
      "image/png": "[encoded data removed]",
      "text/plain": [
       "<Figure size 432x288 with 1 Axes>"
      ]
     },
     "metadata": {},
     "output_type": "display_data"
    }
   ],
   "source": [
    "%matplotlib inline\n",
    "\n",
    "import matplotlib\n",
    "import matplotlib.pyplot as plt\n",
    "\n",
    "plt.scatter(\n",
    "    mace_workers[\"competence\"],\n",
    "    crowdtruth_workers[\"wqs\"],\n",
    ")\n",
    "\n",
    "plt.title(\"Worker Quality Score\")\n",
    "plt.xlabel(\"MACE\")\n",
    "plt.ylabel(\"CrowdTruth\")"
   ]
  },
  {
   "cell_type": "code",
   "execution_count": 32,
   "metadata": {},
   "outputs": [
    {
     "data": {
      "text/plain": [
       "<matplotlib.legend.Legend at 0x11fbd2490>"
      ]
     },
     "execution_count": 32,
     "metadata": {},
     "output_type": "execute_result"
    },
    {
     "data": {
      "image/png": "[encoded data removed]",
      "text/plain": [
       "<Figure size 1080x360 with 1 Axes>"
      ]
     },
     "metadata": {},
     "output_type": "display_data"
    }
   ],
   "source": [
    "sortWQS = crowdtruth_workers.sort_values(['wqs'], ascending=[1])\n",
    "sortWQS = sortWQS.reset_index()\n",
    "worker_ids = list(sortWQS[\"worker\"])\n",
    "\n",
    "mace_workers = mace_workers.set_index('worker')\n",
    "mace_workers.loc[worker_ids]\n",
    "\n",
    "plt.rcParams['figure.figsize'] = 15, 5\n",
    "\n",
    "plt.plot(np.arange(sortWQS.shape[0]), sortWQS[\"wqs\"], 'bo', lw = 1, label = \"CrowdTruth Worker Score\")\n",
    "plt.plot(np.arange(mace_workers.shape[0]), mace_workers[\"competence\"], 'go', lw = 1, label = \"MACE Worker Score\")\n",
    "\n",
    "plt.ylabel('Worker Quality Score')\n",
    "plt.xlabel('Worker Index')\n",
    "plt.legend()"
   ]
  },
  {
   "cell_type": "markdown",
   "metadata": {},
   "source": [
    "# CrowdTruth vs. MACE vs. Majority Vote on Annotation Performance"
   ]
  },
  {
   "cell_type": "code",
   "execution_count": 65,
   "metadata": {
    "collapsed": true
   },
   "outputs": [],
   "source": [
    "majvote = pd.read_csv(\"../data/results/majorityvote_units_rte.csv\")\n",
    "mace = pd.read_csv(\"../data/results/mace_units_rte.csv\")\n",
    "crowdtruth = pd.read_csv(\"../data/results/crowdtruth_units_rte.csv\")"
   ]
  },
  {
   "cell_type": "code",
   "execution_count": 78,
   "metadata": {
    "collapsed": true
   },
   "outputs": [],
   "source": [
    "def compute_F1_score(dataset, gt_value, gt_column):\n",
    "    nyt_f1 = np.zeros(shape=(10, 2))\n",
    "    for idx in xrange(0, 10):\n",
    "        thresh = (idx + 1) / 10.0\n",
    "        tp = 0\n",
    "        fp = 0\n",
    "        tn = 0\n",
    "        fn = 0\n",
    "\n",
    "        for gt_idx in range(0, len(dataset.index)):\n",
    "            if dataset['true'].iloc[gt_idx] >= thresh:\n",
    "                if dataset['gold'].iloc[gt_idx] == 1.0:\n",
    "                    tp = tp + 1.0\n",
    "                else:\n",
    "                    fp = fp + 1.0\n",
    "            else:\n",
    "                if dataset['gold'].iloc[gt_idx] == 1.0:\n",
    "                    fn = fn + 1.0\n",
    "                else:\n",
    "                    tn = tn + 1.0\n",
    "\n",
    "\n",
    "        nyt_f1[idx, 0] = thresh\n",
    "        if tp != 0:\n",
    "            nyt_f1[idx, 1] = 2.0 * tp / (2.0 * tp + fp + fn)\n",
    "        else:\n",
    "            nyt_f1[idx, 1] = 0\n",
    "    return nyt_f1"
   ]
  },
  {
   "cell_type": "code",
   "execution_count": 79,
   "metadata": {},
   "outputs": [
    {
     "data": {
      "text/plain": [
       "array([[0.1       , 0.58723404],\n",
       "       [0.2       , 0.47105263],\n",
       "       [0.3       , 0.390625  ],\n",
       "       [0.4       , 0.35      ],\n",
       "       [0.5       , 0.35      ],\n",
       "       [0.6       , 0.32758621],\n",
       "       [0.7       , 0.27777778],\n",
       "       [0.8       , 0.24615385],\n",
       "       [0.9       , 0.175     ],\n",
       "       [1.        , 0.05238095]])"
      ]
     },
     "execution_count": 79,
     "metadata": {},
     "output_type": "execute_result"
    }
   ],
   "source": [
    "F1_crowdtruth = compute_F1_score(crowdtruth, 1, 'gold')\n",
    "F1_crowdtruth"
   ]
  },
  {
   "cell_type": "code",
   "execution_count": 80,
   "metadata": {},
   "outputs": [
    {
     "data": {
      "text/plain": [
       "array([[0.1       , 0.92982456],\n",
       "       [0.2       , 0.92793932],\n",
       "       [0.3       , 0.92484076],\n",
       "       [0.4       , 0.92464879],\n",
       "       [0.5       , 0.92445583],\n",
       "       [0.6       , 0.92426187],\n",
       "       [0.7       , 0.92287918],\n",
       "       [0.8       , 0.92010309],\n",
       "       [0.9       , 0.9140625 ],\n",
       "       [1.        , 0.02955665]])"
      ]
     },
     "execution_count": 80,
     "metadata": {},
     "output_type": "execute_result"
    }
   ],
   "source": [
    "F1_mace = compute_F1_score(mace, 1, 'gold')\n",
    "F1_mace"
   ]
  },
  {
   "cell_type": "code",
   "execution_count": null,
   "metadata": {
    "collapsed": true
   },
   "outputs": [],
   "source": []
  }
 ],
 "metadata": {
  "anaconda-cloud": {},
  "kernelspec": {
   "display_name": "Python 2",
   "language": "python",
   "name": "python2"
  },
  "language_info": {
   "codemirror_mode": {
    "name": "ipython",
    "version": 2
   },
   "file_extension": ".py",
   "mimetype": "text/x-python",
   "name": "python",
   "nbconvert_exporter": "python",
   "pygments_lexer": "ipython2",
   "version": "2.7.13"
  }
 },
 "nbformat": 4,
 "nbformat_minor": 2
}
