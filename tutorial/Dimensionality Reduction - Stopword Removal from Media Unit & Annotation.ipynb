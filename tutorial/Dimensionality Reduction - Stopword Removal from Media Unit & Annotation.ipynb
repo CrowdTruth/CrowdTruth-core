{
 "cells": [
  {
   "cell_type": "markdown",
   "metadata": {},
   "source": [
    "# Stopword Removal from Media Unit & Annotation\n",
    "\n",
    "In this tutorial, we will show how *dimensionality reduction* can be applied over *both the media units and the annotations* of a crowdsourcing task, and how this impacts the results of the CrowdTruth quality metrics. We start with an *open-ended extraction task*, where the crowd was asked to highlight words or phrases in a text that identify or refer to people in a video. The task was executed on [FigureEight](https://www.figure-eight.com/). This is how the task looked like to the workers:\n",
    "\n",
    "![Task Template](img/person-video-highlight.png)"
   ]
  },
  {
   "cell_type": "markdown",
   "metadata": {},
   "source": [
    "A sample dataset for this task is available in [this file](https://raw.githubusercontent.com/CrowdTruth/CrowdTruth-core/master/tutorial/data/person-video-highlight.csv), containing raw output from the crowd on FigureEight. Download the file and place it in a folder named `data` that has the same root as this notebook. The answers from the crowd are stored in the `taggedinsubtitles` column."
   ]
  },
  {
   "cell_type": "code",
   "execution_count": 1,
   "metadata": {
    "collapsed": false
   },
   "outputs": [
    {
     "data": {
      "text/plain": [
       "0            [\"Italian\",\"astronaut\",\"samantha\",\"she's\"]\n",
       "1                            [\"astronaut\",\"photograph\"]\n",
       "2                                         [\"astronaut\"]\n",
       "3              [\"astronaut\",\"samantha\",\"cristoforetti\"]\n",
       "4     [\"Italian\",\"astronaut\",\"samantha\",\"cristoforet...\n",
       "5     [\"Italian astronaut samantha cristoforetti upl...\n",
       "6     [\"Italian\",\"astronaut\",\"samantha cristoforetti...\n",
       "7                [\"astronaut\",\"samantha cristoforetti\"]\n",
       "8     [\"Italian\",\"astronaut\",\"samantha\",\"cristoforet...\n",
       "9     [\"Italian\",\"astronaut\",\"samantha\",\"cristoforet...\n",
       "10    [\"astronaut\",\"samantha\",\"cristoforetti\",\"photo...\n",
       "11       [\"astronaut\",\"samantha cristoforetti\",\"she's\"]\n",
       "12    [\"Italian\",\"astronaut\",\"samantha\",\"cristoforet...\n",
       "13                                        [\"astronaut\"]\n",
       "14                 [\"Italian\",\"astronaut\",\"photograph\"]\n",
       "15    [\"Italian\",\"astronaut\",\"samantha\",\"cristoforet...\n",
       "16    [\"Italian\",\"astronaut\",\"samantha\",\"cristoforet...\n",
       "17    [\"Italian\",\"astronaut\",\"samantha\",\"cristoforet...\n",
       "18                                [\"astronaut\",\"she's\"]\n",
       "19    [\"Italian\",\"astronaut\",\"samantha cristoforetti...\n",
       "20                                                  NaN\n",
       "21                                        [\"phenomena\"]\n",
       "22                                        [\"phenomena\"]\n",
       "23                                                  NaN\n",
       "24                                                  NaN\n",
       "25                                        [\"phenomena\"]\n",
       "26                                                  NaN\n",
       "27                                                  NaN\n",
       "28                              [\"phenomena\",\"massive\"]\n",
       "29                                          [\"massive\"]\n",
       "Name: taggedinsubtitles, dtype: object"
      ]
     },
     "execution_count": 1,
     "metadata": {},
     "output_type": "execute_result"
    }
   ],
   "source": [
    "import pandas as pd\n",
    "\n",
    "test_data = pd.read_csv(\"data/person-video-highlight.csv\")\n",
    "test_data[\"taggedinsubtitles\"][0:30]"
   ]
  },
  {
   "cell_type": "markdown",
   "metadata": {},
   "source": [
    "Notice the diverse behavior of the crowd workers. While most annotated each word individually, the worker on *row 5* annotated chunks of the sentence together in one word phrase. Also, when no answer was picked by the worker, the value in the cell is `NaN`."
   ]
  },
  {
   "cell_type": "markdown",
   "metadata": {},
   "source": [
    "## A basic pre-processing configuration\n",
    "\n",
    "Our basic pre-processing configuration attempts to normalize the different ways of performing the crowd annotations.\n",
    "\n",
    "We set `remove_empty_rows = False` to keep the empty rows from the crowd. This configuration option will set all empty cell values to correspond to a *NONE* token in the annotation vector.\n",
    "\n",
    "We build the annotation vector to have one component for each word in the sentence. To do this, we break up multiple-word annotations into a list of single words in the `processJudgments` call:\n",
    "\n",
    "```\n",
    "judgments[self.outputColumns[0]] = judgments[self.outputColumns[0]].apply(lambda x: str(x).replace(\n",
    "            ' ',self.annotation_separator))\n",
    "```\n",
    "\n",
    "The final configuration class `Config` is this:"
   ]
  },
  {
   "cell_type": "code",
   "execution_count": 2,
   "metadata": {
    "collapsed": false
   },
   "outputs": [],
   "source": [
    "import crowdtruth\n",
    "from crowdtruth.configuration import DefaultConfig\n",
    "\n",
    "class Config(DefaultConfig):\n",
    "    inputColumns = [\"ctunitid\", \"videolocation\", \"subtitles\"]\n",
    "    outputColumns = [\"taggedinsubtitles\"]\n",
    "    open_ended_task = True\n",
    "    annotation_separator = \",\"\n",
    "\n",
    "    remove_empty_rows = False\n",
    "    \n",
    "    def processJudgments(self, judgments):\n",
    "        # build annotation vector just from words\n",
    "        judgments[self.outputColumns[0]] = judgments[self.outputColumns[0]].apply(lambda x: str(x).replace(\n",
    "            ' ',self.annotation_separator))\n",
    "\n",
    "        # normalize vector elements\n",
    "        judgments[self.outputColumns[0]] = judgments[self.outputColumns[0]].apply(lambda x: str(x).replace('[',''))\n",
    "        judgments[self.outputColumns[0]] = judgments[self.outputColumns[0]].apply(lambda x: str(x).replace(']',''))\n",
    "        judgments[self.outputColumns[0]] = judgments[self.outputColumns[0]].apply(lambda x: str(x).replace('\"',''))\n",
    "        return judgments"
   ]
  },
  {
   "cell_type": "markdown",
   "metadata": {},
   "source": [
    "Now we can pre-process the data and run the CrowdTruth metrics:"
   ]
  },
  {
   "cell_type": "code",
   "execution_count": 3,
   "metadata": {
    "collapsed": true
   },
   "outputs": [],
   "source": [
    "data_with_stopwords, config_with_stopwords = crowdtruth.load(\n",
    "    file = \"data/person-video-highlight.csv\",\n",
    "    config = Config()\n",
    ")\n",
    "\n",
    "processed_results_with_stopwords = crowdtruth.run(data_with_stopwords, config_with_stopwords)"
   ]
  },
  {
   "cell_type": "markdown",
   "metadata": {},
   "source": [
    "## Removing stopwords from Units and Annotations"
   ]
  },
  {
   "cell_type": "markdown",
   "metadata": {},
   "source": [
    "The function that removes stopwords from strings:"
   ]
  },
  {
   "cell_type": "code",
   "execution_count": 4,
   "metadata": {
    "collapsed": true
   },
   "outputs": [],
   "source": [
    "import nltk\n",
    "from nltk.corpus import stopwords\n",
    "import string\n",
    "\n",
    "stopword_set = set(stopwords.words('english'))\n",
    "stopword_set.update(['s'])\n",
    "\n",
    "def remove_stop_words(all_words, sep):\n",
    "    words_list = all_words.replace(\"'\", sep).split(sep)\n",
    "    corrected_words_list = \"\"\n",
    "    for word in words_list:\n",
    "        if word.translate(None, string.punctuation) not in stopword_set:\n",
    "            if corrected_words_list != \"\":\n",
    "                corrected_words_list += sep\n",
    "            corrected_words_list += word\n",
    "    return corrected_words_list"
   ]
  },
  {
   "cell_type": "markdown",
   "metadata": {},
   "source": [
    "The final configuration class:"
   ]
  },
  {
   "cell_type": "code",
   "execution_count": 5,
   "metadata": {
    "collapsed": true
   },
   "outputs": [],
   "source": [
    "import pandas as pd\n",
    "\n",
    "class ConfigDimRed(Config):\n",
    "    def processJudgments(self, judgments):\n",
    "        judgments = Config.processJudgments(self, judgments)\n",
    "        \n",
    "        # remove stopwords from input sentence\n",
    "        for idx in range(len(judgments[self.inputColumns[2]])):\n",
    "            judgments.at[idx, self.inputColumns[2]] = remove_stop_words(\n",
    "                judgments[self.inputColumns[2]][idx], \" \")\n",
    "        \n",
    "        for idx in range(len(judgments[self.outputColumns[0]])):\n",
    "            judgments.at[idx, self.outputColumns[0]] = remove_stop_words(\n",
    "                judgments[self.outputColumns[0]][idx], self.annotation_separator)\n",
    "            if judgments[self.outputColumns[0]][idx] == \"\":\n",
    "                judgments.at[idx, self.outputColumns[0]] = self.none_token\n",
    "        return judgments"
   ]
  },
  {
   "cell_type": "markdown",
   "metadata": {},
   "source": [
    "Now we can pre-process the data and run the CrowdTruth metrics:"
   ]
  },
  {
   "cell_type": "code",
   "execution_count": 5,
   "metadata": {
    "collapsed": false
   },
   "outputs": [],
   "source": [
    "data_without_stopwords, config_without_stopwords = crowdtruth.load(\n",
    "    file = \"data/person-video-highlight.csv\",\n",
    "    config = ConfigDimRed()\n",
    ")\n",
    "\n",
    "processed_results_without_stopwords = crowdtruth.run(data_without_stopwords, config_without_stopwords)"
   ]
  },
  {
   "cell_type": "markdown",
   "metadata": {},
   "source": [
    "## Effect on CrowdTruth metrics\n",
    "\n",
    "Finally, we can compare the effect of the stopword removal on the CrowdTruth quality metrics."
   ]
  },
  {
   "cell_type": "code",
   "execution_count": 8,
   "metadata": {
    "collapsed": false
   },
   "outputs": [
    {
     "data": {
      "text/plain": [
       "Text(0,0.5,'without stopwords')"
      ]
     },
     "execution_count": 8,
     "metadata": {},
     "output_type": "execute_result"
    },
    {
     "data": {
      "image/png": "[encoded data removed]",
      "text/plain": [
       "<Figure size 432x288 with 1 Axes>"
      ]
     },
     "metadata": {},
     "output_type": "display_data"
    }
   ],
   "source": [
    "%matplotlib inline\n",
    "\n",
    "import matplotlib\n",
    "import matplotlib.pyplot as plt\n",
    "\n",
    "plt.scatter(\n",
    "    processed_results_with_stopwords[\"units\"][\"uqs\"],\n",
    "    processed_results_without_stopwords[\"units\"][\"uqs\"],\n",
    ")\n",
    "plt.plot([0, 1], [0, 1], 'red', linewidth=1)\n",
    "plt.title(\"Sentence Quality Score\")\n",
    "plt.xlabel(\"with stopwords\")\n",
    "plt.ylabel(\"without stopwords\")"
   ]
  },
  {
   "cell_type": "code",
   "execution_count": 9,
   "metadata": {
    "collapsed": false
   },
   "outputs": [
    {
     "data": {
      "text/plain": [
       "Text(0,0.5,'without stopwords')"
      ]
     },
     "execution_count": 9,
     "metadata": {},
     "output_type": "execute_result"
    },
    {
     "data": {
      "image/png": "[encoded data removed]",
      "text/plain": [
       "<Figure size 432x288 with 1 Axes>"
      ]
     },
     "metadata": {},
     "output_type": "display_data"
    }
   ],
   "source": [
    "plt.scatter(\n",
    "    processed_results_with_stopwords[\"workers\"][\"wqs\"],\n",
    "    processed_results_without_stopwords[\"workers\"][\"wqs\"],\n",
    ")\n",
    "plt.plot([0, 0.6], [0, 0.6], 'red', linewidth=1)\n",
    "plt.title(\"Worker Quality Score\")\n",
    "plt.xlabel(\"with stopwords\")\n",
    "plt.ylabel(\"without stopwords\")"
   ]
  },
  {
   "cell_type": "code",
   "execution_count": null,
   "metadata": {
    "collapsed": true
   },
   "outputs": [],
   "source": []
  }
 ],
 "metadata": {
  "anaconda-cloud": {},
  "kernelspec": {
   "display_name": "Python [conda root]",
   "language": "python",
   "name": "conda-root-py"
  },
  "language_info": {
   "codemirror_mode": {
    "name": "ipython",
    "version": 2
   },
   "file_extension": ".py",
   "mimetype": "text/x-python",
   "name": "python",
   "nbconvert_exporter": "python",
   "pygments_lexer": "ipython2",
   "version": "2.7.13"
  }
 },
 "nbformat": 4,
 "nbformat_minor": 2
}
