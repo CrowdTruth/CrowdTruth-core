{
 "cells": [
  {
   "cell_type": "markdown",
   "metadata": {},
   "source": [
    "# CrowdTruth for Free Input Tasks: Person Annotation in Video\n",
    "\n",
    "In this tutorial, we will apply CrowdTruth metrics to a **free input** crowdsourcing task for **Person Annotation** from **video fragments**. The workers were asked to watch a video of about 3-5 seconds and then add tags that are relevant for the people that appear in the video fragment. The task was executed on [FigureEight](https://www.figure-eight.com/).\n",
    "\n",
    "To replicate this experiment, the code used to design and implement this crowdsourcing annotation template is available here: [template](https://raw.githubusercontent.com/CrowdTruth/CrowdTruth-core/master/tutorial/templates/People-Video-Free/template.html), [css](https://raw.githubusercontent.com/CrowdTruth/CrowdTruth-core/master/tutorial/templates/People-Video-Free/template.css), [javascript](https://raw.githubusercontent.com/CrowdTruth/CrowdTruth-core/master/tutorial/templates/People-Video-Free/template.js). \n",
    "\n",
    "This is a screenshot of the task as it appeared to workers:\n",
    "\n",
    "![Task Template](img/person-video-free-input.png)"
   ]
  },
  {
   "cell_type": "markdown",
   "metadata": {},
   "source": [
    "A sample dataset for this task is available in [this file](https://raw.githubusercontent.com/CrowdTruth/CrowdTruth-core/master/tutorial/data/person-video-free-input.csv), containing raw output from the crowd on FigureEight. Download the file and place it in a folder named `data` that has the same root as this notebook. Now you can check your data:"
   ]
  },
  {
   "cell_type": "code",
   "execution_count": 1,
   "metadata": {},
   "outputs": [
    {
     "data": {
      "text/html": [
       "<div>\n",
       "<style scoped>\n",
       "    .dataframe tbody tr th:only-of-type {\n",
       "        vertical-align: middle;\n",
       "    }\n",
       "\n",
       "    .dataframe tbody tr th {\n",
       "        vertical-align: top;\n",
       "    }\n",
       "\n",
       "    .dataframe thead th {\n",
       "        text-align: right;\n",
       "    }\n",
       "</style>\n",
       "<table border=\"1\" class=\"dataframe\">\n",
       "  <thead>\n",
       "    <tr style=\"text-align: right;\">\n",
       "      <th></th>\n",
       "      <th>_unit_id</th>\n",
       "      <th>_created_at</th>\n",
       "      <th>_id</th>\n",
       "      <th>_started_at</th>\n",
       "      <th>_tainted</th>\n",
       "      <th>_channel</th>\n",
       "      <th>_trust</th>\n",
       "      <th>_worker_id</th>\n",
       "      <th>_country</th>\n",
       "      <th>_region</th>\n",
       "      <th>...</th>\n",
       "      <th>e_volumechange_gold</th>\n",
       "      <th>e_waiting_gold</th>\n",
       "      <th>hiddeninput_gold</th>\n",
       "      <th>imagelocation</th>\n",
       "      <th>imagetags</th>\n",
       "      <th>keyframeid_gold</th>\n",
       "      <th>keywords_gold</th>\n",
       "      <th>subtitles</th>\n",
       "      <th>subtitletags</th>\n",
       "      <th>videolocation</th>\n",
       "    </tr>\n",
       "  </thead>\n",
       "  <tbody>\n",
       "    <tr>\n",
       "      <th>0</th>\n",
       "      <td>1856665485</td>\n",
       "      <td>9/1/2018 18:50:31</td>\n",
       "      <td>4023167828</td>\n",
       "      <td>9/1/2018 18:50:04</td>\n",
       "      <td>False</td>\n",
       "      <td>prodege</td>\n",
       "      <td>1</td>\n",
       "      <td>3587109</td>\n",
       "      <td>CAN</td>\n",
       "      <td>NS</td>\n",
       "      <td>...</td>\n",
       "      <td>NaN</td>\n",
       "      <td>NaN</td>\n",
       "      <td>NaN</td>\n",
       "      <td>https://joran.org/ct/entity.admin.unit.2649/85...</td>\n",
       "      <td>industry__c0_###_grinder__c1_###_production__c...</td>\n",
       "      <td>NaN</td>\n",
       "      <td>NaN</td>\n",
       "      <td>Italian astronaut samantha cristoforetti uploa...</td>\n",
       "      <td>Italian__0_###_astronaut__1_###_samantha__2_##...</td>\n",
       "      <td>https://joran.org/ct/entity.admin.unit.2649/85...</td>\n",
       "    </tr>\n",
       "    <tr>\n",
       "      <th>1</th>\n",
       "      <td>1856665485</td>\n",
       "      <td>9/1/2018 19:14:27</td>\n",
       "      <td>4023199796</td>\n",
       "      <td>9/1/2018 19:11:49</td>\n",
       "      <td>False</td>\n",
       "      <td>prodege</td>\n",
       "      <td>1</td>\n",
       "      <td>11131207</td>\n",
       "      <td>CAN</td>\n",
       "      <td>ON</td>\n",
       "      <td>...</td>\n",
       "      <td>NaN</td>\n",
       "      <td>NaN</td>\n",
       "      <td>NaN</td>\n",
       "      <td>https://joran.org/ct/entity.admin.unit.2649/85...</td>\n",
       "      <td>industry__c0_###_grinder__c1_###_production__c...</td>\n",
       "      <td>NaN</td>\n",
       "      <td>NaN</td>\n",
       "      <td>Italian astronaut samantha cristoforetti uploa...</td>\n",
       "      <td>Italian__0_###_astronaut__1_###_samantha__2_##...</td>\n",
       "      <td>https://joran.org/ct/entity.admin.unit.2649/85...</td>\n",
       "    </tr>\n",
       "    <tr>\n",
       "      <th>2</th>\n",
       "      <td>1856665485</td>\n",
       "      <td>9/1/2018 19:14:27</td>\n",
       "      <td>4023199802</td>\n",
       "      <td>9/1/2018 19:14:02</td>\n",
       "      <td>False</td>\n",
       "      <td>elite</td>\n",
       "      <td>1</td>\n",
       "      <td>44242038</td>\n",
       "      <td>USA</td>\n",
       "      <td>FL</td>\n",
       "      <td>...</td>\n",
       "      <td>NaN</td>\n",
       "      <td>NaN</td>\n",
       "      <td>NaN</td>\n",
       "      <td>https://joran.org/ct/entity.admin.unit.2649/85...</td>\n",
       "      <td>industry__c0_###_grinder__c1_###_production__c...</td>\n",
       "      <td>NaN</td>\n",
       "      <td>NaN</td>\n",
       "      <td>Italian astronaut samantha cristoforetti uploa...</td>\n",
       "      <td>Italian__0_###_astronaut__1_###_samantha__2_##...</td>\n",
       "      <td>https://joran.org/ct/entity.admin.unit.2649/85...</td>\n",
       "    </tr>\n",
       "    <tr>\n",
       "      <th>3</th>\n",
       "      <td>1856665485</td>\n",
       "      <td>9/1/2018 20:00:28</td>\n",
       "      <td>4023268757</td>\n",
       "      <td>9/1/2018 19:59:35</td>\n",
       "      <td>False</td>\n",
       "      <td>keeprewarding</td>\n",
       "      <td>1</td>\n",
       "      <td>44637936</td>\n",
       "      <td>CAN</td>\n",
       "      <td>NS</td>\n",
       "      <td>...</td>\n",
       "      <td>NaN</td>\n",
       "      <td>NaN</td>\n",
       "      <td>NaN</td>\n",
       "      <td>https://joran.org/ct/entity.admin.unit.2649/85...</td>\n",
       "      <td>industry__c0_###_grinder__c1_###_production__c...</td>\n",
       "      <td>NaN</td>\n",
       "      <td>NaN</td>\n",
       "      <td>Italian astronaut samantha cristoforetti uploa...</td>\n",
       "      <td>Italian__0_###_astronaut__1_###_samantha__2_##...</td>\n",
       "      <td>https://joran.org/ct/entity.admin.unit.2649/85...</td>\n",
       "    </tr>\n",
       "    <tr>\n",
       "      <th>4</th>\n",
       "      <td>1856665485</td>\n",
       "      <td>9/1/2018 20:59:38</td>\n",
       "      <td>4023382276</td>\n",
       "      <td>9/1/2018 20:58:37</td>\n",
       "      <td>False</td>\n",
       "      <td>elite</td>\n",
       "      <td>1</td>\n",
       "      <td>43852630</td>\n",
       "      <td>USA</td>\n",
       "      <td>FL</td>\n",
       "      <td>...</td>\n",
       "      <td>NaN</td>\n",
       "      <td>NaN</td>\n",
       "      <td>NaN</td>\n",
       "      <td>https://joran.org/ct/entity.admin.unit.2649/85...</td>\n",
       "      <td>industry__c0_###_grinder__c1_###_production__c...</td>\n",
       "      <td>NaN</td>\n",
       "      <td>NaN</td>\n",
       "      <td>Italian astronaut samantha cristoforetti uploa...</td>\n",
       "      <td>Italian__0_###_astronaut__1_###_samantha__2_##...</td>\n",
       "      <td>https://joran.org/ct/entity.admin.unit.2649/85...</td>\n",
       "    </tr>\n",
       "  </tbody>\n",
       "</table>\n",
       "<p>5 rows × 70 columns</p>\n",
       "</div>"
      ],
      "text/plain": [
       "     _unit_id        _created_at         _id        _started_at  _tainted  \\\n",
       "0  1856665485  9/1/2018 18:50:31  4023167828  9/1/2018 18:50:04     False   \n",
       "1  1856665485  9/1/2018 19:14:27  4023199796  9/1/2018 19:11:49     False   \n",
       "2  1856665485  9/1/2018 19:14:27  4023199802  9/1/2018 19:14:02     False   \n",
       "3  1856665485  9/1/2018 20:00:28  4023268757  9/1/2018 19:59:35     False   \n",
       "4  1856665485  9/1/2018 20:59:38  4023382276  9/1/2018 20:58:37     False   \n",
       "\n",
       "        _channel  _trust  _worker_id _country _region  \\\n",
       "0        prodege       1     3587109      CAN      NS   \n",
       "1        prodege       1    11131207      CAN      ON   \n",
       "2          elite       1    44242038      USA      FL   \n",
       "3  keeprewarding       1    44637936      CAN      NS   \n",
       "4          elite       1    43852630      USA      FL   \n",
       "\n",
       "                         ...                         e_volumechange_gold  \\\n",
       "0                        ...                                         NaN   \n",
       "1                        ...                                         NaN   \n",
       "2                        ...                                         NaN   \n",
       "3                        ...                                         NaN   \n",
       "4                        ...                                         NaN   \n",
       "\n",
       "  e_waiting_gold  hiddeninput_gold  \\\n",
       "0            NaN               NaN   \n",
       "1            NaN               NaN   \n",
       "2            NaN               NaN   \n",
       "3            NaN               NaN   \n",
       "4            NaN               NaN   \n",
       "\n",
       "                                       imagelocation  \\\n",
       "0  https://joran.org/ct/entity.admin.unit.2649/85...   \n",
       "1  https://joran.org/ct/entity.admin.unit.2649/85...   \n",
       "2  https://joran.org/ct/entity.admin.unit.2649/85...   \n",
       "3  https://joran.org/ct/entity.admin.unit.2649/85...   \n",
       "4  https://joran.org/ct/entity.admin.unit.2649/85...   \n",
       "\n",
       "                                           imagetags  keyframeid_gold  \\\n",
       "0  industry__c0_###_grinder__c1_###_production__c...              NaN   \n",
       "1  industry__c0_###_grinder__c1_###_production__c...              NaN   \n",
       "2  industry__c0_###_grinder__c1_###_production__c...              NaN   \n",
       "3  industry__c0_###_grinder__c1_###_production__c...              NaN   \n",
       "4  industry__c0_###_grinder__c1_###_production__c...              NaN   \n",
       "\n",
       "   keywords_gold                                          subtitles  \\\n",
       "0            NaN  Italian astronaut samantha cristoforetti uploa...   \n",
       "1            NaN  Italian astronaut samantha cristoforetti uploa...   \n",
       "2            NaN  Italian astronaut samantha cristoforetti uploa...   \n",
       "3            NaN  Italian astronaut samantha cristoforetti uploa...   \n",
       "4            NaN  Italian astronaut samantha cristoforetti uploa...   \n",
       "\n",
       "                                        subtitletags  \\\n",
       "0  Italian__0_###_astronaut__1_###_samantha__2_##...   \n",
       "1  Italian__0_###_astronaut__1_###_samantha__2_##...   \n",
       "2  Italian__0_###_astronaut__1_###_samantha__2_##...   \n",
       "3  Italian__0_###_astronaut__1_###_samantha__2_##...   \n",
       "4  Italian__0_###_astronaut__1_###_samantha__2_##...   \n",
       "\n",
       "                                       videolocation  \n",
       "0  https://joran.org/ct/entity.admin.unit.2649/85...  \n",
       "1  https://joran.org/ct/entity.admin.unit.2649/85...  \n",
       "2  https://joran.org/ct/entity.admin.unit.2649/85...  \n",
       "3  https://joran.org/ct/entity.admin.unit.2649/85...  \n",
       "4  https://joran.org/ct/entity.admin.unit.2649/85...  \n",
       "\n",
       "[5 rows x 70 columns]"
      ]
     },
     "execution_count": 1,
     "metadata": {},
     "output_type": "execute_result"
    }
   ],
   "source": [
    "import pandas as pd\n",
    "\n",
    "test_data = pd.read_csv(\"data/person-video-free-input.csv\")\n",
    "test_data.head()"
   ]
  },
  {
   "cell_type": "markdown",
   "metadata": {},
   "source": [
    "## Declaring a pre-processing configuration\n",
    "\n",
    "The pre-processing configuration defines how to interpret the raw crowdsourcing input. To do this, we need to define a configuration class. First, we import the default CrowdTruth configuration class:"
   ]
  },
  {
   "cell_type": "code",
   "execution_count": 2,
   "metadata": {
    "collapsed": true
   },
   "outputs": [],
   "source": [
    "import logging\n",
    "logger = logging.getLogger()\n",
    "logger.setLevel(logging.INFO)\n",
    "logging.debug(\"test\")\n",
    "\n",
    "import crowdtruth\n",
    "from crowdtruth.configuration import DefaultConfig"
   ]
  },
  {
   "cell_type": "markdown",
   "metadata": {},
   "source": [
    "Our test class inherits the default configuration `DefaultConfig`, while also declaring some additional attributes that are specific to the Person Type/Role Annotation in Video task:\n",
    "\n",
    "* **`inputColumns`:** list of input columns from the .csv file with the input data\n",
    "* **`outputColumns`:** list of output columns from the .csv file with the answers from the workers\n",
    "* **`annotation_separator`:** string that separates between the crowd annotations in `outputColumns`\n",
    "* **`open_ended_task`:** boolean variable defining whether the task is open-ended (i.e. the possible crowd annotations are not known beforehand, like in the case of free text input); in the task that we are processing, workers pick the answers from a pre-defined list, therefore the task is not open ended, and this variable is set to `False`\n",
    "* **`annotation_vector`:** list of possible crowd answers, mandatory to declare when `open_ended_task` is `False`; for our task, this is the list of relations\n",
    "* **`processJudgments`:** method that defines processing of the raw crowd data; for this task, we process the crowd answers to correspond to the values in `annotation_vector`\n",
    "\n",
    "Same examples of possible processing functions of crowd answers are given below:"
   ]
  },
  {
   "cell_type": "code",
   "execution_count": 32,
   "metadata": {},
   "outputs": [
    {
     "name": "stdout",
     "output_type": "stream",
     "text": [
      "[nltk_data] Downloading package stopwords to\n",
      "[nltk_data]     /Users/oanainel/nltk_data...\n",
      "[nltk_data]   Package stopwords is already up-to-date!\n",
      "[nltk_data] Downloading package punkt to /Users/oanainel/nltk_data...\n",
      "[nltk_data]   Package punkt is already up-to-date!\n",
      "[nltk_data] Downloading package averaged_perceptron_tagger to\n",
      "[nltk_data]     /Users/oanainel/nltk_data...\n",
      "[nltk_data]   Package averaged_perceptron_tagger is already up-to-\n",
      "[nltk_data]       date!\n",
      "[nltk_data] Downloading package wordnet to\n",
      "[nltk_data]     /Users/oanainel/nltk_data...\n",
      "[nltk_data]   Package wordnet is already up-to-date!\n"
     ]
    }
   ],
   "source": [
    "import nltk\n",
    "nltk.download('stopwords')\n",
    "nltk.download('punkt')\n",
    "nltk.download('averaged_perceptron_tagger')\n",
    "nltk.download('wordnet')\n",
    "from nltk.corpus import stopwords\n",
    "from nltk.stem import WordNetLemmatizer\n",
    "from nltk.corpus import wordnet\n",
    "from autocorrect import spell\n",
    "\n",
    "def correct_words(keywords, separator):\n",
    "    keywords_list = keywords.split(separator)\n",
    "    corrected_keywords = []\n",
    "    \n",
    "    for keyword in keywords_list:\n",
    "        \n",
    "        words_in_keyword = keyword.split(\" \")\n",
    "        corrected_keyword = []\n",
    "        for word in words_in_keyword:\n",
    "            correct_word = spell(word)\n",
    "            corrected_keyword.append(correct_word)\n",
    "        corrected_keywords.append(\" \".join(corrected_keyword))\n",
    "    return separator.join(corrected_keywords)\n",
    "    \n",
    "def cleanup_keywords(keywords, separator):\n",
    "    keywords_list = keywords.split(separator)\n",
    "    stopset = set(stopwords.words('english'))\n",
    "    \n",
    "    filtered_keywords = []\n",
    "    for keyword in keywords_list:\n",
    "        tokens = nltk.word_tokenize(keyword)\n",
    "        cleanup = \" \".join(filter(lambda word: str(word) not in stopset or str(word) == \"no\" or str(word) == \"not\", keyword.split()))\n",
    "        filtered_keywords.append(cleanup)\n",
    "    return separator.join(filtered_keywords)\n",
    "\n",
    "def nltk2wn_tag(nltk_tag):\n",
    "    if nltk_tag.startswith('J'):\n",
    "        return wordnet.ADJ\n",
    "    elif nltk_tag.startswith('V'):\n",
    "        return wordnet.VERB\n",
    "    elif nltk_tag.startswith('N'):\n",
    "        return wordnet.NOUN\n",
    "    elif nltk_tag.startswith('R'):\n",
    "        return wordnet.ADV\n",
    "    else:          \n",
    "        return None\n",
    "\n",
    "def lemmatize_keywords(keywords, separator):\n",
    "    keywords_list = keywords.split(separator)\n",
    "    lematized_keywords = []\n",
    "    \n",
    "    for keyword in keywords_list:\n",
    "        nltk_tagged = nltk.pos_tag(nltk.word_tokenize(str(keyword)))  \n",
    "        wn_tagged = map(lambda x: (str(x[0]), nltk2wn_tag(x[1])), nltk_tagged)\n",
    "        res_words = []\n",
    "        for word, tag in wn_tagged:\n",
    "            if tag is None:            \n",
    "                res_word = wordnet._morphy(str(word), wordnet.NOUN)\n",
    "                if res_word == []:\n",
    "                    res_words.append(str(word))\n",
    "                else:\n",
    "                    if len(res_word) == 1:\n",
    "                        res_words.append(str(res_word[0]))\n",
    "                    else:\n",
    "                        res_words.append(str(res_word[1]))\n",
    "            else:\n",
    "                res_word = wordnet._morphy(str(word), tag)\n",
    "                if res_word == []:\n",
    "                    res_words.append(str(word))\n",
    "                else: \n",
    "                    if len(res_word) == 1:\n",
    "                        res_words.append(str(res_word[0]))\n",
    "                    else:\n",
    "                        res_words.append(str(res_word[1]))\n",
    "        lematized_keyword = \" \".join(res_words)\n",
    "        lematized_keywords.append(lematized_keyword)\n",
    "        \n",
    "    return separator.join(lematized_keywords)"
   ]
  },
  {
   "cell_type": "markdown",
   "metadata": {},
   "source": [
    "The complete configuration class is declared below:"
   ]
  },
  {
   "cell_type": "code",
   "execution_count": 33,
   "metadata": {
    "collapsed": true
   },
   "outputs": [],
   "source": [
    "class TestConfig(DefaultConfig):\n",
    "    inputColumns = [\"videolocation\", \"subtitles\", \"imagetags\", \"subtitletags\"]\n",
    "    outputColumns = [\"keywords\"]\n",
    "    \n",
    "    # processing of a closed task\n",
    "    open_ended_task = True\n",
    "    annotation_vector = []\n",
    "    \n",
    "    def processJudgments(self, judgments):\n",
    "        # pre-process output to match the values in annotation_vector\n",
    "        for col in self.outputColumns:\n",
    "            # transform to lowercase\n",
    "            judgments[col] = judgments[col].apply(lambda x: str(x).lower())\n",
    "            # remove square brackets from annotations\n",
    "            judgments[col] = judgments[col].apply(lambda x: str(x).replace('[]','no tags'))\n",
    "            judgments[col] = judgments[col].apply(lambda x: str(x).replace('[',''))\n",
    "            judgments[col] = judgments[col].apply(lambda x: str(x).replace(']',''))\n",
    "            # remove the quotes around the annotations\n",
    "            judgments[col] = judgments[col].apply(lambda x: str(x).replace('\"',''))\n",
    "            # apply custom processing functions\n",
    "            judgments[col] = judgments[col].apply(lambda x: correct_words(str(x), self.annotation_separator))\n",
    "            judgments[col] = judgments[col].apply(lambda x: \"no tag\" if cleanup_keywords(str(x), self.annotation_separator) == '' else cleanup_keywords(str(x), self.annotation_separator))\n",
    "            judgments[col] = judgments[col].apply(lambda x: lemmatize_keywords(str(x), self.annotation_separator))\n",
    "        return judgments"
   ]
  },
  {
   "cell_type": "markdown",
   "metadata": {},
   "source": [
    "## Pre-processing the input data\n",
    "\n",
    "After declaring the configuration of our input file, we are ready to pre-process the crowd data:"
   ]
  },
  {
   "cell_type": "code",
   "execution_count": 31,
   "metadata": {},
   "outputs": [
    {
     "name": "stderr",
     "output_type": "stream",
     "text": [
      "INFO:root:Config loaded\n",
      "INFO:root:Values not stored as dictionary\n"
     ]
    },
    {
     "data": {
      "text/html": [
       "<div>\n",
       "<style scoped>\n",
       "    .dataframe tbody tr th:only-of-type {\n",
       "        vertical-align: middle;\n",
       "    }\n",
       "\n",
       "    .dataframe tbody tr th {\n",
       "        vertical-align: top;\n",
       "    }\n",
       "\n",
       "    .dataframe thead th {\n",
       "        text-align: right;\n",
       "    }\n",
       "</style>\n",
       "<table border=\"1\" class=\"dataframe\">\n",
       "  <thead>\n",
       "    <tr style=\"text-align: right;\">\n",
       "      <th></th>\n",
       "      <th>output.keywords</th>\n",
       "      <th>output.keywords.count</th>\n",
       "      <th>output.keywords.unique</th>\n",
       "      <th>submitted</th>\n",
       "      <th>started</th>\n",
       "      <th>worker</th>\n",
       "      <th>unit</th>\n",
       "      <th>duration</th>\n",
       "      <th>job</th>\n",
       "    </tr>\n",
       "    <tr>\n",
       "      <th>judgment</th>\n",
       "      <th></th>\n",
       "      <th></th>\n",
       "      <th></th>\n",
       "      <th></th>\n",
       "      <th></th>\n",
       "      <th></th>\n",
       "      <th></th>\n",
       "      <th></th>\n",
       "      <th></th>\n",
       "    </tr>\n",
       "  </thead>\n",
       "  <tbody>\n",
       "    <tr>\n",
       "      <th>4023167828</th>\n",
       "      <td>{u'space': 1, u'astronaut': 1}</td>\n",
       "      <td>2</td>\n",
       "      <td>2</td>\n",
       "      <td>2018-09-01 18:50:31</td>\n",
       "      <td>2018-09-01 18:50:04</td>\n",
       "      <td>3587109</td>\n",
       "      <td>1856665485</td>\n",
       "      <td>27</td>\n",
       "      <td>data/person-video-free-input</td>\n",
       "    </tr>\n",
       "    <tr>\n",
       "      <th>4023199796</th>\n",
       "      <td>{u'astronaut': 1}</td>\n",
       "      <td>1</td>\n",
       "      <td>1</td>\n",
       "      <td>2018-09-01 19:14:27</td>\n",
       "      <td>2018-09-01 19:11:49</td>\n",
       "      <td>11131207</td>\n",
       "      <td>1856665485</td>\n",
       "      <td>158</td>\n",
       "      <td>data/person-video-free-input</td>\n",
       "    </tr>\n",
       "    <tr>\n",
       "      <th>4023199802</th>\n",
       "      <td>{u'astronaut': 1, u'italian': 1, u'Samantha': ...</td>\n",
       "      <td>5</td>\n",
       "      <td>5</td>\n",
       "      <td>2018-09-01 19:14:27</td>\n",
       "      <td>2018-09-01 19:14:02</td>\n",
       "      <td>44242038</td>\n",
       "      <td>1856665485</td>\n",
       "      <td>25</td>\n",
       "      <td>data/person-video-free-input</td>\n",
       "    </tr>\n",
       "    <tr>\n",
       "      <th>4023268757</th>\n",
       "      <td>{u'astronaut': 1, u'float': 1}</td>\n",
       "      <td>2</td>\n",
       "      <td>2</td>\n",
       "      <td>2018-09-01 20:00:28</td>\n",
       "      <td>2018-09-01 19:59:35</td>\n",
       "      <td>44637936</td>\n",
       "      <td>1856665485</td>\n",
       "      <td>53</td>\n",
       "      <td>data/person-video-free-input</td>\n",
       "    </tr>\n",
       "    <tr>\n",
       "      <th>4023382276</th>\n",
       "      <td>{u'zero gravity': 1}</td>\n",
       "      <td>1</td>\n",
       "      <td>1</td>\n",
       "      <td>2018-09-01 20:59:38</td>\n",
       "      <td>2018-09-01 20:58:37</td>\n",
       "      <td>43852630</td>\n",
       "      <td>1856665485</td>\n",
       "      <td>61</td>\n",
       "      <td>data/person-video-free-input</td>\n",
       "    </tr>\n",
       "  </tbody>\n",
       "</table>\n",
       "</div>"
      ],
      "text/plain": [
       "                                              output.keywords  \\\n",
       "judgment                                                        \n",
       "4023167828                     {u'space': 1, u'astronaut': 1}   \n",
       "4023199796                                  {u'astronaut': 1}   \n",
       "4023199802  {u'astronaut': 1, u'italian': 1, u'Samantha': ...   \n",
       "4023268757                     {u'astronaut': 1, u'float': 1}   \n",
       "4023382276                               {u'zero gravity': 1}   \n",
       "\n",
       "            output.keywords.count  output.keywords.unique           submitted  \\\n",
       "judgment                                                                        \n",
       "4023167828                      2                       2 2018-09-01 18:50:31   \n",
       "4023199796                      1                       1 2018-09-01 19:14:27   \n",
       "4023199802                      5                       5 2018-09-01 19:14:27   \n",
       "4023268757                      2                       2 2018-09-01 20:00:28   \n",
       "4023382276                      1                       1 2018-09-01 20:59:38   \n",
       "\n",
       "                       started    worker        unit  duration  \\\n",
       "judgment                                                         \n",
       "4023167828 2018-09-01 18:50:04   3587109  1856665485        27   \n",
       "4023199796 2018-09-01 19:11:49  11131207  1856665485       158   \n",
       "4023199802 2018-09-01 19:14:02  44242038  1856665485        25   \n",
       "4023268757 2018-09-01 19:59:35  44637936  1856665485        53   \n",
       "4023382276 2018-09-01 20:58:37  43852630  1856665485        61   \n",
       "\n",
       "                                     job  \n",
       "judgment                                  \n",
       "4023167828  data/person-video-free-input  \n",
       "4023199796  data/person-video-free-input  \n",
       "4023199802  data/person-video-free-input  \n",
       "4023268757  data/person-video-free-input  \n",
       "4023382276  data/person-video-free-input  "
      ]
     },
     "execution_count": 31,
     "metadata": {},
     "output_type": "execute_result"
    }
   ],
   "source": [
    "data, config = crowdtruth.load(\n",
    "    file = \"data/person-video-free-input.csv\",\n",
    "    config = TestConfig()\n",
    ")\n",
    "\n",
    "data['judgments'].head()"
   ]
  },
  {
   "cell_type": "markdown",
   "metadata": {},
   "source": [
    "## Computing the CrowdTruth metrics\n",
    "\n",
    "The pre-processed data can then be used to calculate the CrowdTruth metrics:"
   ]
  },
  {
   "cell_type": "code",
   "execution_count": 34,
   "metadata": {},
   "outputs": [
    {
     "name": "stderr",
     "output_type": "stream",
     "text": [
      "INFO:root:1 iterations; max d= 1.0 ; wqs d= 0.93410171551; uqs d= 0.837809124823; aqs d= 0.0\n",
      "INFO:root:2 iterations; max d= 0.49025890176 ; wqs d= 0.20902623628; uqs d= 0.064296828401; aqs d= 0.0\n",
      "INFO:root:3 iterations; max d= 505583424.09 ; wqs d= 212663404.835; uqs d= 0.0385917665451; aqs d= 0.0\n",
      "INFO:root:4 iterations; max d= 505583423.739 ; wqs d= 212663404.564; uqs d= 0.0253326470826; aqs d= 0.0\n",
      "INFO:root:5 iterations; max d= 0.245379004549 ; wqs d= 0.131751722603; uqs d= 0.0221470600619; aqs d= 0.0\n",
      "INFO:root:6 iterations; max d= 53183306.1319 ; wqs d= 11461658.0189; uqs d= 499603.867815; aqs d= 0.0\n",
      "INFO:root:7 iterations; max d= 3.07505663403e+21 ; wqs d= 5.35023742944e+18; uqs d= 1.61932391328e+20; aqs d= 0.0\n",
      "INFO:root:8 iterations; max d= 3.45703553128e+51 ; wqs d= 6.06497461628e+49; uqs d= 1.63416950401e+27; aqs d= 0.0\n",
      "INFO:root:9 iterations; max d= 9.47508811577e+102 ; wqs d= 1.66229616066e+101; uqs d= 1.71022308958e+88; aqs d= 0.0\n",
      "INFO:root:10 iterations; max d= 2.17126875068e+232 ; wqs d= 3.80924342225e+230; uqs d= 8.87074270506e+146; aqs d= 0.0\n",
      "INFO:root:11 iterations; max d= inf ; wqs d= nan; uqs d= inf; aqs d= 0.0\n",
      "INFO:root:12 iterations; max d= 0.0 ; wqs d= nan; uqs d= nan; aqs d= 0.0\n"
     ]
    }
   ],
   "source": [
    "results = crowdtruth.run(data, config)"
   ]
  },
  {
   "cell_type": "markdown",
   "metadata": {},
   "source": [
    "`results` is a dict object that contains the quality metrics for the video fragments, annotations and crowd workers.\n",
    "\n",
    "The **video fragment metrics** are stored in `results[\"units\"]`:"
   ]
  },
  {
   "cell_type": "code",
   "execution_count": 35,
   "metadata": {},
   "outputs": [
    {
     "data": {
      "text/plain": [
       "Counter({'academic': 1,\n",
       "         'color': 1,\n",
       "         'discussion': 1,\n",
       "         'girl': 1,\n",
       "         'graphic': 1,\n",
       "         'innovation': 1,\n",
       "         'invisible': 1,\n",
       "         'letter': 1,\n",
       "         'makeover': 2,\n",
       "         'man': 1,\n",
       "         'movie': 1,\n",
       "         'narrator': 1,\n",
       "         'no person': 2,\n",
       "         'no tag': 1,\n",
       "         'none': 7,\n",
       "         'not present': 1,\n",
       "         'party': 1,\n",
       "         'person': 1,\n",
       "         'rectangle': 1,\n",
       "         'shes': 1,\n",
       "         'speak': 1,\n",
       "         'squiggle': 1,\n",
       "         'title': 1,\n",
       "         'triangle': 1})"
      ]
     },
     "execution_count": 35,
     "metadata": {},
     "output_type": "execute_result"
    }
   ],
   "source": [
    "results[\"units\"][\"output.keywords\"][1856665496]"
   ]
  },
  {
   "cell_type": "code",
   "execution_count": null,
   "metadata": {
    "collapsed": true
   },
   "outputs": [],
   "source": []
  },
  {
   "cell_type": "code",
   "execution_count": null,
   "metadata": {
    "collapsed": true
   },
   "outputs": [],
   "source": []
  },
  {
   "cell_type": "code",
   "execution_count": null,
   "metadata": {
    "collapsed": true
   },
   "outputs": [],
   "source": []
  },
  {
   "cell_type": "code",
   "execution_count": null,
   "metadata": {
    "collapsed": true
   },
   "outputs": [],
   "source": []
  },
  {
   "cell_type": "code",
   "execution_count": null,
   "metadata": {
    "collapsed": true
   },
   "outputs": [],
   "source": []
  },
  {
   "cell_type": "code",
   "execution_count": null,
   "metadata": {
    "collapsed": true
   },
   "outputs": [],
   "source": []
  },
  {
   "cell_type": "code",
   "execution_count": null,
   "metadata": {
    "collapsed": true
   },
   "outputs": [],
   "source": []
  },
  {
   "cell_type": "code",
   "execution_count": null,
   "metadata": {
    "collapsed": true
   },
   "outputs": [],
   "source": []
  },
  {
   "cell_type": "code",
   "execution_count": null,
   "metadata": {
    "collapsed": true
   },
   "outputs": [],
   "source": []
  },
  {
   "cell_type": "code",
   "execution_count": null,
   "metadata": {
    "collapsed": true
   },
   "outputs": [],
   "source": []
  },
  {
   "cell_type": "code",
   "execution_count": null,
   "metadata": {
    "collapsed": true
   },
   "outputs": [],
   "source": []
  },
  {
   "cell_type": "code",
   "execution_count": null,
   "metadata": {
    "collapsed": true
   },
   "outputs": [],
   "source": []
  },
  {
   "cell_type": "code",
   "execution_count": null,
   "metadata": {
    "collapsed": true
   },
   "outputs": [],
   "source": []
  },
  {
   "cell_type": "code",
   "execution_count": null,
   "metadata": {
    "collapsed": true
   },
   "outputs": [],
   "source": []
  },
  {
   "cell_type": "code",
   "execution_count": null,
   "metadata": {
    "collapsed": true
   },
   "outputs": [],
   "source": []
  },
  {
   "cell_type": "code",
   "execution_count": null,
   "metadata": {
    "collapsed": true
   },
   "outputs": [],
   "source": []
  },
  {
   "cell_type": "code",
   "execution_count": null,
   "metadata": {
    "collapsed": true
   },
   "outputs": [],
   "source": []
  },
  {
   "cell_type": "code",
   "execution_count": null,
   "metadata": {
    "collapsed": true
   },
   "outputs": [],
   "source": []
  },
  {
   "cell_type": "code",
   "execution_count": null,
   "metadata": {
    "collapsed": true
   },
   "outputs": [],
   "source": []
  },
  {
   "cell_type": "code",
   "execution_count": null,
   "metadata": {
    "collapsed": true
   },
   "outputs": [],
   "source": []
  },
  {
   "cell_type": "code",
   "execution_count": null,
   "metadata": {
    "collapsed": true
   },
   "outputs": [],
   "source": []
  },
  {
   "cell_type": "code",
   "execution_count": null,
   "metadata": {
    "collapsed": true
   },
   "outputs": [],
   "source": []
  },
  {
   "cell_type": "code",
   "execution_count": null,
   "metadata": {
    "collapsed": true
   },
   "outputs": [],
   "source": []
  },
  {
   "cell_type": "code",
   "execution_count": null,
   "metadata": {
    "collapsed": true
   },
   "outputs": [],
   "source": []
  },
  {
   "cell_type": "code",
   "execution_count": null,
   "metadata": {
    "collapsed": true
   },
   "outputs": [],
   "source": []
  },
  {
   "cell_type": "code",
   "execution_count": null,
   "metadata": {
    "collapsed": true
   },
   "outputs": [],
   "source": []
  },
  {
   "cell_type": "markdown",
   "metadata": {},
   "source": [
    "The `uqs` column in `results[\"units\"]` contains the **video fragment quality scores**, capturing the overall workers agreement over each video fragment. Here we plot its histogram:"
   ]
  },
  {
   "cell_type": "code",
   "execution_count": null,
   "metadata": {
    "collapsed": true
   },
   "outputs": [],
   "source": [
    "import matplotlib.pyplot as plt\n",
    "%matplotlib inline\n",
    "\n",
    "plt.hist(results[\"units\"][\"uqs\"])\n",
    "plt.xlabel(\"Video Fragment Quality Score\")\n",
    "plt.ylabel(\"Video Fragment\")"
   ]
  },
  {
   "cell_type": "markdown",
   "metadata": {},
   "source": [
    "The `unit_annotation_score` column in `results[\"units\"]` contains the **video fragment-annotation scores**, capturing the likelihood that an annotation is expressed in a video fragment. For each video fragment, we store a dictionary mapping each annotation to its video fragment-relation score."
   ]
  },
  {
   "cell_type": "code",
   "execution_count": null,
   "metadata": {
    "collapsed": true
   },
   "outputs": [],
   "source": [
    "results[\"units\"][\"unit_annotation_score_initial\"].head()"
   ]
  },
  {
   "cell_type": "markdown",
   "metadata": {},
   "source": [
    "The **worker metrics** are stored in `results[\"workers\"]`:"
   ]
  },
  {
   "cell_type": "code",
   "execution_count": 46,
   "metadata": {},
   "outputs": [
    {
     "data": {
      "text/html": [
       "<div>\n",
       "<style scoped>\n",
       "    .dataframe tbody tr th:only-of-type {\n",
       "        vertical-align: middle;\n",
       "    }\n",
       "\n",
       "    .dataframe tbody tr th {\n",
       "        vertical-align: top;\n",
       "    }\n",
       "\n",
       "    .dataframe thead th {\n",
       "        text-align: right;\n",
       "    }\n",
       "</style>\n",
       "<table border=\"1\" class=\"dataframe\">\n",
       "  <thead>\n",
       "    <tr style=\"text-align: right;\">\n",
       "      <th></th>\n",
       "      <th>duration</th>\n",
       "      <th>job</th>\n",
       "      <th>judgment</th>\n",
       "      <th>unit</th>\n",
       "      <th>wqs</th>\n",
       "      <th>wwa</th>\n",
       "      <th>wsa</th>\n",
       "      <th>wqs_initial</th>\n",
       "      <th>wwa_initial</th>\n",
       "      <th>wsa_initial</th>\n",
       "    </tr>\n",
       "    <tr>\n",
       "      <th>worker</th>\n",
       "      <th></th>\n",
       "      <th></th>\n",
       "      <th></th>\n",
       "      <th></th>\n",
       "      <th></th>\n",
       "      <th></th>\n",
       "      <th></th>\n",
       "      <th></th>\n",
       "      <th></th>\n",
       "      <th></th>\n",
       "    </tr>\n",
       "  </thead>\n",
       "  <tbody>\n",
       "    <tr>\n",
       "      <th>1855113</th>\n",
       "      <td>43.60</td>\n",
       "      <td>1</td>\n",
       "      <td>25</td>\n",
       "      <td>25</td>\n",
       "      <td>0.636597</td>\n",
       "      <td>0.734697</td>\n",
       "      <td>0.866475</td>\n",
       "      <td>0.324769</td>\n",
       "      <td>0.474289</td>\n",
       "      <td>0.684750</td>\n",
       "    </tr>\n",
       "    <tr>\n",
       "      <th>3587109</th>\n",
       "      <td>15.40</td>\n",
       "      <td>1</td>\n",
       "      <td>25</td>\n",
       "      <td>25</td>\n",
       "      <td>0.411768</td>\n",
       "      <td>0.581163</td>\n",
       "      <td>0.708524</td>\n",
       "      <td>0.366236</td>\n",
       "      <td>0.499577</td>\n",
       "      <td>0.733092</td>\n",
       "    </tr>\n",
       "    <tr>\n",
       "      <th>4316379</th>\n",
       "      <td>36.76</td>\n",
       "      <td>1</td>\n",
       "      <td>25</td>\n",
       "      <td>25</td>\n",
       "      <td>0.446025</td>\n",
       "      <td>0.638058</td>\n",
       "      <td>0.699036</td>\n",
       "      <td>0.191752</td>\n",
       "      <td>0.370894</td>\n",
       "      <td>0.516999</td>\n",
       "    </tr>\n",
       "    <tr>\n",
       "      <th>6339764</th>\n",
       "      <td>79.28</td>\n",
       "      <td>1</td>\n",
       "      <td>25</td>\n",
       "      <td>25</td>\n",
       "      <td>0.176038</td>\n",
       "      <td>0.423132</td>\n",
       "      <td>0.416035</td>\n",
       "      <td>0.231437</td>\n",
       "      <td>0.387467</td>\n",
       "      <td>0.597309</td>\n",
       "    </tr>\n",
       "    <tr>\n",
       "      <th>6367365</th>\n",
       "      <td>53.08</td>\n",
       "      <td>1</td>\n",
       "      <td>25</td>\n",
       "      <td>25</td>\n",
       "      <td>0.508121</td>\n",
       "      <td>0.668064</td>\n",
       "      <td>0.760587</td>\n",
       "      <td>0.280973</td>\n",
       "      <td>0.436799</td>\n",
       "      <td>0.643254</td>\n",
       "    </tr>\n",
       "  </tbody>\n",
       "</table>\n",
       "</div>"
      ],
      "text/plain": [
       "         duration  job  judgment  unit       wqs       wwa       wsa  \\\n",
       "worker                                                                 \n",
       "1855113     43.60    1        25    25  0.636597  0.734697  0.866475   \n",
       "3587109     15.40    1        25    25  0.411768  0.581163  0.708524   \n",
       "4316379     36.76    1        25    25  0.446025  0.638058  0.699036   \n",
       "6339764     79.28    1        25    25  0.176038  0.423132  0.416035   \n",
       "6367365     53.08    1        25    25  0.508121  0.668064  0.760587   \n",
       "\n",
       "         wqs_initial  wwa_initial  wsa_initial  \n",
       "worker                                          \n",
       "1855113     0.324769     0.474289     0.684750  \n",
       "3587109     0.366236     0.499577     0.733092  \n",
       "4316379     0.191752     0.370894     0.516999  \n",
       "6339764     0.231437     0.387467     0.597309  \n",
       "6367365     0.280973     0.436799     0.643254  "
      ]
     },
     "execution_count": 46,
     "metadata": {},
     "output_type": "execute_result"
    }
   ],
   "source": [
    "results[\"workers\"].head()"
   ]
  },
  {
   "cell_type": "markdown",
   "metadata": {},
   "source": [
    "The `wqs` columns in `results[\"workers\"]` contains the **worker quality scores**, capturing the overall agreement between one worker and all the other workers."
   ]
  },
  {
   "cell_type": "code",
   "execution_count": 47,
   "metadata": {
    "scrolled": true
   },
   "outputs": [
    {
     "data": {
      "text/plain": [
       "Text(0,0.5,u'Workers')"
      ]
     },
     "execution_count": 47,
     "metadata": {},
     "output_type": "execute_result"
    },
    {
     "data": {
      "image/png": "[encoded data removed]",
      "text/plain": [
       "<matplotlib.figure.Figure at 0x114c869d0>"
      ]
     },
     "metadata": {},
     "output_type": "display_data"
    }
   ],
   "source": [
    "plt.hist(results[\"workers\"][\"wqs\"])\n",
    "plt.xlabel(\"Worker Quality Score\")\n",
    "plt.ylabel(\"Workers\")"
   ]
  },
  {
   "cell_type": "markdown",
   "metadata": {},
   "source": [
    "The **annotation metrics** are stored in `results[\"annotations\"]`. The `aqs` column contains the **annotation quality scores**, capturing the overall worker agreement over one relation."
   ]
  },
  {
   "cell_type": "code",
   "execution_count": 14,
   "metadata": {
    "scrolled": true
   },
   "outputs": [
    {
     "data": {
      "text/html": [
       "<div>\n",
       "<style scoped>\n",
       "    .dataframe tbody tr th:only-of-type {\n",
       "        vertical-align: middle;\n",
       "    }\n",
       "\n",
       "    .dataframe tbody tr th {\n",
       "        vertical-align: top;\n",
       "    }\n",
       "\n",
       "    .dataframe thead th {\n",
       "        text-align: right;\n",
       "    }\n",
       "</style>\n",
       "<table border=\"1\" class=\"dataframe\">\n",
       "  <thead>\n",
       "    <tr style=\"text-align: right;\">\n",
       "      <th></th>\n",
       "      <th>output.selected_answer</th>\n",
       "      <th>aqs</th>\n",
       "      <th>aqs_initial</th>\n",
       "    </tr>\n",
       "  </thead>\n",
       "  <tbody>\n",
       "    <tr>\n",
       "      <th>archeologist</th>\n",
       "      <td>1000</td>\n",
       "      <td>1.000000e-08</td>\n",
       "      <td>1.000000e-08</td>\n",
       "    </tr>\n",
       "    <tr>\n",
       "      <th>architect</th>\n",
       "      <td>1000</td>\n",
       "      <td>1.000000e-08</td>\n",
       "      <td>1.000000e-08</td>\n",
       "    </tr>\n",
       "    <tr>\n",
       "      <th>artist</th>\n",
       "      <td>1000</td>\n",
       "      <td>2.512851e-01</td>\n",
       "      <td>2.520942e-01</td>\n",
       "    </tr>\n",
       "    <tr>\n",
       "      <th>astronaut</th>\n",
       "      <td>1000</td>\n",
       "      <td>9.999680e-01</td>\n",
       "      <td>9.523810e-01</td>\n",
       "    </tr>\n",
       "    <tr>\n",
       "      <th>athlete</th>\n",
       "      <td>1000</td>\n",
       "      <td>2.801650e-01</td>\n",
       "      <td>2.788104e-01</td>\n",
       "    </tr>\n",
       "    <tr>\n",
       "      <th>businessperson</th>\n",
       "      <td>1000</td>\n",
       "      <td>6.188727e-02</td>\n",
       "      <td>9.618163e-02</td>\n",
       "    </tr>\n",
       "    <tr>\n",
       "      <th>celebrity</th>\n",
       "      <td>1000</td>\n",
       "      <td>7.459197e-01</td>\n",
       "      <td>6.066316e-01</td>\n",
       "    </tr>\n",
       "    <tr>\n",
       "      <th>chef</th>\n",
       "      <td>1000</td>\n",
       "      <td>1.000000e-08</td>\n",
       "      <td>1.000000e-08</td>\n",
       "    </tr>\n",
       "    <tr>\n",
       "      <th>criminal</th>\n",
       "      <td>1000</td>\n",
       "      <td>1.272384e-01</td>\n",
       "      <td>1.530612e-01</td>\n",
       "    </tr>\n",
       "    <tr>\n",
       "      <th>engineer</th>\n",
       "      <td>1000</td>\n",
       "      <td>3.608684e-02</td>\n",
       "      <td>2.991453e-02</td>\n",
       "    </tr>\n",
       "    <tr>\n",
       "      <th>farmer</th>\n",
       "      <td>1000</td>\n",
       "      <td>1.354398e-03</td>\n",
       "      <td>2.631579e-02</td>\n",
       "    </tr>\n",
       "    <tr>\n",
       "      <th>fictionalcharacter</th>\n",
       "      <td>1000</td>\n",
       "      <td>3.061545e-01</td>\n",
       "      <td>3.023546e-01</td>\n",
       "    </tr>\n",
       "    <tr>\n",
       "      <th>journalist</th>\n",
       "      <td>1000</td>\n",
       "      <td>7.588007e-02</td>\n",
       "      <td>7.522645e-02</td>\n",
       "    </tr>\n",
       "    <tr>\n",
       "      <th>judge</th>\n",
       "      <td>1000</td>\n",
       "      <td>1.000000e-08</td>\n",
       "      <td>1.000000e-08</td>\n",
       "    </tr>\n",
       "    <tr>\n",
       "      <th>lawyer</th>\n",
       "      <td>1000</td>\n",
       "      <td>1.000000e-08</td>\n",
       "      <td>1.000000e-08</td>\n",
       "    </tr>\n",
       "    <tr>\n",
       "      <th>militaryperson</th>\n",
       "      <td>1000</td>\n",
       "      <td>8.461288e-01</td>\n",
       "      <td>6.695402e-01</td>\n",
       "    </tr>\n",
       "    <tr>\n",
       "      <th>model</th>\n",
       "      <td>1000</td>\n",
       "      <td>4.571709e-01</td>\n",
       "      <td>3.812155e-01</td>\n",
       "    </tr>\n",
       "    <tr>\n",
       "      <th>monarch</th>\n",
       "      <td>1000</td>\n",
       "      <td>3.193623e-01</td>\n",
       "      <td>3.198758e-01</td>\n",
       "    </tr>\n",
       "    <tr>\n",
       "      <th>none</th>\n",
       "      <td>1000</td>\n",
       "      <td>8.577160e-01</td>\n",
       "      <td>6.349736e-01</td>\n",
       "    </tr>\n",
       "    <tr>\n",
       "      <th>other</th>\n",
       "      <td>1000</td>\n",
       "      <td>4.495047e-01</td>\n",
       "      <td>3.561484e-01</td>\n",
       "    </tr>\n",
       "    <tr>\n",
       "      <th>philosopher</th>\n",
       "      <td>1000</td>\n",
       "      <td>4.018146e-04</td>\n",
       "      <td>8.620690e-03</td>\n",
       "    </tr>\n",
       "    <tr>\n",
       "      <th>politician</th>\n",
       "      <td>1000</td>\n",
       "      <td>5.617035e-02</td>\n",
       "      <td>5.241090e-02</td>\n",
       "    </tr>\n",
       "    <tr>\n",
       "      <th>presenter</th>\n",
       "      <td>1000</td>\n",
       "      <td>4.295558e-01</td>\n",
       "      <td>3.083161e-01</td>\n",
       "    </tr>\n",
       "    <tr>\n",
       "      <th>producer</th>\n",
       "      <td>1000</td>\n",
       "      <td>6.617933e-04</td>\n",
       "      <td>9.216590e-03</td>\n",
       "    </tr>\n",
       "    <tr>\n",
       "      <th>psychologist</th>\n",
       "      <td>1000</td>\n",
       "      <td>1.000000e-08</td>\n",
       "      <td>1.000000e-08</td>\n",
       "    </tr>\n",
       "    <tr>\n",
       "      <th>scientist</th>\n",
       "      <td>1000</td>\n",
       "      <td>4.074549e-01</td>\n",
       "      <td>3.220470e-01</td>\n",
       "    </tr>\n",
       "    <tr>\n",
       "      <th>sportsmanager</th>\n",
       "      <td>1000</td>\n",
       "      <td>1.000000e-08</td>\n",
       "      <td>1.000000e-08</td>\n",
       "    </tr>\n",
       "    <tr>\n",
       "      <th>writer</th>\n",
       "      <td>1000</td>\n",
       "      <td>5.708571e-02</td>\n",
       "      <td>8.579336e-02</td>\n",
       "    </tr>\n",
       "  </tbody>\n",
       "</table>\n",
       "</div>"
      ],
      "text/plain": [
       "                    output.selected_answer           aqs   aqs_initial\n",
       "archeologist                          1000  1.000000e-08  1.000000e-08\n",
       "architect                             1000  1.000000e-08  1.000000e-08\n",
       "artist                                1000  2.512851e-01  2.520942e-01\n",
       "astronaut                             1000  9.999680e-01  9.523810e-01\n",
       "athlete                               1000  2.801650e-01  2.788104e-01\n",
       "businessperson                        1000  6.188727e-02  9.618163e-02\n",
       "celebrity                             1000  7.459197e-01  6.066316e-01\n",
       "chef                                  1000  1.000000e-08  1.000000e-08\n",
       "criminal                              1000  1.272384e-01  1.530612e-01\n",
       "engineer                              1000  3.608684e-02  2.991453e-02\n",
       "farmer                                1000  1.354398e-03  2.631579e-02\n",
       "fictionalcharacter                    1000  3.061545e-01  3.023546e-01\n",
       "journalist                            1000  7.588007e-02  7.522645e-02\n",
       "judge                                 1000  1.000000e-08  1.000000e-08\n",
       "lawyer                                1000  1.000000e-08  1.000000e-08\n",
       "militaryperson                        1000  8.461288e-01  6.695402e-01\n",
       "model                                 1000  4.571709e-01  3.812155e-01\n",
       "monarch                               1000  3.193623e-01  3.198758e-01\n",
       "none                                  1000  8.577160e-01  6.349736e-01\n",
       "other                                 1000  4.495047e-01  3.561484e-01\n",
       "philosopher                           1000  4.018146e-04  8.620690e-03\n",
       "politician                            1000  5.617035e-02  5.241090e-02\n",
       "presenter                             1000  4.295558e-01  3.083161e-01\n",
       "producer                              1000  6.617933e-04  9.216590e-03\n",
       "psychologist                          1000  1.000000e-08  1.000000e-08\n",
       "scientist                             1000  4.074549e-01  3.220470e-01\n",
       "sportsmanager                         1000  1.000000e-08  1.000000e-08\n",
       "writer                                1000  5.708571e-02  8.579336e-02"
      ]
     },
     "execution_count": 14,
     "metadata": {},
     "output_type": "execute_result"
    }
   ],
   "source": [
    "results[\"annotations\"]"
   ]
  },
  {
   "cell_type": "code",
   "execution_count": null,
   "metadata": {
    "collapsed": true
   },
   "outputs": [],
   "source": []
  }
 ],
 "metadata": {
  "anaconda-cloud": {},
  "kernelspec": {
   "display_name": "Python 2",
   "language": "python",
   "name": "python2"
  },
  "language_info": {
   "codemirror_mode": {
    "name": "ipython",
    "version": 2
   },
   "file_extension": ".py",
   "mimetype": "text/x-python",
   "name": "python",
   "nbconvert_exporter": "python",
   "pygments_lexer": "ipython2",
   "version": "2.7.13"
  }
 },
 "nbformat": 4,
 "nbformat_minor": 2
}
