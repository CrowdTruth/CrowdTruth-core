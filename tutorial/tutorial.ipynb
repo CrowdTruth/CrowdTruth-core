{
 "cells": [
  {
   "cell_type": "markdown",
   "metadata": {
    "collapsed": true
   },
   "source": [
    "# CrowdTruth metrics 2.0 documentation\n",
    "\n",
    "Let:\n",
    "\n",
    "* $workers(u):$ all workers that annotate media unit $u$;\n",
    "* $units(i):$ all input media units annotated by worker $i$;\n",
    "* $WorkVec(i, u):$ annotations of worker $i$ on media unit $u$ as a binary vector;\n",
    "* $MediaUnitVec(s) = \\sum_{i \\in workers(s)} WorkVec(i,s)$, where $s$ is an input media unit.\n",
    "\n",
    "## Media Unit Quality Score (UQS)\n",
    "\n",
    "The unit quality score $UQS(u)$ is computed as the average cosine similarity between all worker vectors for a given input media unit $u$, weighted by the worker quality ($WQS$) and annotation quality ($AQS$). The goal is to capture the degree of agreement in annotating the media unit. Through the weighted average, workers and annotations with lower quality will have less of an impact on the final score.\n",
    "\n",
    "$$ UQS(u) = \\frac{\\sum_{i, j \\in workers(u)} Wcos(WorkVec(i,u), WorkVec(j,u)) \\; WQS(i) \\; WQS(j)}{\\sum_{i, j \\in workers(u)} WQS(i) \\; WQS(j)}, \\; i \\neq j.$$\n",
    "\n",
    "\n",
    "### Weighted Cosine\n",
    "\n",
    "To weigh the metrics with the annotation quality, we compute $Wcos$, the weighted version of the cosine similarity. This metric is only applicable to closed tasks, where annotation quality can be calculated across media units. For open-ended tasks, we consider annotation quality equal to 1 and calculate the regular cosine similarity.\n",
    "\n",
    "$$ Wcos(vec_1, vec_2) = \\frac{\\sum_{a} vec_1(a) \\; vec_2(a) \\; AQS(a)}{\\sqrt{(\\sum_{a} vec_1^2(a) \\; AQS(a)) \\; (\\sum_{a} vec_2^2(a) \\; AQS(a))}} .$$ \n",
    "\n",
    "\n",
    "## Worker Quality Score (WQS)\n",
    "\n",
    "The worker quality score $WQS(i)$ for a given worker $i$ is the product of 2 separate metrics - the worker-worker agreement $WWA(i)$ and the worker-media unit agreement $WUA(i)$.\n",
    "\n",
    "$$ WQS(i) = WUA(i) \\; WWA(i) .$$\n",
    "\n",
    "### Worker-Media Unit Agreement\n",
    "\n",
    "The worker-media unit agreement $WUA(i)$ is the average cosine distance between the annotations of a worker $i$ and all annotations for the media units they have worked on, weighted by the media unit and annotation quality. It calculates how much a worker disagrees with the crowd on a media unit basis. Through the weighted average, media units and anntation with lower quality will have less of an impact on the final score.\n",
    "\n",
    "$$ WSA(i) = \\frac{\\sum_{u \\in units(i)} Wcos(WorkVec(i,u), MediaUnitVec(u) - WorkVec(i, u)) \\; UQS(u)}{\\sum_{u \\in units(i)} UQS(u)} .$$\n",
    "\n",
    "### Worker-Worker Agreement\n",
    "\n",
    "The worker-worker agreement $WWA(i)$ is the average cosine distance between the annotations of a worker $i$ and all other workers that have worked on the same media units as worker $i$, weighted by the worker and annotation qualities. The metric gives an indication as to whether there are consisently like-minded workers. This is useful for identifying communities of thought. Through the weighted average, workers and annotations with lower quality will have less of an impact on the final score of the given worker.\n",
    "\n",
    "$$ WWA(i) = \\frac{ \\sum_{j \\in workers(u \\in units(i))} Wcos(WorkVec(i, u), WorkVec(j, u)) \\; WQS(j) \\; UQS(u) }{ \\sum_{j \\in workers(s \\in units(i))} WQS(j) \\; UQS(u) }, \\; i \\neq j .$$\n",
    "\n",
    "\n",
    "## Annotation Quality Score (AQS)\n",
    "\n",
    "The annotation quality score $AQS(a)$ calculates the agreement of selecting an annotation $a$, over all the media units it appears in. Therefore, it is only applicable to closed tasks, where the same annotation set is used for all input media units. It is based on $P_a(i | j)$, the probability that if a worker $j$ annotates $a$ in a media unit, worker $i$ will also annotate it. \n",
    "\n",
    "$$ P_a(i | j) = \\frac{ \\sum_{u \\in units(i) \\cap units(j) } UQS(u) \\; WorkVec(i, s)(r) \\; WorkVec(j, s)(r) }{ \\sum_{u \\in units(i) \\cap units(j) } UQS(u) \\; WorkVec(j, u)(r) } . $$\n",
    "\n",
    "$AQS(a)$ is the weighted average of $P_a(i | j)$ for all possible pairs of workers. Through the weighted average, input media units and workers with lower quality will have less of an impact on the final score of the annotation.\n",
    "\n",
    "$$ AQS(a) = \\frac{ \\sum_{i,j} WQS(i) \\; WQS(j) \\; P_a(i | j) }{ \\sum_{i,j} WQS(i) \\; WQS(j) }, i \\neq j . $$\n",
    "\n",
    "\n",
    "## Media Unit-Annotation Score (UAS)\n",
    "\n",
    "The media unit - annotation score $UAS(u, a)$ calculates the likelihood that annotation $a$ is expressed in input media unit $u$. It is the ratio of the number of workers that picked annotation $u$ over all workers that annotated the unit, weighted by the worker quality.\n",
    "\n",
    "$$ UAS(u, a) = \\frac{ \\sum_{i \\in workers(u)} WorkVec(i,u)(a) \\; WQS(i) }{ \\sum_{i \\in workers(u)} WQS(i) }. $$"
   ]
  },
  {
   "cell_type": "markdown",
   "metadata": {},
   "source": [
    "# How to run the metrics"
   ]
  },
  {
   "cell_type": "code",
   "execution_count": 1,
   "metadata": {
    "collapsed": false
   },
   "outputs": [],
   "source": [
    "# !pip install crowdtruth\n",
    "\n",
    "import crowdtruth\n",
    "from crowdtruth.configuration import DefaultConfig\n",
    "import logging\n",
    "\n",
    "logger = logging.getLogger()\n",
    "logger.setLevel(logging.DEBUG)\n",
    "\n",
    "class config(DefaultConfig):\n",
    "    inputColumns = [\"term1\", \"b1\", \"e1\", \"term2\", \"b2\", \"e2\", \"sentence\"]\n",
    "    outputColumns = [\"relations\"]\n",
    "    \n",
    "    # processing of a closed task\n",
    "    open_ended_task = False\n",
    "    annotation_separator = \" \"\n",
    "    annotation_vector = [\n",
    "        \"causes\", \"manifestation\", \"treats\", \"prevents\", \"symptom\", \"diagnose_by_test_or_drug\", \"location\",\n",
    "        \"side_effect\", \"contraindicates\", \"associated_with\", \"is_a\", \"part_of\", \"other\", \"none\"\n",
    "    ]\n",
    "    \n",
    "    def processJudgments(self, judgments):\n",
    "        # any pre-processing of the input data goes here\n",
    "        for col in self.outputColumns:\n",
    "            # remove square brackets from annotations\n",
    "            judgments[col] = judgments[col].apply(lambda x: str(x).replace('[',''))\n",
    "            judgments[col] = judgments[col].apply(lambda x: str(x).replace(']',''))\n",
    "            judgments[col] = judgments[col].apply(lambda x: str(x).lower())\n",
    "        return judgments"
   ]
  },
  {
   "cell_type": "markdown",
   "metadata": {},
   "source": [
    "Creating a class that inherits from `Configuration` lets us define how the input file will be processed:\n",
    "\n",
    "* `inputColumns`: list of input columns from the .csv file, the input that the workers were shown\n",
    "* `outputColumns`: list of output columns with the answers from the workers\n",
    "* `processJudgments`: function that defines how the worker judgments wil be processed; default separator for judgments is ','\n",
    "\n",
    "To build the annotation vector, we also need to specify whether this is an **open-ended** or **closed** task, using the `open_ended_task` variable.\n",
    "\n",
    "* **open-ended task** means that the annotation space is not known, and workers can freely provide all the choices that apply (e.g. in sound tagging, the workers are provided with a text box to enter all tags they can think of)\n",
    "* **closed task** means that the annotations that can occur in the data are already known, and the workers are asked to validate their existence (e.g. for medical relation extraction, the workers pick from a pre-defined multiple-choice set of relations)\n",
    "\n",
    "If the task we are processing is **closed**, then we also need to provide the list of possible annotations in the `annotation_vector` variable."
   ]
  },
  {
   "cell_type": "code",
   "execution_count": 2,
   "metadata": {
    "collapsed": false
   },
   "outputs": [
    {
     "name": "stderr",
     "output_type": "stream",
     "text": [
      "INFO:root:Config loaded\n",
      "INFO:root:Values not stored as dictionary\n"
     ]
    },
    {
     "data": {
      "text/html": [
       "<div>\n",
       "<table border=\"1\" class=\"dataframe\">\n",
       "  <thead>\n",
       "    <tr style=\"text-align: right;\">\n",
       "      <th></th>\n",
       "      <th>output.relations</th>\n",
       "      <th>submitted</th>\n",
       "      <th>started</th>\n",
       "      <th>worker</th>\n",
       "      <th>unit</th>\n",
       "      <th>duration</th>\n",
       "      <th>job</th>\n",
       "    </tr>\n",
       "    <tr>\n",
       "      <th>judgment</th>\n",
       "      <th></th>\n",
       "      <th></th>\n",
       "      <th></th>\n",
       "      <th></th>\n",
       "      <th></th>\n",
       "      <th></th>\n",
       "      <th></th>\n",
       "    </tr>\n",
       "  </thead>\n",
       "  <tbody>\n",
       "    <tr>\n",
       "      <th>1321074821</th>\n",
       "      <td>{u'associated_with': 1, u'causes': 0, u'manife...</td>\n",
       "      <td>2014-07-11 23:53:21</td>\n",
       "      <td>2014-07-11 23:53:03</td>\n",
       "      <td>15848372</td>\n",
       "      <td>502540300</td>\n",
       "      <td>18</td>\n",
       "      <td>relex_example</td>\n",
       "    </tr>\n",
       "    <tr>\n",
       "      <th>1321080494</th>\n",
       "      <td>{u'is_a': 1, u'causes': 0, u'manifestation': 0...</td>\n",
       "      <td>2014-07-12 00:04:01</td>\n",
       "      <td>2014-07-12 00:02:53</td>\n",
       "      <td>25990856</td>\n",
       "      <td>502540300</td>\n",
       "      <td>68</td>\n",
       "      <td>relex_example</td>\n",
       "    </tr>\n",
       "    <tr>\n",
       "      <th>1321082343</th>\n",
       "      <td>{u'part_of': 1, u'causes': 0, u'manifestation'...</td>\n",
       "      <td>2014-07-12 00:07:10</td>\n",
       "      <td>2014-07-12 00:06:34</td>\n",
       "      <td>25224036</td>\n",
       "      <td>502540300</td>\n",
       "      <td>36</td>\n",
       "      <td>relex_example</td>\n",
       "    </tr>\n",
       "    <tr>\n",
       "      <th>1321098346</th>\n",
       "      <td>{u'is_a': 1, u'causes': 0, u'manifestation': 0...</td>\n",
       "      <td>2014-07-12 00:36:08</td>\n",
       "      <td>2014-07-12 00:35:11</td>\n",
       "      <td>13763729</td>\n",
       "      <td>502540300</td>\n",
       "      <td>57</td>\n",
       "      <td>relex_example</td>\n",
       "    </tr>\n",
       "    <tr>\n",
       "      <th>1321104806</th>\n",
       "      <td>{u'symptom': 1, u'causes': 0, u'manifestation'...</td>\n",
       "      <td>2014-07-12 00:51:54</td>\n",
       "      <td>2014-07-12 00:50:47</td>\n",
       "      <td>8888883</td>\n",
       "      <td>502540300</td>\n",
       "      <td>67</td>\n",
       "      <td>relex_example</td>\n",
       "    </tr>\n",
       "  </tbody>\n",
       "</table>\n",
       "</div>"
      ],
      "text/plain": [
       "                                             output.relations  \\\n",
       "judgment                                                        \n",
       "1321074821  {u'associated_with': 1, u'causes': 0, u'manife...   \n",
       "1321080494  {u'is_a': 1, u'causes': 0, u'manifestation': 0...   \n",
       "1321082343  {u'part_of': 1, u'causes': 0, u'manifestation'...   \n",
       "1321098346  {u'is_a': 1, u'causes': 0, u'manifestation': 0...   \n",
       "1321104806  {u'symptom': 1, u'causes': 0, u'manifestation'...   \n",
       "\n",
       "                     submitted             started    worker       unit  \\\n",
       "judgment                                                                  \n",
       "1321074821 2014-07-11 23:53:21 2014-07-11 23:53:03  15848372  502540300   \n",
       "1321080494 2014-07-12 00:04:01 2014-07-12 00:02:53  25990856  502540300   \n",
       "1321082343 2014-07-12 00:07:10 2014-07-12 00:06:34  25224036  502540300   \n",
       "1321098346 2014-07-12 00:36:08 2014-07-12 00:35:11  13763729  502540300   \n",
       "1321104806 2014-07-12 00:51:54 2014-07-12 00:50:47   8888883  502540300   \n",
       "\n",
       "            duration            job  \n",
       "judgment                             \n",
       "1321074821        18  relex_example  \n",
       "1321080494        68  relex_example  \n",
       "1321082343        36  relex_example  \n",
       "1321098346        57  relex_example  \n",
       "1321104806        67  relex_example  "
      ]
     },
     "execution_count": 2,
     "metadata": {},
     "output_type": "execute_result"
    }
   ],
   "source": [
    "# Read data\n",
    "data, config = crowdtruth.load(\n",
    "    file = \"relex_example.csv\",\n",
    "    config = config()\n",
    ")\n",
    "\n",
    "data['judgments'].head()"
   ]
  },
  {
   "cell_type": "code",
   "execution_count": 3,
   "metadata": {
    "collapsed": false
   },
   "outputs": [
    {
     "name": "stderr",
     "output_type": "stream",
     "text": [
      "INFO:root:1 iterations; max d= 1.0 ; wqs d= 0.804813203931; sqs d= 0.675174006342; rqs d= 0.782716968453\n",
      "INFO:root:2 iterations; max d= 0.373595823847 ; wqs d= 0.18552735073; sqs d= 0.0999762548168; rqs d= 0.065519897197\n",
      "INFO:root:3 iterations; max d= 0.0681409887463 ; wqs d= 0.0207659203558; sqs d= 0.0170501540939; rqs d= 0.0107034697269\n",
      "INFO:root:4 iterations; max d= 0.067748434946 ; wqs d= 0.0128209941329; sqs d= 0.00507760818222; rqs d= 0.00346934024723\n",
      "INFO:root:5 iterations; max d= 0.0149750705113 ; wqs d= 0.001755371176; sqs d= 0.0015292862114; rqs d= 0.00122480420571\n",
      "INFO:root:6 iterations; max d= 0.00595215799549 ; wqs d= 0.00115667719405; sqs d= 0.000627373802498; rqs d= 0.000390160430645\n",
      "INFO:root:7 iterations; max d= 0.00246299055575 ; wqs d= 0.000238674367565; sqs d= 0.000166045739903; rqs d= 0.00013851140923\n",
      "INFO:root:8 iterations; max d= 0.0009189351074 ; wqs d= 0.000126251399396; sqs d= 8.91603091999e-05; rqs d= 5.43500254714e-05\n"
     ]
    }
   ],
   "source": [
    "results = crowdtruth.run(data, config)"
   ]
  },
  {
   "cell_type": "code",
   "execution_count": 4,
   "metadata": {
    "collapsed": false
   },
   "outputs": [
    {
     "data": {
      "text/plain": [
       "<matplotlib.text.Text at 0x7f59f9d460d0>"
      ]
     },
     "execution_count": 4,
     "metadata": {},
     "output_type": "execute_result"
    },
    {
     "data": {
      "image/png": "[encoded data removed]",
      "text/plain": [
       "<matplotlib.figure.Figure at 0x7f59fc0439d0>"
      ]
     },
     "metadata": {},
     "output_type": "display_data"
    }
   ],
   "source": [
    "import matplotlib.pyplot as plt\n",
    "%matplotlib inline\n",
    "\n",
    "plt.hist(results[\"units\"][\"uqs\"])\n",
    "plt.xlabel(\"UQS\")\n",
    "plt.ylabel(\"Units\")"
   ]
  },
  {
   "cell_type": "code",
   "execution_count": 5,
   "metadata": {
    "collapsed": false
   },
   "outputs": [
    {
     "data": {
      "text/plain": [
       "<matplotlib.text.Text at 0x7f59f9d53c50>"
      ]
     },
     "execution_count": 5,
     "metadata": {},
     "output_type": "execute_result"
    },
    {
     "data": {
      "image/png": "[encoded data removed]",
      "text/plain": [
       "<matplotlib.figure.Figure at 0x7f59f9cde450>"
      ]
     },
     "metadata": {},
     "output_type": "display_data"
    }
   ],
   "source": [
    "plt.hist(results[\"workers\"][\"wqs\"])\n",
    "plt.xlabel(\"WQS\")\n",
    "plt.ylabel(\"Workers\")"
   ]
  },
  {
   "cell_type": "code",
   "execution_count": 6,
   "metadata": {
    "collapsed": false
   },
   "outputs": [
    {
     "data": {
      "text/plain": [
       "<matplotlib.text.Text at 0x7f59fe5e92d0>"
      ]
     },
     "execution_count": 6,
     "metadata": {},
     "output_type": "execute_result"
    },
    {
     "data": {
      "image/png": "[encoded data removed]",
      "text/plain": [
       "<matplotlib.figure.Figure at 0x7f59f9c5ae50>"
      ]
     },
     "metadata": {},
     "output_type": "display_data"
    }
   ],
   "source": [
    "plt.hist(results[\"annotations\"][\"aqs\"])\n",
    "plt.xlabel(\"AQS\")\n",
    "plt.ylabel(\"Annotations\")"
   ]
  },
  {
   "cell_type": "code",
   "execution_count": 7,
   "metadata": {
    "collapsed": false
   },
   "outputs": [
    {
     "data": {
      "text/plain": [
       "unit\n",
       "502540300    {u'part_of': 5.40815398334e-05, u'treats': 0.0...\n",
       "502540301    {u'part_of': 0.0, u'treats': 0.865445543, u'pr...\n",
       "502540302    {u'part_of': 5.1878806508e-05, u'treats': 0.0,...\n",
       "502540303    {u'part_of': 0.0, u'treats': 0.987168186182, u...\n",
       "502540304    {u'none': 0.0934630672853, u'treats': 0.0, u'p...\n",
       "502540305    {u'part_of': 4.79121294337e-05, u'treats': 0.0...\n",
       "502540306    {u'part_of': 0.0696092128465, u'treats': 0.702...\n",
       "502540307    {u'part_of': 0.071003533224, u'treats': 0.0, u...\n",
       "502540308    {u'part_of': 0.0, u'treats': 0.0824128463375, ...\n",
       "502540309    {u'part_of': 0.0282620788446, u'treats': 0.0, ...\n",
       "502540310    {u'part_of': 0.0, u'treats': 0.717528861892, u...\n",
       "502540311    {u'part_of': 0.0, u'treats': 0.333761504297, u...\n",
       "502540312    {u'part_of': 4.31886763732e-05, u'treats': 0.6...\n",
       "502540313    {u'part_of': 0.0785668363126, u'treats': 0.0, ...\n",
       "502540314    {u'part_of': 0.0, u'treats': 0.930404608217, u...\n",
       "502540315    {u'part_of': 0.0, u'symptom': 0.335061462321, ...\n",
       "502540316    {u'part_of': 0.0, u'treats': 0.394038771946, u...\n",
       "502540317    {u'part_of': 4.35839838384e-05, u'treats': 0.9...\n",
       "502540318    {u'part_of': 4.6704147081e-05, u'treats': 0.62...\n",
       "502540319    {u'part_of': 4.39764296464e-05, u'treats': 0.0...\n",
       "502540320    {u'part_of': 0.125287919386, u'treats': 0.0, u...\n",
       "502540321    {u'diagnose_by_test_or_drug': 0.0800617965339,...\n",
       "502540322    {u'part_of': 0.251291403846, u'treats': 0.0, u...\n",
       "502540323    {u'part_of': 4.4781907285e-05, u'treats': 0.52...\n",
       "502540324    {u'part_of': 0.0259046381351, u'treats': 0.0, ...\n",
       "502540325    {u'part_of': 0.0, u'treats': 0.900394047105, u...\n",
       "502540326    {u'part_of': 0.0, u'treats': 0.968327198629, u...\n",
       "502540327    {u'diagnose_by_test_or_drug': 0.24415180802, u...\n",
       "502540328    {u'part_of': 4.64294329197e-05, u'treats': 0.9...\n",
       "502540329    {u'part_of': 0.0, u'symptom': 0.160938211173, ...\n",
       "502540330    {u'part_of': 0.0, u'treats': 0.90057935896, u'...\n",
       "502540331    {u'part_of': 0.128362986106, u'treats': 0.1432...\n",
       "502540332    {u'diagnose_by_test_or_drug': 0.092480522004, ...\n",
       "502540333    {u'part_of': 0.0252683572817, u'treats': 0.219...\n",
       "502540334    {u'part_of': 0.257345864885, u'treats': 0.0, u...\n",
       "502540335    {u'part_of': 0.226088259369, u'treats': 0.0, u...\n",
       "502540336    {u'part_of': 4.83796206158e-05, u'symptom': 0....\n",
       "502540337    {u'part_of': 0.0, u'treats': 0.939274621279, u...\n",
       "502540338    {u'part_of': 4.74720746826e-05, u'treats': 0.7...\n",
       "502540339    {u'part_of': 0.0, u'treats': 0.0, u'prevents':...\n",
       "502540340    {u'part_of': 4.92459506799e-05, u'treats': 0.1...\n",
       "502540341    {u'part_of': 0.100268346488, u'treats': 0.0763...\n",
       "502540342    {u'part_of': 4.49204380169e-05, u'treats': 0.0...\n",
       "502540343    {u'part_of': 4.55466495971e-05, u'treats': 0.7...\n",
       "502540344    {u'part_of': 5.18728948022e-05, u'treats': 0.0...\n",
       "502540345    {u'part_of': 0.0, u'symptom': 0.36515536145, u...\n",
       "502540346    {u'part_of': 0.0, u'treats': 0.0, u'prevents':...\n",
       "502540347    {u'part_of': 4.42156618213e-05, u'treats': 0.8...\n",
       "502540348    {u'part_of': 5.0808128459e-05, u'treats': 0.0,...\n",
       "502540349    {u'part_of': 4.87879288633e-05, u'treats': 0.0...\n",
       "Name: unit_annotation_score, dtype: object"
      ]
     },
     "execution_count": 7,
     "metadata": {},
     "output_type": "execute_result"
    }
   ],
   "source": [
    "results[\"units\"][\"unit_annotation_score\"]"
   ]
  },
  {
   "cell_type": "code",
   "execution_count": null,
   "metadata": {
    "collapsed": true
   },
   "outputs": [],
   "source": []
  }
 ],
 "metadata": {
  "anaconda-cloud": {},
  "kernelspec": {
   "display_name": "Python [default]",
   "language": "python",
   "name": "python2"
  },
  "language_info": {
   "codemirror_mode": {
    "name": "ipython",
    "version": 2
   },
   "file_extension": ".py",
   "mimetype": "text/x-python",
   "name": "python",
   "nbconvert_exporter": "python",
   "pygments_lexer": "ipython2",
   "version": "2.7.13"
  }
 },
 "nbformat": 4,
 "nbformat_minor": 2
}
