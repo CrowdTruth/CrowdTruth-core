{
 "cells": [
  {
   "cell_type": "markdown",
   "metadata": {
    "collapsed": true
   },
   "source": [
    "# CrowdTruth metrics 2.0 documentation\n",
    "\n",
    "Let:\n",
    "\n",
    "* $workers(u):$ all workers that annotate media unit $u$;\n",
    "* $units(i):$ all input media units annotated by worker $i$;\n",
    "* $WorkVec(i, u):$ annotations of worker $i$ on media unit $u$ as a binary vector;\n",
    "* $MediaUnitVec(s) = \\sum_{i \\in workers(s)} WorkVec(i,s)$, where $s$ is an input media unit.\n",
    "\n",
    "## Media Unit Quality Score (UQS)\n",
    "\n",
    "The unit quality score $UQS(u)$ is computed as the average cosine similarity between all worker vectors for a given input media unit $u$, weighted by the worker quality ($WQS$) and annotation quality ($AQS$). The goal is to capture the degree of agreement in annotating the media unit. Through the weighted average, workers and annotations with lower quality will have less of an impact on the final score.\n",
    "\n",
    "$$ UQS(u) = \\frac{\\sum_{i, j \\in workers(u)} Wcos(WorkVec(i,u), WorkVec(j,u)) \\; WQS(i) \\; WQS(j)}{\\sum_{i, j \\in workers(u)} WQS(i) \\; WQS(j)}, \\; i \\neq j.$$\n",
    "\n",
    "\n",
    "### Weighted Cosine\n",
    "\n",
    "To weigh the metrics with the annotation quality, we compute $Wcos$, the weighted version of the cosine similarity. This metric is only applicable to closed tasks, where annotation quality can be calculated across media units. For open-ended tasks, we consider annotation quality equal to 1 and calculate the regular cosine similarity.\n",
    "\n",
    "$$ Wcos(vec_1, vec_2) = \\frac{\\sum_{a} vec_1(a) \\; vec_2(a) \\; AQS(a)}{\\sqrt{(\\sum_{a} vec_1^2(a) \\; AQS(a)) \\; (\\sum_{a} vec_2^2(a) \\; AQS(a))}} .$$ \n",
    "\n",
    "\n",
    "## Worker Quality Score (WQS)\n",
    "\n",
    "The worker quality score $WQS(i)$ for a given worker $i$ is the product of 2 separate metrics - the worker-worker agreement $WWA(i)$ and the worker-media unit agreement $WUA(i)$.\n",
    "\n",
    "$$ WQS(i) = WUA(i) \\; WWA(i) .$$\n",
    "\n",
    "### Worker-Media Unit Agreement\n",
    "\n",
    "The worker-media unit agreement $WUA(i)$ is the average cosine distance between the annotations of a worker $i$ and all annotations for the media units they have worked on, weighted by the media unit and annotation quality. It calculates how much a worker disagrees with the crowd on a media unit basis. Through the weighted average, media units and anntation with lower quality will have less of an impact on the final score.\n",
    "\n",
    "$$ WSA(i) = \\frac{\\sum_{u \\in units(i)} Wcos(WorkVec(i,u), MediaUnitVec(u) - WorkVec(i, u)) \\; UQS(u)}{\\sum_{u \\in units(i)} UQS(u)} .$$\n",
    "\n",
    "### Worker-Worker Agreement\n",
    "\n",
    "The worker-worker agreement $WWA(i)$ is the average cosine distance between the annotations of a worker $i$ and all other workers that have worked on the same media units as worker $i$, weighted by the worker and annotation qualities. The metric gives an indication as to whether there are consisently like-minded workers. This is useful for identifying communities of thought. Through the weighted average, workers and annotations with lower quality will have less of an impact on the final score of the given worker.\n",
    "\n",
    "$$ WWA(i) = \\frac{ \\sum_{j \\in workers(u \\in units(i))} Wcos(WorkVec(i, u), WorkVec(j, u)) \\; WQS(j) \\; UQS(u) }{ \\sum_{j \\in workers(s \\in units(i))} WQS(j) \\; UQS(u) }, \\; i \\neq j .$$\n",
    "\n",
    "\n",
    "## Annotation Quality Score (AQS)\n",
    "\n",
    "The annotation quality score $AQS(a)$ calculates the agreement of selecting an annotation $a$, over all the media units it appears in. Therefore, it is only applicable to closed tasks, where the same annotation set is used for all input media units. It is based on $P_a(i | j)$, the probability that if a worker $j$ annotates $a$ in a media unit, worker $i$ will also annotate it. \n",
    "\n",
    "$$ P_a(i | j) = \\frac{ \\sum_{u \\in units(i) \\cap units(j) } UQS(u) \\; WorkVec(i, s)(r) \\; WorkVec(j, s)(r) }{ \\sum_{u \\in units(i) \\cap units(j) } UQS(u) \\; WorkVec(j, u)(r) } . $$\n",
    "\n",
    "$AQS(a)$ is the weighted average of $P_a(i | j)$ for all possible pairs of workers. Through the weighted average, input media units and workers with lower quality will have less of an impact on the final score of the annotation.\n",
    "\n",
    "$$ AQS(a) = \\frac{ \\sum_{i,j} WQS(i) \\; WQS(j) \\; P_a(i | j) }{ \\sum_{i,j} WQS(i) \\; WQS(j) }, i \\neq j . $$\n",
    "\n",
    "\n",
    "## Media Unit-Annotation Score (UAS)\n",
    "\n",
    "The media unit - annotation score $UAS(u, a)$ calculates the likelihood that annotation $a$ is expressed in input media unit $u$. It is the ratio of the number of workers that picked annotation $u$ over all workers that annotated the unit, weighted by the worker quality.\n",
    "\n",
    "$$ UAS(u, a) = \\frac{ \\sum_{i \\in workers(u)} WorkVec(i,u)(a) \\; WQS(i) }{ \\sum_{i \\in workers(u)} WQS(i) }. $$"
   ]
  },
  {
   "cell_type": "markdown",
   "metadata": {},
   "source": [
    "# How to run the metrics"
   ]
  },
  {
   "cell_type": "code",
   "execution_count": 6,
   "metadata": {
    "collapsed": false
   },
   "outputs": [
    {
     "name": "stdout",
     "output_type": "stream",
     "text": [
      "Requirement already satisfied: crowdtruth in /Users/benjamin/Sites/CrowdTruth-core\n",
      "Requirement already satisfied: pymodm>=0.3.0 in /Users/benjamin/anaconda/lib/python2.7/site-packages (from crowdtruth)\n",
      "Requirement already satisfied: pandas in /Users/benjamin/anaconda/lib/python2.7/site-packages (from crowdtruth)\n",
      "Requirement already satisfied: ipaddress in /Users/benjamin/anaconda/lib/python2.7/site-packages (from pymodm>=0.3.0->crowdtruth)\n",
      "Requirement already satisfied: pymongo>=3.4 in /Users/benjamin/anaconda/lib/python2.7/site-packages (from pymodm>=0.3.0->crowdtruth)\n",
      "Requirement already satisfied: python-dateutil in /Users/benjamin/anaconda/lib/python2.7/site-packages (from pandas->crowdtruth)\n",
      "Requirement already satisfied: pytz>=2011k in /Users/benjamin/anaconda/lib/python2.7/site-packages (from pandas->crowdtruth)\n",
      "Requirement already satisfied: numpy>=1.7.0 in /Users/benjamin/anaconda/lib/python2.7/site-packages (from pandas->crowdtruth)\n",
      "Requirement already satisfied: six>=1.5 in /Users/benjamin/anaconda/lib/python2.7/site-packages (from python-dateutil->pandas->crowdtruth)\n",
      "relex_example.csv: [##########] 100.0% DONE\n"
     ]
    },
    {
     "data": {
      "text/html": [
       "<div>\n",
       "<table border=\"1\" class=\"dataframe\">\n",
       "  <thead>\n",
       "    <tr style=\"text-align: right;\">\n",
       "      <th></th>\n",
       "      <th>output.step_1_select_the_valid_relations</th>\n",
       "      <th>output.step_2b_if_you_selected_none_in_step_1_explain_why</th>\n",
       "      <th>output.relations</th>\n",
       "      <th>output.step_2a_copy__paste_only_the_words_from_the_sentence_that_express_the_relation_you_selected_in_step1</th>\n",
       "      <th>submitted</th>\n",
       "      <th>started</th>\n",
       "      <th>worker</th>\n",
       "      <th>unit</th>\n",
       "      <th>duration</th>\n",
       "      <th>job</th>\n",
       "    </tr>\n",
       "    <tr>\n",
       "      <th>judgment</th>\n",
       "      <th></th>\n",
       "      <th></th>\n",
       "      <th></th>\n",
       "      <th></th>\n",
       "      <th></th>\n",
       "      <th></th>\n",
       "      <th></th>\n",
       "      <th></th>\n",
       "      <th></th>\n",
       "      <th></th>\n",
       "    </tr>\n",
       "  </thead>\n",
       "  <tbody>\n",
       "    <tr>\n",
       "      <th>1321074821</th>\n",
       "      <td>{u'associated_with': 1}</td>\n",
       "      <td>{u'n_a': 1}</td>\n",
       "      <td>{u'associated_with': 1}</td>\n",
       "      <td>{u'defined': 1}</td>\n",
       "      <td>2014-07-11 23:53:21</td>\n",
       "      <td>2014-07-11 23:53:03</td>\n",
       "      <td>15848372</td>\n",
       "      <td>502540300</td>\n",
       "      <td>18</td>\n",
       "      <td>relex_example</td>\n",
       "    </tr>\n",
       "    <tr>\n",
       "      <th>1321080494</th>\n",
       "      <td>{u'is_a': 1}</td>\n",
       "      <td>{u'n_a': 1}</td>\n",
       "      <td>{u'is_a': 1}</td>\n",
       "      <td>{u'is_defined_as': 1}</td>\n",
       "      <td>2014-07-12 00:04:01</td>\n",
       "      <td>2014-07-12 00:02:53</td>\n",
       "      <td>25990856</td>\n",
       "      <td>502540300</td>\n",
       "      <td>68</td>\n",
       "      <td>relex_example</td>\n",
       "    </tr>\n",
       "    <tr>\n",
       "      <th>1321082343</th>\n",
       "      <td>{u'part_of': 1}</td>\n",
       "      <td>{u'not_sure': 1}</td>\n",
       "      <td>{u'part_of': 1}</td>\n",
       "      <td>{u'hypertension': 1}</td>\n",
       "      <td>2014-07-12 00:07:10</td>\n",
       "      <td>2014-07-12 00:06:34</td>\n",
       "      <td>25224036</td>\n",
       "      <td>502540300</td>\n",
       "      <td>36</td>\n",
       "      <td>relex_example</td>\n",
       "    </tr>\n",
       "    <tr>\n",
       "      <th>1321098346</th>\n",
       "      <td>{u'is_a': 1}</td>\n",
       "      <td>{u'nan': 1}</td>\n",
       "      <td>{u'is_a': 1}</td>\n",
       "      <td>{u'related_blood_pressure_hypertension_elevate...</td>\n",
       "      <td>2014-07-12 00:36:08</td>\n",
       "      <td>2014-07-12 00:35:11</td>\n",
       "      <td>13763729</td>\n",
       "      <td>502540300</td>\n",
       "      <td>57</td>\n",
       "      <td>relex_example</td>\n",
       "    </tr>\n",
       "    <tr>\n",
       "      <th>1321104806</th>\n",
       "      <td>{u'symptom': 1}</td>\n",
       "      <td>{u'not_applicable': 1}</td>\n",
       "      <td>{u'symptom': 1}</td>\n",
       "      <td>{u'history': 1}</td>\n",
       "      <td>2014-07-12 00:51:54</td>\n",
       "      <td>2014-07-12 00:50:47</td>\n",
       "      <td>8888883</td>\n",
       "      <td>502540300</td>\n",
       "      <td>67</td>\n",
       "      <td>relex_example</td>\n",
       "    </tr>\n",
       "  </tbody>\n",
       "</table>\n",
       "</div>"
      ],
      "text/plain": [
       "           output.step_1_select_the_valid_relations  \\\n",
       "judgment                                              \n",
       "1321074821                  {u'associated_with': 1}   \n",
       "1321080494                             {u'is_a': 1}   \n",
       "1321082343                          {u'part_of': 1}   \n",
       "1321098346                             {u'is_a': 1}   \n",
       "1321104806                          {u'symptom': 1}   \n",
       "\n",
       "           output.step_2b_if_you_selected_none_in_step_1_explain_why  \\\n",
       "judgment                                                               \n",
       "1321074821                                        {u'n_a': 1}          \n",
       "1321080494                                        {u'n_a': 1}          \n",
       "1321082343                                   {u'not_sure': 1}          \n",
       "1321098346                                        {u'nan': 1}          \n",
       "1321104806                             {u'not_applicable': 1}          \n",
       "\n",
       "                   output.relations  \\\n",
       "judgment                              \n",
       "1321074821  {u'associated_with': 1}   \n",
       "1321080494             {u'is_a': 1}   \n",
       "1321082343          {u'part_of': 1}   \n",
       "1321098346             {u'is_a': 1}   \n",
       "1321104806          {u'symptom': 1}   \n",
       "\n",
       "           output.step_2a_copy__paste_only_the_words_from_the_sentence_that_express_the_relation_you_selected_in_step1  \\\n",
       "judgment                                                                                                                 \n",
       "1321074821                                    {u'defined': 1}                                                            \n",
       "1321080494                              {u'is_defined_as': 1}                                                            \n",
       "1321082343                               {u'hypertension': 1}                                                            \n",
       "1321098346  {u'related_blood_pressure_hypertension_elevate...                                                            \n",
       "1321104806                                    {u'history': 1}                                                            \n",
       "\n",
       "                     submitted             started    worker       unit  \\\n",
       "judgment                                                                  \n",
       "1321074821 2014-07-11 23:53:21 2014-07-11 23:53:03  15848372  502540300   \n",
       "1321080494 2014-07-12 00:04:01 2014-07-12 00:02:53  25990856  502540300   \n",
       "1321082343 2014-07-12 00:07:10 2014-07-12 00:06:34  25224036  502540300   \n",
       "1321098346 2014-07-12 00:36:08 2014-07-12 00:35:11  13763729  502540300   \n",
       "1321104806 2014-07-12 00:51:54 2014-07-12 00:50:47   8888883  502540300   \n",
       "\n",
       "            duration            job  \n",
       "judgment                             \n",
       "1321074821        18  relex_example  \n",
       "1321080494        68  relex_example  \n",
       "1321082343        36  relex_example  \n",
       "1321098346        57  relex_example  \n",
       "1321104806        67  relex_example  "
      ]
     },
     "execution_count": 6,
     "metadata": {},
     "output_type": "execute_result"
    }
   ],
   "source": [
    "# Read data\n",
    "!pip install crowdtruth\n",
    "\n",
    "import crowdtruth\n",
    "\n",
    "data, config = crowdtruth.load(\n",
    "    file = \"relex_example.csv\"\n",
    ")\n",
    "\n",
    "data['judgments'].head()"
   ]
  },
  {
   "cell_type": "markdown",
   "metadata": {},
   "source": [
    "Creating a class that inherits from `Configuration` lets us define how the input file will be processed:\n",
    "\n",
    "* `inputColumns`: list of input columns from the .csv file, the input that the workers were shown\n",
    "* `outputColumns`: list of output columns with the answers from the workers\n",
    "* `processJudgments`: function that defines how the worker judgments wil be processed; default separator for judgments is ','\n",
    "\n",
    "To build the annotation vector, we also need to specify whether this is an **open-ended** or **closed** task, using the `open_ended_task` variable.\n",
    "\n",
    "* **open-ended task** means that the annotation space is not known, and workers can freely provide all the choices that apply (e.g. in sound tagging, the workers are provided with a text box to enter all tags they can think of)\n",
    "* **closed task** means that the annotations that can occur in the data are already known, and the workers are asked to validate their existence (e.g. for medical relation extraction, the workers pick from a pre-defined multiple-choice set of relations)\n",
    "\n",
    "If the task we are processing is **closed**, then we also need to provide the list of possible annotations in the `annotation_vector` variable."
   ]
  },
  {
   "cell_type": "code",
   "execution_count": 3,
   "metadata": {
    "collapsed": false
   },
   "outputs": [
    {
     "name": "stdout",
     "output_type": "stream",
     "text": [
      "relex_example.csv: [##########] 100.0% DONE\n"
     ]
    },
    {
     "data": {
      "text/html": [
       "<div>\n",
       "<table border=\"1\" class=\"dataframe\">\n",
       "  <thead>\n",
       "    <tr style=\"text-align: right;\">\n",
       "      <th></th>\n",
       "      <th>output.relations</th>\n",
       "      <th>submitted</th>\n",
       "      <th>started</th>\n",
       "      <th>worker</th>\n",
       "      <th>unit</th>\n",
       "      <th>duration</th>\n",
       "      <th>job</th>\n",
       "    </tr>\n",
       "    <tr>\n",
       "      <th>judgment</th>\n",
       "      <th></th>\n",
       "      <th></th>\n",
       "      <th></th>\n",
       "      <th></th>\n",
       "      <th></th>\n",
       "      <th></th>\n",
       "      <th></th>\n",
       "    </tr>\n",
       "  </thead>\n",
       "  <tbody>\n",
       "    <tr>\n",
       "      <th>1321074821</th>\n",
       "      <td>{u'associated_with': 1, u'causes': 0, u'manife...</td>\n",
       "      <td>2014-07-11 23:53:21</td>\n",
       "      <td>2014-07-11 23:53:03</td>\n",
       "      <td>15848372</td>\n",
       "      <td>502540300</td>\n",
       "      <td>18</td>\n",
       "      <td>relex_example</td>\n",
       "    </tr>\n",
       "    <tr>\n",
       "      <th>1321080494</th>\n",
       "      <td>{u'is_a': 1, u'causes': 0, u'manifestation': 0...</td>\n",
       "      <td>2014-07-12 00:04:01</td>\n",
       "      <td>2014-07-12 00:02:53</td>\n",
       "      <td>25990856</td>\n",
       "      <td>502540300</td>\n",
       "      <td>68</td>\n",
       "      <td>relex_example</td>\n",
       "    </tr>\n",
       "    <tr>\n",
       "      <th>1321082343</th>\n",
       "      <td>{u'part_of': 1, u'causes': 0, u'manifestation'...</td>\n",
       "      <td>2014-07-12 00:07:10</td>\n",
       "      <td>2014-07-12 00:06:34</td>\n",
       "      <td>25224036</td>\n",
       "      <td>502540300</td>\n",
       "      <td>36</td>\n",
       "      <td>relex_example</td>\n",
       "    </tr>\n",
       "    <tr>\n",
       "      <th>1321098346</th>\n",
       "      <td>{u'is_a': 1, u'causes': 0, u'manifestation': 0...</td>\n",
       "      <td>2014-07-12 00:36:08</td>\n",
       "      <td>2014-07-12 00:35:11</td>\n",
       "      <td>13763729</td>\n",
       "      <td>502540300</td>\n",
       "      <td>57</td>\n",
       "      <td>relex_example</td>\n",
       "    </tr>\n",
       "    <tr>\n",
       "      <th>1321104806</th>\n",
       "      <td>{u'symptom': 1, u'causes': 0, u'manifestation'...</td>\n",
       "      <td>2014-07-12 00:51:54</td>\n",
       "      <td>2014-07-12 00:50:47</td>\n",
       "      <td>8888883</td>\n",
       "      <td>502540300</td>\n",
       "      <td>67</td>\n",
       "      <td>relex_example</td>\n",
       "    </tr>\n",
       "  </tbody>\n",
       "</table>\n",
       "</div>"
      ],
      "text/plain": [
       "                                             output.relations  \\\n",
       "judgment                                                        \n",
       "1321074821  {u'associated_with': 1, u'causes': 0, u'manife...   \n",
       "1321080494  {u'is_a': 1, u'causes': 0, u'manifestation': 0...   \n",
       "1321082343  {u'part_of': 1, u'causes': 0, u'manifestation'...   \n",
       "1321098346  {u'is_a': 1, u'causes': 0, u'manifestation': 0...   \n",
       "1321104806  {u'symptom': 1, u'causes': 0, u'manifestation'...   \n",
       "\n",
       "                     submitted             started    worker       unit  \\\n",
       "judgment                                                                  \n",
       "1321074821 2014-07-11 23:53:21 2014-07-11 23:53:03  15848372  502540300   \n",
       "1321080494 2014-07-12 00:04:01 2014-07-12 00:02:53  25990856  502540300   \n",
       "1321082343 2014-07-12 00:07:10 2014-07-12 00:06:34  25224036  502540300   \n",
       "1321098346 2014-07-12 00:36:08 2014-07-12 00:35:11  13763729  502540300   \n",
       "1321104806 2014-07-12 00:51:54 2014-07-12 00:50:47   8888883  502540300   \n",
       "\n",
       "            duration            job  \n",
       "judgment                             \n",
       "1321074821        18  relex_example  \n",
       "1321080494        68  relex_example  \n",
       "1321082343        36  relex_example  \n",
       "1321098346        57  relex_example  \n",
       "1321104806        67  relex_example  "
      ]
     },
     "execution_count": 3,
     "metadata": {},
     "output_type": "execute_result"
    }
   ],
   "source": [
    "class config():\n",
    "    inputColumns = [\"term1\", \"b1\", \"e1\", \"term2\", \"b2\", \"e2\", \"sentence\"]\n",
    "    outputColumns = [\"relations\"]\n",
    "    \n",
    "    # processing of a closed task\n",
    "    open_ended_task = False\n",
    "    annotation_vector = [\n",
    "        \"causes\", \"manifestation\", \"treats\", \"prevents\", \"symptom\", \"diagnose_by_test_or_drug\", \"location\",\n",
    "        \"side_effect\", \"contraindicates\", \"associated_with\", \"is_a\", \"part_of\", \"other\", \"none\"\n",
    "    ]\n",
    "    \n",
    "    def processJudgments(self, judgments):\n",
    "        # change default separator to whitespace to make it work with our file\n",
    "        for col in self.outputColumns:\n",
    "            judgments[col] = judgments[col].apply(lambda x: x.replace(' ',','))\n",
    "        return judgments\n",
    "\n",
    "\n",
    "data, config = crowdtruth.load(\n",
    "    file = \"relex_example.csv\",\n",
    "    config = config()\n",
    ")\n",
    "\n",
    "data['judgments'].head()\n",
    "\n"
   ]
  },
  {
   "cell_type": "code",
   "execution_count": 7,
   "metadata": {
    "collapsed": false
   },
   "outputs": [
    {
     "name": "stdout",
     "output_type": "stream",
     "text": [
      "1 iterations; max d= 1.0 ; wqs d= 0.808479984859; sqs d= 0.678271656886; rqs d= 0.0\n",
      "2 iterations; max d= 0.358833637422 ; wqs d= 0.177378301455; sqs d= 0.0975476906066; rqs d= 0.0\n",
      "3 iterations; max d= 0.0630428331392 ; wqs d= 0.0192510724257; sqs d= 0.0170954476791; rqs d= 0.0\n",
      "4 iterations; max d= 0.0643009745748 ; wqs d= 0.0123602845119; sqs d= 0.00486968898577; rqs d= 0.0\n",
      "5 iterations; max d= 0.0136256353409 ; wqs d= 0.00168947554533; sqs d= 0.00154635154097; rqs d= 0.0\n",
      "6 iterations; max d= 0.00610708554221 ; wqs d= 0.00115258831649; sqs d= 0.000579872594054; rqs d= 0.0\n",
      "7 iterations; max d= 0.00224317990134 ; wqs d= 0.000226508829448; sqs d= 0.000164234550853; rqs d= 0.0\n",
      "8 iterations; max d= 0.00082701044184 ; wqs d= 0.000122745065557; sqs d= 8.04834865869e-05; rqs d= 0.0\n"
     ]
    }
   ],
   "source": [
    "results = crowdtruth.run(data, config)"
   ]
  },
  {
   "cell_type": "code",
   "execution_count": 9,
   "metadata": {
    "collapsed": false
   },
   "outputs": [
    {
     "data": {
      "text/plain": [
       "<matplotlib.text.Text at 0x1126e9950>"
      ]
     },
     "execution_count": 9,
     "metadata": {},
     "output_type": "execute_result"
    },
    {
     "data": {
      "image/png": "[encoded data removed]",
      "text/plain": [
       "<matplotlib.figure.Figure at 0x115ec5050>"
      ]
     },
     "metadata": {},
     "output_type": "display_data"
    }
   ],
   "source": [
    "import matplotlib.pyplot as plt\n",
    "%matplotlib inline\n",
    "\n",
    "plt.hist(results[\"units\"][\"uqs\"])\n",
    "plt.xlabel(\"UQS\")\n",
    "plt.ylabel(\"Units\")"
   ]
  },
  {
   "cell_type": "code",
   "execution_count": 10,
   "metadata": {
    "collapsed": false
   },
   "outputs": [
    {
     "data": {
      "text/plain": [
       "<matplotlib.text.Text at 0x112ab0590>"
      ]
     },
     "execution_count": 10,
     "metadata": {},
     "output_type": "execute_result"
    },
    {
     "data": {
      "image/png": "[encoded data removed]",
      "text/plain": [
       "<matplotlib.figure.Figure at 0x115d60f50>"
      ]
     },
     "metadata": {},
     "output_type": "display_data"
    }
   ],
   "source": [
    "plt.hist(results[\"workers\"][\"wqs\"])\n",
    "plt.xlabel(\"WQS\")\n",
    "plt.ylabel(\"Workers\")"
   ]
  },
  {
   "cell_type": "code",
   "execution_count": null,
   "metadata": {
    "collapsed": false
   },
   "outputs": [],
   "source": [
    "plt.hist(results[\"annotations\"][\"aqs\"])\n",
    "plt.xlabel(\"AQS\")\n",
    "plt.ylabel(\"Annotations\")"
   ]
  },
  {
   "cell_type": "code",
   "execution_count": 13,
   "metadata": {
    "collapsed": false
   },
   "outputs": [
    {
     "data": {
      "text/plain": [
       "unit\n",
       "502540300    {u'part_of': 0.000123033060164, u'contraindica...\n",
       "502540301    {u'associated_with': 0.0627828604197, u'other'...\n",
       "502540302    {u'part_of': 0.000119394591467, u'prevents': 0...\n",
       "502540303    {u'diagnose_by_test_or_drug': 0.122837759203, ...\n",
       "502540304    {u'part_of': 0.0120722103159, u'causes': 0.030...\n",
       "502540305    {u'part_of': 0.000108797146694, u'prevents': 0...\n",
       "502540306    {u'part_of': 0.0700479704864, u'treats': 0.693...\n",
       "502540307    {u'part_of': 0.0727453538266, u'associated_wit...\n",
       "502540308    {u'treats': 0.0821942574584, u'contraindicates...\n",
       "502540309    {u'part_of': 0.0325204607862, u'prevents': 0.1...\n",
       "502540310    {u'diagnose_by_test_or_drug': 0.0258497291418,...\n",
       "502540311    {u'none': 0.358816725967, u'treats': 0.3253541...\n",
       "502540312    {u'part_of': 9.89667154106e-05, u'treats': 0.6...\n",
       "502540313    {u'part_of': 0.0699097042131, u'side_effect': ...\n",
       "502540314    {u'associated_with': 0.0311056142471, u'other'...\n",
       "502540315    {u'prevents': 0.274252681771, u'causes': 0.105...\n",
       "502540316    {u'is_a': 0.114500159028, u'associated_with': ...\n",
       "502540317    {u'part_of': 9.74584604587e-05, u'other': 0.00...\n",
       "502540318    {u'part_of': 0.000106450961215, u'treats': 0.6...\n",
       "502540319    {u'diagnose_by_test_or_drug': 0.972635522616, ...\n",
       "502540320    {u'part_of': 0.128169439439, u'none': 0.108491...\n",
       "502540321    {u'none': 0.198591168519, u'symptom': 0.079590...\n",
       "502540322    {u'part_of': 0.259134153922, u'diagnose_by_tes...\n",
       "502540323    {u'part_of': 0.000103227945571, u'treats': 0.5...\n",
       "502540324    {u'is_a': 0.601526378273, u'part_of': 0.030403...\n",
       "502540325    {u'prevents': 0.0289709433773, u'contraindicat...\n",
       "502540326    {u'diagnose_by_test_or_drug': 0.0224257003787,...\n",
       "502540327    {u'part_of': 0.0925366458561, u'associated_wit...\n",
       "502540328    {u'part_of': 0.000107257860358, u'treats': 0.9...\n",
       "502540329    {u'diagnose_by_test_or_drug': 0.22341741971, u...\n",
       "502540330    {u'treats': 0.896276539935, u'prevents': 0.072...\n",
       "502540331    {u'part_of': 0.134900003471, u'treats': 0.1332...\n",
       "502540332    {u'associated_with': 0.653557520027, u'other':...\n",
       "502540333    {u'prevents': 0.026422535466, u'part_of': 0.02...\n",
       "502540334    {u'part_of': 0.256312459471, u'associated_with...\n",
       "502540335    {u'is_a': 0.127411035582, u'part_of': 0.228582...\n",
       "502540336    {u'part_of': 0.000110433531285, u'none': 0.249...\n",
       "502540337    {u'contraindicates': 0.0699148753493, u'diagno...\n",
       "502540338    {u'part_of': 0.000109706001613, u'treats': 0.7...\n",
       "502540339    {u'diagnose_by_test_or_drug': 0.212723047025, ...\n",
       "502540340    {u'prevents': 0.810605459668, u'part_of': 0.00...\n",
       "502540341    {u'part_of': 0.107491435244, u'treats': 0.0772...\n",
       "502540342    {u'part_of': 0.000102478999486, u'treats': 0.0...\n",
       "502540343    {u'part_of': 0.000105632076907, u'treats': 0.7...\n",
       "502540344    {u'part_of': 0.000117444705459, u'treats': 0.0...\n",
       "502540345    {u'symptom': 0.362047309558, u'treats': 0.0318...\n",
       "502540346    {u'prevents': 0.0299836318049, u'associated_wi...\n",
       "502540347    {u'part_of': 0.000102421528181, u'treats': 0.7...\n",
       "502540348    {u'part_of': 0.000115212930563, u'associated_w...\n",
       "502540349    {u'part_of': 0.000110928131272, u'causes': 0.9...\n",
       "Name: unit_annotation_score, dtype: object"
      ]
     },
     "execution_count": 13,
     "metadata": {},
     "output_type": "execute_result"
    }
   ],
   "source": [
    "results[\"units\"][\"unit_annotation_score\"]"
   ]
  },
  {
   "cell_type": "code",
   "execution_count": null,
   "metadata": {
    "collapsed": true
   },
   "outputs": [],
   "source": []
  }
 ],
 "metadata": {
  "anaconda-cloud": {},
  "kernelspec": {
   "display_name": "Python [Root]",
   "language": "python",
   "name": "Python [Root]"
  },
  "language_info": {
   "codemirror_mode": {
    "name": "ipython",
    "version": 2
   },
   "file_extension": ".py",
   "mimetype": "text/x-python",
   "name": "python",
   "nbconvert_exporter": "python",
   "pygments_lexer": "ipython2",
   "version": "2.7.12"
  }
 },
 "nbformat": 4,
 "nbformat_minor": 2
}
